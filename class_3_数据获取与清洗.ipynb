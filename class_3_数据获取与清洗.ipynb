{
 "cells": [
  {
   "cell_type": "markdown",
   "id": "e824be75-ea40-4b49-8b57-a6a9224ce19d",
   "metadata": {},
   "source": [
    "# 数据获取与清洗-基于Pandas的实现"
   ]
  },
  {
   "cell_type": "markdown",
   "id": "2312e4a5-4ee9-4942-afbb-d2836241dccb",
   "metadata": {},
   "source": [
    "# 背景知识\n",
    "## 数据分析的流程\n",
    "在实际数据挖掘过程中，我们拿到的初始数据，往往存在缺失值、重复值、异常值或者错误值，通常这类数据被称为“脏数据”，需要对其进行清洗。另外有时数据的原始变量不满足分析的要求，我们需要先对数据进行一定的处理，也就是数据的预处理。数据清洗和预处理的主要目的是提高数据质量，从而提高挖掘结果的可靠度，这是数据挖掘过程中非常必要的一个步骤。否则“垃圾数据进，垃圾结果出”。一个典型的数据清洗和预处理过程如图1所示。\n",
    "\n",
    "数据获取\n",
    "\n",
    "数据观测\n",
    "\n",
    "数据预处理：\n",
    "\n",
    "模型选择与训练\n",
    "\n",
    "模型验证\n",
    "\n",
    "模型使用\n",
    "\n",
    "## Pandas\n",
    "\n",
    "以上的数据分析流程，除分析模型外，我们都可以使用pandas结合其他python包实现，并将数据通过pandas推送给模型进行训练并使用。\n",
    "\n",
    "---\n",
    "1. 介绍\n",
    "\n",
    "Pandas是使用Python语言开发的用于数据处理和数据分析的第三方库。它擅长处理数字型数据和时间序列数据，当然文本型的数据也能轻松处理。作为Python的三方库，Pandas是建构在Python的基础上的，它封装了一些复杂的代码实现过程，我们只要调用它的方法就能轻松实现我们的需求\n",
    "\n",
    "2. pandas 基本功能\n",
    "\n",
    "* 从Excel、CSV、网页、SQL、剪贴板等文件或工具中读取数据；\n",
    "* 合并多个文件或者电子表格中的数据，将数据拆分为独立文件；\n",
    "* 数据清洗，如去重、处理缺失值、填充默认值、补全格式、处理极端值等；建立高效的索引；\n",
    "* 支持大体量数据；\n",
    "* 按一定业务逻辑插入计算后的列、删除列；\n",
    "* 灵活方便的数据查询、筛选；\n",
    "* 分组聚合数据，可独立指定分组后的各字段计算方式；\n",
    "* 数据的转置，如行转列、列转行变更处理；连接数据库，直接用SQL查询数据并进行处理；\n",
    "* 对时序数据进行分组采样，如按季、按月、按工作小时，也可以自定义周期，如工作日；窗口计算，移动窗口统计、日期移动等；\n",
    "* 灵活的可视化图表输出，支持所有的统计图形；\n",
    "* 为数据表格增加展示样式，提高数据识别效率。"
   ]
  },
  {
   "cell_type": "markdown",
   "id": "9405dc73-a544-4c9e-9e4d-e8a88cc1bf9c",
   "metadata": {},
   "source": [
    "### let's begin\n",
    "简单的pandas实例，读取案例同学自己的淘宝消费记录，并进行基本的观察。"
   ]
  },
  {
   "cell_type": "code",
   "execution_count": 27,
   "id": "5709a65d-bc69-4288-a2ef-6fe7a45a9c82",
   "metadata": {
    "execution": {
     "iopub.execute_input": "2022-05-05T03:07:29.213926Z",
     "iopub.status.busy": "2022-05-05T03:07:29.212739Z",
     "iopub.status.idle": "2022-05-05T03:07:29.246718Z",
     "shell.execute_reply": "2022-05-05T03:07:29.245878Z",
     "shell.execute_reply.started": "2022-05-05T03:07:29.213882Z"
    },
    "scrolled": true,
    "tags": []
   },
   "outputs": [
    {
     "name": "stdout",
     "output_type": "stream",
     "text": [
      "   收/支                   交易对方                      对方账号                  \\\n",
      "0  支出                    饿了么                     e50***@alibaba-inc.com   \n",
      "1  支出                    中国石油黄山冲加油站            zha***@petrochina.com.cn   \n",
      "2  支出                    上海稍息网络科技有限公司              qih***@51shaoxi.com    \n",
      "3  支出                    *宜林                       187******82            \n",
      "4  支出                    贵阳云岩勇惠贰壹便利店                                      \n",
      "\n",
      "                               商品说明                  收/付款方式                \\\n",
      "0                              兰姐.凉皮.春卷.拌粉拌面外卖订单     中国农业银行信用卡(8765)        \n",
      "1                              中国石油-条码支付             中国农业银行信用卡(8765)        \n",
      "2  摩摩哒8.00元套餐如按摩椅未启动或对订单有疑问请拨打客服电话客服电话：400-869-0707  中国农业银行信用卡(8765)        \n",
      "3                              收钱码收款                 花呗                     \n",
      "4                    test12109132394238418173751739  花呗                     \n",
      "\n",
      "   金额                    交易状态                  交易分类                  \\\n",
      "0                 22.31  交易成功                  餐饮美食                   \n",
      "1                561.00  交易成功                  爱车养车                   \n",
      "2                  8.00  交易成功                  医疗健康                   \n",
      "3                  8.00  交易成功                  医疗健康                   \n",
      "4                  3.00  交易成功                  日用百货                   \n",
      "\n",
      "                       交易订单号       \\\n",
      "0  2022050222001167731435168358\\t   \n",
      "1  2022050222001467731434047025\\t   \n",
      "2  2022043022001467731433425327\\t   \n",
      "3  2022042922001467731432910750\\t   \n",
      "4  2022042922001467731433454910\\t   \n",
      "\n",
      "                                 商家订单号            交易时间              \n",
      "0                 11180600722050243132681146599\\t   2022/5/2 18:18  \n",
      "1                          16514607080612815044\\t   2022/5/2 11:05  \n",
      "2                    22204301520282967430529024\\t  2022/4/30 14:04  \n",
      "3                       46512280134232153567736\\t  2022/4/29 18:26  \n",
      "4  05126600000105000212109132394238418173751739\\t  2022/4/29 17:37  \n",
      "列名： Index(['收/支                 ', '交易对方                ', '对方账号                ',\n",
      "       '商品说明                ', '收/付款方式              ', '金额                  ',\n",
      "       '交易状态                ', '交易分类                ', '交易订单号     ',\n",
      "       '商家订单号           ', '交易时间            '],\n",
      "      dtype='object')\n",
      "参看行数和列数： (201, 11)\n",
      "<class 'pandas.core.frame.DataFrame'>\n",
      "RangeIndex: 201 entries, 0 to 200\n",
      "Data columns (total 11 columns):\n",
      " #   Column                Non-Null Count  Dtype  \n",
      "---  ------                --------------  -----  \n",
      " 0   收/支                   201 non-null    object \n",
      " 1   交易对方                  201 non-null    object \n",
      " 2   对方账号                  201 non-null    object \n",
      " 3   商品说明                  201 non-null    object \n",
      " 4   收/付款方式                201 non-null    object \n",
      " 5   金额                    201 non-null    float64\n",
      " 6   交易状态                  201 non-null    object \n",
      " 7   交易分类                  201 non-null    object \n",
      " 8   交易订单号                 201 non-null    object \n",
      " 9   商家订单号                 201 non-null    object \n",
      " 10  交易时间                  201 non-null    object \n",
      "dtypes: float64(1), object(10)\n",
      "memory usage: 17.4+ KB\n",
      "参看索引，数据类型和内存信息: None\n",
      "参看各行数据类型： 收/支                      object\n",
      "交易对方                     object\n",
      "对方账号                     object\n",
      "商品说明                     object\n",
      "收/付款方式                   object\n",
      "金额                      float64\n",
      "交易状态                     object\n",
      "交易分类                     object\n",
      "交易订单号                    object\n",
      "商家订单号                    object\n",
      "交易时间                     object\n",
      "dtype: object\n",
      "显示数据行和列名： [RangeIndex(start=0, stop=201, step=1), Index(['收/支                 ', '交易对方                ', '对方账号                ',\n",
      "       '商品说明                ', '收/付款方式              ', '金额                  ',\n",
      "       '交易状态                ', '交易分类                ', '交易订单号     ',\n",
      "       '商家订单号           ', '交易时间            '],\n",
      "      dtype='object')]\n",
      "索引： RangeIndex(start=0, stop=201, step=1)\n",
      "索引： Index(['2022050222001167731435168358\\t', '2022050222001467731434047025\\t',\n",
      "       '2022043022001467731433425327\\t', '2022042922001467731432910750\\t',\n",
      "       '2022042922001467731433454910\\t', '2022042922001167731433120411\\t',\n",
      "       '2022042922001467731432946766\\t', '2022042822001467731432148959\\t',\n",
      "       '2022042822001467731432396618\\t', '2022042822001467731431303902\\t',\n",
      "       ...\n",
      "       '2022012122001467731408173999\\t', '2022012022001467731406806466\\t',\n",
      "       '2022011922001467731406116601\\t', '2022011822001467731405123397\\t',\n",
      "       '2022011822001467731405142693\\t', '2022011822001467731405011687\\t',\n",
      "       '2022011322001467731400763808\\t', '2022010822001467731456938694\\t',\n",
      "       '2022010822001467731456861249\\t', '2022010122001467731450128091\\t'],\n",
      "      dtype='object', name='交易订单号', length=201)\n"
     ]
    }
   ],
   "source": [
    "import pandas as pd\n",
    "#获取数据#\n",
    "ali=pd.read_csv('/home/aistudio/class/data/alipay.csv')\n",
    "#基本的观察数据#\n",
    "#参看数据前几行#\n",
    "print(ali.head())\n",
    "print('列名：',ali.columns)\n",
    "print(\"参看行数和列数：\",ali.shape)\n",
    "print(\"参看索引，数据类型和内存信息:\",ali.info())\n",
    "print(\"参看各行数据类型：\",ali.dtypes)\n",
    "print(\"显示数据行和列名：\",ali.axes)\n",
    "#去除列名中的空格#\n",
    "ali.columns = ali.columns.str.replace(' ', '')\n",
    "list(ali)\n",
    "#索引设置#\n",
    "print('索引：',ali.index)\n",
    "ali.set_index('交易订单号',inplace=True)\n",
    "print('索引：',ali.index)\n",
    "\n",
    "\n",
    "\n",
    "\n",
    " "
   ]
  },
  {
   "cell_type": "code",
   "execution_count": 28,
   "id": "f4d8f79d-8129-4e2e-88d9-a829b516b931",
   "metadata": {
    "execution": {
     "iopub.execute_input": "2022-05-05T03:07:34.282127Z",
     "iopub.status.busy": "2022-05-05T03:07:34.281007Z",
     "iopub.status.idle": "2022-05-05T03:07:37.668673Z",
     "shell.execute_reply": "2022-05-05T03:07:37.667719Z",
     "shell.execute_reply.started": "2022-05-05T03:07:34.282080Z"
    },
    "scrolled": true,
    "tags": []
   },
   "outputs": [
    {
     "name": "stdout",
     "output_type": "stream",
     "text": [
      "Looking in indexes: https://pypi.tuna.tsinghua.edu.cn/simple\n",
      "Requirement already satisfied: cufflinks in /opt/conda/envs/python35-paddle120-env/lib/python3.7/site-packages (0.17.3)\n",
      "Requirement already satisfied: ipython>=5.3.0 in /opt/conda/envs/python35-paddle120-env/lib/python3.7/site-packages (from cufflinks) (7.32.0)\n",
      "Requirement already satisfied: colorlover>=0.2.1 in /opt/conda/envs/python35-paddle120-env/lib/python3.7/site-packages (from cufflinks) (0.3.0)\n",
      "Requirement already satisfied: six>=1.9.0 in /opt/conda/envs/python35-paddle120-env/lib/python3.7/site-packages (from cufflinks) (1.16.0)\n",
      "Requirement already satisfied: pandas>=0.19.2 in /opt/conda/envs/python35-paddle120-env/lib/python3.7/site-packages (from cufflinks) (1.1.5)\n",
      "Requirement already satisfied: setuptools>=34.4.1 in /opt/conda/envs/python35-paddle120-env/lib/python3.7/site-packages (from cufflinks) (41.4.0)\n",
      "Requirement already satisfied: plotly>=4.1.1 in /opt/conda/envs/python35-paddle120-env/lib/python3.7/site-packages (from cufflinks) (5.7.0)\n",
      "Requirement already satisfied: ipywidgets>=7.0.0 in /opt/conda/envs/python35-paddle120-env/lib/python3.7/site-packages (from cufflinks) (7.6.5)\n",
      "Requirement already satisfied: numpy>=1.9.2 in /opt/conda/envs/python35-paddle120-env/lib/python3.7/site-packages (from cufflinks) (1.16.4)\n",
      "Requirement already satisfied: pexpect>4.3 in /opt/conda/envs/python35-paddle120-env/lib/python3.7/site-packages (from ipython>=5.3.0->cufflinks) (4.7.0)\n",
      "Requirement already satisfied: matplotlib-inline in /opt/conda/envs/python35-paddle120-env/lib/python3.7/site-packages (from ipython>=5.3.0->cufflinks) (0.1.3)\n",
      "Requirement already satisfied: backcall in /opt/conda/envs/python35-paddle120-env/lib/python3.7/site-packages (from ipython>=5.3.0->cufflinks) (0.1.0)\n",
      "Requirement already satisfied: pygments in /opt/conda/envs/python35-paddle120-env/lib/python3.7/site-packages (from ipython>=5.3.0->cufflinks) (2.12.0)\n",
      "Requirement already satisfied: pickleshare in /opt/conda/envs/python35-paddle120-env/lib/python3.7/site-packages (from ipython>=5.3.0->cufflinks) (0.7.5)\n",
      "Requirement already satisfied: decorator in /opt/conda/envs/python35-paddle120-env/lib/python3.7/site-packages (from ipython>=5.3.0->cufflinks) (4.4.2)\n",
      "Requirement already satisfied: traitlets>=4.2 in /opt/conda/envs/python35-paddle120-env/lib/python3.7/site-packages (from ipython>=5.3.0->cufflinks) (5.1.1)\n",
      "Requirement already satisfied: jedi>=0.16 in /opt/conda/envs/python35-paddle120-env/lib/python3.7/site-packages (from ipython>=5.3.0->cufflinks) (0.17.2)\n",
      "Requirement already satisfied: prompt-toolkit!=3.0.0,!=3.0.1,<3.1.0,>=2.0.0 in /opt/conda/envs/python35-paddle120-env/lib/python3.7/site-packages (from ipython>=5.3.0->cufflinks) (2.0.10)\n",
      "Requirement already satisfied: ipykernel>=4.5.1 in /opt/conda/envs/python35-paddle120-env/lib/python3.7/site-packages (from ipywidgets>=7.0.0->cufflinks) (6.9.1)\n",
      "Requirement already satisfied: widgetsnbextension~=3.5.0 in /opt/conda/envs/python35-paddle120-env/lib/python3.7/site-packages (from ipywidgets>=7.0.0->cufflinks) (3.5.2)\n",
      "Requirement already satisfied: ipython-genutils~=0.2.0 in /opt/conda/envs/python35-paddle120-env/lib/python3.7/site-packages (from ipywidgets>=7.0.0->cufflinks) (0.2.0)\n",
      "Requirement already satisfied: jupyterlab-widgets>=1.0.0 in /opt/conda/envs/python35-paddle120-env/lib/python3.7/site-packages (from ipywidgets>=7.0.0->cufflinks) (1.1.0)\n",
      "Requirement already satisfied: nbformat>=4.2.0 in /opt/conda/envs/python35-paddle120-env/lib/python3.7/site-packages (from ipywidgets>=7.0.0->cufflinks) (5.3.0)\n",
      "Requirement already satisfied: pytz>=2017.2 in /opt/conda/envs/python35-paddle120-env/lib/python3.7/site-packages (from pandas>=0.19.2->cufflinks) (2019.3)\n",
      "Requirement already satisfied: python-dateutil>=2.7.3 in /opt/conda/envs/python35-paddle120-env/lib/python3.7/site-packages (from pandas>=0.19.2->cufflinks) (2.8.2)\n",
      "Requirement already satisfied: tenacity>=6.2.0 in /opt/conda/envs/python35-paddle120-env/lib/python3.7/site-packages (from plotly>=4.1.1->cufflinks) (8.0.1)\n",
      "Requirement already satisfied: debugpy<2.0,>=1.0.0 in /opt/conda/envs/python35-paddle120-env/lib/python3.7/site-packages (from ipykernel>=4.5.1->ipywidgets>=7.0.0->cufflinks) (1.6.0)\n",
      "Requirement already satisfied: tornado<7.0,>=4.2 in /opt/conda/envs/python35-paddle120-env/lib/python3.7/site-packages (from ipykernel>=4.5.1->ipywidgets>=7.0.0->cufflinks) (6.1)\n",
      "Requirement already satisfied: jupyter-client<8.0 in /opt/conda/envs/python35-paddle120-env/lib/python3.7/site-packages (from ipykernel>=4.5.1->ipywidgets>=7.0.0->cufflinks) (7.3.0)\n",
      "Requirement already satisfied: nest-asyncio in /opt/conda/envs/python35-paddle120-env/lib/python3.7/site-packages (from ipykernel>=4.5.1->ipywidgets>=7.0.0->cufflinks) (1.5.5)\n",
      "Requirement already satisfied: parso<0.8.0,>=0.7.0 in /opt/conda/envs/python35-paddle120-env/lib/python3.7/site-packages (from jedi>=0.16->ipython>=5.3.0->cufflinks) (0.7.0)\n",
      "Requirement already satisfied: jsonschema>=2.6 in /opt/conda/envs/python35-paddle120-env/lib/python3.7/site-packages (from nbformat>=4.2.0->ipywidgets>=7.0.0->cufflinks) (4.4.0)\n",
      "Requirement already satisfied: fastjsonschema in /opt/conda/envs/python35-paddle120-env/lib/python3.7/site-packages (from nbformat>=4.2.0->ipywidgets>=7.0.0->cufflinks) (2.15.3)\n",
      "Requirement already satisfied: jupyter-core in /opt/conda/envs/python35-paddle120-env/lib/python3.7/site-packages (from nbformat>=4.2.0->ipywidgets>=7.0.0->cufflinks) (4.10.0)\n",
      "Requirement already satisfied: ptyprocess>=0.5 in /opt/conda/envs/python35-paddle120-env/lib/python3.7/site-packages (from pexpect>4.3->ipython>=5.3.0->cufflinks) (0.7.0)\n",
      "Requirement already satisfied: wcwidth in /opt/conda/envs/python35-paddle120-env/lib/python3.7/site-packages (from prompt-toolkit!=3.0.0,!=3.0.1,<3.1.0,>=2.0.0->ipython>=5.3.0->cufflinks) (0.1.7)\n",
      "Requirement already satisfied: notebook>=4.4.1 in /opt/conda/envs/python35-paddle120-env/lib/python3.7/site-packages (from widgetsnbextension~=3.5.0->ipywidgets>=7.0.0->cufflinks) (5.7.8)\n",
      "Requirement already satisfied: importlib-resources>=1.4.0 in /opt/conda/envs/python35-paddle120-env/lib/python3.7/site-packages (from jsonschema>=2.6->nbformat>=4.2.0->ipywidgets>=7.0.0->cufflinks) (5.7.1)\n",
      "Requirement already satisfied: pyrsistent!=0.17.0,!=0.17.1,!=0.17.2,>=0.14.0 in /opt/conda/envs/python35-paddle120-env/lib/python3.7/site-packages (from jsonschema>=2.6->nbformat>=4.2.0->ipywidgets>=7.0.0->cufflinks) (0.18.1)\n",
      "Requirement already satisfied: typing-extensions in /opt/conda/envs/python35-paddle120-env/lib/python3.7/site-packages (from jsonschema>=2.6->nbformat>=4.2.0->ipywidgets>=7.0.0->cufflinks) (4.2.0)\n",
      "Requirement already satisfied: importlib-metadata in /opt/conda/envs/python35-paddle120-env/lib/python3.7/site-packages (from jsonschema>=2.6->nbformat>=4.2.0->ipywidgets>=7.0.0->cufflinks) (4.2.0)\n",
      "Requirement already satisfied: attrs>=17.4.0 in /opt/conda/envs/python35-paddle120-env/lib/python3.7/site-packages (from jsonschema>=2.6->nbformat>=4.2.0->ipywidgets>=7.0.0->cufflinks) (21.4.0)\n",
      "Requirement already satisfied: pyzmq>=22.3 in /opt/conda/envs/python35-paddle120-env/lib/python3.7/site-packages (from jupyter-client<8.0->ipykernel>=4.5.1->ipywidgets>=7.0.0->cufflinks) (22.3.0)\n",
      "Requirement already satisfied: entrypoints in /opt/conda/envs/python35-paddle120-env/lib/python3.7/site-packages (from jupyter-client<8.0->ipykernel>=4.5.1->ipywidgets>=7.0.0->cufflinks) (0.4)\n",
      "Requirement already satisfied: nbconvert in /opt/conda/envs/python35-paddle120-env/lib/python3.7/site-packages (from notebook>=4.4.1->widgetsnbextension~=3.5.0->ipywidgets>=7.0.0->cufflinks) (6.5.0)\n",
      "Requirement already satisfied: terminado>=0.8.1 in /opt/conda/envs/python35-paddle120-env/lib/python3.7/site-packages (from notebook>=4.4.1->widgetsnbextension~=3.5.0->ipywidgets>=7.0.0->cufflinks) (0.13.3)\n",
      "Requirement already satisfied: Send2Trash in /opt/conda/envs/python35-paddle120-env/lib/python3.7/site-packages (from notebook>=4.4.1->widgetsnbextension~=3.5.0->ipywidgets>=7.0.0->cufflinks) (1.8.0)\n",
      "Requirement already satisfied: prometheus-client in /opt/conda/envs/python35-paddle120-env/lib/python3.7/site-packages (from notebook>=4.4.1->widgetsnbextension~=3.5.0->ipywidgets>=7.0.0->cufflinks) (0.14.1)\n",
      "Requirement already satisfied: jinja2 in /opt/conda/envs/python35-paddle120-env/lib/python3.7/site-packages (from notebook>=4.4.1->widgetsnbextension~=3.5.0->ipywidgets>=7.0.0->cufflinks) (3.0.0)\n",
      "Requirement already satisfied: zipp>=3.1.0 in /opt/conda/envs/python35-paddle120-env/lib/python3.7/site-packages (from importlib-resources>=1.4.0->jsonschema>=2.6->nbformat>=4.2.0->ipywidgets>=7.0.0->cufflinks) (3.8.0)\n",
      "Requirement already satisfied: MarkupSafe>=2.0.0rc2 in /opt/conda/envs/python35-paddle120-env/lib/python3.7/site-packages (from jinja2->notebook>=4.4.1->widgetsnbextension~=3.5.0->ipywidgets>=7.0.0->cufflinks) (2.0.1)\n",
      "Requirement already satisfied: pandocfilters>=1.4.1 in /opt/conda/envs/python35-paddle120-env/lib/python3.7/site-packages (from nbconvert->notebook>=4.4.1->widgetsnbextension~=3.5.0->ipywidgets>=7.0.0->cufflinks) (1.5.0)\n",
      "Requirement already satisfied: bleach in /opt/conda/envs/python35-paddle120-env/lib/python3.7/site-packages (from nbconvert->notebook>=4.4.1->widgetsnbextension~=3.5.0->ipywidgets>=7.0.0->cufflinks) (5.0.0)\n",
      "Requirement already satisfied: tinycss2 in /opt/conda/envs/python35-paddle120-env/lib/python3.7/site-packages (from nbconvert->notebook>=4.4.1->widgetsnbextension~=3.5.0->ipywidgets>=7.0.0->cufflinks) (1.1.1)\n",
      "Requirement already satisfied: mistune<2,>=0.8.1 in /opt/conda/envs/python35-paddle120-env/lib/python3.7/site-packages (from nbconvert->notebook>=4.4.1->widgetsnbextension~=3.5.0->ipywidgets>=7.0.0->cufflinks) (0.8.4)\n",
      "Requirement already satisfied: jupyterlab-pygments in /opt/conda/envs/python35-paddle120-env/lib/python3.7/site-packages (from nbconvert->notebook>=4.4.1->widgetsnbextension~=3.5.0->ipywidgets>=7.0.0->cufflinks) (0.2.2)\n",
      "Requirement already satisfied: nbclient>=0.5.0 in /opt/conda/envs/python35-paddle120-env/lib/python3.7/site-packages (from nbconvert->notebook>=4.4.1->widgetsnbextension~=3.5.0->ipywidgets>=7.0.0->cufflinks) (0.6.0)\n",
      "Requirement already satisfied: packaging in /opt/conda/envs/python35-paddle120-env/lib/python3.7/site-packages (from nbconvert->notebook>=4.4.1->widgetsnbextension~=3.5.0->ipywidgets>=7.0.0->cufflinks) (21.3)\n",
      "Requirement already satisfied: defusedxml in /opt/conda/envs/python35-paddle120-env/lib/python3.7/site-packages (from nbconvert->notebook>=4.4.1->widgetsnbextension~=3.5.0->ipywidgets>=7.0.0->cufflinks) (0.7.1)\n",
      "Requirement already satisfied: beautifulsoup4 in /opt/conda/envs/python35-paddle120-env/lib/python3.7/site-packages (from nbconvert->notebook>=4.4.1->widgetsnbextension~=3.5.0->ipywidgets>=7.0.0->cufflinks) (4.11.1)\n",
      "Requirement already satisfied: soupsieve>1.2 in /opt/conda/envs/python35-paddle120-env/lib/python3.7/site-packages (from beautifulsoup4->nbconvert->notebook>=4.4.1->widgetsnbextension~=3.5.0->ipywidgets>=7.0.0->cufflinks) (2.3.2.post1)\n",
      "Requirement already satisfied: webencodings in /opt/conda/envs/python35-paddle120-env/lib/python3.7/site-packages (from bleach->nbconvert->notebook>=4.4.1->widgetsnbextension~=3.5.0->ipywidgets>=7.0.0->cufflinks) (0.5.1)\n",
      "Requirement already satisfied: pyparsing!=3.0.5,>=2.0.2 in /opt/conda/envs/python35-paddle120-env/lib/python3.7/site-packages (from packaging->nbconvert->notebook>=4.4.1->widgetsnbextension~=3.5.0->ipywidgets>=7.0.0->cufflinks) (3.0.8)\n",
      "Note: you may need to restart the kernel to use updated packages.\n"
     ]
    }
   ],
   "source": [
    "pip install cufflinks"
   ]
  },
  {
   "cell_type": "markdown",
   "id": "291b3317-e849-47d7-9d55-5ea597c49acf",
   "metadata": {},
   "source": [
    " [](http://)"
   ]
  },
  {
   "cell_type": "code",
   "execution_count": 29,
   "id": "46359aea-1997-49c1-9fb4-2cbc5d67d198",
   "metadata": {
    "execution": {
     "iopub.execute_input": "2022-05-05T03:07:42.277621Z",
     "iopub.status.busy": "2022-05-05T03:07:42.277142Z",
     "iopub.status.idle": "2022-05-05T03:07:42.301431Z",
     "shell.execute_reply": "2022-05-05T03:07:42.300452Z",
     "shell.execute_reply.started": "2022-05-05T03:07:42.277579Z"
    },
    "scrolled": true,
    "tags": []
   },
   "outputs": [
    {
     "data": {
      "text/html": [
       "        <script type=\"text/javascript\">\n",
       "        window.PlotlyConfig = {MathJaxConfig: 'local'};\n",
       "        if (window.MathJax) {MathJax.Hub.Config({SVG: {font: \"STIX-Web\"}});}\n",
       "        if (typeof require !== 'undefined') {\n",
       "        require.undef(\"plotly\");\n",
       "        requirejs.config({\n",
       "            paths: {\n",
       "                'plotly': ['https://cdn.plot.ly/plotly-2.11.1.min']\n",
       "            }\n",
       "        });\n",
       "        require(['plotly'], function(Plotly) {\n",
       "            window._Plotly = Plotly;\n",
       "        });\n",
       "        }\n",
       "        </script>\n",
       "        "
      ]
     },
     "metadata": {},
     "output_type": "display_data"
    }
   ],
   "source": [
    "#返回数据的基本数值描述#\n",
    "#我们在可视化上除了使用matplotlib外，还可以使用cufflinks库，其与pandas的结合更为紧密\n",
    "\n",
    "ali.describe()\n",
    "import pandas as pd\n",
    "import cufflinks as cf\n",
    "import numpy as np\n",
    "%matplotlib inline\n",
    "cf.set_config_file(offline=True)\n",
    "#import matplotlib.pyplot as plt\n",
    "#from matplotlib.font_manager import FontProperties\n",
    "#myfont=FontProperties(fname=r\"/home/aistudio/external-libraries/微软雅黑.ttf\",size=12)\n",
    "#fig,axs=plt.subplots(1,2)\n",
    "#ax1=axs[0]\n",
    "#ax2=axs[1]\n",
    "#ax1.set_title(\"消费金额箱型图\",fontproperties=myfont)# 给第一个图副值titile\n",
    "#ax1.boxplot(ali['金额'])\n",
    "#ax2.set_title(\"消费时序\",fontproperties=myfont)# 给第一个图副值titile\n",
    "#ax2.plot(ali['金额'])\n"
   ]
  },
  {
   "cell_type": "code",
   "execution_count": 30,
   "id": "42d1eacc-37a2-4d2e-a1f1-193cacd3c221",
   "metadata": {
    "execution": {
     "iopub.execute_input": "2022-05-05T03:07:46.050216Z",
     "iopub.status.busy": "2022-05-05T03:07:46.049642Z",
     "iopub.status.idle": "2022-05-05T03:07:46.070576Z",
     "shell.execute_reply": "2022-05-05T03:07:46.069666Z",
     "shell.execute_reply.started": "2022-05-05T03:07:46.050179Z"
    },
    "scrolled": true,
    "tags": []
   },
   "outputs": [
    {
     "data": {
      "text/html": [
       "<div>\n",
       "<style scoped>\n",
       "    .dataframe tbody tr th:only-of-type {\n",
       "        vertical-align: middle;\n",
       "    }\n",
       "\n",
       "    .dataframe tbody tr th {\n",
       "        vertical-align: top;\n",
       "    }\n",
       "\n",
       "    .dataframe thead th {\n",
       "        text-align: right;\n",
       "    }\n",
       "</style>\n",
       "<table border=\"1\" class=\"dataframe\">\n",
       "  <thead>\n",
       "    <tr style=\"text-align: right;\">\n",
       "      <th></th>\n",
       "      <th>收/支</th>\n",
       "      <th>交易对方</th>\n",
       "      <th>对方账号</th>\n",
       "      <th>商品说明</th>\n",
       "      <th>收/付款方式</th>\n",
       "      <th>金额</th>\n",
       "      <th>交易状态</th>\n",
       "      <th>交易分类</th>\n",
       "      <th>商家订单号</th>\n",
       "      <th>交易时间</th>\n",
       "    </tr>\n",
       "    <tr>\n",
       "      <th>交易订单号</th>\n",
       "      <th></th>\n",
       "      <th></th>\n",
       "      <th></th>\n",
       "      <th></th>\n",
       "      <th></th>\n",
       "      <th></th>\n",
       "      <th></th>\n",
       "      <th></th>\n",
       "      <th></th>\n",
       "      <th></th>\n",
       "    </tr>\n",
       "  </thead>\n",
       "  <tbody>\n",
       "    <tr>\n",
       "      <th>2022031129020841730186660088\\t</th>\n",
       "      <td>其他</td>\n",
       "      <td>花呗</td>\n",
       "      <td></td>\n",
       "      <td>主动还款-花呗2022年03月账单</td>\n",
       "      <td>中国建设银行储蓄卡(5842)</td>\n",
       "      <td>997.19</td>\n",
       "      <td>还款成功</td>\n",
       "      <td>信用借还</td>\n",
       "      <td>\\t</td>\n",
       "      <td>2022/3/11 21:08</td>\n",
       "    </tr>\n",
       "    <tr>\n",
       "      <th>2022031129020848730186538953\\t</th>\n",
       "      <td>其他</td>\n",
       "      <td>花呗</td>\n",
       "      <td></td>\n",
       "      <td>花呗自动还款</td>\n",
       "      <td></td>\n",
       "      <td>997.19</td>\n",
       "      <td>还款失败</td>\n",
       "      <td>信用借还</td>\n",
       "      <td>\\t</td>\n",
       "      <td>2022/3/11 16:54</td>\n",
       "    </tr>\n",
       "    <tr>\n",
       "      <th>2022031129020848730185659209\\t</th>\n",
       "      <td>其他</td>\n",
       "      <td>花呗</td>\n",
       "      <td></td>\n",
       "      <td>花呗自动还款</td>\n",
       "      <td></td>\n",
       "      <td>997.19</td>\n",
       "      <td>还款失败</td>\n",
       "      <td>信用借还</td>\n",
       "      <td>\\t</td>\n",
       "      <td>2022/3/11 9:55</td>\n",
       "    </tr>\n",
       "    <tr>\n",
       "      <th>2022031029020848730185052621\\t</th>\n",
       "      <td>其他</td>\n",
       "      <td>花呗</td>\n",
       "      <td></td>\n",
       "      <td>花呗自动还款</td>\n",
       "      <td></td>\n",
       "      <td>997.19</td>\n",
       "      <td>还款失败</td>\n",
       "      <td>信用借还</td>\n",
       "      <td>\\t</td>\n",
       "      <td>2022/3/10 19:12</td>\n",
       "    </tr>\n",
       "    <tr>\n",
       "      <th>2022031029020848730182782752\\t</th>\n",
       "      <td>其他</td>\n",
       "      <td>花呗</td>\n",
       "      <td></td>\n",
       "      <td>花呗自动还款</td>\n",
       "      <td></td>\n",
       "      <td>997.19</td>\n",
       "      <td>还款失败</td>\n",
       "      <td>信用借还</td>\n",
       "      <td>\\t</td>\n",
       "      <td>2022/3/10 8:37</td>\n",
       "    </tr>\n",
       "  </tbody>\n",
       "</table>\n",
       "</div>"
      ],
      "text/plain": [
       "                                                 收/支                  交易对方  \\\n",
       "交易订单号                                                                        \n",
       "2022031129020841730186660088\\t  其他                    花呗                     \n",
       "2022031129020848730186538953\\t  其他                    花呗                     \n",
       "2022031129020848730185659209\\t  其他                    花呗                     \n",
       "2022031029020848730185052621\\t  其他                    花呗                     \n",
       "2022031029020848730182782752\\t  其他                    花呗                     \n",
       "\n",
       "                                                对方账号                  商品说明  \\\n",
       "交易订单号                                                                        \n",
       "2022031129020841730186660088\\t                        主动还款-花呗2022年03月账单      \n",
       "2022031129020848730186538953\\t                        花呗自动还款                 \n",
       "2022031129020848730185659209\\t                        花呗自动还款                 \n",
       "2022031029020848730185052621\\t                        花呗自动还款                 \n",
       "2022031029020848730182782752\\t                        花呗自动还款                 \n",
       "\n",
       "                                              收/付款方式      金额  \\\n",
       "交易订单号                                                          \n",
       "2022031129020841730186660088\\t  中国建设银行储蓄卡(5842)       997.19   \n",
       "2022031129020848730186538953\\t                        997.19   \n",
       "2022031129020848730185659209\\t                        997.19   \n",
       "2022031029020848730185052621\\t                        997.19   \n",
       "2022031029020848730182782752\\t                        997.19   \n",
       "\n",
       "                                                交易状态                  交易分类  \\\n",
       "交易订单号                                                                        \n",
       "2022031129020841730186660088\\t  还款成功                  信用借还                   \n",
       "2022031129020848730186538953\\t  还款失败                  信用借还                   \n",
       "2022031129020848730185659209\\t  还款失败                  信用借还                   \n",
       "2022031029020848730185052621\\t  还款失败                  信用借还                   \n",
       "2022031029020848730182782752\\t  还款失败                  信用借还                   \n",
       "\n",
       "                                                 商家订单号             交易时间  \n",
       "交易订单号                                                                    \n",
       "2022031129020841730186660088\\t                      \\t  2022/3/11 21:08  \n",
       "2022031129020848730186538953\\t                      \\t  2022/3/11 16:54  \n",
       "2022031129020848730185659209\\t                      \\t   2022/3/11 9:55  \n",
       "2022031029020848730185052621\\t                      \\t  2022/3/10 19:12  \n",
       "2022031029020848730182782752\\t                      \\t   2022/3/10 8:37  "
      ]
     },
     "execution_count": 30,
     "metadata": {},
     "output_type": "execute_result"
    }
   ],
   "source": [
    "#排序计算,ascend=False,表示降序\n",
    "ali.sort_values(by='金额',ascending=False).head()"
   ]
  },
  {
   "cell_type": "code",
   "execution_count": 4,
   "id": "569864d3-ce7f-4f61-b31e-4d504f9d0528",
   "metadata": {
    "execution": {
     "iopub.execute_input": "2022-05-03T23:34:12.339092Z",
     "iopub.status.busy": "2022-05-03T23:34:12.338674Z",
     "iopub.status.idle": "2022-05-03T23:34:21.265386Z",
     "shell.execute_reply": "2022-05-03T23:34:21.264650Z",
     "shell.execute_reply.started": "2022-05-03T23:34:12.339067Z"
    },
    "scrolled": true,
    "tags": []
   },
   "outputs": [
    {
     "name": "stdout",
     "output_type": "stream",
     "text": [
      "Looking in indexes: https://pypi.tuna.tsinghua.edu.cn/simple\n",
      "Collecting plotly_express\n",
      "  Downloading https://pypi.tuna.tsinghua.edu.cn/packages/d4/d6/8a2906f51e073a4be80cab35cfa10e7a34853e60f3ed5304ac470852a08d/plotly_express-0.4.1-py2.py3-none-any.whl (2.9 kB)\n",
      "Requirement already satisfied: numpy>=1.11 in /opt/conda/envs/python35-paddle120-env/lib/python3.7/site-packages (from plotly_express) (1.16.4)\n",
      "Requirement already satisfied: pandas>=0.20.0 in /opt/conda/envs/python35-paddle120-env/lib/python3.7/site-packages (from plotly_express) (1.1.5)\n",
      "Collecting patsy>=0.5\n",
      "  Downloading https://pypi.tuna.tsinghua.edu.cn/packages/87/7f/d37cd027c25145eeba92b1a756976931c831803d92547c8637a3400c339f/patsy-0.5.2-py2.py3-none-any.whl (233 kB)\n",
      "\u001b[2K     \u001b[90m━━━━━━━━━━━━━━━━━━━━━━━━━━━━━━━━━━━━━━\u001b[0m \u001b[32m233.7/233.7 KB\u001b[0m \u001b[31m14.1 MB/s\u001b[0m eta \u001b[36m0:00:00\u001b[0m\n",
      "\u001b[?25hCollecting statsmodels>=0.9.0\n",
      "  Downloading https://pypi.tuna.tsinghua.edu.cn/packages/10/f1/4ab3919264cf968fab32df2244e0132d5093d6e524135f5fb1aa481edbc7/statsmodels-0.13.2-cp37-cp37m-manylinux_2_17_x86_64.manylinux2014_x86_64.whl (9.8 MB)\n",
      "\u001b[2K     \u001b[90m━━━━━━━━━━━━━━━━━━━━━━━━━━━━━━━━━━━━━━━━\u001b[0m \u001b[32m9.8/9.8 MB\u001b[0m \u001b[31m38.4 MB/s\u001b[0m eta \u001b[36m0:00:00\u001b[0m00:01\u001b[0m00:01\u001b[0m\n",
      "\u001b[?25hRequirement already satisfied: scipy>=0.18 in /opt/conda/envs/python35-paddle120-env/lib/python3.7/site-packages (from plotly_express) (1.3.0)\n",
      "Requirement already satisfied: plotly>=4.1.0 in /opt/conda/envs/python35-paddle120-env/lib/python3.7/site-packages (from plotly_express) (5.7.0)\n",
      "Requirement already satisfied: python-dateutil>=2.7.3 in /opt/conda/envs/python35-paddle120-env/lib/python3.7/site-packages (from pandas>=0.20.0->plotly_express) (2.8.2)\n",
      "Requirement already satisfied: pytz>=2017.2 in /opt/conda/envs/python35-paddle120-env/lib/python3.7/site-packages (from pandas>=0.20.0->plotly_express) (2019.3)\n",
      "Requirement already satisfied: six in /opt/conda/envs/python35-paddle120-env/lib/python3.7/site-packages (from patsy>=0.5->plotly_express) (1.16.0)\n",
      "Requirement already satisfied: tenacity>=6.2.0 in /opt/conda/envs/python35-paddle120-env/lib/python3.7/site-packages (from plotly>=4.1.0->plotly_express) (8.0.1)\n",
      "Requirement already satisfied: packaging>=21.3 in /opt/conda/envs/python35-paddle120-env/lib/python3.7/site-packages (from statsmodels>=0.9.0->plotly_express) (21.3)\n",
      "Collecting numpy>=1.11\n",
      "  Downloading https://pypi.tuna.tsinghua.edu.cn/packages/6d/ad/ff3b21ebfe79a4d25b4a4f8e5cf9fd44a204adb6b33c09010f566f51027a/numpy-1.21.6-cp37-cp37m-manylinux_2_12_x86_64.manylinux2010_x86_64.whl (15.7 MB)\n",
      "\u001b[2K     \u001b[90m━━━━━━━━━━━━━━━━━━━━━━━━━━━━━━━━━━━━━━━━\u001b[0m \u001b[32m15.7/15.7 MB\u001b[0m \u001b[31m35.6 MB/s\u001b[0m eta \u001b[36m0:00:00\u001b[0m00:01\u001b[0m00:01\u001b[0m\n",
      "\u001b[?25hRequirement already satisfied: pyparsing!=3.0.5,>=2.0.2 in /opt/conda/envs/python35-paddle120-env/lib/python3.7/site-packages (from packaging>=21.3->statsmodels>=0.9.0->plotly_express) (3.0.8)\n",
      "Installing collected packages: numpy, patsy, statsmodels, plotly_express\n",
      "  Attempting uninstall: numpy\n",
      "    Found existing installation: numpy 1.16.4\n",
      "    Uninstalling numpy-1.16.4:\n",
      "      Successfully uninstalled numpy-1.16.4\n",
      "\u001b[31mERROR: pip's dependency resolver does not currently take into account all the packages that are installed. This behaviour is the source of the following dependency conflicts.\n",
      "parl 1.4.1 requires pyzmq==18.1.1, but you have pyzmq 22.3.0 which is incompatible.\u001b[0m\u001b[31m\n",
      "\u001b[0mSuccessfully installed numpy-1.21.6 patsy-0.5.2 plotly_express-0.4.1 statsmodels-0.13.2\n",
      "Note: you may need to restart the kernel to use updated packages.\n"
     ]
    }
   ],
   "source": [
    "pip install plotly_express "
   ]
  },
  {
   "cell_type": "code",
   "execution_count": 34,
   "id": "d8c8e1a8-374f-47a8-bc01-d28f4f2f4bdc",
   "metadata": {
    "execution": {
     "iopub.execute_input": "2022-05-05T03:18:54.237829Z",
     "iopub.status.busy": "2022-05-05T03:18:54.237110Z",
     "iopub.status.idle": "2022-05-05T03:18:54.338333Z",
     "shell.execute_reply": "2022-05-05T03:18:54.337453Z",
     "shell.execute_reply.started": "2022-05-05T03:18:54.237791Z"
    },
    "scrolled": true,
    "tags": []
   },
   "outputs": [
    {
     "data": {
      "text/html": [
       "        <script type=\"text/javascript\">\n",
       "        window.PlotlyConfig = {MathJaxConfig: 'local'};\n",
       "        if (window.MathJax) {MathJax.Hub.Config({SVG: {font: \"STIX-Web\"}});}\n",
       "        if (typeof require !== 'undefined') {\n",
       "        require.undef(\"plotly\");\n",
       "        requirejs.config({\n",
       "            paths: {\n",
       "                'plotly': ['https://cdn.plot.ly/plotly-2.11.1.min']\n",
       "            }\n",
       "        });\n",
       "        require(['plotly'], function(Plotly) {\n",
       "            window._Plotly = Plotly;\n",
       "        });\n",
       "        }\n",
       "        </script>\n",
       "        "
      ]
     },
     "metadata": {},
     "output_type": "display_data"
    },
    {
     "data": {
      "application/vnd.plotly.v1+json": {
       "config": {
        "plotlyServerURL": "https://plot.ly"
       },
       "data": [
        {
         "domain": {
          "x": [
           0,
           1
          ],
          "y": [
           0,
           1
          ]
         },
         "hovertemplate": "交易分类=%{label}<br>金额=%{value}<extra></extra>",
         "labels": [
          "住房物业                ",
          "商业服务                ",
          "转账红包                ",
          "退款                  ",
          "生活服务                ",
          "美容美发                ",
          "服饰装扮                ",
          "教育培训                ",
          "家居家装                ",
          "文化休闲                ",
          "其他                  ",
          "交通出行                ",
          "数码电器                ",
          "日用百货                ",
          "医疗健康                ",
          "爱车养车                ",
          "餐饮美食                ",
          "信用借还                "
         ],
         "legendgroup": "",
         "name": "",
         "showlegend": true,
         "type": "pie",
         "values": [
          15,
          28,
          30,
          35,
          37.5,
          38,
          44,
          117.47,
          131,
          169.49,
          307.24,
          430.72999999999996,
          437,
          624.47,
          1186,
          1768,
          2159.55,
          8712.730000000001
         ]
        }
       ],
       "layout": {
        "legend": {
         "tracegroupgap": 0
        },
        "template": {
         "data": {
          "bar": [
           {
            "error_x": {
             "color": "#2a3f5f"
            },
            "error_y": {
             "color": "#2a3f5f"
            },
            "marker": {
             "line": {
              "color": "#E5ECF6",
              "width": 0.5
             },
             "pattern": {
              "fillmode": "overlay",
              "size": 10,
              "solidity": 0.2
             }
            },
            "type": "bar"
           }
          ],
          "barpolar": [
           {
            "marker": {
             "line": {
              "color": "#E5ECF6",
              "width": 0.5
             },
             "pattern": {
              "fillmode": "overlay",
              "size": 10,
              "solidity": 0.2
             }
            },
            "type": "barpolar"
           }
          ],
          "carpet": [
           {
            "aaxis": {
             "endlinecolor": "#2a3f5f",
             "gridcolor": "white",
             "linecolor": "white",
             "minorgridcolor": "white",
             "startlinecolor": "#2a3f5f"
            },
            "baxis": {
             "endlinecolor": "#2a3f5f",
             "gridcolor": "white",
             "linecolor": "white",
             "minorgridcolor": "white",
             "startlinecolor": "#2a3f5f"
            },
            "type": "carpet"
           }
          ],
          "choropleth": [
           {
            "colorbar": {
             "outlinewidth": 0,
             "ticks": ""
            },
            "type": "choropleth"
           }
          ],
          "contour": [
           {
            "colorbar": {
             "outlinewidth": 0,
             "ticks": ""
            },
            "colorscale": [
             [
              0,
              "#0d0887"
             ],
             [
              0.1111111111111111,
              "#46039f"
             ],
             [
              0.2222222222222222,
              "#7201a8"
             ],
             [
              0.3333333333333333,
              "#9c179e"
             ],
             [
              0.4444444444444444,
              "#bd3786"
             ],
             [
              0.5555555555555556,
              "#d8576b"
             ],
             [
              0.6666666666666666,
              "#ed7953"
             ],
             [
              0.7777777777777778,
              "#fb9f3a"
             ],
             [
              0.8888888888888888,
              "#fdca26"
             ],
             [
              1,
              "#f0f921"
             ]
            ],
            "type": "contour"
           }
          ],
          "contourcarpet": [
           {
            "colorbar": {
             "outlinewidth": 0,
             "ticks": ""
            },
            "type": "contourcarpet"
           }
          ],
          "heatmap": [
           {
            "colorbar": {
             "outlinewidth": 0,
             "ticks": ""
            },
            "colorscale": [
             [
              0,
              "#0d0887"
             ],
             [
              0.1111111111111111,
              "#46039f"
             ],
             [
              0.2222222222222222,
              "#7201a8"
             ],
             [
              0.3333333333333333,
              "#9c179e"
             ],
             [
              0.4444444444444444,
              "#bd3786"
             ],
             [
              0.5555555555555556,
              "#d8576b"
             ],
             [
              0.6666666666666666,
              "#ed7953"
             ],
             [
              0.7777777777777778,
              "#fb9f3a"
             ],
             [
              0.8888888888888888,
              "#fdca26"
             ],
             [
              1,
              "#f0f921"
             ]
            ],
            "type": "heatmap"
           }
          ],
          "heatmapgl": [
           {
            "colorbar": {
             "outlinewidth": 0,
             "ticks": ""
            },
            "colorscale": [
             [
              0,
              "#0d0887"
             ],
             [
              0.1111111111111111,
              "#46039f"
             ],
             [
              0.2222222222222222,
              "#7201a8"
             ],
             [
              0.3333333333333333,
              "#9c179e"
             ],
             [
              0.4444444444444444,
              "#bd3786"
             ],
             [
              0.5555555555555556,
              "#d8576b"
             ],
             [
              0.6666666666666666,
              "#ed7953"
             ],
             [
              0.7777777777777778,
              "#fb9f3a"
             ],
             [
              0.8888888888888888,
              "#fdca26"
             ],
             [
              1,
              "#f0f921"
             ]
            ],
            "type": "heatmapgl"
           }
          ],
          "histogram": [
           {
            "marker": {
             "pattern": {
              "fillmode": "overlay",
              "size": 10,
              "solidity": 0.2
             }
            },
            "type": "histogram"
           }
          ],
          "histogram2d": [
           {
            "colorbar": {
             "outlinewidth": 0,
             "ticks": ""
            },
            "colorscale": [
             [
              0,
              "#0d0887"
             ],
             [
              0.1111111111111111,
              "#46039f"
             ],
             [
              0.2222222222222222,
              "#7201a8"
             ],
             [
              0.3333333333333333,
              "#9c179e"
             ],
             [
              0.4444444444444444,
              "#bd3786"
             ],
             [
              0.5555555555555556,
              "#d8576b"
             ],
             [
              0.6666666666666666,
              "#ed7953"
             ],
             [
              0.7777777777777778,
              "#fb9f3a"
             ],
             [
              0.8888888888888888,
              "#fdca26"
             ],
             [
              1,
              "#f0f921"
             ]
            ],
            "type": "histogram2d"
           }
          ],
          "histogram2dcontour": [
           {
            "colorbar": {
             "outlinewidth": 0,
             "ticks": ""
            },
            "colorscale": [
             [
              0,
              "#0d0887"
             ],
             [
              0.1111111111111111,
              "#46039f"
             ],
             [
              0.2222222222222222,
              "#7201a8"
             ],
             [
              0.3333333333333333,
              "#9c179e"
             ],
             [
              0.4444444444444444,
              "#bd3786"
             ],
             [
              0.5555555555555556,
              "#d8576b"
             ],
             [
              0.6666666666666666,
              "#ed7953"
             ],
             [
              0.7777777777777778,
              "#fb9f3a"
             ],
             [
              0.8888888888888888,
              "#fdca26"
             ],
             [
              1,
              "#f0f921"
             ]
            ],
            "type": "histogram2dcontour"
           }
          ],
          "mesh3d": [
           {
            "colorbar": {
             "outlinewidth": 0,
             "ticks": ""
            },
            "type": "mesh3d"
           }
          ],
          "parcoords": [
           {
            "line": {
             "colorbar": {
              "outlinewidth": 0,
              "ticks": ""
             }
            },
            "type": "parcoords"
           }
          ],
          "pie": [
           {
            "automargin": true,
            "type": "pie"
           }
          ],
          "scatter": [
           {
            "fillpattern": {
             "fillmode": "overlay",
             "size": 10,
             "solidity": 0.2
            },
            "type": "scatter"
           }
          ],
          "scatter3d": [
           {
            "line": {
             "colorbar": {
              "outlinewidth": 0,
              "ticks": ""
             }
            },
            "marker": {
             "colorbar": {
              "outlinewidth": 0,
              "ticks": ""
             }
            },
            "type": "scatter3d"
           }
          ],
          "scattercarpet": [
           {
            "marker": {
             "colorbar": {
              "outlinewidth": 0,
              "ticks": ""
             }
            },
            "type": "scattercarpet"
           }
          ],
          "scattergeo": [
           {
            "marker": {
             "colorbar": {
              "outlinewidth": 0,
              "ticks": ""
             }
            },
            "type": "scattergeo"
           }
          ],
          "scattergl": [
           {
            "marker": {
             "colorbar": {
              "outlinewidth": 0,
              "ticks": ""
             }
            },
            "type": "scattergl"
           }
          ],
          "scattermapbox": [
           {
            "marker": {
             "colorbar": {
              "outlinewidth": 0,
              "ticks": ""
             }
            },
            "type": "scattermapbox"
           }
          ],
          "scatterpolar": [
           {
            "marker": {
             "colorbar": {
              "outlinewidth": 0,
              "ticks": ""
             }
            },
            "type": "scatterpolar"
           }
          ],
          "scatterpolargl": [
           {
            "marker": {
             "colorbar": {
              "outlinewidth": 0,
              "ticks": ""
             }
            },
            "type": "scatterpolargl"
           }
          ],
          "scatterternary": [
           {
            "marker": {
             "colorbar": {
              "outlinewidth": 0,
              "ticks": ""
             }
            },
            "type": "scatterternary"
           }
          ],
          "surface": [
           {
            "colorbar": {
             "outlinewidth": 0,
             "ticks": ""
            },
            "colorscale": [
             [
              0,
              "#0d0887"
             ],
             [
              0.1111111111111111,
              "#46039f"
             ],
             [
              0.2222222222222222,
              "#7201a8"
             ],
             [
              0.3333333333333333,
              "#9c179e"
             ],
             [
              0.4444444444444444,
              "#bd3786"
             ],
             [
              0.5555555555555556,
              "#d8576b"
             ],
             [
              0.6666666666666666,
              "#ed7953"
             ],
             [
              0.7777777777777778,
              "#fb9f3a"
             ],
             [
              0.8888888888888888,
              "#fdca26"
             ],
             [
              1,
              "#f0f921"
             ]
            ],
            "type": "surface"
           }
          ],
          "table": [
           {
            "cells": {
             "fill": {
              "color": "#EBF0F8"
             },
             "line": {
              "color": "white"
             }
            },
            "header": {
             "fill": {
              "color": "#C8D4E3"
             },
             "line": {
              "color": "white"
             }
            },
            "type": "table"
           }
          ]
         },
         "layout": {
          "annotationdefaults": {
           "arrowcolor": "#2a3f5f",
           "arrowhead": 0,
           "arrowwidth": 1
          },
          "autotypenumbers": "strict",
          "coloraxis": {
           "colorbar": {
            "outlinewidth": 0,
            "ticks": ""
           }
          },
          "colorscale": {
           "diverging": [
            [
             0,
             "#8e0152"
            ],
            [
             0.1,
             "#c51b7d"
            ],
            [
             0.2,
             "#de77ae"
            ],
            [
             0.3,
             "#f1b6da"
            ],
            [
             0.4,
             "#fde0ef"
            ],
            [
             0.5,
             "#f7f7f7"
            ],
            [
             0.6,
             "#e6f5d0"
            ],
            [
             0.7,
             "#b8e186"
            ],
            [
             0.8,
             "#7fbc41"
            ],
            [
             0.9,
             "#4d9221"
            ],
            [
             1,
             "#276419"
            ]
           ],
           "sequential": [
            [
             0,
             "#0d0887"
            ],
            [
             0.1111111111111111,
             "#46039f"
            ],
            [
             0.2222222222222222,
             "#7201a8"
            ],
            [
             0.3333333333333333,
             "#9c179e"
            ],
            [
             0.4444444444444444,
             "#bd3786"
            ],
            [
             0.5555555555555556,
             "#d8576b"
            ],
            [
             0.6666666666666666,
             "#ed7953"
            ],
            [
             0.7777777777777778,
             "#fb9f3a"
            ],
            [
             0.8888888888888888,
             "#fdca26"
            ],
            [
             1,
             "#f0f921"
            ]
           ],
           "sequentialminus": [
            [
             0,
             "#0d0887"
            ],
            [
             0.1111111111111111,
             "#46039f"
            ],
            [
             0.2222222222222222,
             "#7201a8"
            ],
            [
             0.3333333333333333,
             "#9c179e"
            ],
            [
             0.4444444444444444,
             "#bd3786"
            ],
            [
             0.5555555555555556,
             "#d8576b"
            ],
            [
             0.6666666666666666,
             "#ed7953"
            ],
            [
             0.7777777777777778,
             "#fb9f3a"
            ],
            [
             0.8888888888888888,
             "#fdca26"
            ],
            [
             1,
             "#f0f921"
            ]
           ]
          },
          "colorway": [
           "#636efa",
           "#EF553B",
           "#00cc96",
           "#ab63fa",
           "#FFA15A",
           "#19d3f3",
           "#FF6692",
           "#B6E880",
           "#FF97FF",
           "#FECB52"
          ],
          "font": {
           "color": "#2a3f5f"
          },
          "geo": {
           "bgcolor": "white",
           "lakecolor": "white",
           "landcolor": "#E5ECF6",
           "showlakes": true,
           "showland": true,
           "subunitcolor": "white"
          },
          "hoverlabel": {
           "align": "left"
          },
          "hovermode": "closest",
          "mapbox": {
           "style": "light"
          },
          "paper_bgcolor": "white",
          "plot_bgcolor": "#E5ECF6",
          "polar": {
           "angularaxis": {
            "gridcolor": "white",
            "linecolor": "white",
            "ticks": ""
           },
           "bgcolor": "#E5ECF6",
           "radialaxis": {
            "gridcolor": "white",
            "linecolor": "white",
            "ticks": ""
           }
          },
          "scene": {
           "xaxis": {
            "backgroundcolor": "#E5ECF6",
            "gridcolor": "white",
            "gridwidth": 2,
            "linecolor": "white",
            "showbackground": true,
            "ticks": "",
            "zerolinecolor": "white"
           },
           "yaxis": {
            "backgroundcolor": "#E5ECF6",
            "gridcolor": "white",
            "gridwidth": 2,
            "linecolor": "white",
            "showbackground": true,
            "ticks": "",
            "zerolinecolor": "white"
           },
           "zaxis": {
            "backgroundcolor": "#E5ECF6",
            "gridcolor": "white",
            "gridwidth": 2,
            "linecolor": "white",
            "showbackground": true,
            "ticks": "",
            "zerolinecolor": "white"
           }
          },
          "shapedefaults": {
           "line": {
            "color": "#2a3f5f"
           }
          },
          "ternary": {
           "aaxis": {
            "gridcolor": "white",
            "linecolor": "white",
            "ticks": ""
           },
           "baxis": {
            "gridcolor": "white",
            "linecolor": "white",
            "ticks": ""
           },
           "bgcolor": "#E5ECF6",
           "caxis": {
            "gridcolor": "white",
            "linecolor": "white",
            "ticks": ""
           }
          },
          "title": {
           "x": 0.05
          },
          "xaxis": {
           "automargin": true,
           "gridcolor": "white",
           "linecolor": "white",
           "ticks": "",
           "title": {
            "standoff": 15
           },
           "zerolinecolor": "white",
           "zerolinewidth": 2
          },
          "yaxis": {
           "automargin": true,
           "gridcolor": "white",
           "linecolor": "white",
           "ticks": "",
           "title": {
            "standoff": 15
           },
           "zerolinecolor": "white",
           "zerolinewidth": 2
          }
         }
        },
        "title": {
         "text": "交易分类"
        }
       }
      },
      "text/html": [
       "<div>                            <div id=\"d5ee2453-adea-43cc-b136-f3aa5f77d687\" class=\"plotly-graph-div\" style=\"height:525px; width:100%;\"></div>            <script type=\"text/javascript\">                require([\"plotly\"], function(Plotly) {                    window.PLOTLYENV=window.PLOTLYENV || {};                                    if (document.getElementById(\"d5ee2453-adea-43cc-b136-f3aa5f77d687\")) {                    Plotly.newPlot(                        \"d5ee2453-adea-43cc-b136-f3aa5f77d687\",                        [{\"domain\":{\"x\":[0.0,1.0],\"y\":[0.0,1.0]},\"hovertemplate\":\"\\u4ea4\\u6613\\u5206\\u7c7b=%{label}<br>\\u91d1\\u989d=%{value}<extra></extra>\",\"labels\":[\"\\u4f4f\\u623f\\u7269\\u4e1a                \",\"\\u5546\\u4e1a\\u670d\\u52a1                \",\"\\u8f6c\\u8d26\\u7ea2\\u5305                \",\"\\u9000\\u6b3e                  \",\"\\u751f\\u6d3b\\u670d\\u52a1                \",\"\\u7f8e\\u5bb9\\u7f8e\\u53d1                \",\"\\u670d\\u9970\\u88c5\\u626e                \",\"\\u6559\\u80b2\\u57f9\\u8bad                \",\"\\u5bb6\\u5c45\\u5bb6\\u88c5                \",\"\\u6587\\u5316\\u4f11\\u95f2                \",\"\\u5176\\u4ed6                  \",\"\\u4ea4\\u901a\\u51fa\\u884c                \",\"\\u6570\\u7801\\u7535\\u5668                \",\"\\u65e5\\u7528\\u767e\\u8d27                \",\"\\u533b\\u7597\\u5065\\u5eb7                \",\"\\u7231\\u8f66\\u517b\\u8f66                \",\"\\u9910\\u996e\\u7f8e\\u98df                \",\"\\u4fe1\\u7528\\u501f\\u8fd8                \"],\"legendgroup\":\"\",\"name\":\"\",\"showlegend\":true,\"values\":[15.0,28.0,30.0,35.0,37.5,38.0,44.0,117.47,131.0,169.49,307.24,430.72999999999996,437.0,624.47,1186.0,1768.0,2159.55,8712.730000000001],\"type\":\"pie\"}],                        {\"template\":{\"data\":{\"histogram2dcontour\":[{\"type\":\"histogram2dcontour\",\"colorbar\":{\"outlinewidth\":0,\"ticks\":\"\"},\"colorscale\":[[0.0,\"#0d0887\"],[0.1111111111111111,\"#46039f\"],[0.2222222222222222,\"#7201a8\"],[0.3333333333333333,\"#9c179e\"],[0.4444444444444444,\"#bd3786\"],[0.5555555555555556,\"#d8576b\"],[0.6666666666666666,\"#ed7953\"],[0.7777777777777778,\"#fb9f3a\"],[0.8888888888888888,\"#fdca26\"],[1.0,\"#f0f921\"]]}],\"choropleth\":[{\"type\":\"choropleth\",\"colorbar\":{\"outlinewidth\":0,\"ticks\":\"\"}}],\"histogram2d\":[{\"type\":\"histogram2d\",\"colorbar\":{\"outlinewidth\":0,\"ticks\":\"\"},\"colorscale\":[[0.0,\"#0d0887\"],[0.1111111111111111,\"#46039f\"],[0.2222222222222222,\"#7201a8\"],[0.3333333333333333,\"#9c179e\"],[0.4444444444444444,\"#bd3786\"],[0.5555555555555556,\"#d8576b\"],[0.6666666666666666,\"#ed7953\"],[0.7777777777777778,\"#fb9f3a\"],[0.8888888888888888,\"#fdca26\"],[1.0,\"#f0f921\"]]}],\"heatmap\":[{\"type\":\"heatmap\",\"colorbar\":{\"outlinewidth\":0,\"ticks\":\"\"},\"colorscale\":[[0.0,\"#0d0887\"],[0.1111111111111111,\"#46039f\"],[0.2222222222222222,\"#7201a8\"],[0.3333333333333333,\"#9c179e\"],[0.4444444444444444,\"#bd3786\"],[0.5555555555555556,\"#d8576b\"],[0.6666666666666666,\"#ed7953\"],[0.7777777777777778,\"#fb9f3a\"],[0.8888888888888888,\"#fdca26\"],[1.0,\"#f0f921\"]]}],\"heatmapgl\":[{\"type\":\"heatmapgl\",\"colorbar\":{\"outlinewidth\":0,\"ticks\":\"\"},\"colorscale\":[[0.0,\"#0d0887\"],[0.1111111111111111,\"#46039f\"],[0.2222222222222222,\"#7201a8\"],[0.3333333333333333,\"#9c179e\"],[0.4444444444444444,\"#bd3786\"],[0.5555555555555556,\"#d8576b\"],[0.6666666666666666,\"#ed7953\"],[0.7777777777777778,\"#fb9f3a\"],[0.8888888888888888,\"#fdca26\"],[1.0,\"#f0f921\"]]}],\"contourcarpet\":[{\"type\":\"contourcarpet\",\"colorbar\":{\"outlinewidth\":0,\"ticks\":\"\"}}],\"contour\":[{\"type\":\"contour\",\"colorbar\":{\"outlinewidth\":0,\"ticks\":\"\"},\"colorscale\":[[0.0,\"#0d0887\"],[0.1111111111111111,\"#46039f\"],[0.2222222222222222,\"#7201a8\"],[0.3333333333333333,\"#9c179e\"],[0.4444444444444444,\"#bd3786\"],[0.5555555555555556,\"#d8576b\"],[0.6666666666666666,\"#ed7953\"],[0.7777777777777778,\"#fb9f3a\"],[0.8888888888888888,\"#fdca26\"],[1.0,\"#f0f921\"]]}],\"surface\":[{\"type\":\"surface\",\"colorbar\":{\"outlinewidth\":0,\"ticks\":\"\"},\"colorscale\":[[0.0,\"#0d0887\"],[0.1111111111111111,\"#46039f\"],[0.2222222222222222,\"#7201a8\"],[0.3333333333333333,\"#9c179e\"],[0.4444444444444444,\"#bd3786\"],[0.5555555555555556,\"#d8576b\"],[0.6666666666666666,\"#ed7953\"],[0.7777777777777778,\"#fb9f3a\"],[0.8888888888888888,\"#fdca26\"],[1.0,\"#f0f921\"]]}],\"mesh3d\":[{\"type\":\"mesh3d\",\"colorbar\":{\"outlinewidth\":0,\"ticks\":\"\"}}],\"scatter\":[{\"fillpattern\":{\"fillmode\":\"overlay\",\"size\":10,\"solidity\":0.2},\"type\":\"scatter\"}],\"parcoords\":[{\"type\":\"parcoords\",\"line\":{\"colorbar\":{\"outlinewidth\":0,\"ticks\":\"\"}}}],\"scatterpolargl\":[{\"type\":\"scatterpolargl\",\"marker\":{\"colorbar\":{\"outlinewidth\":0,\"ticks\":\"\"}}}],\"bar\":[{\"error_x\":{\"color\":\"#2a3f5f\"},\"error_y\":{\"color\":\"#2a3f5f\"},\"marker\":{\"line\":{\"color\":\"#E5ECF6\",\"width\":0.5},\"pattern\":{\"fillmode\":\"overlay\",\"size\":10,\"solidity\":0.2}},\"type\":\"bar\"}],\"scattergeo\":[{\"type\":\"scattergeo\",\"marker\":{\"colorbar\":{\"outlinewidth\":0,\"ticks\":\"\"}}}],\"scatterpolar\":[{\"type\":\"scatterpolar\",\"marker\":{\"colorbar\":{\"outlinewidth\":0,\"ticks\":\"\"}}}],\"histogram\":[{\"marker\":{\"pattern\":{\"fillmode\":\"overlay\",\"size\":10,\"solidity\":0.2}},\"type\":\"histogram\"}],\"scattergl\":[{\"type\":\"scattergl\",\"marker\":{\"colorbar\":{\"outlinewidth\":0,\"ticks\":\"\"}}}],\"scatter3d\":[{\"type\":\"scatter3d\",\"line\":{\"colorbar\":{\"outlinewidth\":0,\"ticks\":\"\"}},\"marker\":{\"colorbar\":{\"outlinewidth\":0,\"ticks\":\"\"}}}],\"scattermapbox\":[{\"type\":\"scattermapbox\",\"marker\":{\"colorbar\":{\"outlinewidth\":0,\"ticks\":\"\"}}}],\"scatterternary\":[{\"type\":\"scatterternary\",\"marker\":{\"colorbar\":{\"outlinewidth\":0,\"ticks\":\"\"}}}],\"scattercarpet\":[{\"type\":\"scattercarpet\",\"marker\":{\"colorbar\":{\"outlinewidth\":0,\"ticks\":\"\"}}}],\"carpet\":[{\"aaxis\":{\"endlinecolor\":\"#2a3f5f\",\"gridcolor\":\"white\",\"linecolor\":\"white\",\"minorgridcolor\":\"white\",\"startlinecolor\":\"#2a3f5f\"},\"baxis\":{\"endlinecolor\":\"#2a3f5f\",\"gridcolor\":\"white\",\"linecolor\":\"white\",\"minorgridcolor\":\"white\",\"startlinecolor\":\"#2a3f5f\"},\"type\":\"carpet\"}],\"table\":[{\"cells\":{\"fill\":{\"color\":\"#EBF0F8\"},\"line\":{\"color\":\"white\"}},\"header\":{\"fill\":{\"color\":\"#C8D4E3\"},\"line\":{\"color\":\"white\"}},\"type\":\"table\"}],\"barpolar\":[{\"marker\":{\"line\":{\"color\":\"#E5ECF6\",\"width\":0.5},\"pattern\":{\"fillmode\":\"overlay\",\"size\":10,\"solidity\":0.2}},\"type\":\"barpolar\"}],\"pie\":[{\"automargin\":true,\"type\":\"pie\"}]},\"layout\":{\"autotypenumbers\":\"strict\",\"colorway\":[\"#636efa\",\"#EF553B\",\"#00cc96\",\"#ab63fa\",\"#FFA15A\",\"#19d3f3\",\"#FF6692\",\"#B6E880\",\"#FF97FF\",\"#FECB52\"],\"font\":{\"color\":\"#2a3f5f\"},\"hovermode\":\"closest\",\"hoverlabel\":{\"align\":\"left\"},\"paper_bgcolor\":\"white\",\"plot_bgcolor\":\"#E5ECF6\",\"polar\":{\"bgcolor\":\"#E5ECF6\",\"angularaxis\":{\"gridcolor\":\"white\",\"linecolor\":\"white\",\"ticks\":\"\"},\"radialaxis\":{\"gridcolor\":\"white\",\"linecolor\":\"white\",\"ticks\":\"\"}},\"ternary\":{\"bgcolor\":\"#E5ECF6\",\"aaxis\":{\"gridcolor\":\"white\",\"linecolor\":\"white\",\"ticks\":\"\"},\"baxis\":{\"gridcolor\":\"white\",\"linecolor\":\"white\",\"ticks\":\"\"},\"caxis\":{\"gridcolor\":\"white\",\"linecolor\":\"white\",\"ticks\":\"\"}},\"coloraxis\":{\"colorbar\":{\"outlinewidth\":0,\"ticks\":\"\"}},\"colorscale\":{\"sequential\":[[0.0,\"#0d0887\"],[0.1111111111111111,\"#46039f\"],[0.2222222222222222,\"#7201a8\"],[0.3333333333333333,\"#9c179e\"],[0.4444444444444444,\"#bd3786\"],[0.5555555555555556,\"#d8576b\"],[0.6666666666666666,\"#ed7953\"],[0.7777777777777778,\"#fb9f3a\"],[0.8888888888888888,\"#fdca26\"],[1.0,\"#f0f921\"]],\"sequentialminus\":[[0.0,\"#0d0887\"],[0.1111111111111111,\"#46039f\"],[0.2222222222222222,\"#7201a8\"],[0.3333333333333333,\"#9c179e\"],[0.4444444444444444,\"#bd3786\"],[0.5555555555555556,\"#d8576b\"],[0.6666666666666666,\"#ed7953\"],[0.7777777777777778,\"#fb9f3a\"],[0.8888888888888888,\"#fdca26\"],[1.0,\"#f0f921\"]],\"diverging\":[[0,\"#8e0152\"],[0.1,\"#c51b7d\"],[0.2,\"#de77ae\"],[0.3,\"#f1b6da\"],[0.4,\"#fde0ef\"],[0.5,\"#f7f7f7\"],[0.6,\"#e6f5d0\"],[0.7,\"#b8e186\"],[0.8,\"#7fbc41\"],[0.9,\"#4d9221\"],[1,\"#276419\"]]},\"xaxis\":{\"gridcolor\":\"white\",\"linecolor\":\"white\",\"ticks\":\"\",\"title\":{\"standoff\":15},\"zerolinecolor\":\"white\",\"automargin\":true,\"zerolinewidth\":2},\"yaxis\":{\"gridcolor\":\"white\",\"linecolor\":\"white\",\"ticks\":\"\",\"title\":{\"standoff\":15},\"zerolinecolor\":\"white\",\"automargin\":true,\"zerolinewidth\":2},\"scene\":{\"xaxis\":{\"backgroundcolor\":\"#E5ECF6\",\"gridcolor\":\"white\",\"linecolor\":\"white\",\"showbackground\":true,\"ticks\":\"\",\"zerolinecolor\":\"white\",\"gridwidth\":2},\"yaxis\":{\"backgroundcolor\":\"#E5ECF6\",\"gridcolor\":\"white\",\"linecolor\":\"white\",\"showbackground\":true,\"ticks\":\"\",\"zerolinecolor\":\"white\",\"gridwidth\":2},\"zaxis\":{\"backgroundcolor\":\"#E5ECF6\",\"gridcolor\":\"white\",\"linecolor\":\"white\",\"showbackground\":true,\"ticks\":\"\",\"zerolinecolor\":\"white\",\"gridwidth\":2}},\"shapedefaults\":{\"line\":{\"color\":\"#2a3f5f\"}},\"annotationdefaults\":{\"arrowcolor\":\"#2a3f5f\",\"arrowhead\":0,\"arrowwidth\":1},\"geo\":{\"bgcolor\":\"white\",\"landcolor\":\"#E5ECF6\",\"subunitcolor\":\"white\",\"showland\":true,\"showlakes\":true,\"lakecolor\":\"white\"},\"title\":{\"x\":0.05},\"mapbox\":{\"style\":\"light\"}}},\"legend\":{\"tracegroupgap\":0},\"title\":{\"text\":\"\\u4ea4\\u6613\\u5206\\u7c7b\"}},                        {\"responsive\": true}                    ).then(function(){\n",
       "                            \n",
       "var gd = document.getElementById('d5ee2453-adea-43cc-b136-f3aa5f77d687');\n",
       "var x = new MutationObserver(function (mutations, observer) {{\n",
       "        var display = window.getComputedStyle(gd).display;\n",
       "        if (!display || display === 'none') {{\n",
       "            console.log([gd, 'removed!']);\n",
       "            Plotly.purge(gd);\n",
       "            observer.disconnect();\n",
       "        }}\n",
       "}});\n",
       "\n",
       "// Listen for the removal of the full notebook cells\n",
       "var notebookContainer = gd.closest('#notebook-container');\n",
       "if (notebookContainer) {{\n",
       "    x.observe(notebookContainer, {childList: true});\n",
       "}}\n",
       "\n",
       "// Listen for the clearing of the current output cell\n",
       "var outputEl = gd.closest('.output');\n",
       "if (outputEl) {{\n",
       "    x.observe(outputEl, {childList: true});\n",
       "}}\n",
       "\n",
       "                        })                };                });            </script>        </div>"
      ]
     },
     "metadata": {},
     "output_type": "display_data"
    }
   ],
   "source": [
    "#分类聚合\n",
    "import numpy as np \n",
    "import matplotlib.pyplot as plt\n",
    "import plotly.express as px\n",
    "cf.set_config_file(offline=True)\n",
    "category=ali.groupby('交易分类').sum()\n",
    "plt.rcParams['font.sans-serif']=['微软雅黑'] \n",
    "category.describe()\n",
    "category['交易分类']=category.index.values\n",
    "category.set_index(np.arange(0,18),inplace=True)\n",
    "category\n",
    "category.sort_values(by='金额',inplace=True)\n",
    "fig = px.pie(category, values='金额', names='交易分类', title='交易分类')\n",
    "fig.show()\n",
    "fig.write_html(\"figs/file.html\")\n",
    "#fig=category.iplot(kind=\"bar\",y='金额',x='交易分类')\n",
    " \n",
    "# labels=category['交易分类']\n",
    "# sizes=category['金额']\n",
    "# fig,axs=plt.subplots()\n",
    "# fig.set_size_inches(20,20)\n",
    "# axs.set_title(\"消费分类\",fontproperties=myfont) \n",
    "# axs.set_xlim([0,100])\n",
    "# axs.set_ylim([0,100])\n",
    "# axs.pie(sizes,labels=labels,autopct='%.1f%%',textprops={'fontsize':12,'color':'k'} ,radius=1)\n",
    "# plt.style.use('ggplot')\n",
    "# #plt.pie(sizes,labels=labels)"
   ]
  },
  {
   "cell_type": "markdown",
   "id": "ed2fb116-bf32-4970-91cb-e7895d2584e4",
   "metadata": {},
   "source": [
    "Pands的基本数据结构：\n",
    ">我们知道，构建和处理二维、多维数组是一项繁琐的任务。Pandas 为解决这一问题， 在 ndarray 数组（NumPy 中的数组）的基础上构建出了两种不同的数据结构，分别是 Series（一维数据结构）DataFrame（二维数据结构）：\n",
    "Series 是带标签的一维数组，这里的标签可以理解为索引，但这个索引并不局限于整数，它也可以是字符类型，比如 a、b、c 等；\n",
    "DataFrame 是一种表格型数据结构，它既有行标签，又有列标签。\n",
    "\n",
    "[引用](http://c.biancheng.net/pandas/what-is-pandas.html)\n",
    "\n",
    "\n",
    "| 数据结构 |维度| 说明 |\n",
    "| -------- | -------- | -------- |\n",
    "|Series    | 1    | 该结构能够存储各种数据类型，比如字符数、整数、浮点数、Python 对象等，Series 用 name 和 index 属性来描述数据值。Series 是一维数据结构，因此其维数不可以改变。     |\n",
    "|DataFrame    | 2    | DataFrame 是一种二维表格型数据的结构，既有行索引，也有列索引。行索引是 index，列索引是 columns。在创建该结构时，可以指定相应的索引值    |\n",
    "\n",
    "\n",
    " "
   ]
  },
  {
   "cell_type": "markdown",
   "id": "eebbe5c5-ad56-4090-ab6d-d4505897448e",
   "metadata": {},
   "source": [
    "### 数据获取\n",
    "\n",
    "1. 目前公共的数据平台，多采用csv，json，html等文本下载方式，而更为开放或技术先进的平台也提供了api接口方式。\n",
    "2. 企业内部数据分析为了做到及时性、与生产决策对接，更倾向于使用直接读取数据库，或api接口方式。\n",
    "\n",
    "但不论哪一种数据获取方式，pandas都可以方便的获取数据。\n",
    "\n"
   ]
  },
  {
   "cell_type": "markdown",
   "id": "5c3e94e6-f104-447e-a06a-464f6084ec96",
   "metadata": {},
   "source": [
    "#### excel、csv、txt、html等文本数据获取\n",
    " pands 对excel，csv的数据导入方式基本相同。但注意excel包含多个子页\n",
    ">在处理数据时，建议使用cvs而不是excel作为数据存储方式\n",
    "\n",
    "1.excel数据导入\n",
    "``` python\n",
    "pandas.read_excel（io，sheet_name = 0，header = 0，names = None，index_col = None，usecols = None，squeeze = False,dtype = None, ...）\n",
    "\n",
    "```\n",
    "参数说明：\n",
    "* io：字符串，文件的路径对象。\n",
    "\n",
    "sheet_name：None、string、int、字符串列表或整数列表，默认为0。字符串用于工作表名称,整数用于零索引工作表位置,字符串列表或整数列表用于请求多个工作表，为None时获取所有工作表。\n",
    "* header：指定作为列名的行，默认0，即取第一行的值为列名。数据为列名行以下的数据；若数据不含列名，则设定 header = None。\n",
    "\n",
    "* names：默认为None，要使用的列名列表，如不包含标题行，应显示传递header=None。\n",
    "\n",
    "* index_col：指定列为索引列，默认None列（0索引）用作DataFrame的行标签。\n",
    "\n",
    "* usecols：int或list，默认为None。\n",
    "\n",
    "  * 如果为None则解析所有列\n",
    "  * 如果为int则表示要解析的最后一列\n",
    "  * 如果为int列表则表示要解析的列号列表\n",
    "  * 如果字符串则表示以逗号分隔的Excel列字母和列范围列表（例如“A：E”或“A，C，E：F”）。范围包括双方。\n",
    "* squeeze：boolean，默认为False,如果解析的数据只包含一列，则返回一个Series。\n",
    "\n",
    "* dtype：列的类型名称或字典，默认为None。数据或列的数据类型。例如{'a'：np.float64，'b'：np.int32}使用对象保存存储在Excel中的数据而不解释dtype。如果指定了转换器，则它们将应用于dtype转换的INSTEAD。\n",
    "\n",
    "* skiprows：省略指定行数的数据,从第一行开始。\n",
    "\n",
    "* skipfooter：省略指定行数的数据，从尾部数的行开始。\n",
    "\n",
    "* dtype:字典类型{'列名1':数据类型，‘列名’:数据类型}，设定指定列的数据类型。\n",
    "\n",
    " \n",
    "\n",
    " "
   ]
  },
  {
   "cell_type": "code",
   "execution_count": 41,
   "id": "532deeed-95df-4f89-ba40-2320f3708677",
   "metadata": {
    "execution": {
     "iopub.execute_input": "2022-05-05T03:52:35.117132Z",
     "iopub.status.busy": "2022-05-05T03:52:35.116551Z",
     "iopub.status.idle": "2022-05-05T03:52:36.145744Z",
     "shell.execute_reply": "2022-05-05T03:52:36.144819Z",
     "shell.execute_reply.started": "2022-05-05T03:52:35.117092Z"
    },
    "scrolled": true,
    "tags": []
   },
   "outputs": [],
   "source": [
    "#农产品价格的读取\n",
    "import pandas as pd\n",
    "pepper=pd.read_excel('data/price/农经网朝天椒价格数据.xlsx',header=0,index_col=4)\n",
    "print(pepper.describe())\n",
    "pepper.head()"
   ]
  },
  {
   "cell_type": "code",
   "execution_count": 2,
   "id": "a998de93-128c-49ad-bcdd-b2bde7ddf8b5",
   "metadata": {
    "execution": {
     "iopub.execute_input": "2022-05-05T07:01:09.948094Z",
     "iopub.status.busy": "2022-05-05T07:01:09.947619Z",
     "iopub.status.idle": "2022-05-05T07:04:43.184019Z",
     "shell.execute_reply": "2022-05-05T07:04:43.183161Z",
     "shell.execute_reply.started": "2022-05-05T07:01:09.948062Z"
    },
    "scrolled": true,
    "tags": []
   },
   "outputs": [],
   "source": [
    "#股票价格的读取，注意保存股票数据的excel有多个sheet，需要在读取的时候指明sheet\n",
    "import pandas as pd\n",
    "stock=pd.read_excel('data/stock/20210708之0210806A股全部记录.xlsx',sheet_name=0)"
   ]
  },
  {
   "cell_type": "code",
   "execution_count": 3,
   "id": "1597001c-a289-48c7-9b91-5d7c80fdcc6e",
   "metadata": {
    "execution": {
     "iopub.execute_input": "2022-05-05T07:05:01.097557Z",
     "iopub.status.busy": "2022-05-05T07:05:01.097296Z",
     "iopub.status.idle": "2022-05-05T07:05:01.123524Z",
     "shell.execute_reply": "2022-05-05T07:05:01.122929Z",
     "shell.execute_reply.started": "2022-05-05T07:05:01.097531Z"
    },
    "scrolled": true
   },
   "outputs": [
    {
     "data": {
      "text/html": [
       "<div>\n",
       "<style scoped>\n",
       "    .dataframe tbody tr th:only-of-type {\n",
       "        vertical-align: middle;\n",
       "    }\n",
       "\n",
       "    .dataframe tbody tr th {\n",
       "        vertical-align: top;\n",
       "    }\n",
       "\n",
       "    .dataframe thead th {\n",
       "        text-align: right;\n",
       "    }\n",
       "</style>\n",
       "<table border=\"1\" class=\"dataframe\">\n",
       "  <thead>\n",
       "    <tr style=\"text-align: right;\">\n",
       "      <th></th>\n",
       "      <th>原始涨幅排序</th>\n",
       "      <th>日期</th>\n",
       "      <th>代码</th>\n",
       "      <th>名称</th>\n",
       "      <th>涨幅%</th>\n",
       "      <th>现价</th>\n",
       "      <th>涨跌</th>\n",
       "      <th>买价</th>\n",
       "      <th>卖价</th>\n",
       "      <th>总量</th>\n",
       "      <th>...</th>\n",
       "      <th>每股未分配</th>\n",
       "      <th>权益比%</th>\n",
       "      <th>净益率%</th>\n",
       "      <th>毛利率%</th>\n",
       "      <th>营业利润率%</th>\n",
       "      <th>净利润率%</th>\n",
       "      <th>交易代码</th>\n",
       "      <th>自选日</th>\n",
       "      <th>自选价</th>\n",
       "      <th>自选收益%</th>\n",
       "    </tr>\n",
       "  </thead>\n",
       "  <tbody>\n",
       "    <tr>\n",
       "      <th>0</th>\n",
       "      <td>1</td>\n",
       "      <td>20210709</td>\n",
       "      <td>688305</td>\n",
       "      <td>N科德</td>\n",
       "      <td>853</td>\n",
       "      <td>105.12</td>\n",
       "      <td>94.09</td>\n",
       "      <td>105.12</td>\n",
       "      <td>105.19</td>\n",
       "      <td>141447</td>\n",
       "      <td>...</td>\n",
       "      <td>0.57</td>\n",
       "      <td>79.85</td>\n",
       "      <td>2.29㈠</td>\n",
       "      <td>44.38</td>\n",
       "      <td>28.36</td>\n",
       "      <td>25.49</td>\n",
       "      <td>688305</td>\n",
       "      <td>--</td>\n",
       "      <td>--</td>\n",
       "      <td>--</td>\n",
       "    </tr>\n",
       "    <tr>\n",
       "      <th>1</th>\n",
       "      <td>2</td>\n",
       "      <td>20210709</td>\n",
       "      <td>688087</td>\n",
       "      <td>N英科</td>\n",
       "      <td>255.3</td>\n",
       "      <td>78.02</td>\n",
       "      <td>56.06</td>\n",
       "      <td>78.02</td>\n",
       "      <td>78.07</td>\n",
       "      <td>207386</td>\n",
       "      <td>...</td>\n",
       "      <td>5.28</td>\n",
       "      <td>74.31</td>\n",
       "      <td>4.26㈠</td>\n",
       "      <td>33.65</td>\n",
       "      <td>11.64</td>\n",
       "      <td>10.33</td>\n",
       "      <td>688087</td>\n",
       "      <td>--</td>\n",
       "      <td>--</td>\n",
       "      <td>--</td>\n",
       "    </tr>\n",
       "    <tr>\n",
       "      <th>2</th>\n",
       "      <td>3</td>\n",
       "      <td>20210709</td>\n",
       "      <td>605020</td>\n",
       "      <td>N永和</td>\n",
       "      <td>44.01</td>\n",
       "      <td>9.98</td>\n",
       "      <td>3.05</td>\n",
       "      <td>9.98</td>\n",
       "      <td>--</td>\n",
       "      <td>2894</td>\n",
       "      <td>...</td>\n",
       "      <td>2.68</td>\n",
       "      <td>54.13</td>\n",
       "      <td>3.62㈠</td>\n",
       "      <td>25.32</td>\n",
       "      <td>10.87</td>\n",
       "      <td>8.25</td>\n",
       "      <td>605020</td>\n",
       "      <td>--</td>\n",
       "      <td>--</td>\n",
       "      <td>--</td>\n",
       "    </tr>\n",
       "    <tr>\n",
       "      <th>3</th>\n",
       "      <td>4</td>\n",
       "      <td>20210709</td>\n",
       "      <td>300505</td>\n",
       "      <td>川金诺</td>\n",
       "      <td>20.01</td>\n",
       "      <td>28.13</td>\n",
       "      <td>4.69</td>\n",
       "      <td>28.13</td>\n",
       "      <td>--</td>\n",
       "      <td>149960</td>\n",
       "      <td>...</td>\n",
       "      <td>2.86</td>\n",
       "      <td>55.93</td>\n",
       "      <td>-0.53㈠</td>\n",
       "      <td>8.5</td>\n",
       "      <td>-2.25</td>\n",
       "      <td>-2.3</td>\n",
       "      <td>300505</td>\n",
       "      <td>--</td>\n",
       "      <td>--</td>\n",
       "      <td>--</td>\n",
       "    </tr>\n",
       "    <tr>\n",
       "      <th>4</th>\n",
       "      <td>5</td>\n",
       "      <td>20210709</td>\n",
       "      <td>300958</td>\n",
       "      <td>建工修复</td>\n",
       "      <td>20</td>\n",
       "      <td>34.2</td>\n",
       "      <td>5.7</td>\n",
       "      <td>34.2</td>\n",
       "      <td>--</td>\n",
       "      <td>130668</td>\n",
       "      <td>...</td>\n",
       "      <td>2.79</td>\n",
       "      <td>41.58</td>\n",
       "      <td>1.64㈠</td>\n",
       "      <td>20.33</td>\n",
       "      <td>8.22</td>\n",
       "      <td>7.35</td>\n",
       "      <td>300958</td>\n",
       "      <td>--</td>\n",
       "      <td>--</td>\n",
       "      <td>--</td>\n",
       "    </tr>\n",
       "  </tbody>\n",
       "</table>\n",
       "<p>5 rows × 96 columns</p>\n",
       "</div>"
      ],
      "text/plain": [
       "  原始涨幅排序        日期      代码    名称    涨幅%      现价     涨跌      买价      卖价  \\\n",
       "0      1  20210709  688305   N科德    853  105.12  94.09  105.12  105.19   \n",
       "1      2  20210709  688087   N英科  255.3   78.02  56.06   78.02   78.07   \n",
       "2      3  20210709  605020   N永和  44.01    9.98   3.05    9.98    --     \n",
       "3      4  20210709  300505   川金诺  20.01   28.13   4.69   28.13    --     \n",
       "4      5  20210709  300958  建工修复     20    34.2    5.7    34.2    --     \n",
       "\n",
       "       总量  ... 每股未分配   权益比%      净益率%   毛利率% 营业利润率%  净利润率%    交易代码   自选日  \\\n",
       "0  141447  ...  0.57  79.85     2.29㈠  44.38  28.36  25.49  688305  --     \n",
       "1  207386  ...  5.28  74.31     4.26㈠  33.65  11.64  10.33  688087  --     \n",
       "2    2894  ...  2.68  54.13     3.62㈠  25.32  10.87   8.25  605020  --     \n",
       "3  149960  ...  2.86  55.93    -0.53㈠    8.5  -2.25   -2.3  300505  --     \n",
       "4  130668  ...  2.79  41.58     1.64㈠  20.33   8.22   7.35  300958  --     \n",
       "\n",
       "    自选价 自选收益%  \n",
       "0  --    --    \n",
       "1  --    --    \n",
       "2  --    --    \n",
       "3  --    --    \n",
       "4  --    --    \n",
       "\n",
       "[5 rows x 96 columns]"
      ]
     },
     "execution_count": 3,
     "metadata": {},
     "output_type": "execute_result"
    }
   ],
   "source": [
    "stock.head()"
   ]
  },
  {
   "cell_type": "markdown",
   "id": "e16605b8-6e7e-467a-aa99-22bc72b1566d",
   "metadata": {},
   "source": [
    "2. csv,txt pandas导入\n",
    "pandas中csv与txt数据导入使用同样的函数\n",
    "``` python \n",
    "pd.read_csv()\n",
    "```\n",
    "重要参数：\n",
    "* seq:字符串，分隔符\n",
    "* index_col: 指定作为索引的列\n",
    "* usecols,skiprows,nrows：与read_exce作用相同\n",
    "以下我们以贵州省政府数据开放平台为例，下载并读取其中的csv数据，并载入pandas中"
   ]
  },
  {
   "cell_type": "code",
   "execution_count": 4,
   "id": "a6a12b06-6c38-47bc-823b-f843847436d4",
   "metadata": {
    "execution": {
     "iopub.execute_input": "2022-05-06T01:54:00.301512Z",
     "iopub.status.busy": "2022-05-06T01:54:00.299095Z",
     "iopub.status.idle": "2022-05-06T01:54:00.335277Z",
     "shell.execute_reply": "2022-05-06T01:54:00.334710Z",
     "shell.execute_reply.started": "2022-05-06T01:54:00.301477Z"
    },
    "scrolled": true,
    "tags": []
   },
   "outputs": [
    {
     "data": {
      "text/html": [
       "<div>\n",
       "<style scoped>\n",
       "    .dataframe tbody tr th:only-of-type {\n",
       "        vertical-align: middle;\n",
       "    }\n",
       "\n",
       "    .dataframe tbody tr th {\n",
       "        vertical-align: top;\n",
       "    }\n",
       "\n",
       "    .dataframe thead th {\n",
       "        text-align: right;\n",
       "    }\n",
       "</style>\n",
       "<table border=\"1\" class=\"dataframe\">\n",
       "  <thead>\n",
       "    <tr style=\"text-align: right;\">\n",
       "      <th></th>\n",
       "      <th>编号</th>\n",
       "      <th>项目名称</th>\n",
       "      <th>产业领域</th>\n",
       "      <th>产业类别</th>\n",
       "      <th>县区</th>\n",
       "      <th>投资规模(万元)</th>\n",
       "      <th>优势资源\\n(优势条件)</th>\n",
       "      <th>项目简介</th>\n",
       "      <th>联系人及\\n联系方式</th>\n",
       "      <th>备注</th>\n",
       "      <th>Unnamed: 10</th>\n",
       "    </tr>\n",
       "  </thead>\n",
       "  <tbody>\n",
       "    <tr>\n",
       "      <th>0</th>\n",
       "      <td>1</td>\n",
       "      <td>六枝特区特色食品加工项目</td>\n",
       "      <td>农业特色产业</td>\n",
       "      <td>生态畜牧业、农产品加工业</td>\n",
       "      <td>六枝特区</td>\n",
       "      <td>5000</td>\n",
       "      <td>依托六枝特区大北农、二表哥等生猪养殖基地，利用已建成的生态屠宰科技园设施。肉制品原材料在园区...</td>\n",
       "      <td>建设食品加工车间两座、综合仓库一座、食品安全检验中心一个、肉制品冷库一座，配备冷链物流车20...</td>\n",
       "      <td>扈  海15585860788</td>\n",
       "      <td>NaN</td>\n",
       "      <td>NaN</td>\n",
       "    </tr>\n",
       "    <tr>\n",
       "      <th>1</th>\n",
       "      <td>2</td>\n",
       "      <td>六枝特区生猪养殖项目</td>\n",
       "      <td>农业特色产业</td>\n",
       "      <td>生态畜牧业、农产品加工业</td>\n",
       "      <td>六枝特区</td>\n",
       "      <td>20000</td>\n",
       "      <td>一是基础条件较好。六枝特区是2003年全省确定的优质肉猪基地县之一，通过实施优质猪生产基地建...</td>\n",
       "      <td>新建存栏能繁母猪1万头的养殖场3个，建年出栏10万头以上的育肥场1个，建年出栏5万头以上的育...</td>\n",
       "      <td>李兴达13698589936</td>\n",
       "      <td>NaN</td>\n",
       "      <td>NaN</td>\n",
       "    </tr>\n",
       "    <tr>\n",
       "      <th>2</th>\n",
       "      <td>3</td>\n",
       "      <td>六枝特区生态渔业养殖项目</td>\n",
       "      <td>农业特色产业</td>\n",
       "      <td>生态渔业、农产品加工业</td>\n",
       "      <td>六枝特区</td>\n",
       "      <td>20000</td>\n",
       "      <td>六枝特区地处亚热带季风气候，属三岔河及北盘江上游的分水岭地带，境内河流分别归入长江和珠江流域...</td>\n",
       "      <td>六枝特区范围内独立或共管水域，实行生态放养有利于净化水质的鱼苗，每年根据投苗量、水质监测标准...</td>\n",
       "      <td>王  琼13595879246</td>\n",
       "      <td>NaN</td>\n",
       "      <td>NaN</td>\n",
       "    </tr>\n",
       "    <tr>\n",
       "      <th>3</th>\n",
       "      <td>4</td>\n",
       "      <td>贵州六枝现代生态循环农业项目</td>\n",
       "      <td>农业特色产业</td>\n",
       "      <td>食用菌（休闲农业）</td>\n",
       "      <td>六枝特区</td>\n",
       "      <td>11000</td>\n",
       "      <td>基地内配套有露天堆场、材料仓库、生产车间、无尘室、栽培库房、食用菌专用棚、锅炉房、宿舍、工具...</td>\n",
       "      <td>土地流转面积500亩，林下食用菌套种改造160亩，休闲区40亩，总建筑面积219058.67...</td>\n",
       "      <td>吴玉冰18768768683</td>\n",
       "      <td>NaN</td>\n",
       "      <td>NaN</td>\n",
       "    </tr>\n",
       "    <tr>\n",
       "      <th>4</th>\n",
       "      <td>5</td>\n",
       "      <td>林下经济综合产业旅游示范园区项目</td>\n",
       "      <td>农业特色产业</td>\n",
       "      <td>食用菌（休闲农业）</td>\n",
       "      <td>六枝特区</td>\n",
       "      <td>40000</td>\n",
       "      <td>六枝特区建成不同规模食用菌基地28个，建成标准化大棚674个，培育食用菌经营主体27个，产业...</td>\n",
       "      <td>建设1000亩林下菌种植基地，同时配套山鸡养殖、科普教育、研发、林下旅游等产业，从而推动林下...</td>\n",
       "      <td>王琼13595879246</td>\n",
       "      <td>NaN</td>\n",
       "      <td>NaN</td>\n",
       "    </tr>\n",
       "    <tr>\n",
       "      <th>5</th>\n",
       "      <td>6</td>\n",
       "      <td>盘州市标准化规模养羊场建设项目</td>\n",
       "      <td>农业特色产业</td>\n",
       "      <td>生态畜牧业、农产品加工业</td>\n",
       "      <td>盘州市</td>\n",
       "      <td>20000</td>\n",
       "      <td>已经完成项目各种相关手续，养殖场基地已经基础设施建设。</td>\n",
       "      <td>建设完善年出栏2500只标准化养羊场20个，共计投入2亿元，其中每个场投入1000万元。充分...</td>\n",
       "      <td>李仲佰13595883933</td>\n",
       "      <td>NaN</td>\n",
       "      <td>NaN</td>\n",
       "    </tr>\n",
       "    <tr>\n",
       "      <th>6</th>\n",
       "      <td>7</td>\n",
       "      <td>贵州苗医苗药文化产业园建设项目项目</td>\n",
       "      <td>农业特色产业</td>\n",
       "      <td>中药材、农产品加工业</td>\n",
       "      <td>盘州市</td>\n",
       "      <td>4000</td>\n",
       "      <td>依托苗医苗药，创建“贵州苗十三”品牌项目建设内容。当前，厂房建设已经基本完工，第一期计划建设...</td>\n",
       "      <td>项目规划建设用地40亩。计划建4条生产线。分别是粉剂消毒剂生产线及；液体消毒剂生产线；乳剂生...</td>\n",
       "      <td>余  婧 13888225370</td>\n",
       "      <td>NaN</td>\n",
       "      <td>NaN</td>\n",
       "    </tr>\n",
       "    <tr>\n",
       "      <th>7</th>\n",
       "      <td>8</td>\n",
       "      <td>盘州市茶旅游一体化建设项目</td>\n",
       "      <td>其它</td>\n",
       "      <td>现代物流业（农业）、休闲农业</td>\n",
       "      <td>盘州市</td>\n",
       "      <td>20000</td>\n",
       "      <td>已经完成种植项目各种相关手续，基地已经建成，大部分可以采茶，预计年产值2.5亿元。</td>\n",
       "      <td>利用现有8万亩茶叶种植基地，进一步完善仓储、保鲜等设施，按照茶旅一体化发展思路，建农旅一体化...</td>\n",
       "      <td>李仲佰13595883933</td>\n",
       "      <td>NaN</td>\n",
       "      <td>NaN</td>\n",
       "    </tr>\n",
       "    <tr>\n",
       "      <th>8</th>\n",
       "      <td>9</td>\n",
       "      <td>水城区黔味蜜代加工厂</td>\n",
       "      <td>农业特色产业</td>\n",
       "      <td>其他、休闲农业</td>\n",
       "      <td>水城区</td>\n",
       "      <td>790</td>\n",
       "      <td>已建有一条蜂蜜加工自动化生产线，一个精密仪器检测实验室，一个蜂文化展览馆，两个总容量超过20...</td>\n",
       "      <td>建设年产200吨蜂蜜加工厂1座，蜂蜜文化展示中心1个、综合楼1座，共占地19亩。</td>\n",
       "      <td>张  芳15585814784 0858 6318188</td>\n",
       "      <td>NaN</td>\n",
       "      <td>NaN</td>\n",
       "    </tr>\n",
       "    <tr>\n",
       "      <th>9</th>\n",
       "      <td>10</td>\n",
       "      <td>六盘水市芳香产业项目</td>\n",
       "      <td>农业特色产业</td>\n",
       "      <td>茶叶、休闲农业</td>\n",
       "      <td>水城区</td>\n",
       "      <td>180000</td>\n",
       "      <td>六盘水有非常好的茶园种植基础，合适的气候、优美的自然景观，具备打造出特色小镇的潜力。以花香入...</td>\n",
       "      <td>芳香花卉高标准选种育种、种植基地（土地、灌溉水电）；花香入茶，芳香花卉，初加工工厂（晾晒、烘...</td>\n",
       "      <td>赵  印18985490026</td>\n",
       "      <td>NaN</td>\n",
       "      <td>NaN</td>\n",
       "    </tr>\n",
       "    <tr>\n",
       "      <th>10</th>\n",
       "      <td>11</td>\n",
       "      <td>生猪全产业链</td>\n",
       "      <td>农业特色产业</td>\n",
       "      <td>生态畜牧业、农产品加工业</td>\n",
       "      <td>钟山区</td>\n",
       "      <td>1000</td>\n",
       "      <td>生猪养殖基础较好，且规模化程度较高，但缺乏大型龙头企业带动，猪肉不能满足当地市场需求，有很好...</td>\n",
       "      <td>引进企业建设年产10万头生猪养殖场1个，其中包括育肥猪场和种猪场，肉食品加工厂1个，占地面积...</td>\n",
       "      <td>赵  娇15086007137</td>\n",
       "      <td>NaN</td>\n",
       "      <td>NaN</td>\n",
       "    </tr>\n",
       "    <tr>\n",
       "      <th>11</th>\n",
       "      <td>12</td>\n",
       "      <td>六枝特区农产品批发市场建设项目</td>\n",
       "      <td>其它</td>\n",
       "      <td>现代物流业（农业）</td>\n",
       "      <td>六枝特区</td>\n",
       "      <td>42000</td>\n",
       "      <td>六枝特区猕猴桃种植有4万亩基地，蔬菜播面21.5万亩，产量32.25万吨，六枝特区农产品批发...</td>\n",
       "      <td>项目占地227亩，现有冷藏库、保鲜库、农产品检验检测中心、批发交易大棚、电子结算等配套的设备...</td>\n",
       "      <td>李兴达13698589936</td>\n",
       "      <td>NaN</td>\n",
       "      <td>NaN</td>\n",
       "    </tr>\n",
       "    <tr>\n",
       "      <th>12</th>\n",
       "      <td>13</td>\n",
       "      <td>六枝特区牛场乡辣椒加工厂项目</td>\n",
       "      <td>农业特色产业</td>\n",
       "      <td>辣椒、农产品加工业</td>\n",
       "      <td>六枝特区</td>\n",
       "      <td>5153</td>\n",
       "      <td>牛场辣椒已获得国家地理标志产品，在省内外小有名气。以牛场乡为中心，辐射新场、梭戛和新华等乡镇...</td>\n",
       "      <td>以牛场乡为中心，辐射新场、梭戛和新华等乡镇。建设辣椒加工厂1座，修建办公楼、食堂、污水处理等...</td>\n",
       "      <td>何  静\\n18798713364</td>\n",
       "      <td>NaN</td>\n",
       "      <td>NaN</td>\n",
       "    </tr>\n",
       "    <tr>\n",
       "      <th>13</th>\n",
       "      <td>14</td>\n",
       "      <td>“盘县火腿”商贸物流中心项目</td>\n",
       "      <td>其它</td>\n",
       "      <td>现代物流业（农业）</td>\n",
       "      <td>盘州市</td>\n",
       "      <td>50000</td>\n",
       "      <td>“盘县火腿”是国家地理标志产品，也是中欧互认农产品。</td>\n",
       "      <td>项目规划面积120亩，建“盘县火腿”精深加工区和火腿商贸物流区。拟建火腿精深加工厂1座，计划...</td>\n",
       "      <td>李仲佰13595883933</td>\n",
       "      <td>NaN</td>\n",
       "      <td>NaN</td>\n",
       "    </tr>\n",
       "    <tr>\n",
       "      <th>14</th>\n",
       "      <td>15</td>\n",
       "      <td>水城区现代物流中心建设项目</td>\n",
       "      <td>其他</td>\n",
       "      <td>现代物流业（农业）</td>\n",
       "      <td>水城区</td>\n",
       "      <td>37500</td>\n",
       "      <td>水城区属于北亚热带季风气候区，空气湿润，光照适宜，雨热同期，冬暖夏凉，城区与乡镇的道路基本完...</td>\n",
       "      <td>项目占地约135亩，新建6000吨气调保鲜库2座14000平方米、冷链物流车40台、物流仓储...</td>\n",
       "      <td>李  丽13195181158</td>\n",
       "      <td>NaN</td>\n",
       "      <td>NaN</td>\n",
       "    </tr>\n",
       "    <tr>\n",
       "      <th>15</th>\n",
       "      <td>16</td>\n",
       "      <td>六枝特区优质茶叶全产业链提升改造项目</td>\n",
       "      <td>农业特色产业</td>\n",
       "      <td>茶叶、农产品加工业</td>\n",
       "      <td>六枝特区</td>\n",
       "      <td>15000</td>\n",
       "      <td>该项目现有茶叶原料生产基地38000亩，茶园种植的茶树品种有福鼎、小叶苦丁、白茶、金观音、黄...</td>\n",
       "      <td>提级改造茶园3万亩（为期两年，对六枝特区天香茶叶有限公司、贵州天水茶业发展有限公司、六盘水振...</td>\n",
       "      <td>陈  欢 1898538698</td>\n",
       "      <td>NaN</td>\n",
       "      <td>NaN</td>\n",
       "    </tr>\n",
       "    <tr>\n",
       "      <th>16</th>\n",
       "      <td>17</td>\n",
       "      <td>六枝大用食用菌产业基地建设项目</td>\n",
       "      <td>农业特色产业</td>\n",
       "      <td>食用菌</td>\n",
       "      <td>六枝特区</td>\n",
       "      <td>8300</td>\n",
       "      <td>六枝特区位于贵州省西部、六盘水市东部，全年平均气温14.5℃，冬无严寒，夏无酷暑，全年适宜食...</td>\n",
       "      <td>项目选址六枝特区大用镇大用村，建设大棚菇架120000平方米、菇架基础300立方米、冷库房8...</td>\n",
       "      <td>郭  迁\\n13638584507</td>\n",
       "      <td>NaN</td>\n",
       "      <td>NaN</td>\n",
       "    </tr>\n",
       "    <tr>\n",
       "      <th>17</th>\n",
       "      <td>18</td>\n",
       "      <td>六枝特区120万羽蛋鸡养殖场建设项目</td>\n",
       "      <td>农业特色产业</td>\n",
       "      <td>生态家禽</td>\n",
       "      <td>六枝特区</td>\n",
       "      <td>24000</td>\n",
       "      <td>项目选址位于中国凉都六盘水市六枝特区新窑镇新窑村杨家坡，属亚热带季风气候，温暖湿润。项目区位...</td>\n",
       "      <td>项目规划用地230亩，新建育雏舍8栋、生产蛋鸡舍24栋及饲料仓库、饲料加工、蛋库等相应的配套...</td>\n",
       "      <td>金万银 15761636459</td>\n",
       "      <td>NaN</td>\n",
       "      <td>NaN</td>\n",
       "    </tr>\n",
       "    <tr>\n",
       "      <th>18</th>\n",
       "      <td>19</td>\n",
       "      <td>六枝特区生态肉牛产业化推进项目</td>\n",
       "      <td>农业特色产业</td>\n",
       "      <td>牛羊</td>\n",
       "      <td>六枝特区</td>\n",
       "      <td>18860</td>\n",
       "      <td>六枝特区发展肉牛产业时间长，是贵州省肉牛产业发展重点县，资源丰富，冬无严寒，夏无酷暑，有利于...</td>\n",
       "      <td>新建2000头标准育肥场1个（20000平方米）及其基础设施配套；收购500头规模养殖场5个...</td>\n",
       "      <td>杨  芳15908586782</td>\n",
       "      <td>NaN</td>\n",
       "      <td>NaN</td>\n",
       "    </tr>\n",
       "    <tr>\n",
       "      <th>19</th>\n",
       "      <td>20</td>\n",
       "      <td>六枝特区月亮河林下食用菌种植及深加工项目</td>\n",
       "      <td>农业特色产业</td>\n",
       "      <td>食用菌、农产品加工业</td>\n",
       "      <td>六枝特区</td>\n",
       "      <td>3000</td>\n",
       "      <td>该项目以发展林下仿野生食用菌种植、菌产品加工、生态农庄为主。目前，已申请注册“鸿霖山”商标1...</td>\n",
       "      <td>发展林下食用菌基地2000余亩，建食用菌餐饮文化体验馆及产品展示厅面积500平方米，配套建设...</td>\n",
       "      <td>邹德荣\\n13595827798</td>\n",
       "      <td>NaN</td>\n",
       "      <td>NaN</td>\n",
       "    </tr>\n",
       "    <tr>\n",
       "      <th>20</th>\n",
       "      <td>21</td>\n",
       "      <td>六枝特区魔芋产业种植项目</td>\n",
       "      <td>农业特色产业</td>\n",
       "      <td>其他</td>\n",
       "      <td>六枝特区</td>\n",
       "      <td>14000</td>\n",
       "      <td>木岗镇、牛场地理、气候、温度等条件均满足魔芋种植生长条件，交通便利。木岗镇附近建有高铁站及高...</td>\n",
       "      <td>建设内容：在六枝特区木岗镇把仕村集中连片种植2000亩以上魔芋，牛场乡集中连片种植5000亩...</td>\n",
       "      <td>罗  余15285521093</td>\n",
       "      <td>NaN</td>\n",
       "      <td>NaN</td>\n",
       "    </tr>\n",
       "    <tr>\n",
       "      <th>21</th>\n",
       "      <td>22</td>\n",
       "      <td>盘州市小黄姜精深加工项目</td>\n",
       "      <td>农业特色产业</td>\n",
       "      <td>蔬菜、农产品加工业</td>\n",
       "      <td>盘州市</td>\n",
       "      <td>9200</td>\n",
       "      <td>盘州生姜全年种植面积约10万亩，产地盘州市自然气候宜人，全年平均气温为15.2°C，年均无霜...</td>\n",
       "      <td>项目占地面积28亩，建筑面积23000平方米，建设生产姜辣素10吨/年、姜油500吨/年、姜...</td>\n",
       "      <td>许家隆13385169988</td>\n",
       "      <td>NaN</td>\n",
       "      <td>NaN</td>\n",
       "    </tr>\n",
       "    <tr>\n",
       "      <th>22</th>\n",
       "      <td>23</td>\n",
       "      <td>盘州市特色农产品产地初加工建设项目</td>\n",
       "      <td>农业特色产业</td>\n",
       "      <td>其他、农产品加工业</td>\n",
       "      <td>盘州市</td>\n",
       "      <td>15000</td>\n",
       "      <td>生姜、红米、苦荞、魔芋、中药材等特色资源丰富、产业发展基础好，预计年产值1.5亿元。</td>\n",
       "      <td>盘州市特色农产品（含生姜、红米、苦荞、魔芋、中药材等）产地初加工基地5个，每个基地规划建设面...</td>\n",
       "      <td>李仲佰13595883933</td>\n",
       "      <td>NaN</td>\n",
       "      <td>NaN</td>\n",
       "    </tr>\n",
       "    <tr>\n",
       "      <th>23</th>\n",
       "      <td>24</td>\n",
       "      <td>盘州市软籽石榴产业现代化发展项目</td>\n",
       "      <td>农业特色产业</td>\n",
       "      <td>水果</td>\n",
       "      <td>盘州市</td>\n",
       "      <td>15000</td>\n",
       "      <td>盘州市已种植软籽石榴10.67万亩，分布于17个乡镇、95个合作社，覆盖农户3.75万户，2...</td>\n",
       "      <td>主要为节水灌溉（水肥一体化）、废弃物有机肥处理、育苗育种温室、数字化系统、软籽石榴分选及软籽...</td>\n",
       "      <td>汤  丽15885935294</td>\n",
       "      <td>NaN</td>\n",
       "      <td>NaN</td>\n",
       "    </tr>\n",
       "    <tr>\n",
       "      <th>24</th>\n",
       "      <td>25</td>\n",
       "      <td>盘州市食用油产业提质增效项目</td>\n",
       "      <td>农业特色产业</td>\n",
       "      <td>其他、农产品加工业</td>\n",
       "      <td>盘州市</td>\n",
       "      <td>10000</td>\n",
       "      <td>平台公司已经完成项目各种相关手续，基地已经建成、大部分开始挂果。</td>\n",
       "      <td>依托盘州市元宝枫、油茶等基地，充分发挥现有加工产能、创建知名品牌1个，完善仓储、保鲜、初加工...</td>\n",
       "      <td>李仲佰13595883933</td>\n",
       "      <td>NaN</td>\n",
       "      <td>NaN</td>\n",
       "    </tr>\n",
       "    <tr>\n",
       "      <th>25</th>\n",
       "      <td>26</td>\n",
       "      <td>盘州市能繁母牛基地建设项目</td>\n",
       "      <td>农业特色产业</td>\n",
       "      <td>生态畜牧业</td>\n",
       "      <td>盘州市</td>\n",
       "      <td>50000</td>\n",
       "      <td>平台公司已经完成项目各种相关手续，已完成养殖场基地基础设施建设。</td>\n",
       "      <td>建设总规模1万头的能繁母牛养殖场20个，每个养殖场规划面积100亩，养殖能繁母牛500头。</td>\n",
       "      <td>李仲佰13595883933</td>\n",
       "      <td>NaN</td>\n",
       "      <td>NaN</td>\n",
       "    </tr>\n",
       "    <tr>\n",
       "      <th>26</th>\n",
       "      <td>27</td>\n",
       "      <td>盘州市120万羽生态蛋鸡养殖建设项目(二期)</td>\n",
       "      <td>农业特色产业</td>\n",
       "      <td>生态家禽</td>\n",
       "      <td>盘州市</td>\n",
       "      <td>20000</td>\n",
       "      <td>盘州市地处滇黔桂三省区结合部，是贵州省的西大门，位于六盘水市西南部，是云贵交通、能源、商贸、...</td>\n",
       "      <td>项目占地面积约200余亩，拟建设120万羽（饲养蛋鸡约90万羽，后备鸡约30万羽）高标准现代...</td>\n",
       "      <td>李文举13765728687</td>\n",
       "      <td>NaN</td>\n",
       "      <td>NaN</td>\n",
       "    </tr>\n",
       "    <tr>\n",
       "      <th>27</th>\n",
       "      <td>28</td>\n",
       "      <td>盘州市生猪养殖项目（二期）</td>\n",
       "      <td>农业特色产业</td>\n",
       "      <td>生猪</td>\n",
       "      <td>盘州市</td>\n",
       "      <td>40000</td>\n",
       "      <td>盘州市地处滇黔桂三省区结合部，是贵州省的西大门，位于六盘水市西南部，是云贵交通、能源、商贸、...</td>\n",
       "      <td>建设存栏6000头及以上能繁母猪种猪场。并配套建设相应的育肥场、有机肥加工厂、饲料厂各1座。</td>\n",
       "      <td>李文举13765728687</td>\n",
       "      <td>NaN</td>\n",
       "      <td>NaN</td>\n",
       "    </tr>\n",
       "    <tr>\n",
       "      <th>28</th>\n",
       "      <td>29</td>\n",
       "      <td>盘州市刺梨果渣饲料加工高效绿色循环开发利用项</td>\n",
       "      <td>农业特色产业</td>\n",
       "      <td>刺梨、农产品加工业</td>\n",
       "      <td>盘州市</td>\n",
       "      <td>10000</td>\n",
       "      <td>已经建有刺梨加工厂4家、原材料丰富，预计年产值1.5亿元。</td>\n",
       "      <td>年加工刺梨果渣50000吨，每年可为养殖业提供优质绿色安全饲料产品30000吨，作为盘州市刺...</td>\n",
       "      <td>李仲佰13595883933</td>\n",
       "      <td>NaN</td>\n",
       "      <td>NaN</td>\n",
       "    </tr>\n",
       "    <tr>\n",
       "      <th>29</th>\n",
       "      <td>30</td>\n",
       "      <td>盘州市香菇种植及初加工基地建设项目</td>\n",
       "      <td>农业特色产业</td>\n",
       "      <td>食用菌</td>\n",
       "      <td>盘州市</td>\n",
       "      <td>12000</td>\n",
       "      <td>盘州市已获批省级食用菌产业联合体建设，食用菌产业基础良好，气候适宜。</td>\n",
       "      <td>项目选址在盘州市两河街道，拟选址200亩，新建年产香菇1500万棒、茶树菇300万棒、大球盖...</td>\n",
       "      <td>杨  帅\\n13238534899</td>\n",
       "      <td>NaN</td>\n",
       "      <td>NaN</td>\n",
       "    </tr>\n",
       "    <tr>\n",
       "      <th>30</th>\n",
       "      <td>31</td>\n",
       "      <td>盘州市辣椒示范基地建设项目</td>\n",
       "      <td>农业特色产业</td>\n",
       "      <td>辣椒</td>\n",
       "      <td>盘州市</td>\n",
       "      <td>3000</td>\n",
       "      <td>盘州市地处滇黔桂三省区结合部，是贵州省的西大门，位于六盘水市西南部，是云贵交通、能源、商贸、...</td>\n",
       "      <td>建设规模化辣椒示范种植基地4000亩、建设冷链仓储设施一套、建设包装线1条。</td>\n",
       "      <td>李  强13885835893</td>\n",
       "      <td>NaN</td>\n",
       "      <td>NaN</td>\n",
       "    </tr>\n",
       "    <tr>\n",
       "      <th>31</th>\n",
       "      <td>32</td>\n",
       "      <td>民主镇茶产品交易中心及深加工项目</td>\n",
       "      <td>农业特色产业</td>\n",
       "      <td>茶叶、农产品加工业</td>\n",
       "      <td>盘州市</td>\n",
       "      <td>3200</td>\n",
       "      <td>当地茶叶资源丰富，交通快捷，四周无公害、无污染，投资环境优势明显。符合项目建设规模、内容和特...</td>\n",
       "      <td>项目总占地面积为50亩，总建筑面积为14500平方米，产品为绿茶、红茶、茶酒、茶饮料，年产绿...</td>\n",
       "      <td>李仲佰13595883933</td>\n",
       "      <td>NaN</td>\n",
       "      <td>NaN</td>\n",
       "    </tr>\n",
       "    <tr>\n",
       "      <th>32</th>\n",
       "      <td>33</td>\n",
       "      <td>盘州红米绿色高效产业化促进项目</td>\n",
       "      <td>农业特色产业</td>\n",
       "      <td>其他、农产品加工业</td>\n",
       "      <td>盘州市</td>\n",
       "      <td>5000</td>\n",
       "      <td>“盘州红米”是国家地理标志产品，现有种植面积2万余亩。</td>\n",
       "      <td>计划在依泥、旧营、新民等乡（镇）与贵州省农科院水稻所合作，共建150亩的特色红米育苗基地，创...</td>\n",
       "      <td>周彩霞13885855808</td>\n",
       "      <td>NaN</td>\n",
       "      <td>NaN</td>\n",
       "    </tr>\n",
       "    <tr>\n",
       "      <th>33</th>\n",
       "      <td>34</td>\n",
       "      <td>盘州市哒啦仙谷食用菌建设建设项目</td>\n",
       "      <td>农业特色产业</td>\n",
       "      <td>食用菌、农产品加工业</td>\n",
       "      <td>盘州市</td>\n",
       "      <td>10000</td>\n",
       "      <td>该地已成功申报贵州省产业化联合体项目，食用菌产业基础完善。</td>\n",
       "      <td>以哒啦仙谷现有资源为主要基地，建设食用菌菌种研发中心，形成一个博士工作站，实现年产200万棒...</td>\n",
       "      <td>李仲佰13595883933</td>\n",
       "      <td>NaN</td>\n",
       "      <td>NaN</td>\n",
       "    </tr>\n",
       "    <tr>\n",
       "      <th>34</th>\n",
       "      <td>35</td>\n",
       "      <td>水城区富硒茶饮料生产项目</td>\n",
       "      <td>农业特色产业</td>\n",
       "      <td>茶叶、农产品加工业</td>\n",
       "      <td>水城区</td>\n",
       "      <td>10000</td>\n",
       "      <td>水城区已种植茶叶8.6万亩，可采摘面积5万亩，其中项目建设规划区核心区种植面积3.5万亩。</td>\n",
       "      <td>综合利用水城区富硒茶及水资源，建设加工厂房主体20000平方米和富硒茶饮料生产线4条，年产茶...</td>\n",
       "      <td>王文军18285848282</td>\n",
       "      <td>NaN</td>\n",
       "      <td>NaN</td>\n",
       "    </tr>\n",
       "    <tr>\n",
       "      <th>35</th>\n",
       "      <td>36</td>\n",
       "      <td>铁皮石斛附生茶树生态栽培提升改造项目</td>\n",
       "      <td>农业特色产业</td>\n",
       "      <td>茶叶</td>\n",
       "      <td>水城区</td>\n",
       "      <td>25805</td>\n",
       "      <td>项目区属于喀斯特地貌地区和亚热带季风气候区，具有冬无严寒、夏无酷暑，降水丰富、雨热同季等特点...</td>\n",
       "      <td>铁皮石斛附生茶树生态栽培提升改造5080亩，分为炼苗区80亩和生态铁皮石斛附生茶种植基地50...</td>\n",
       "      <td>沈  琦18685882320</td>\n",
       "      <td>NaN</td>\n",
       "      <td>NaN</td>\n",
       "    </tr>\n",
       "    <tr>\n",
       "      <th>36</th>\n",
       "      <td>37</td>\n",
       "      <td>水城富硒茶种植及系列产品加工项目</td>\n",
       "      <td>农业特色产业</td>\n",
       "      <td>茶叶、农产品加工业、休闲农业</td>\n",
       "      <td>水城区</td>\n",
       "      <td>35000</td>\n",
       "      <td>水城区已种植茶叶8.6万亩，可采摘面积5万亩，其中项目建设规划区核心区种植面积3.4万亩。</td>\n",
       "      <td>改造提升现有茶叶基地，建设年产5000吨茶叶深加工厂1个，占地约60亩。依托茶园打造农旅综合...</td>\n",
       "      <td>邓用斌13595896467</td>\n",
       "      <td>NaN</td>\n",
       "      <td>NaN</td>\n",
       "    </tr>\n",
       "    <tr>\n",
       "      <th>37</th>\n",
       "      <td>38</td>\n",
       "      <td>水城区茶叶精深加工厂建设</td>\n",
       "      <td>农业特色产业</td>\n",
       "      <td>茶叶、农产品加工业</td>\n",
       "      <td>水城区</td>\n",
       "      <td>10000</td>\n",
       "      <td>水城区已种植茶叶8.6万亩，可采摘面积5万亩，其中项目建设规划区核心区种植面积3.5万亩。</td>\n",
       "      <td>实施奶茶原料、茶饮料、茶保健品等研发，建设精深工厂房5000平方米以及相关加工机械设备采购，...</td>\n",
       "      <td>邓用斌13595896467</td>\n",
       "      <td>NaN</td>\n",
       "      <td>NaN</td>\n",
       "    </tr>\n",
       "    <tr>\n",
       "      <th>38</th>\n",
       "      <td>39</td>\n",
       "      <td>水城区猕猴桃深加工厂建设项目</td>\n",
       "      <td>农业特色产业</td>\n",
       "      <td>水果、农产品加工业</td>\n",
       "      <td>水城区</td>\n",
       "      <td>20000</td>\n",
       "      <td>水城区种植猕猴桃10万余亩，生产出的果品品质佳，具有较强的竞争优势，是红心猕猴桃生产的最佳适...</td>\n",
       "      <td>建设猕猴桃果干、果汁等加工厂11000平方米，猕猴桃分选线4条。</td>\n",
       "      <td>肖  春15286656946</td>\n",
       "      <td>NaN</td>\n",
       "      <td>NaN</td>\n",
       "    </tr>\n",
       "    <tr>\n",
       "      <th>39</th>\n",
       "      <td>40</td>\n",
       "      <td>水城区中药材产业园项目</td>\n",
       "      <td>农业特色产业</td>\n",
       "      <td>中药材、农产品加工业</td>\n",
       "      <td>水城区</td>\n",
       "      <td>35000</td>\n",
       "      <td>六盘水市水城区属北亚热带季风气候，降水量充沛，冬无严寒，夏无酷暑，雨量充沛，气候宜人，无霜期...</td>\n",
       "      <td>林下种植3万亩、大田种植1万亩，新建中药材加工厂1座及冷链物流3万平方米。</td>\n",
       "      <td>陆国荣15599522166</td>\n",
       "      <td>NaN</td>\n",
       "      <td>NaN</td>\n",
       "    </tr>\n",
       "    <tr>\n",
       "      <th>40</th>\n",
       "      <td>41</td>\n",
       "      <td>水城区林下中药材产业项目</td>\n",
       "      <td>农业特色产业</td>\n",
       "      <td>中药材</td>\n",
       "      <td>水城区</td>\n",
       "      <td>5000</td>\n",
       "      <td>水城区拥有得天独厚的气候、资源和区位优势，发展中药材产业，宏观政策有利、资源优势明显、产业基...</td>\n",
       "      <td>结合水城区道地特色中药材品种，发展林下中药材8000亩；建设中药材育苗大棚35000平方米，...</td>\n",
       "      <td>陆国龙15599522166</td>\n",
       "      <td>NaN</td>\n",
       "      <td>NaN</td>\n",
       "    </tr>\n",
       "    <tr>\n",
       "      <th>41</th>\n",
       "      <td>42</td>\n",
       "      <td>水城区2021年生猪标准化规模养殖项目</td>\n",
       "      <td>农业特色产业</td>\n",
       "      <td>生猪</td>\n",
       "      <td>水城区</td>\n",
       "      <td>48000</td>\n",
       "      <td>水城区交通便利，生猪产业链基本完善，有生猪屠宰厂、有机肥厂、在建的无害化集中处理设施等，由政...</td>\n",
       "      <td>计划建设年出栏猪苗20万头种猪场1个，建设年出栏30万头生猪的养殖圈舍1个。</td>\n",
       "      <td>毛忠选\\n18985914458</td>\n",
       "      <td>NaN</td>\n",
       "      <td>NaN</td>\n",
       "    </tr>\n",
       "    <tr>\n",
       "      <th>42</th>\n",
       "      <td>43</td>\n",
       "      <td>水城县区桃花鸡养殖项目</td>\n",
       "      <td>农业特色产业</td>\n",
       "      <td>生态家禽</td>\n",
       "      <td>水城区</td>\n",
       "      <td>48600</td>\n",
       "      <td>水城区农林投的桃花鸡养殖项目位于六盘水市水城区，这里冬无严寒，夏无酷暑，气候宜人。项目的8个...</td>\n",
       "      <td>在水城区建设13个标准化蛋鸡产业养殖小区，自动化养殖鸡舍88栋。其中，种鸡养殖小区1个，育雏...</td>\n",
       "      <td>杨朝昆\\n13595880625</td>\n",
       "      <td>NaN</td>\n",
       "      <td>NaN</td>\n",
       "    </tr>\n",
       "    <tr>\n",
       "      <th>43</th>\n",
       "      <td>44</td>\n",
       "      <td>水城区食用菌精深加工厂</td>\n",
       "      <td>农业特色产业</td>\n",
       "      <td>食用菌、农产品加工业</td>\n",
       "      <td>水城区</td>\n",
       "      <td>15000</td>\n",
       "      <td>水城区已建成食用菌种菌场2个，年生产菌棒2亿棒，食用菌不仅具有独特的风味，且营养价值高，它是...</td>\n",
       "      <td>建设食用菌精深加工厂一个配套基础设施建设。</td>\n",
       "      <td>林  畅15685830068</td>\n",
       "      <td>NaN</td>\n",
       "      <td>NaN</td>\n",
       "    </tr>\n",
       "    <tr>\n",
       "      <th>44</th>\n",
       "      <td>45</td>\n",
       "      <td>水城县食用菌全产业链项目</td>\n",
       "      <td>农业特色产业</td>\n",
       "      <td>食用菌</td>\n",
       "      <td>水城县</td>\n",
       "      <td>30000</td>\n",
       "      <td>2018年以来，水城县已投资4.7亿元推进食用菌产业建设，围绕食用菌菌种研发、菌棒生产、基地...</td>\n",
       "      <td>建设野生菌和仿野生栽培食用菌基地5万亩，建设大宗食用菌烘干、分级、包装等初级加工生产线及罐头...</td>\n",
       "      <td>程  雷\\n18188083980</td>\n",
       "      <td>NaN</td>\n",
       "      <td>NaN</td>\n",
       "    </tr>\n",
       "    <tr>\n",
       "      <th>45</th>\n",
       "      <td>46</td>\n",
       "      <td>钟山区蔬菜设施农业发展项目</td>\n",
       "      <td>农业特色产业</td>\n",
       "      <td>蔬菜</td>\n",
       "      <td>钟山区</td>\n",
       "      <td>5000</td>\n",
       "      <td>钟山区是六盘水市中心城区，地理位置优越，平均海拔1800米左右，交通便利。</td>\n",
       "      <td>利用现代农业技术与工程技术的集成（主要建设高标准蔬菜大棚），获得速生、高产、优质的蔬菜产品，...</td>\n",
       "      <td>强奉群19984586537</td>\n",
       "      <td>NaN</td>\n",
       "      <td>NaN</td>\n",
       "    </tr>\n",
       "    <tr>\n",
       "      <th>46</th>\n",
       "      <td>47</td>\n",
       "      <td>钟山区菌干、萝卜干生产加工项目</td>\n",
       "      <td>农业特色产业</td>\n",
       "      <td>蔬菜</td>\n",
       "      <td>钟山区</td>\n",
       "      <td>5000</td>\n",
       "      <td>钟山区是六盘水市中心城区，地理位置优越，平均海拔1801米左右，交通便利。</td>\n",
       "      <td>项目选址位于水月园区，地理位置优越，同时，钟山区大力发展北部五乡镇食用菌及山地有机蔬菜的种植...</td>\n",
       "      <td>强奉群19984586537</td>\n",
       "      <td>NaN</td>\n",
       "      <td>NaN</td>\n",
       "    </tr>\n",
       "    <tr>\n",
       "      <th>47</th>\n",
       "      <td>48</td>\n",
       "      <td>凉都“弥你红”鲜果加工技术改造提升项目</td>\n",
       "      <td>农业特色产业</td>\n",
       "      <td>水果、农产品加工业</td>\n",
       "      <td>高新区</td>\n",
       "      <td>10000</td>\n",
       "      <td>已建成5000吨果酒、2000吨饮料生产线各一条。</td>\n",
       "      <td>新增猕猴桃蒸馏酒（白兰地）产能1000吨、猕猴桃饮料清汁产能500吨、提高污水处理能力，满足...</td>\n",
       "      <td>张  毅13329688799</td>\n",
       "      <td>NaN</td>\n",
       "      <td>NaN</td>\n",
       "    </tr>\n",
       "    <tr>\n",
       "      <th>48</th>\n",
       "      <td>49</td>\n",
       "      <td>盘州生态刺梨循环综合利用建设项目（二期）</td>\n",
       "      <td>农业产业</td>\n",
       "      <td>刺梨</td>\n",
       "      <td>盘州市</td>\n",
       "      <td>102000</td>\n",
       "      <td>刺梨,为野生小灌木，为蔷薇科多年生落叶灌木缫丝花的果实，果皮上密生小肉刺，俗称之为“刺梨”。...</td>\n",
       "      <td>项目总用地面积约588.8亩，约392535平方米。\\n项目主要建设内容包括：刺梨加工部分及...</td>\n",
       "      <td>邹  雷 13116379722</td>\n",
       "      <td>NaN</td>\n",
       "      <td>NaN</td>\n",
       "    </tr>\n",
       "    <tr>\n",
       "      <th>49</th>\n",
       "      <td>50</td>\n",
       "      <td>刺梨产业集群</td>\n",
       "      <td>农业</td>\n",
       "      <td>刺梨</td>\n",
       "      <td>盘州市</td>\n",
       "      <td>11000</td>\n",
       "      <td>利用盘州刺梨产业优势资源，深圳市星润控股集团有限公司拟与公司开展刺梨产业集群项目，打造刺梨高...</td>\n",
       "      <td>（一）建设内容：\\n1.乡村振兴经济体制刺梨高端制造产业园；\\n2.刺梨新兴产业发展基金；\\...</td>\n",
       "      <td>蒋泽波\\n18785851585</td>\n",
       "      <td>NaN</td>\n",
       "      <td>NaN</td>\n",
       "    </tr>\n",
       "    <tr>\n",
       "      <th>50</th>\n",
       "      <td>51</td>\n",
       "      <td>刺梨果酒加工厂</td>\n",
       "      <td>农业</td>\n",
       "      <td>刺梨</td>\n",
       "      <td>六枝特区</td>\n",
       "      <td>12000</td>\n",
       "      <td>贵州酒现在在全国市场很受欢迎，依拖贵州白酒在全国的知名度，打造一个刺梨高度白酒、刺梨果酒、刺...</td>\n",
       "      <td>拟定刺梨果酒厂建设面积20亩，刺梨高度白酒生产线一条、刺梨果酒生产线一条、刺梨气泡酒生产线一条。</td>\n",
       "      <td>张福琼15597848666</td>\n",
       "      <td>NaN</td>\n",
       "      <td>NaN</td>\n",
       "    </tr>\n",
       "    <tr>\n",
       "      <th>51</th>\n",
       "      <td>52</td>\n",
       "      <td>贵州黔洲实业有限公司盘州市刺梨深加工建设项目</td>\n",
       "      <td>农业</td>\n",
       "      <td>刺梨</td>\n",
       "      <td>盘州市</td>\n",
       "      <td>5800</td>\n",
       "      <td>本项目位于全省刺梨种植面积最大县区盘州市，全县种植刺梨60万亩，拥有充足的原材料保障，本项目...</td>\n",
       "      <td>贵州黔洲实业有限公司盘州刺梨深加工建设项目预期建成产能3.6万吨刺梨循环深加工项目，通过刺梨...</td>\n",
       "      <td>张志兴18184344111</td>\n",
       "      <td>NaN</td>\n",
       "      <td>NaN</td>\n",
       "    </tr>\n",
       "    <tr>\n",
       "      <th>52</th>\n",
       "      <td>53</td>\n",
       "      <td>六盘水市供销商贸生猪全产业链项目</td>\n",
       "      <td>农业特色产业</td>\n",
       "      <td>生态畜牧业、农产品加工业</td>\n",
       "      <td>钟山区</td>\n",
       "      <td>3900</td>\n",
       "      <td>国企控股+社会资本参股的新型现代化企业，构建六盘水市中心城区核心仓，以生猪二次育肥体系、屠宰...</td>\n",
       "      <td>生猪全产业链拓展项目围绕集团“五台五化”发展战略，以生猪批发及白条猪散户批发作为市场终端体系...</td>\n",
       "      <td>刘天强\\n15685830923</td>\n",
       "      <td>NaN</td>\n",
       "      <td>NaN</td>\n",
       "    </tr>\n",
       "    <tr>\n",
       "      <th>53</th>\n",
       "      <td>54</td>\n",
       "      <td>六盘水高山冷凉蔬菜基地项目</td>\n",
       "      <td>农业特色产业</td>\n",
       "      <td>蔬菜</td>\n",
       "      <td>钟山区</td>\n",
       "      <td>2500</td>\n",
       "      <td>基地占地规模720.17亩，配备生态低位水池、机耕道、喷淋灌管网设施、电力设施、基地VI识别...</td>\n",
       "      <td>六盘水市供销商贸集团高山冷凉蔬菜示范种植基地位于六枝特区郎岱镇，地处交通线上，素有六枝特区南...</td>\n",
       "      <td>刘天强\\n15685830923</td>\n",
       "      <td>NaN</td>\n",
       "      <td>NaN</td>\n",
       "    </tr>\n",
       "  </tbody>\n",
       "</table>\n",
       "</div>"
      ],
      "text/plain": [
       "    编号                    项目名称    产业领域            产业类别    县区  投资规模(万元)  \\\n",
       "0    1          六枝特区特色食品加工项目    农业特色产业    生态畜牧业、农产品加工业  六枝特区      5000   \n",
       "1    2              六枝特区生猪养殖项目  农业特色产业    生态畜牧业、农产品加工业  六枝特区     20000   \n",
       "2    3            六枝特区生态渔业养殖项目  农业特色产业     生态渔业、农产品加工业  六枝特区     20000   \n",
       "3    4          贵州六枝现代生态循环农业项目  农业特色产业       食用菌（休闲农业）  六枝特区     11000   \n",
       "4    5        林下经济综合产业旅游示范园区项目  农业特色产业       食用菌（休闲农业）  六枝特区     40000   \n",
       "5    6         盘州市标准化规模养羊场建设项目  农业特色产业    生态畜牧业、农产品加工业   盘州市     20000   \n",
       "6    7       贵州苗医苗药文化产业园建设项目项目  农业特色产业      中药材、农产品加工业   盘州市      4000   \n",
       "7    8           盘州市茶旅游一体化建设项目      其它  现代物流业（农业）、休闲农业   盘州市     20000   \n",
       "8    9              水城区黔味蜜代加工厂  农业特色产业         其他、休闲农业   水城区       790   \n",
       "9   10              六盘水市芳香产业项目  农业特色产业         茶叶、休闲农业   水城区    180000   \n",
       "10  11                  生猪全产业链  农业特色产业    生态畜牧业、农产品加工业   钟山区      1000   \n",
       "11  12         六枝特区农产品批发市场建设项目      其它       现代物流业（农业）  六枝特区     42000   \n",
       "12  13          六枝特区牛场乡辣椒加工厂项目  农业特色产业       辣椒、农产品加工业  六枝特区      5153   \n",
       "13  14          “盘县火腿”商贸物流中心项目      其它       现代物流业（农业）   盘州市     50000   \n",
       "14  15           水城区现代物流中心建设项目      其他       现代物流业（农业）   水城区     37500   \n",
       "15  16      六枝特区优质茶叶全产业链提升改造项目  农业特色产业       茶叶、农产品加工业  六枝特区     15000   \n",
       "16  17         六枝大用食用菌产业基地建设项目  农业特色产业             食用菌  六枝特区      8300   \n",
       "17  18      六枝特区120万羽蛋鸡养殖场建设项目  农业特色产业            生态家禽  六枝特区     24000   \n",
       "18  19         六枝特区生态肉牛产业化推进项目  农业特色产业              牛羊  六枝特区     18860   \n",
       "19  20    六枝特区月亮河林下食用菌种植及深加工项目  农业特色产业      食用菌、农产品加工业  六枝特区      3000   \n",
       "20  21            六枝特区魔芋产业种植项目  农业特色产业              其他  六枝特区     14000   \n",
       "21  22            盘州市小黄姜精深加工项目  农业特色产业       蔬菜、农产品加工业   盘州市      9200   \n",
       "22  23       盘州市特色农产品产地初加工建设项目  农业特色产业       其他、农产品加工业   盘州市     15000   \n",
       "23  24        盘州市软籽石榴产业现代化发展项目  农业特色产业              水果   盘州市     15000   \n",
       "24  25          盘州市食用油产业提质增效项目  农业特色产业       其他、农产品加工业   盘州市     10000   \n",
       "25  26           盘州市能繁母牛基地建设项目  农业特色产业           生态畜牧业   盘州市     50000   \n",
       "26  27  盘州市120万羽生态蛋鸡养殖建设项目(二期)  农业特色产业            生态家禽   盘州市     20000   \n",
       "27  28           盘州市生猪养殖项目（二期）  农业特色产业              生猪   盘州市     40000   \n",
       "28  29  盘州市刺梨果渣饲料加工高效绿色循环开发利用项  农业特色产业       刺梨、农产品加工业   盘州市     10000   \n",
       "29  30       盘州市香菇种植及初加工基地建设项目  农业特色产业             食用菌   盘州市     12000   \n",
       "30  31           盘州市辣椒示范基地建设项目  农业特色产业              辣椒   盘州市      3000   \n",
       "31  32        民主镇茶产品交易中心及深加工项目  农业特色产业       茶叶、农产品加工业   盘州市      3200   \n",
       "32  33         盘州红米绿色高效产业化促进项目  农业特色产业       其他、农产品加工业   盘州市      5000   \n",
       "33  34        盘州市哒啦仙谷食用菌建设建设项目  农业特色产业      食用菌、农产品加工业   盘州市     10000   \n",
       "34  35            水城区富硒茶饮料生产项目  农业特色产业       茶叶、农产品加工业   水城区     10000   \n",
       "35  36      铁皮石斛附生茶树生态栽培提升改造项目  农业特色产业              茶叶   水城区     25805   \n",
       "36  37        水城富硒茶种植及系列产品加工项目  农业特色产业  茶叶、农产品加工业、休闲农业   水城区     35000   \n",
       "37  38            水城区茶叶精深加工厂建设  农业特色产业       茶叶、农产品加工业   水城区     10000   \n",
       "38  39          水城区猕猴桃深加工厂建设项目  农业特色产业       水果、农产品加工业   水城区     20000   \n",
       "39  40             水城区中药材产业园项目  农业特色产业      中药材、农产品加工业   水城区     35000   \n",
       "40  41            水城区林下中药材产业项目  农业特色产业             中药材   水城区      5000   \n",
       "41  42     水城区2021年生猪标准化规模养殖项目  农业特色产业              生猪   水城区     48000   \n",
       "42  43             水城县区桃花鸡养殖项目  农业特色产业            生态家禽   水城区     48600   \n",
       "43  44             水城区食用菌精深加工厂  农业特色产业      食用菌、农产品加工业   水城区     15000   \n",
       "44  45            水城县食用菌全产业链项目  农业特色产业             食用菌   水城县     30000   \n",
       "45  46           钟山区蔬菜设施农业发展项目  农业特色产业              蔬菜   钟山区      5000   \n",
       "46  47         钟山区菌干、萝卜干生产加工项目  农业特色产业              蔬菜   钟山区      5000   \n",
       "47  48     凉都“弥你红”鲜果加工技术改造提升项目  农业特色产业       水果、农产品加工业   高新区     10000   \n",
       "48  49    盘州生态刺梨循环综合利用建设项目（二期）    农业产业              刺梨   盘州市    102000   \n",
       "49  50                  刺梨产业集群      农业              刺梨   盘州市     11000   \n",
       "50  51                 刺梨果酒加工厂      农业              刺梨  六枝特区     12000   \n",
       "51  52  贵州黔洲实业有限公司盘州市刺梨深加工建设项目      农业              刺梨   盘州市      5800   \n",
       "52  53        六盘水市供销商贸生猪全产业链项目  农业特色产业    生态畜牧业、农产品加工业   钟山区      3900   \n",
       "53  54           六盘水高山冷凉蔬菜基地项目  农业特色产业              蔬菜   钟山区      2500   \n",
       "\n",
       "                                         优势资源\\n(优势条件)  \\\n",
       "0   依托六枝特区大北农、二表哥等生猪养殖基地，利用已建成的生态屠宰科技园设施。肉制品原材料在园区...   \n",
       "1   一是基础条件较好。六枝特区是2003年全省确定的优质肉猪基地县之一，通过实施优质猪生产基地建...   \n",
       "2   六枝特区地处亚热带季风气候，属三岔河及北盘江上游的分水岭地带，境内河流分别归入长江和珠江流域...   \n",
       "3   基地内配套有露天堆场、材料仓库、生产车间、无尘室、栽培库房、食用菌专用棚、锅炉房、宿舍、工具...   \n",
       "4   六枝特区建成不同规模食用菌基地28个，建成标准化大棚674个，培育食用菌经营主体27个，产业...   \n",
       "5                         已经完成项目各种相关手续，养殖场基地已经基础设施建设。   \n",
       "6   依托苗医苗药，创建“贵州苗十三”品牌项目建设内容。当前，厂房建设已经基本完工，第一期计划建设...   \n",
       "7           已经完成种植项目各种相关手续，基地已经建成，大部分可以采茶，预计年产值2.5亿元。   \n",
       "8   已建有一条蜂蜜加工自动化生产线，一个精密仪器检测实验室，一个蜂文化展览馆，两个总容量超过20...   \n",
       "9   六盘水有非常好的茶园种植基础，合适的气候、优美的自然景观，具备打造出特色小镇的潜力。以花香入...   \n",
       "10  生猪养殖基础较好，且规模化程度较高，但缺乏大型龙头企业带动，猪肉不能满足当地市场需求，有很好...   \n",
       "11  六枝特区猕猴桃种植有4万亩基地，蔬菜播面21.5万亩，产量32.25万吨，六枝特区农产品批发...   \n",
       "12  牛场辣椒已获得国家地理标志产品，在省内外小有名气。以牛场乡为中心，辐射新场、梭戛和新华等乡镇...   \n",
       "13                         “盘县火腿”是国家地理标志产品，也是中欧互认农产品。   \n",
       "14  水城区属于北亚热带季风气候区，空气湿润，光照适宜，雨热同期，冬暖夏凉，城区与乡镇的道路基本完...   \n",
       "15  该项目现有茶叶原料生产基地38000亩，茶园种植的茶树品种有福鼎、小叶苦丁、白茶、金观音、黄...   \n",
       "16  六枝特区位于贵州省西部、六盘水市东部，全年平均气温14.5℃，冬无严寒，夏无酷暑，全年适宜食...   \n",
       "17  项目选址位于中国凉都六盘水市六枝特区新窑镇新窑村杨家坡，属亚热带季风气候，温暖湿润。项目区位...   \n",
       "18  六枝特区发展肉牛产业时间长，是贵州省肉牛产业发展重点县，资源丰富，冬无严寒，夏无酷暑，有利于...   \n",
       "19  该项目以发展林下仿野生食用菌种植、菌产品加工、生态农庄为主。目前，已申请注册“鸿霖山”商标1...   \n",
       "20  木岗镇、牛场地理、气候、温度等条件均满足魔芋种植生长条件，交通便利。木岗镇附近建有高铁站及高...   \n",
       "21  盘州生姜全年种植面积约10万亩，产地盘州市自然气候宜人，全年平均气温为15.2°C，年均无霜...   \n",
       "22         生姜、红米、苦荞、魔芋、中药材等特色资源丰富、产业发展基础好，预计年产值1.5亿元。   \n",
       "23  盘州市已种植软籽石榴10.67万亩，分布于17个乡镇、95个合作社，覆盖农户3.75万户，2...   \n",
       "24                   平台公司已经完成项目各种相关手续，基地已经建成、大部分开始挂果。   \n",
       "25                   平台公司已经完成项目各种相关手续，已完成养殖场基地基础设施建设。   \n",
       "26  盘州市地处滇黔桂三省区结合部，是贵州省的西大门，位于六盘水市西南部，是云贵交通、能源、商贸、...   \n",
       "27  盘州市地处滇黔桂三省区结合部，是贵州省的西大门，位于六盘水市西南部，是云贵交通、能源、商贸、...   \n",
       "28                      已经建有刺梨加工厂4家、原材料丰富，预计年产值1.5亿元。   \n",
       "29                 盘州市已获批省级食用菌产业联合体建设，食用菌产业基础良好，气候适宜。   \n",
       "30  盘州市地处滇黔桂三省区结合部，是贵州省的西大门，位于六盘水市西南部，是云贵交通、能源、商贸、...   \n",
       "31  当地茶叶资源丰富，交通快捷，四周无公害、无污染，投资环境优势明显。符合项目建设规模、内容和特...   \n",
       "32                        “盘州红米”是国家地理标志产品，现有种植面积2万余亩。   \n",
       "33                      该地已成功申报贵州省产业化联合体项目，食用菌产业基础完善。   \n",
       "34      水城区已种植茶叶8.6万亩，可采摘面积5万亩，其中项目建设规划区核心区种植面积3.5万亩。   \n",
       "35  项目区属于喀斯特地貌地区和亚热带季风气候区，具有冬无严寒、夏无酷暑，降水丰富、雨热同季等特点...   \n",
       "36      水城区已种植茶叶8.6万亩，可采摘面积5万亩，其中项目建设规划区核心区种植面积3.4万亩。   \n",
       "37      水城区已种植茶叶8.6万亩，可采摘面积5万亩，其中项目建设规划区核心区种植面积3.5万亩。   \n",
       "38  水城区种植猕猴桃10万余亩，生产出的果品品质佳，具有较强的竞争优势，是红心猕猴桃生产的最佳适...   \n",
       "39  六盘水市水城区属北亚热带季风气候，降水量充沛，冬无严寒，夏无酷暑，雨量充沛，气候宜人，无霜期...   \n",
       "40  水城区拥有得天独厚的气候、资源和区位优势，发展中药材产业，宏观政策有利、资源优势明显、产业基...   \n",
       "41  水城区交通便利，生猪产业链基本完善，有生猪屠宰厂、有机肥厂、在建的无害化集中处理设施等，由政...   \n",
       "42  水城区农林投的桃花鸡养殖项目位于六盘水市水城区，这里冬无严寒，夏无酷暑，气候宜人。项目的8个...   \n",
       "43  水城区已建成食用菌种菌场2个，年生产菌棒2亿棒，食用菌不仅具有独特的风味，且营养价值高，它是...   \n",
       "44  2018年以来，水城县已投资4.7亿元推进食用菌产业建设，围绕食用菌菌种研发、菌棒生产、基地...   \n",
       "45              钟山区是六盘水市中心城区，地理位置优越，平均海拔1800米左右，交通便利。   \n",
       "46              钟山区是六盘水市中心城区，地理位置优越，平均海拔1801米左右，交通便利。   \n",
       "47                          已建成5000吨果酒、2000吨饮料生产线各一条。   \n",
       "48  刺梨,为野生小灌木，为蔷薇科多年生落叶灌木缫丝花的果实，果皮上密生小肉刺，俗称之为“刺梨”。...   \n",
       "49  利用盘州刺梨产业优势资源，深圳市星润控股集团有限公司拟与公司开展刺梨产业集群项目，打造刺梨高...   \n",
       "50  贵州酒现在在全国市场很受欢迎，依拖贵州白酒在全国的知名度，打造一个刺梨高度白酒、刺梨果酒、刺...   \n",
       "51  本项目位于全省刺梨种植面积最大县区盘州市，全县种植刺梨60万亩，拥有充足的原材料保障，本项目...   \n",
       "52  国企控股+社会资本参股的新型现代化企业，构建六盘水市中心城区核心仓，以生猪二次育肥体系、屠宰...   \n",
       "53  基地占地规模720.17亩，配备生态低位水池、机耕道、喷淋灌管网设施、电力设施、基地VI识别...   \n",
       "\n",
       "                                                 项目简介  \\\n",
       "0   建设食品加工车间两座、综合仓库一座、食品安全检验中心一个、肉制品冷库一座，配备冷链物流车20...   \n",
       "1   新建存栏能繁母猪1万头的养殖场3个，建年出栏10万头以上的育肥场1个，建年出栏5万头以上的育...   \n",
       "2   六枝特区范围内独立或共管水域，实行生态放养有利于净化水质的鱼苗，每年根据投苗量、水质监测标准...   \n",
       "3   土地流转面积500亩，林下食用菌套种改造160亩，休闲区40亩，总建筑面积219058.67...   \n",
       "4   建设1000亩林下菌种植基地，同时配套山鸡养殖、科普教育、研发、林下旅游等产业，从而推动林下...   \n",
       "5   建设完善年出栏2500只标准化养羊场20个，共计投入2亿元，其中每个场投入1000万元。充分...   \n",
       "6   项目规划建设用地40亩。计划建4条生产线。分别是粉剂消毒剂生产线及；液体消毒剂生产线；乳剂生...   \n",
       "7   利用现有8万亩茶叶种植基地，进一步完善仓储、保鲜等设施，按照茶旅一体化发展思路，建农旅一体化...   \n",
       "8            建设年产200吨蜂蜜加工厂1座，蜂蜜文化展示中心1个、综合楼1座，共占地19亩。   \n",
       "9   芳香花卉高标准选种育种、种植基地（土地、灌溉水电）；花香入茶，芳香花卉，初加工工厂（晾晒、烘...   \n",
       "10  引进企业建设年产10万头生猪养殖场1个，其中包括育肥猪场和种猪场，肉食品加工厂1个，占地面积...   \n",
       "11  项目占地227亩，现有冷藏库、保鲜库、农产品检验检测中心、批发交易大棚、电子结算等配套的设备...   \n",
       "12  以牛场乡为中心，辐射新场、梭戛和新华等乡镇。建设辣椒加工厂1座，修建办公楼、食堂、污水处理等...   \n",
       "13  项目规划面积120亩，建“盘县火腿”精深加工区和火腿商贸物流区。拟建火腿精深加工厂1座，计划...   \n",
       "14  项目占地约135亩，新建6000吨气调保鲜库2座14000平方米、冷链物流车40台、物流仓储...   \n",
       "15  提级改造茶园3万亩（为期两年，对六枝特区天香茶叶有限公司、贵州天水茶业发展有限公司、六盘水振...   \n",
       "16  项目选址六枝特区大用镇大用村，建设大棚菇架120000平方米、菇架基础300立方米、冷库房8...   \n",
       "17  项目规划用地230亩，新建育雏舍8栋、生产蛋鸡舍24栋及饲料仓库、饲料加工、蛋库等相应的配套...   \n",
       "18  新建2000头标准育肥场1个（20000平方米）及其基础设施配套；收购500头规模养殖场5个...   \n",
       "19  发展林下食用菌基地2000余亩，建食用菌餐饮文化体验馆及产品展示厅面积500平方米，配套建设...   \n",
       "20  建设内容：在六枝特区木岗镇把仕村集中连片种植2000亩以上魔芋，牛场乡集中连片种植5000亩...   \n",
       "21  项目占地面积28亩，建筑面积23000平方米，建设生产姜辣素10吨/年、姜油500吨/年、姜...   \n",
       "22  盘州市特色农产品（含生姜、红米、苦荞、魔芋、中药材等）产地初加工基地5个，每个基地规划建设面...   \n",
       "23  主要为节水灌溉（水肥一体化）、废弃物有机肥处理、育苗育种温室、数字化系统、软籽石榴分选及软籽...   \n",
       "24  依托盘州市元宝枫、油茶等基地，充分发挥现有加工产能、创建知名品牌1个，完善仓储、保鲜、初加工...   \n",
       "25      建设总规模1万头的能繁母牛养殖场20个，每个养殖场规划面积100亩，养殖能繁母牛500头。   \n",
       "26  项目占地面积约200余亩，拟建设120万羽（饲养蛋鸡约90万羽，后备鸡约30万羽）高标准现代...   \n",
       "27     建设存栏6000头及以上能繁母猪种猪场。并配套建设相应的育肥场、有机肥加工厂、饲料厂各1座。   \n",
       "28  年加工刺梨果渣50000吨，每年可为养殖业提供优质绿色安全饲料产品30000吨，作为盘州市刺...   \n",
       "29  项目选址在盘州市两河街道，拟选址200亩，新建年产香菇1500万棒、茶树菇300万棒、大球盖...   \n",
       "30             建设规模化辣椒示范种植基地4000亩、建设冷链仓储设施一套、建设包装线1条。   \n",
       "31  项目总占地面积为50亩，总建筑面积为14500平方米，产品为绿茶、红茶、茶酒、茶饮料，年产绿...   \n",
       "32  计划在依泥、旧营、新民等乡（镇）与贵州省农科院水稻所合作，共建150亩的特色红米育苗基地，创...   \n",
       "33  以哒啦仙谷现有资源为主要基地，建设食用菌菌种研发中心，形成一个博士工作站，实现年产200万棒...   \n",
       "34  综合利用水城区富硒茶及水资源，建设加工厂房主体20000平方米和富硒茶饮料生产线4条，年产茶...   \n",
       "35  铁皮石斛附生茶树生态栽培提升改造5080亩，分为炼苗区80亩和生态铁皮石斛附生茶种植基地50...   \n",
       "36  改造提升现有茶叶基地，建设年产5000吨茶叶深加工厂1个，占地约60亩。依托茶园打造农旅综合...   \n",
       "37  实施奶茶原料、茶饮料、茶保健品等研发，建设精深工厂房5000平方米以及相关加工机械设备采购，...   \n",
       "38                   建设猕猴桃果干、果汁等加工厂11000平方米，猕猴桃分选线4条。   \n",
       "39              林下种植3万亩、大田种植1万亩，新建中药材加工厂1座及冷链物流3万平方米。   \n",
       "40  结合水城区道地特色中药材品种，发展林下中药材8000亩；建设中药材育苗大棚35000平方米，...   \n",
       "41             计划建设年出栏猪苗20万头种猪场1个，建设年出栏30万头生猪的养殖圈舍1个。   \n",
       "42  在水城区建设13个标准化蛋鸡产业养殖小区，自动化养殖鸡舍88栋。其中，种鸡养殖小区1个，育雏...   \n",
       "43                              建设食用菌精深加工厂一个配套基础设施建设。   \n",
       "44  建设野生菌和仿野生栽培食用菌基地5万亩，建设大宗食用菌烘干、分级、包装等初级加工生产线及罐头...   \n",
       "45  利用现代农业技术与工程技术的集成（主要建设高标准蔬菜大棚），获得速生、高产、优质的蔬菜产品，...   \n",
       "46  项目选址位于水月园区，地理位置优越，同时，钟山区大力发展北部五乡镇食用菌及山地有机蔬菜的种植...   \n",
       "47  新增猕猴桃蒸馏酒（白兰地）产能1000吨、猕猴桃饮料清汁产能500吨、提高污水处理能力，满足...   \n",
       "48  项目总用地面积约588.8亩，约392535平方米。\\n项目主要建设内容包括：刺梨加工部分及...   \n",
       "49  （一）建设内容：\\n1.乡村振兴经济体制刺梨高端制造产业园；\\n2.刺梨新兴产业发展基金；\\...   \n",
       "50   拟定刺梨果酒厂建设面积20亩，刺梨高度白酒生产线一条、刺梨果酒生产线一条、刺梨气泡酒生产线一条。   \n",
       "51  贵州黔洲实业有限公司盘州刺梨深加工建设项目预期建成产能3.6万吨刺梨循环深加工项目，通过刺梨...   \n",
       "52  生猪全产业链拓展项目围绕集团“五台五化”发展战略，以生猪批发及白条猪散户批发作为市场终端体系...   \n",
       "53  六盘水市供销商贸集团高山冷凉蔬菜示范种植基地位于六枝特区郎岱镇，地处交通线上，素有六枝特区南...   \n",
       "\n",
       "                      联系人及\\n联系方式  备注  Unnamed: 10  \n",
       "0                扈  海15585860788 NaN          NaN  \n",
       "1                 李兴达13698589936 NaN          NaN  \n",
       "2                王  琼13595879246 NaN          NaN  \n",
       "3                 吴玉冰18768768683 NaN          NaN  \n",
       "4                  王琼13595879246 NaN          NaN  \n",
       "5                 李仲佰13595883933 NaN          NaN  \n",
       "6               余  婧 13888225370 NaN          NaN  \n",
       "7                 李仲佰13595883933 NaN          NaN  \n",
       "8   张  芳15585814784 0858 6318188 NaN          NaN  \n",
       "9                赵  印18985490026 NaN          NaN  \n",
       "10               赵  娇15086007137 NaN          NaN  \n",
       "11                李兴达13698589936 NaN          NaN  \n",
       "12             何  静\\n18798713364 NaN          NaN  \n",
       "13                李仲佰13595883933 NaN          NaN  \n",
       "14               李  丽13195181158 NaN          NaN  \n",
       "15               陈  欢 1898538698 NaN          NaN  \n",
       "16             郭  迁\\n13638584507 NaN          NaN  \n",
       "17               金万银 15761636459 NaN          NaN  \n",
       "18               杨  芳15908586782 NaN          NaN  \n",
       "19              邹德荣\\n13595827798 NaN          NaN  \n",
       "20               罗  余15285521093 NaN          NaN  \n",
       "21                许家隆13385169988 NaN          NaN  \n",
       "22                李仲佰13595883933 NaN          NaN  \n",
       "23               汤  丽15885935294 NaN          NaN  \n",
       "24                李仲佰13595883933 NaN          NaN  \n",
       "25                李仲佰13595883933 NaN          NaN  \n",
       "26                李文举13765728687 NaN          NaN  \n",
       "27                李文举13765728687 NaN          NaN  \n",
       "28                李仲佰13595883933 NaN          NaN  \n",
       "29             杨  帅\\n13238534899 NaN          NaN  \n",
       "30               李  强13885835893 NaN          NaN  \n",
       "31                李仲佰13595883933 NaN          NaN  \n",
       "32                周彩霞13885855808 NaN          NaN  \n",
       "33                李仲佰13595883933 NaN          NaN  \n",
       "34                王文军18285848282 NaN          NaN  \n",
       "35               沈  琦18685882320 NaN          NaN  \n",
       "36                邓用斌13595896467 NaN          NaN  \n",
       "37                邓用斌13595896467 NaN          NaN  \n",
       "38               肖  春15286656946 NaN          NaN  \n",
       "39                陆国荣15599522166 NaN          NaN  \n",
       "40                陆国龙15599522166 NaN          NaN  \n",
       "41              毛忠选\\n18985914458 NaN          NaN  \n",
       "42              杨朝昆\\n13595880625 NaN          NaN  \n",
       "43               林  畅15685830068 NaN          NaN  \n",
       "44             程  雷\\n18188083980 NaN          NaN  \n",
       "45                强奉群19984586537 NaN          NaN  \n",
       "46                强奉群19984586537 NaN          NaN  \n",
       "47               张  毅13329688799 NaN          NaN  \n",
       "48              邹  雷 13116379722 NaN          NaN  \n",
       "49              蒋泽波\\n18785851585 NaN          NaN  \n",
       "50                张福琼15597848666 NaN          NaN  \n",
       "51                张志兴18184344111 NaN          NaN  \n",
       "52              刘天强\\n15685830923 NaN          NaN  \n",
       "53              刘天强\\n15685830923 NaN          NaN  "
      ]
     },
     "execution_count": 4,
     "metadata": {},
     "output_type": "execute_result"
    }
   ],
   "source": [
    "import pandas as pd \n",
    "df=pd.read_csv('data/openData/guizhoudata.csv',encoding='gbk')\n",
    "df\n",
    "df2=pd.read_csv('data/openData/guizhoudata.csv',encoding='gbk',skiprows=1,nrows=54)\n",
    "#由于原始csv中第一行并不是列名，同时最后一行是合计数据，造成读取后的dataframe不规范，故可以在读取时指定参数\n",
    "df2\n"
   ]
  },
  {
   "cell_type": "markdown",
   "id": "656dba91-a53f-4248-88ee-efbc38beb30e",
   "metadata": {},
   "source": [
    "#### json数据获取\n",
    "\n",
    "回顾什么是json？（信息组织课程教学）\n",
    "* JSON 指的是 JavaScript 对象表示法（JavaScript Object Notation）JSON 是轻量级的文本数据交换格式JSON 独立于语言：\n",
    "*  JSON 使用 Javascript语法来描述数据对象，但是 JSON 仍然独立于语言和平台。* * JSON 解析器和 JSON 库支持许多不同的编程语言。 目前非常多的动态（PHP，JSP，.NET）编程语言都支持JSON。\n",
    "* JSON 具有自我描述性，更易理解\n",
    "---\n",
    "json基本语法规则：\n",
    "* 数据在名称/值对中\n",
    "* 数据由逗号分隔\n",
    "* 大括号 {} 保存对象\n",
    "* 中括号 [] 保存数组，数组可以包含多个对象\n",
    "\n",
    "> json 之所以重要，在于其不但是一种数据存储的格式，也是目前最为通用的数据交换格式（另外还包括xml）。下面的api小节中，服务器提供的数据大部分就是以json格式返回。\n",
    "\n",
    " ---\n",
    " pyhton中处理json的库由很多，包括自带的json库，同时pandas对json支撑非常友好，可以直接读取，或者通过\n",
    " \n",
    " 以下我们通过读取从[广州公共数据集数据](https://data.gz.gov.cn/odweb/catalog/catalogDetail.htm?cata_id=1978c495697f4c39baac13b3aa1479da)，以及某信息系统导出的json数据来演示其使用：\n",
    " \n"
   ]
  },
  {
   "cell_type": "code",
   "execution_count": 6,
   "id": "55a35f8b-6baa-4fc2-bbeb-54c6ddf1ab6a",
   "metadata": {
    "execution": {
     "iopub.execute_input": "2022-05-06T03:27:02.916914Z",
     "iopub.status.busy": "2022-05-06T03:27:02.915872Z",
     "iopub.status.idle": "2022-05-06T03:27:02.941309Z",
     "shell.execute_reply": "2022-05-06T03:27:02.940514Z",
     "shell.execute_reply.started": "2022-05-06T03:27:02.916879Z"
    },
    "scrolled": true,
    "tags": []
   },
   "outputs": [],
   "source": [
    "import json \n",
    "fruit=pd.read_json('data/openData/瓜果.json')\n",
    "# 但发现由于原始json文件中由嵌套值（数组）所以需要进一步的处理"
   ]
  },
  {
   "cell_type": "markdown",
   "id": "98519e4f-4431-49a8-a1ad-705f7d268c98",
   "metadata": {},
   "source": [
    "pandas 中json数据的进一步处理：\n",
    "\n",
    "对于嵌套的json，可以使用json_normalize()方法，实现内部嵌套数组的展开。"
   ]
  },
  {
   "cell_type": "code",
   "execution_count": 7,
   "id": "0e33e1b7-aa8f-4a26-9d93-b72313b3055c",
   "metadata": {
    "execution": {
     "iopub.execute_input": "2022-05-06T03:27:15.001085Z",
     "iopub.status.busy": "2022-05-06T03:27:14.999302Z",
     "iopub.status.idle": "2022-05-06T03:27:15.013466Z",
     "shell.execute_reply": "2022-05-06T03:27:15.012748Z",
     "shell.execute_reply.started": "2022-05-06T03:27:15.001054Z"
    },
    "scrolled": true
   },
   "outputs": [
    {
     "data": {
      "text/html": [
       "<div>\n",
       "<style scoped>\n",
       "    .dataframe tbody tr th:only-of-type {\n",
       "        vertical-align: middle;\n",
       "    }\n",
       "\n",
       "    .dataframe tbody tr th {\n",
       "        vertical-align: top;\n",
       "    }\n",
       "\n",
       "    .dataframe thead th {\n",
       "        text-align: right;\n",
       "    }\n",
       "</style>\n",
       "<table border=\"1\" class=\"dataframe\">\n",
       "  <thead>\n",
       "    <tr style=\"text-align: right;\">\n",
       "      <th></th>\n",
       "      <th>data</th>\n",
       "    </tr>\n",
       "  </thead>\n",
       "  <tbody>\n",
       "    <tr>\n",
       "      <th>0</th>\n",
       "      <td>{'LSJ': '14.5', 'JLDW': '元/公斤', 'PZ': '香梨', 'U...</td>\n",
       "    </tr>\n",
       "    <tr>\n",
       "      <th>1</th>\n",
       "      <td>{'LSJ': '14.0', 'JLDW': '元/公斤', 'PZ': '潮州柑', '...</td>\n",
       "    </tr>\n",
       "    <tr>\n",
       "      <th>2</th>\n",
       "      <td>{'LSJ': '5.9', 'JLDW': '元/公斤', 'PZ': '香蕉', 'UP...</td>\n",
       "    </tr>\n",
       "    <tr>\n",
       "      <th>3</th>\n",
       "      <td>{'LSJ': '14.33', 'JLDW': '元/公斤', 'PZ': '苹果', '...</td>\n",
       "    </tr>\n",
       "    <tr>\n",
       "      <th>4</th>\n",
       "      <td>{'LSJ': '6.72', 'JLDW': '元/公斤', 'PZ': '西瓜', 'U...</td>\n",
       "    </tr>\n",
       "    <tr>\n",
       "      <th>...</th>\n",
       "      <td>...</td>\n",
       "    </tr>\n",
       "    <tr>\n",
       "      <th>8834</th>\n",
       "      <td>{'LSJ': '17.0', 'JLDW': '元/公斤', 'PZ': '香梨', 'U...</td>\n",
       "    </tr>\n",
       "    <tr>\n",
       "      <th>8835</th>\n",
       "      <td>{'LSJ': '8.0', 'JLDW': '元/公斤', 'PZ': '潮州柑', 'U...</td>\n",
       "    </tr>\n",
       "    <tr>\n",
       "      <th>8836</th>\n",
       "      <td>{'LSJ': '11.5', 'JLDW': '元/公斤', 'PZ': '哈密瓜', '...</td>\n",
       "    </tr>\n",
       "    <tr>\n",
       "      <th>8837</th>\n",
       "      <td>{'LSJ': '39.0', 'JLDW': '元/公斤', 'PZ': '红提', 'U...</td>\n",
       "    </tr>\n",
       "    <tr>\n",
       "      <th>8838</th>\n",
       "      <td>{'LSJ': '50.0', 'JLDW': '元/公斤', 'PZ': '红提', 'U...</td>\n",
       "    </tr>\n",
       "  </tbody>\n",
       "</table>\n",
       "<p>8839 rows × 1 columns</p>\n",
       "</div>"
      ],
      "text/plain": [
       "                                                   data\n",
       "0     {'LSJ': '14.5', 'JLDW': '元/公斤', 'PZ': '香梨', 'U...\n",
       "1     {'LSJ': '14.0', 'JLDW': '元/公斤', 'PZ': '潮州柑', '...\n",
       "2     {'LSJ': '5.9', 'JLDW': '元/公斤', 'PZ': '香蕉', 'UP...\n",
       "3     {'LSJ': '14.33', 'JLDW': '元/公斤', 'PZ': '苹果', '...\n",
       "4     {'LSJ': '6.72', 'JLDW': '元/公斤', 'PZ': '西瓜', 'U...\n",
       "...                                                 ...\n",
       "8834  {'LSJ': '17.0', 'JLDW': '元/公斤', 'PZ': '香梨', 'U...\n",
       "8835  {'LSJ': '8.0', 'JLDW': '元/公斤', 'PZ': '潮州柑', 'U...\n",
       "8836  {'LSJ': '11.5', 'JLDW': '元/公斤', 'PZ': '哈密瓜', '...\n",
       "8837  {'LSJ': '39.0', 'JLDW': '元/公斤', 'PZ': '红提', 'U...\n",
       "8838  {'LSJ': '50.0', 'JLDW': '元/公斤', 'PZ': '红提', 'U...\n",
       "\n",
       "[8839 rows x 1 columns]"
      ]
     },
     "execution_count": 7,
     "metadata": {},
     "output_type": "execute_result"
    }
   ],
   "source": [
    "import json \r\n",
    "\r\n",
    "fruit=pd.read_json('data/openData/瓜果.json')\r\n",
    "# 但发现由于原始json文件中由嵌套值（数组）所以需要进一步的处理"
   ]
  },
  {
   "cell_type": "markdown",
   "id": "2629c2a2-8fbe-4f95-9589-ffbd89d8c24d",
   "metadata": {},
   "source": [
    "#### api数据获取（知识图谱、数据科学方向同学选学）\n",
    "> 什么是api：\n",
    "ibm的定义：\n",
    "An application programming interface, or API, enables companies to open up their applications’ data and functionality to external third-party developers, business partners, and internal departments within their companies. This allows services and products to communicate with each other and leverage each other’s data and functionality through a documented interface. Developers don't need to know how an API is implemented; they simply use the interface to communicate with other products and services. API use has surged over the past decade, to the degree that many of the most popular web applications today would not be possible without APIs.\n",
    "---\n",
    "API 的工作步骤\n",
    "\n",
    "**How an API works**\n",
    "\n",
    "An API is a set of defined rules that explain how computers or applications communicate with one another. APIs sit between an application and the web server, acting as an intermediary layer that processes data transfer between systems.\n",
    "\n",
    "Here’s how an API works:\n",
    "\n",
    "A client application initiates an API call to retrieve information—also known as a request. This request is processed from an application to the web server via the API’s Uniform Resource Identifier (URI) and includes a request verb, headers, and sometimes, a request body.\n",
    "After receiving a valid request, the API makes a call to the external program or web server.\n",
    "The server sends a response to the API with the requested information.\n",
    "The API transfers the data to the initial requesting application.\n",
    "While the data transfer will differ depending on the web service being used, this process of requests and response all happens through an API. Whereas a user interface is designed for use by humans, APIs are designed for use by a computer or application.\n",
    "\n",
    "APIs offer security by design because their position as middleman facilitates the abstraction of functionality between two systems—the API endpoint decouples the consuming application from the infrastructure providing the service. API calls usually include authorization credentials to reduce the risk of attacks on the server, and an API gateway can limit access to minimize security threats. Also, during the exchange, HTTP headers, cookies, or query string parameters provide additional security layers to the data.\n",
    "\n",
    "For example, consider an API offered by a payment processing service. Customers can enter their card details on the frontend of an application for an ecommerce store. The payment processor doesn’t require access to the user’s bank account; the API creates a unique token for this transaction and includes it in the API call to the server. This ensures a higher level of security against potential hacking threats.\n",
    "\n",
    "**pyhton中如何使用api**\n",
    "\n",
    "了解了api的基本原理，使用python调取api数据也非常简单\n",
    "\n",
    "![](https://www.dataquest.io/wp-content/uploads/2019/09/api-request.svg)\n",
    "其基本分为两步\n",
    "1. 向远端服务器发起需求request\n",
    "2. 服务器响应请求，返回数据Data，以及状态代码（例如404）\n",
    "\n",
    "---\n",
    "**python中最常用的api库**\n",
    "\n",
    "1）requests\n",
    "\n",
    "* GET： 请求指定的页面信息，并返回实体主体。\n",
    "\n",
    "* HEAD： 只请求页面的首部。\n",
    "\n",
    "* POST： 请求服务器接受所指定的文档作为对所标识的URI的新的从属实体。\n",
    "\n",
    "* PUT： 从客户端向服务器传送的数据取代指定的文档的内容。\n",
    "\n",
    "* DELETE： 请求服务器删除指定的页面。\n",
    "\n",
    "2) urllib2\n"
   ]
  },
  {
   "cell_type": "code",
   "execution_count": null,
   "id": "18808b88-8772-4408-8f96-43e5e05c152b",
   "metadata": {
    "scrolled": true,
    "tags": []
   },
   "outputs": [],
   "source": [
    "import requests as rs\n",
    "url=\"http://www.163.com\"\n",
    "\n",
    "web_163=rs.get(url)\n",
    "print(\"访问状态：\",web_163.status_code)\n",
    "# url2=\"http://www.googdddle.com\"\n",
    "# google=rs.get(url2)\n",
    "# print(\"访问状态\",google.status_code)\n",
    "#访问阿里接口\n",
    "host = 'https://agroprice.market.alicloudapi.com'\n",
    "path = '/aliyun/market/category/detail'\n",
    "method = 'GET'\n",
    "appcode = '你自己的AppCode'\n",
    "querys = 'areaName=%E5%B2%B3%E9%BA%93%E5%8C%BA&categoryName=%E5%A4%A7%E7%B1%B3&date=2020-12-22'\n",
    "bodys = {}\n",
    "url = host + path + '?' + querys\n",
    "\n",
    "request = urllib2.Request(url)\n",
    "request.add_header('Authorization', 'APPCODE ' + appcode)\n",
    "ctx = ssl.create_default_context()\n",
    "ctx.check_hostname = False\n",
    "ctx.verify_mode = ssl.CERT_NONE\n",
    "response = urllib2.urlopen(request, context=ctx)\n",
    "content = response.read()\n",
    "if (content):\n",
    "    print(content)"
   ]
  },
  {
   "cell_type": "markdown",
   "id": "8236174a-ed3b-4bf6-a58d-2e668e754991",
   "metadata": {},
   "source": [
    "---\n",
    "\n",
    "比较有名的通用api：\n",
    " * 阿里云市场\n",
    "---\n",
    "其中国内比较有名的经济数据api包括\n",
    "\n",
    "* tushare https://tushare.pro/document/2\n",
    "\n",
    "再说说Tushare，是目前知名度比较高的免费量化数据接口，同时支持python2.x和python3.x。有比较稳定的用户群，数据经过一段时间的考验之后，比较可靠了。Tushare提供股票行情数据和基本面数据，宏观经济数据，还有龙虎榜，信息地雷，票房排行，财经新闻等功能。给用户提供了多维数据构建量化模型，还提供多种获取数据的方式。不论是初学者还是量化老鸟，都能在里面找到自己需要的信息。因为其数据是从网络实时爬取，所以需要等待一段时间，比较考验网速，另外如果原网站结构出现问题，将会导致函数失效；同时因为是全市场抓取，所以不支持单只股票的信息获取。\n",
    "\n",
    "* akshare     https://akshare.readthedocs.io/\n",
    "\n",
    "AkShare 是基于 Python 的开源金融数据接口库, 目的是实现对股票, 期货, 期权, 基金, 外汇, 债券, 指数, 数字货币等金融产品的基本面数据、实时和历史行情数据、衍生数据从数据采集, 数据清洗, 到数据落地的一套开源工具, 满足金融数据科学家, 数据科学爱好者在金融数据获取方面的需求\n",
    "\n",
    "* 证券宝 \n",
    "\n",
    " http://baostock.com/baostock/index.php/%E9%A6%96%E9%A1%B5\n",
    " "
   ]
  },
  {
   "cell_type": "code",
   "execution_count": null,
   "id": "ee44d438-b595-4e4f-b72f-c29fa204feeb",
   "metadata": {
    "scrolled": true
   },
   "outputs": [],
   "source": [
    "# 通过阿里云市场获取农产品价格数据接口"
   ]
  },
  {
   "cell_type": "markdown",
   "id": "81a2deba-5698-4161-a1b8-4356cb72f194",
   "metadata": {},
   "source": [
    "#### 集成化数据获取\n",
    "得益于python的流行，很多数据提供商，特别是"
   ]
  },
  {
   "cell_type": "markdown",
   "id": "1a1105e7-8ba3-4ca4-927e-70a8c29ec0f2",
   "metadata": {},
   "source": [
    "#### 数据库数据获取\n",
    "\n",
    "在信息系统开发，以及面向企业内部数据分析时，直接调用数据库或数据仓库的数据进行分析，是最为简便、快速的方法。有些数据库，例如sqlserver 甚至实现了在存储过程中嵌入python或r进行分析。\n",
    "\n",
    "与数据库分为关系数据库、非关系数据库等对应，python数据获取数据的方式也不同，在此，我们主要介绍关系数据库中的数据获取。"
   ]
  },
  {
   "cell_type": "markdown",
   "id": "ac40a327-de7b-42da-af99-2418413b8eec",
   "metadata": {},
   "source": [
    "RDF数据获取（知识图谱，语义网方向同学选学）"
   ]
  },
  {
   "cell_type": "markdown",
   "id": "005776ad-fa66-4d0c-9042-890ddc8319b1",
   "metadata": {},
   "source": [
    "### 数据选取"
   ]
  },
  {
   "cell_type": "markdown",
   "id": "33afdb5d-3648-43d6-a16f-f01c2307efd4",
   "metadata": {},
   "source": [
    "#### 行列"
   ]
  },
  {
   "cell_type": "markdown",
   "id": "4c713f4d-3130-4e47-821c-3cc6cfb2015e",
   "metadata": {},
   "source": [
    "#### 行列数据选取"
   ]
  },
  {
   "cell_type": "markdown",
   "id": "317493c7-0b14-4cbc-b6d6-83702f19f311",
   "metadata": {},
   "source": [
    "#### 基于条件的数据选取"
   ]
  },
  {
   "cell_type": "markdown",
   "id": "0634b219-654d-45d4-b38e-7b107f80bbcf",
   "metadata": {},
   "source": [
    "### 数据观察"
   ]
  },
  {
   "cell_type": "markdown",
   "id": "c96523c3-7f67-4f5c-bff0-9ad4948e3fe4",
   "metadata": {},
   "source": [
    "#### 基本数据观测"
   ]
  },
  {
   "cell_type": "markdown",
   "id": "1f0437b0-02e8-4407-9e95-41f311d159eb",
   "metadata": {},
   "source": [
    "#### 可视化数据观测"
   ]
  },
  {
   "cell_type": "markdown",
   "id": "74c0274f-97f8-44c5-baad-12ea464cbc1e",
   "metadata": {},
   "source": [
    "#### 一键式数据观测"
   ]
  },
  {
   "cell_type": "markdown",
   "id": "abacddd4-6684-419f-8f6f-a4b0dbb8eb1b",
   "metadata": {},
   "source": [
    "### 数据预处理"
   ]
  },
  {
   "cell_type": "markdown",
   "id": "800a5c36-0c6e-4184-a985-f3b5956bb3a2",
   "metadata": {},
   "source": [
    "#### 缺失值处理"
   ]
  },
  {
   "cell_type": "markdown",
   "id": "2eba2dca-ae86-407c-98cc-f1edf0130809",
   "metadata": {},
   "source": [
    "#### 数据标准化处理"
   ]
  },
  {
   "cell_type": "markdown",
   "id": "505cdaf8-a3b7-49d8-a49a-b85463fd480d",
   "metadata": {},
   "source": [
    "### 时间序列数据（特别章）\n",
    "\n",
    "时间序列（Time Series）数据是一类非常重要的数据。事物的发展总是伴随着时间推进，数据指标也在各个时间点上产生。时间序列（简称“时序”）是在一个时间周期内，测量值按照时间顺序变化，将这个变量与关联的时间对应而形成的一个数据序列。时序数据与我们的生活紧密相连，每天的温度变化、农作物随着时间的生长高度、物理元素随着时间的衰变、每时每刻变化的股票价格等，都会产生时序数据。Pandas具有强大的时序处理能力，被广泛应用于金融数据分析，它的诞生也是缘于金融数据分析领域的需求。本章将全面介绍Pandas在时序数据处理中的方法，主要有时间的概念、时间的计算机表示方法、时间的属性操作和时间格式转换；时间之间的数学计算、时长的意义、时长与时间的加减操作；时间偏移的概念、用途、表示方法；时间跨度的意义、表示方法、单位转换等。\n",
    "\n",
    "---\n",
    "pandas 中，时序数据可使用to_datetime方法实现多批量的日期数据转换。"
   ]
  },
  {
   "cell_type": "markdown",
   "id": "b77ecc6e-a579-4cac-87cd-ca0699abe296",
   "metadata": {},
   "source": [
    "在计算机中，时间多用时间戳来表示。时间戳（Timestamp）是指格林威治时间1970年1月1日00时00分00秒起至当下的总秒数。它是一个非常大的数字，一直在增加，如1591684854代表北京时间2020/6/9 14:40:54。那么1970年以前的时间怎么表示呢？用负数，如–1591684957代表1919/7/262:17:23。\n",
    ">Panda等python库都是建立在Python 的dtetime的基础上建立时间对象的。\n"
   ]
  },
  {
   "cell_type": "code",
   "execution_count": 41,
   "id": "b7b75dc7-389c-45a4-95fc-d75fdf208472",
   "metadata": {
    "execution": {
     "iopub.execute_input": "2022-05-04T00:51:14.395053Z",
     "iopub.status.busy": "2022-05-04T00:51:14.394406Z",
     "iopub.status.idle": "2022-05-04T00:51:14.399339Z",
     "shell.execute_reply": "2022-05-04T00:51:14.398698Z",
     "shell.execute_reply.started": "2022-05-04T00:51:14.395018Z"
    },
    "scrolled": true
   },
   "outputs": [
    {
     "name": "stdout",
     "output_type": "stream",
     "text": [
      "2022-05-04 08:51:14.396211\n"
     ]
    }
   ],
   "source": [
    "import datetime\n",
    "print(datetime.datetime.now())"
   ]
  },
  {
   "cell_type": "code",
   "execution_count": 42,
   "id": "908cf881-2555-410c-b7f4-78f0e7531d61",
   "metadata": {
    "execution": {
     "iopub.execute_input": "2022-05-04T01:00:20.561487Z",
     "iopub.status.busy": "2022-05-04T01:00:20.560936Z",
     "iopub.status.idle": "2022-05-04T01:00:20.568589Z",
     "shell.execute_reply": "2022-05-04T01:00:20.567549Z",
     "shell.execute_reply.started": "2022-05-04T01:00:20.561450Z"
    },
    "scrolled": true,
    "tags": []
   },
   "outputs": [
    {
     "name": "stdout",
     "output_type": "stream",
     "text": [
      "2000-09-05 00:00:00\n",
      "2000-05-05 16:13:22\n",
      "2000-09-06 21:00:00\n"
     ]
    }
   ],
   "source": [
    "#pandas 创建固定时间（时间点）\n",
    "import datetime \n",
    "import pandas as pd\n",
    "print(pd.Timestamp(datetime.datetime(2000,9,5)))\n",
    "print(pd.Timestamp(datetime.datetime(2000,5,5,16,13,22)))\n",
    "print(pd.Timestamp(year=2000,month=9,day=6,hour=21))\n",
    "print(pd.Timestamp())\n",
    "#时区设在\n",
    "print()"
   ]
  },
  {
   "cell_type": "markdown",
   "id": "8e1a42a0-8d04-41a2-a456-90d9f4fdab11",
   "metadata": {},
   "source": []
  },
  {
   "cell_type": "code",
   "execution_count": null,
   "id": "04ca1ccf-3ec1-4d06-8129-b7d21153a192",
   "metadata": {
    "scrolled": true
   },
   "outputs": [],
   "source": [
    "#当前时间获取"
   ]
  },
  {
   "cell_type": "markdown",
   "id": "e7960709-b4a5-4426-8f80-08c9ae467c2a",
   "metadata": {},
   "source": [
    "### 时序数据、时间数据的转换\n",
    " 将众多的固定时间组织起来就形成了时间序列，即所谓的时序数据。固定时间在时序数据中可以按照一定的频率组织，如教堂的钟声每小时整点会鸣响，从而形成一个以一个小时为周期的时间序列。也可以无规则地组织起来，如员工的上下班打卡时间，员工会上班前和下班后打卡，但这些时间一般是在上下班时间附近随机的。在数据分析中大多是周期性时序数据。"
   ]
  },
  {
   "cell_type": "markdown",
   "id": "67c26b11-e91c-4d5b-b06a-ed07810e51d0",
   "metadata": {},
   "source": [
    "#### 转换现有时间数据\n"
   ]
  },
  {
   "cell_type": "code",
   "execution_count": null,
   "id": "7bbdfa86-8219-48c2-b9f9-7e25ba085584",
   "metadata": {
    "scrolled": true
   },
   "outputs": [],
   "source": []
  },
  {
   "cell_type": "code",
   "execution_count": null,
   "id": "027e4018-941f-4e8f-88f4-970d6829050d",
   "metadata": {
    "scrolled": true
   },
   "outputs": [],
   "source": []
  }
 ],
 "metadata": {
  "kernelspec": {
   "display_name": "Python 3",
   "language": "python",
   "name": "py35-paddle1.2.0"
  },
  "language_info": {
   "codemirror_mode": {
    "name": "ipython",
    "version": 3
   },
   "file_extension": ".py",
   "mimetype": "text/x-python",
   "name": "python",
   "nbconvert_exporter": "python",
   "pygments_lexer": "ipython3",
   "version": "3.7.4"
  }
 },
 "nbformat": 4,
 "nbformat_minor": 5
}
