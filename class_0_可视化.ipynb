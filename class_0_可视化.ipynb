{
 "cells": [
  {
   "cell_type": "markdown",
   "id": "133aae03-654e-44cf-9cf6-f8698f7814a9",
   "metadata": {},
   "source": [
    "# 前言\n",
    "区别于其他信息分析与预测课程，本课首先介绍信息可视化的基础知识，而后开展其他教学，\n",
    "\n",
    "这是因为，数据分析可以说是从可视化开始，到可视化结束。初始阶段，我们需要对数据进行可视化探查，了解其基本的情况，再结合需求，指定数据清洗，信息分析方案。\n",
    "\n",
    "在完成数据分析后，向用户提交报告阶段，可视化附加文字能够为用户提供丰富、直观的解释。\n",
    "\n"
   ]
  },
  {
   "cell_type": "markdown",
   "id": "96260875-b236-4a52-a109-3cf2240555eb",
   "metadata": {},
   "source": [
    "# 课程结构"
   ]
  },
  {
   "cell_type": "code",
   "execution_count": 2,
   "id": "45fa54f9-1ff3-4b3d-aefb-aff489aff505",
   "metadata": {
    "execution": {
     "iopub.execute_input": "2022-03-09T05:27:54.262224Z",
     "iopub.status.busy": "2022-03-09T05:27:54.261790Z",
     "iopub.status.idle": "2022-03-09T05:27:54.422928Z",
     "shell.execute_reply": "2022-03-09T05:27:54.421679Z",
     "shell.execute_reply.started": "2022-03-09T05:27:54.262191Z"
    },
    "scrolled": true
   },
   "outputs": [
    {
     "data": {
      "image/png": "[encoded data removed]",
      "text/plain": [
       "<Figure size 432x288 with 1 Axes>"
      ]
     },
     "metadata": {
      "needs_background": "light"
     },
     "output_type": "display_data"
    }
   ],
   "source": [
    "### 点和线####\r\n",
    "import matplotlib.pyplot as plt\r\n",
    "x=6\r\n",
    "y=3\r\n",
    "plt.plot(x,y,'o')\r\n",
    "plt.show()"
   ]
  }
 ],
 "metadata": {
  "kernelspec": {
   "display_name": "Python 3",
   "language": "python",
   "name": "py35-paddle1.2.0"
  },
  "language_info": {
   "codemirror_mode": {
    "name": "ipython",
    "version": 3
   },
   "file_extension": ".py",
   "mimetype": "text/x-python",
   "name": "python",
   "nbconvert_exporter": "python",
   "pygments_lexer": "ipython3",
   "version": "3.7.4"
  }
 },
 "nbformat": 4,
 "nbformat_minor": 5
}
