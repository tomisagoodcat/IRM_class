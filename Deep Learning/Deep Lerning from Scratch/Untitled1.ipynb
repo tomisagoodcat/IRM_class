{
 "cells": [
  {
   "cell_type": "code",
   "execution_count": 8,
   "metadata": {},
   "outputs": [],
   "source": [
    "import numpy as np\n",
    "import matplotlib.pylab as plt\n",
    "def numerical_diff(f,x):\n",
    "    h=1e-4\n",
    "    return (f(x+h)-f(x-h))/(2*h)\n",
    "def function_1(x):\n",
    "    return 0.01*x**2+0.1*x\n",
    "import numpy as np \n",
    "import matplotlib.pylab as plt\n",
    "x=np.arange(0.0,20.0,0.1)\n",
    "y=function_1(x)\n",
    " "
   ]
  },
  {
   "cell_type": "code",
   "execution_count": 9,
   "metadata": {},
   "outputs": [
    {
     "data": {
      "image/png": "[encoded data removed]",
      "text/plain": [
       "<Figure size 432x288 with 1 Axes>"
      ]
     },
     "metadata": {
      "needs_background": "light"
     },
     "output_type": "display_data"
    }
   ],
   "source": [
    "plt.xlabel(\"x\")\n",
    "plt.ylabel(\"y\")\n",
    "plt.plot(x,y)\n",
    "plt.show()"
   ]
  },
  {
   "cell_type": "markdown",
   "metadata": {},
   "source": [
    "计算导数"
   ]
  },
  {
   "cell_type": "code",
   "execution_count": 10,
   "metadata": {},
   "outputs": [
    {
     "data": {
      "text/plain": [
       "0.1999999999990898"
      ]
     },
     "execution_count": 10,
     "metadata": {},
     "output_type": "execute_result"
    }
   ],
   "source": [
    "numerical_diff(function_1,5)"
   ]
  },
  {
   "cell_type": "code",
   "execution_count": 11,
   "metadata": {},
   "outputs": [],
   "source": [
    "\n",
    "def tangent_line(f, x):\n",
    "    d = numerical_diff(f, x)\n",
    "    print(d)\n",
    "    y = f(x) - d*x\n",
    "    return lambda t: d*t + y"
   ]
  },
  {
   "cell_type": "code",
   "execution_count": 12,
   "metadata": {},
   "outputs": [
    {
     "name": "stdout",
     "output_type": "stream",
     "text": [
      "0.1999999999990898\n"
     ]
    }
   ],
   "source": [
    "tf = tangent_line(function_1, 5)\n",
    "y2 = tf(x)"
   ]
  },
  {
   "cell_type": "code",
   "execution_count": 16,
   "metadata": {},
   "outputs": [
    {
     "data": {
      "image/png": "[encoded data removed]",
      "text/plain": [
       "<Figure size 432x288 with 1 Axes>"
      ]
     },
     "metadata": {
      "needs_background": "light"
     },
     "output_type": "display_data"
    }
   ],
   "source": [
    "plt.plot(x, y)\n",
    "plt.plot(x, y2)\n",
    "plt.show()"
   ]
  },
  {
   "cell_type": "markdown",
   "metadata": {},
   "source": [
    "梯度，求由全部变量的偏导数汇总而成的向量称为梯度（gradient）"
   ]
  },
  {
   "cell_type": "code",
   "execution_count": 23,
   "metadata": {},
   "outputs": [],
   "source": [
    "def function_2(x):\n",
    "    if x.ndim == 1:\n",
    "        return np.sum(x**2)\n",
    "    else:\n",
    "        return np.sum(x**2, axis=1)\n",
    "def _numerical_gradient_no_batch(f, x):\n",
    "    h = 1e-4 # 0.0001\n",
    "    grad = np.zeros_like(x)\n",
    "    \n",
    "    for idx in range(x.size):\n",
    "        tmp_val = x[idx]\n",
    "        x[idx] = float(tmp_val) + h\n",
    "        fxh1 = f(x) # f(x+h)\n",
    "        \n",
    "        x[idx] = tmp_val - h \n",
    "        fxh2 = f(x) # f(x-h)\n",
    "        grad[idx] = (fxh1 - fxh2) / (2*h)\n",
    "        \n",
    "        x[idx] = tmp_val # 还原值\n",
    "        \n",
    "    return grad"
   ]
  },
  {
   "cell_type": "code",
   "execution_count": 25,
   "metadata": {},
   "outputs": [
    {
     "data": {
      "text/plain": [
       "array([6., 8.])"
      ]
     },
     "execution_count": 25,
     "metadata": {},
     "output_type": "execute_result"
    }
   ],
   "source": [
    "numerical_gradient(function_2,np.array([3.0,4.0]))"
   ]
  },
  {
   "cell_type": "code",
   "execution_count": 27,
   "metadata": {},
   "outputs": [
    {
     "name": "stdout",
     "output_type": "stream",
     "text": [
      "None\n"
     ]
    }
   ],
   "source": [
    "import sys,os\n",
    "path=sys.path.append(os.pardir)\n",
    "print(path)"
   ]
  },
  {
   "cell_type": "code",
   "execution_count": 31,
   "metadata": {},
   "outputs": [
    {
     "name": "stdout",
     "output_type": "stream",
     "text": [
      "[[-1.04301132e-03 -2.28526471e-01  5.75816336e-01]\n",
      " [ 3.76044266e-01  1.72143813e+00 -1.08778226e+00]]\n"
     ]
    }
   ],
   "source": [
    "from common.functions  import softmax,cross_entropy_error\n",
    "from common.gradient import numerical_gradient\n",
    "\n",
    "\n",
    "class simpleNet:\n",
    "    def __init__(self):\n",
    "        self.W=np.random.randn(2,3)#生成随机权重矩阵\n",
    "    def predict(self,x):#基于矩阵得到第一层的z=wx+b 神经网路输入参数\n",
    "        return np.dot(x,self.W)\n",
    "    def loss(self,x,t):\n",
    "        z=self.predict(x)\n",
    "        y=softmax(z)#得到预测结果\n",
    "        loss=cross_entropy_error(y,t)#计算损失\n",
    "        return loss\n",
    "net=simpleNet()\n",
    "print(net.W)"
   ]
  },
  {
   "cell_type": "code",
   "execution_count": 32,
   "metadata": {},
   "outputs": [
    {
     "name": "stdout",
     "output_type": "stream",
     "text": [
      "[ 0.33781403  1.41217844 -0.63351423]\n"
     ]
    }
   ],
   "source": [
    "x=np.array([0.6,0.9])\n",
    "p=net.predict(x)\n",
    "print(p)"
   ]
  },
  {
   "cell_type": "code",
   "execution_count": 33,
   "metadata": {},
   "outputs": [],
   "source": [
    "y=softmax(p)"
   ]
  },
  {
   "cell_type": "code",
   "execution_count": 34,
   "metadata": {},
   "outputs": [
    {
     "name": "stdout",
     "output_type": "stream",
     "text": [
      "[0.23219575 0.67989962 0.08790463]\n"
     ]
    }
   ],
   "source": [
    "print(y)"
   ]
  },
  {
   "cell_type": "code",
   "execution_count": 36,
   "metadata": {},
   "outputs": [
    {
     "data": {
      "text/plain": [
       "1"
      ]
     },
     "execution_count": 36,
     "metadata": {},
     "output_type": "execute_result"
    }
   ],
   "source": [
    "t=np.array([0,0,1])\n",
    "np.argmax(p)"
   ]
  },
  {
   "cell_type": "code",
   "execution_count": 38,
   "metadata": {},
   "outputs": [
    {
     "data": {
      "text/plain": [
       "2.4315016405155028"
      ]
     },
     "execution_count": 38,
     "metadata": {},
     "output_type": "execute_result"
    }
   ],
   "source": [
    "net.loss(x,t)"
   ]
  },
  {
   "cell_type": "code",
   "execution_count": 39,
   "metadata": {},
   "outputs": [
    {
     "ename": "TypeError",
     "evalue": "'numpy.float64' object is not callable",
     "output_type": "error",
     "traceback": [
      "\u001b[1;31m---------------------------------------------------------------------------\u001b[0m",
      "\u001b[1;31mTypeError\u001b[0m                                 Traceback (most recent call last)",
      "\u001b[1;32m<ipython-input-39-31a4c44101ff>\u001b[0m in \u001b[0;36m<module>\u001b[1;34m\u001b[0m\n\u001b[1;32m----> 1\u001b[1;33m \u001b[0mdW\u001b[0m\u001b[1;33m=\u001b[0m\u001b[0mnumerical_gradient\u001b[0m\u001b[1;33m(\u001b[0m\u001b[0mnet\u001b[0m\u001b[1;33m.\u001b[0m\u001b[0mloss\u001b[0m\u001b[1;33m(\u001b[0m\u001b[0mx\u001b[0m\u001b[1;33m,\u001b[0m\u001b[0mt\u001b[0m\u001b[1;33m)\u001b[0m\u001b[1;33m,\u001b[0m\u001b[0mnet\u001b[0m\u001b[1;33m.\u001b[0m\u001b[0mW\u001b[0m\u001b[1;33m)\u001b[0m\u001b[1;31m#计算相对于权重，损失函数的偏导（梯度）\u001b[0m\u001b[1;33m\u001b[0m\u001b[1;33m\u001b[0m\u001b[0m\n\u001b[0m\u001b[0;32m      2\u001b[0m \u001b[0mprint\u001b[0m\u001b[1;33m(\u001b[0m\u001b[0mdW\u001b[0m\u001b[1;33m)\u001b[0m\u001b[1;33m\u001b[0m\u001b[1;33m\u001b[0m\u001b[0m\n",
      "\u001b[1;32m~\\OneDrive\\nnStudy\\【源代码】深度学习入门：基于Python的理论与实现\\【源代码】深度学习入门：基于Python的理论与实现\\common\\gradient.py\u001b[0m in \u001b[0;36mnumerical_gradient\u001b[1;34m(f, x)\u001b[0m\n\u001b[0;32m     41\u001b[0m         \u001b[0mtmp_val\u001b[0m \u001b[1;33m=\u001b[0m \u001b[0mx\u001b[0m\u001b[1;33m[\u001b[0m\u001b[0midx\u001b[0m\u001b[1;33m]\u001b[0m\u001b[1;33m\u001b[0m\u001b[1;33m\u001b[0m\u001b[0m\n\u001b[0;32m     42\u001b[0m         \u001b[0mx\u001b[0m\u001b[1;33m[\u001b[0m\u001b[0midx\u001b[0m\u001b[1;33m]\u001b[0m \u001b[1;33m=\u001b[0m \u001b[0mfloat\u001b[0m\u001b[1;33m(\u001b[0m\u001b[0mtmp_val\u001b[0m\u001b[1;33m)\u001b[0m \u001b[1;33m+\u001b[0m \u001b[0mh\u001b[0m\u001b[1;33m\u001b[0m\u001b[1;33m\u001b[0m\u001b[0m\n\u001b[1;32m---> 43\u001b[1;33m         \u001b[0mfxh1\u001b[0m \u001b[1;33m=\u001b[0m \u001b[0mf\u001b[0m\u001b[1;33m(\u001b[0m\u001b[0mx\u001b[0m\u001b[1;33m)\u001b[0m \u001b[1;31m# f(x+h)\u001b[0m\u001b[1;33m\u001b[0m\u001b[1;33m\u001b[0m\u001b[0m\n\u001b[0m\u001b[0;32m     44\u001b[0m \u001b[1;33m\u001b[0m\u001b[0m\n\u001b[0;32m     45\u001b[0m         \u001b[0mx\u001b[0m\u001b[1;33m[\u001b[0m\u001b[0midx\u001b[0m\u001b[1;33m]\u001b[0m \u001b[1;33m=\u001b[0m \u001b[0mtmp_val\u001b[0m \u001b[1;33m-\u001b[0m \u001b[0mh\u001b[0m\u001b[1;33m\u001b[0m\u001b[1;33m\u001b[0m\u001b[0m\n",
      "\u001b[1;31mTypeError\u001b[0m: 'numpy.float64' object is not callable"
     ]
    }
   ],
   "source": [
    "dW=numerical_gradient(net.loss(x,t),net.W)#计算相对于权重，损失函数的偏导（梯度）\n",
    "print(dW)"
   ]
  },
  {
   "cell_type": "code",
   "execution_count": 40,
   "metadata": {},
   "outputs": [],
   "source": [
    "f=lambda w:net.loss(x,t)\n",
    "dW=numerical_gradient(f,net.W)"
   ]
  },
  {
   "cell_type": "code",
   "execution_count": 41,
   "metadata": {},
   "outputs": [
    {
     "name": "stdout",
     "output_type": "stream",
     "text": [
      "[[ 0.13932371  0.40793362 -0.54725733]\n",
      " [ 0.20898556  0.61190044 -0.820886  ]]\n"
     ]
    }
   ],
   "source": [
    "print(dW)"
   ]
  },
  {
   "cell_type": "code",
   "execution_count": 45,
   "metadata": {},
   "outputs": [
    {
     "data": {
      "text/plain": [
       "5"
      ]
     },
     "execution_count": 45,
     "metadata": {},
     "output_type": "execute_result"
    }
   ],
   "source": [
    "np.argmax(abs(dW))"
   ]
  },
  {
   "cell_type": "markdown",
   "metadata": {},
   "source": [
    "# 神经网络算法的实现步骤\n",
    "## 前提：\n",
    "神经网路存在合适的权重和偏置，调整权重和偏置以便拟合训练数据的过程称为学习，分为四个步骤\n",
    "## 步骤（随机梯度下降法-SGD）\n",
    "1. mini-batch\n",
    "从训练数据中随机选出一部分数据，称为mini-batch，目标是减少mini-batch的损失函数值\n",
    "2.计算梯度\n",
    "为了减少mini-batch的损失函数值，需要求出各个权重参数的梯度。梯度标识损失函数值减少最多的方向\n",
    "3.更新参数\n",
    "将权重参数沿着梯度方向进行微小更新\n",
    "4.重复\n",
    "重复步骤1，2，3"
   ]
  },
  {
   "cell_type": "code",
   "execution_count": 46,
   "metadata": {},
   "outputs": [],
   "source": [
    "import sys,os\n",
    "sys.path.append(os.pardir)\n",
    "from common.functions import *\n",
    "from common.gradient import numerical_gradient"
   ]
  },
  {
   "cell_type": "code",
   "execution_count": 54,
   "metadata": {},
   "outputs": [],
   "source": [
    "class TwoLayerNet:\n",
    "    def __init__(self,input_size,hidden_size,output_size,wd=0.01):#input_size:输入层神经元数目,hidden_size：隐藏层神经元数目,output_size：输出层神经元数目,weight_init_std=0.01\n",
    "        self.params={}\n",
    "        self.params['W1']=wd*np.random.randn(input_size,hidden_size)\n",
    "        self.params['b1']=np.zeros(hidden_size)\n",
    "        self.params['W2']=wd*np.random.randn(hidden_size,output_size)\n",
    "        self.params['b2']=np.zeros(output_size)\n",
    "    def predict(self,x):\n",
    "        W1,W2=self.params['W1'],self.params['W2']\n",
    "        b1,b2=self.params['b1'],self.params['b2']\n",
    "\n",
    "        a1=np.dot(x,W1)+b1\n",
    "        z1=sigmoid(a1)\n",
    "        a2=np.dot(z1,W2)+b2\n",
    "        y=softmax(a2)\n",
    "        return y\n",
    "    def loss(self,x,t):\n",
    "        y=self.predict(x)\n",
    "        return cross_entropy_error(y,t)\n",
    "    def accuracy(self,x,t):\n",
    "        y=self.predict(x)\n",
    "        y=np.armax(y,axis=1)\n",
    "        t=np.argmax(t,axis=1)\n",
    "        accuracy=np.sum(y==t)/float(x.shape[0])\n",
    "        return accuracy\n",
    "    def numerical_gradient(self,x,y):\n",
    "        loss_W=lambda W:self.loss(x,t)\n",
    "\n",
    "        grads={}\n",
    "        grads['W1']=numerical_gradient(loss_W,self.params['W1'])\n",
    "        grads['W2']=numerical_gradient(loss_W,self.params['W2'])\n",
    "        grads['b1']=numerical_gradient(loss_W,self.params['b1'])\n",
    "        grads['b2']=numerical_gradient(loss_W,self.params['b2'])\n",
    "        return grads"
   ]
  },
  {
   "cell_type": "code",
   "execution_count": 47,
   "metadata": {},
   "outputs": [
    {
     "data": {
      "text/plain": [
       "array([[-0.96176139,  0.93457471, -1.17758463],\n",
       "       [ 1.56087716,  2.10372679,  0.07135513]])"
      ]
     },
     "execution_count": 47,
     "metadata": {},
     "output_type": "execute_result"
    }
   ],
   "source": [
    "np.random.randn(2,3)"
   ]
  },
  {
   "cell_type": "code",
   "execution_count": 55,
   "metadata": {},
   "outputs": [],
   "source": [
    "net=TwoLayerNet(input_size=784,hidden_size=100,output_size=10)"
   ]
  },
  {
   "cell_type": "code",
   "execution_count": 51,
   "metadata": {},
   "outputs": [
    {
     "data": {
      "text/plain": [
       "(784, 100)"
      ]
     },
     "execution_count": 51,
     "metadata": {},
     "output_type": "execute_result"
    }
   ],
   "source": [
    "net.params['W1'].shape"
   ]
  },
  {
   "cell_type": "code",
   "execution_count": 56,
   "metadata": {},
   "outputs": [],
   "source": [
    "x=np.random.rand(100,784)\n",
    "y=net.predict(x)"
   ]
  },
  {
   "cell_type": "code",
   "execution_count": 57,
   "metadata": {},
   "outputs": [
    {
     "data": {
      "text/plain": [
       "array([[0.10201456, 0.09815212, 0.10541861, 0.09704843, 0.10125023,\n",
       "        0.09964964, 0.09431376, 0.09921376, 0.10119792, 0.10174098],\n",
       "       [0.10201825, 0.09826275, 0.10547844, 0.09722148, 0.10096696,\n",
       "        0.09955671, 0.09458072, 0.09927348, 0.1005499 , 0.10209133],\n",
       "       [0.10200928, 0.09793111, 0.10530339, 0.09711762, 0.1012466 ,\n",
       "        0.09961312, 0.09426445, 0.09907786, 0.1015679 , 0.10186867],\n",
       "       [0.10190547, 0.09783742, 0.10563684, 0.09739528, 0.10136104,\n",
       "        0.09947854, 0.09445724, 0.0992953 , 0.10092455, 0.10170833],\n",
       "       [0.10176666, 0.09806066, 0.10549136, 0.0976351 , 0.10105174,\n",
       "        0.09986935, 0.09449983, 0.09901401, 0.10101671, 0.10159459],\n",
       "       [0.10192089, 0.09830148, 0.10555598, 0.09704151, 0.10091846,\n",
       "        0.09976594, 0.09474555, 0.09910263, 0.10081082, 0.10183674],\n",
       "       [0.101819  , 0.09818387, 0.10581407, 0.09729301, 0.10124694,\n",
       "        0.10022218, 0.09429187, 0.0988143 , 0.10070118, 0.10161357],\n",
       "       [0.10186891, 0.09801519, 0.10527184, 0.09738801, 0.10109442,\n",
       "        0.09967041, 0.09438215, 0.09925706, 0.10120747, 0.10184455],\n",
       "       [0.10200787, 0.09790195, 0.10534735, 0.09751856, 0.10121698,\n",
       "        0.0995569 , 0.09449761, 0.09933943, 0.10107596, 0.10153739],\n",
       "       [0.1019614 , 0.09792434, 0.1054549 , 0.09767293, 0.10106414,\n",
       "        0.09951463, 0.09451044, 0.09894157, 0.10107326, 0.10188239],\n",
       "       [0.10184283, 0.0980031 , 0.10553372, 0.09745696, 0.10112196,\n",
       "        0.10014142, 0.09441383, 0.09895218, 0.10106859, 0.1014654 ],\n",
       "       [0.10235821, 0.09813952, 0.10536006, 0.09740661, 0.10116785,\n",
       "        0.09972861, 0.09444166, 0.09884311, 0.10101774, 0.10153663],\n",
       "       [0.10195641, 0.09836016, 0.10504637, 0.09742733, 0.10151781,\n",
       "        0.09982278, 0.09413647, 0.09896653, 0.10101404, 0.1017521 ],\n",
       "       [0.10179626, 0.09812736, 0.10551696, 0.09741994, 0.10130265,\n",
       "        0.09940565, 0.0945618 , 0.09875843, 0.1011745 , 0.10193643],\n",
       "       [0.10204742, 0.09830157, 0.10557637, 0.09726202, 0.10104159,\n",
       "        0.0995777 , 0.09433688, 0.09922826, 0.10078675, 0.10184144],\n",
       "       [0.10187714, 0.09804061, 0.10616648, 0.09697026, 0.10117227,\n",
       "        0.09990621, 0.09404637, 0.09918499, 0.10087307, 0.10176259],\n",
       "       [0.10194548, 0.09820457, 0.10545276, 0.09723321, 0.10119483,\n",
       "        0.09992695, 0.09448607, 0.09854594, 0.10094887, 0.10206132],\n",
       "       [0.10202594, 0.09809495, 0.10565995, 0.09726128, 0.1016665 ,\n",
       "        0.09942292, 0.09430639, 0.09905652, 0.10094747, 0.10155807],\n",
       "       [0.10195702, 0.09804194, 0.10561268, 0.09742871, 0.10124067,\n",
       "        0.09926137, 0.09425376, 0.0991655 , 0.10099424, 0.10204411],\n",
       "       [0.10172796, 0.09816043, 0.10542691, 0.09731932, 0.1015876 ,\n",
       "        0.09983387, 0.09425684, 0.09907555, 0.1006842 , 0.1019273 ],\n",
       "       [0.10182983, 0.09794373, 0.10547029, 0.09744184, 0.10124355,\n",
       "        0.09947276, 0.09441569, 0.09936749, 0.10101177, 0.10180305],\n",
       "       [0.10211916, 0.09778806, 0.10553194, 0.09705473, 0.10150698,\n",
       "        0.09984464, 0.09433463, 0.09907759, 0.10104703, 0.10169525],\n",
       "       [0.10216846, 0.09804267, 0.10551996, 0.09736378, 0.10130739,\n",
       "        0.09971972, 0.09427102, 0.09897626, 0.10082985, 0.10180089],\n",
       "       [0.10201861, 0.09805287, 0.1053355 , 0.0971571 , 0.10140874,\n",
       "        0.10007041, 0.09454908, 0.09904902, 0.10111989, 0.10123878],\n",
       "       [0.1020573 , 0.09841905, 0.10552597, 0.0972738 , 0.10126405,\n",
       "        0.09965422, 0.09427324, 0.09893563, 0.10065973, 0.10193701],\n",
       "       [0.10208143, 0.09806167, 0.10541915, 0.09713958, 0.10111886,\n",
       "        0.09985377, 0.09456258, 0.09877824, 0.10113831, 0.10184641],\n",
       "       [0.10210674, 0.09809147, 0.10526673, 0.09735541, 0.1013346 ,\n",
       "        0.09976952, 0.09440387, 0.09898338, 0.10107334, 0.10161493],\n",
       "       [0.10204747, 0.09799783, 0.10562431, 0.09758417, 0.10081191,\n",
       "        0.0994912 , 0.09459005, 0.09893323, 0.10100499, 0.10191485],\n",
       "       [0.10201825, 0.09826409, 0.10570405, 0.09720451, 0.10145648,\n",
       "        0.09957938, 0.09432016, 0.0989508 , 0.10078042, 0.10172185],\n",
       "       [0.10214807, 0.09799203, 0.10554572, 0.09725371, 0.10123693,\n",
       "        0.09966415, 0.09435542, 0.09905708, 0.10095877, 0.10178812],\n",
       "       [0.10188134, 0.09796306, 0.10524294, 0.09737259, 0.1011285 ,\n",
       "        0.10010727, 0.09463672, 0.09886493, 0.10108869, 0.10171396],\n",
       "       [0.10170493, 0.09846085, 0.10499656, 0.09755127, 0.1010875 ,\n",
       "        0.09986201, 0.09449031, 0.09914622, 0.10091976, 0.10178059],\n",
       "       [0.10178369, 0.09828841, 0.10520241, 0.09737149, 0.10120933,\n",
       "        0.09978789, 0.0945243 , 0.09917496, 0.10083057, 0.10182696],\n",
       "       [0.10212333, 0.09775064, 0.10554852, 0.0974158 , 0.10155038,\n",
       "        0.09963177, 0.09442803, 0.09887407, 0.10100814, 0.10166933],\n",
       "       [0.10174932, 0.09792817, 0.10528845, 0.0973641 , 0.1013585 ,\n",
       "        0.09964947, 0.0944957 , 0.09928652, 0.10100869, 0.10187108],\n",
       "       [0.10190162, 0.09854577, 0.10538919, 0.09741791, 0.10119733,\n",
       "        0.09958441, 0.09439233, 0.0991591 , 0.10059382, 0.10181852],\n",
       "       [0.10177656, 0.09838678, 0.10583286, 0.0971988 , 0.10090457,\n",
       "        0.09956206, 0.0944318 , 0.09906511, 0.10100525, 0.10183619],\n",
       "       [0.1020989 , 0.09779239, 0.1054833 , 0.09726716, 0.10107346,\n",
       "        0.09942648, 0.09484927, 0.09936762, 0.10097908, 0.10166233],\n",
       "       [0.10200454, 0.09830604, 0.105545  , 0.09729709, 0.10105472,\n",
       "        0.09976766, 0.09450527, 0.09893326, 0.10096643, 0.10162   ],\n",
       "       [0.10192906, 0.09822108, 0.10536765, 0.09736658, 0.10131966,\n",
       "        0.09999817, 0.0944227 , 0.09893377, 0.10090309, 0.10153823],\n",
       "       [0.10199553, 0.09836053, 0.10512174, 0.09740193, 0.10131165,\n",
       "        0.0996242 , 0.09444876, 0.09907886, 0.10087108, 0.10178573],\n",
       "       [0.1019948 , 0.09826855, 0.10519134, 0.09755267, 0.10130593,\n",
       "        0.10008037, 0.09422943, 0.09910442, 0.10081752, 0.10145496],\n",
       "       [0.10203061, 0.09807684, 0.10544141, 0.09727474, 0.1011089 ,\n",
       "        0.09986959, 0.09437975, 0.09896472, 0.1010319 , 0.10182153],\n",
       "       [0.10181108, 0.09802373, 0.10563524, 0.09732482, 0.10110367,\n",
       "        0.09931566, 0.09481108, 0.09899647, 0.1012379 , 0.10174035],\n",
       "       [0.10201604, 0.09797333, 0.10538713, 0.09744077, 0.10084973,\n",
       "        0.09990027, 0.0944198 , 0.09910558, 0.10098837, 0.10191899],\n",
       "       [0.10252067, 0.09837078, 0.10569884, 0.09697932, 0.10155715,\n",
       "        0.09927823, 0.0940705 , 0.0988588 , 0.10089491, 0.10177081],\n",
       "       [0.10193522, 0.09830838, 0.10546573, 0.09731283, 0.10121346,\n",
       "        0.09958202, 0.0941015 , 0.09925319, 0.10108836, 0.10173931],\n",
       "       [0.10187981, 0.09794012, 0.10536438, 0.09718541, 0.10110453,\n",
       "        0.09999366, 0.09453837, 0.09910803, 0.10105061, 0.10183508],\n",
       "       [0.10203992, 0.09849387, 0.10556347, 0.09693275, 0.10094542,\n",
       "        0.10007979, 0.09408362, 0.09894484, 0.1011041 , 0.10181221],\n",
       "       [0.10203846, 0.09824762, 0.10566749, 0.09697515, 0.10161349,\n",
       "        0.09924703, 0.09404776, 0.09908183, 0.1010195 , 0.10206168],\n",
       "       [0.10187767, 0.09833797, 0.10566594, 0.0969327 , 0.10118241,\n",
       "        0.09968709, 0.0939438 , 0.09924202, 0.10106433, 0.10206606],\n",
       "       [0.10193194, 0.09818234, 0.10559455, 0.09735369, 0.10124417,\n",
       "        0.09952795, 0.09428586, 0.09906603, 0.10101573, 0.10179775],\n",
       "       [0.10199581, 0.09795346, 0.10523912, 0.09712184, 0.1011401 ,\n",
       "        0.09989544, 0.09473257, 0.0991923 , 0.10072208, 0.10200728],\n",
       "       [0.10193136, 0.09787537, 0.10552363, 0.09734566, 0.10103031,\n",
       "        0.09972534, 0.09433037, 0.09909881, 0.10094268, 0.10219647],\n",
       "       [0.10199211, 0.098143  , 0.10572461, 0.09726618, 0.10118934,\n",
       "        0.09973073, 0.09441823, 0.09908291, 0.10108023, 0.10137267],\n",
       "       [0.10191867, 0.0983485 , 0.10539667, 0.09738481, 0.10103755,\n",
       "        0.10016821, 0.09441959, 0.09881426, 0.10077776, 0.10173397],\n",
       "       [0.10215155, 0.0979764 , 0.10538963, 0.09748627, 0.10086152,\n",
       "        0.09957782, 0.09439153, 0.09933627, 0.10086332, 0.1019657 ],\n",
       "       [0.1018357 , 0.09816297, 0.1058156 , 0.09719595, 0.10114187,\n",
       "        0.09935953, 0.09450081, 0.09947558, 0.10092095, 0.10159105],\n",
       "       [0.10200379, 0.09809401, 0.10547297, 0.09725893, 0.10136082,\n",
       "        0.10010942, 0.09432154, 0.09919124, 0.10066398, 0.10152331],\n",
       "       [0.10196787, 0.09809161, 0.10566469, 0.09741493, 0.10167153,\n",
       "        0.09957593, 0.094338  , 0.09870585, 0.10088846, 0.10168114],\n",
       "       [0.10190405, 0.09796474, 0.10526803, 0.09728263, 0.10096712,\n",
       "        0.09957515, 0.09455168, 0.09972788, 0.10116838, 0.10159035],\n",
       "       [0.10226068, 0.09797762, 0.10558785, 0.09728375, 0.10099485,\n",
       "        0.09966271, 0.09429083, 0.0989586 , 0.10103478, 0.10194832],\n",
       "       [0.10222453, 0.09790688, 0.10538251, 0.09742572, 0.10181331,\n",
       "        0.09945112, 0.0944041 , 0.09902856, 0.10077212, 0.10159116],\n",
       "       [0.10182282, 0.09834649, 0.10559942, 0.09712463, 0.10092272,\n",
       "        0.09954146, 0.09445301, 0.09916215, 0.10106196, 0.10196535],\n",
       "       [0.10181405, 0.09831024, 0.10597755, 0.09726082, 0.1010167 ,\n",
       "        0.09964127, 0.09412425, 0.09903028, 0.10104331, 0.10178151],\n",
       "       [0.1019549 , 0.09819407, 0.10549278, 0.09709979, 0.10106659,\n",
       "        0.09997206, 0.09437204, 0.09903163, 0.10098193, 0.1018342 ],\n",
       "       [0.10179001, 0.09858369, 0.10551107, 0.09729449, 0.10077108,\n",
       "        0.09980213, 0.09463791, 0.099251  , 0.1008402 , 0.10151841],\n",
       "       [0.10205213, 0.09831999, 0.10519205, 0.09708372, 0.10115939,\n",
       "        0.09977659, 0.0944418 , 0.09928011, 0.10096391, 0.1017303 ],\n",
       "       [0.1020658 , 0.0983875 , 0.10605025, 0.09716022, 0.10116613,\n",
       "        0.09962998, 0.09440213, 0.09858132, 0.10096599, 0.10159068],\n",
       "       [0.10171662, 0.09828471, 0.10533568, 0.09728941, 0.10097996,\n",
       "        0.09998754, 0.09425385, 0.0989615 , 0.10104976, 0.10214098],\n",
       "       [0.10190202, 0.09788095, 0.10533946, 0.09764407, 0.10119913,\n",
       "        0.09939392, 0.09438348, 0.09926265, 0.1010649 , 0.10192942],\n",
       "       [0.10187877, 0.09804074, 0.10540631, 0.09724446, 0.10138657,\n",
       "        0.09972469, 0.09426597, 0.09897353, 0.1013236 , 0.10175537],\n",
       "       [0.10210055, 0.09774133, 0.10545264, 0.09744934, 0.10110259,\n",
       "        0.09979728, 0.09456855, 0.0988997 , 0.10105729, 0.10183074],\n",
       "       [0.10174653, 0.0977126 , 0.1054678 , 0.09737546, 0.10123755,\n",
       "        0.09974274, 0.09472251, 0.09881734, 0.10118296, 0.1019945 ],\n",
       "       [0.10193969, 0.09786925, 0.10551703, 0.0973536 , 0.10099368,\n",
       "        0.09927888, 0.09448176, 0.09966014, 0.10089817, 0.1020078 ],\n",
       "       [0.10180655, 0.09822551, 0.10577988, 0.09723431, 0.10113654,\n",
       "        0.09961077, 0.09458362, 0.09900911, 0.10102219, 0.10159152],\n",
       "       [0.10187851, 0.09828179, 0.10527348, 0.09713596, 0.10124545,\n",
       "        0.09996061, 0.09417716, 0.09931122, 0.10091601, 0.10181981],\n",
       "       [0.10201345, 0.09795067, 0.10551611, 0.09751306, 0.10157038,\n",
       "        0.09954323, 0.0940513 , 0.09905139, 0.10093316, 0.10185724],\n",
       "       [0.10206001, 0.09799563, 0.10589501, 0.09714695, 0.10135987,\n",
       "        0.09996669, 0.09424235, 0.0985394 , 0.10112961, 0.10166448],\n",
       "       [0.10204675, 0.09851311, 0.10521918, 0.09725753, 0.10099028,\n",
       "        0.09969238, 0.09423852, 0.09942096, 0.10076196, 0.10185931],\n",
       "       [0.1021419 , 0.09798619, 0.10565968, 0.09706119, 0.10116765,\n",
       "        0.10007079, 0.09424425, 0.09897501, 0.10091612, 0.10177721],\n",
       "       [0.10203496, 0.09792763, 0.10511275, 0.09739449, 0.10136117,\n",
       "        0.09963115, 0.09451524, 0.09892965, 0.10121252, 0.10188044],\n",
       "       [0.10206513, 0.09837083, 0.10556778, 0.09733551, 0.10141987,\n",
       "        0.09978864, 0.09412886, 0.09863698, 0.10055989, 0.10212651],\n",
       "       [0.1020597 , 0.09819496, 0.10538809, 0.09746298, 0.10110775,\n",
       "        0.0995539 , 0.09432735, 0.09907215, 0.10084057, 0.10199255],\n",
       "       [0.10186449, 0.09792154, 0.10535925, 0.09742042, 0.10158122,\n",
       "        0.09988074, 0.09450433, 0.09894663, 0.10084114, 0.10168024],\n",
       "       [0.1019925 , 0.09837337, 0.10514522, 0.097019  , 0.10103237,\n",
       "        0.10016514, 0.09462247, 0.09903976, 0.1007982 , 0.10181197],\n",
       "       [0.10175436, 0.09790094, 0.10559508, 0.09729914, 0.10142925,\n",
       "        0.10004579, 0.09434185, 0.09905065, 0.10075915, 0.1018238 ],\n",
       "       [0.10198674, 0.0979378 , 0.10551699, 0.09713703, 0.10121407,\n",
       "        0.09974848, 0.0944104 , 0.09921836, 0.10105476, 0.10177537],\n",
       "       [0.10207704, 0.09822081, 0.10542852, 0.09695389, 0.10140734,\n",
       "        0.09951806, 0.09480984, 0.09890065, 0.10106278, 0.10162107],\n",
       "       [0.10183284, 0.09801558, 0.1053728 , 0.09745321, 0.10133459,\n",
       "        0.09982871, 0.09444912, 0.09890271, 0.1008714 , 0.10193905],\n",
       "       [0.10217152, 0.09812272, 0.10516284, 0.09751231, 0.10137125,\n",
       "        0.09953595, 0.09446082, 0.09912437, 0.10079815, 0.10174008],\n",
       "       [0.10202105, 0.09825765, 0.10507779, 0.09741482, 0.10114244,\n",
       "        0.09977283, 0.09440507, 0.09923154, 0.10073924, 0.10193757],\n",
       "       [0.10185268, 0.09802687, 0.10554553, 0.09720231, 0.10108344,\n",
       "        0.09958261, 0.09445075, 0.099248  , 0.10092468, 0.10208315],\n",
       "       [0.10193202, 0.09816925, 0.10557494, 0.09739622, 0.10156455,\n",
       "        0.09953623, 0.09418023, 0.09917015, 0.10090838, 0.10156804],\n",
       "       [0.10196194, 0.09820845, 0.10557735, 0.0971252 , 0.10136607,\n",
       "        0.09989258, 0.09400649, 0.0993301 , 0.10102391, 0.10150792],\n",
       "       [0.10198983, 0.09805669, 0.10561704, 0.09738284, 0.10069504,\n",
       "        0.09963973, 0.09459103, 0.09910356, 0.10130225, 0.101622  ],\n",
       "       [0.1022132 , 0.09798897, 0.10531072, 0.0974529 , 0.10096989,\n",
       "        0.10012516, 0.09416225, 0.0991402 , 0.10099921, 0.10163751],\n",
       "       [0.10225961, 0.09782778, 0.10516026, 0.09720017, 0.10153032,\n",
       "        0.09989323, 0.09461505, 0.09910441, 0.10096174, 0.10144744],\n",
       "       [0.10214863, 0.09819354, 0.10555242, 0.09703451, 0.10112496,\n",
       "        0.09997399, 0.09450773, 0.09881599, 0.1007915 , 0.10185674],\n",
       "       [0.10229055, 0.09812018, 0.10551167, 0.09673589, 0.10163435,\n",
       "        0.09950412, 0.09428783, 0.09898115, 0.10109349, 0.10184076]])"
      ]
     },
     "execution_count": 57,
     "metadata": {},
     "output_type": "execute_result"
    }
   ],
   "source": [
    "y"
   ]
  },
  {
   "cell_type": "markdown",
   "metadata": {},
   "source": [
    "结合mini-batch实现神经网络学习"
   ]
  },
  {
   "cell_type": "code",
   "execution_count": 60,
   "metadata": {},
   "outputs": [],
   "source": [
    "import numpy as np\n",
    "from dataset.mnist import load_mnist\n",
    "path=sys.path.append(os.pardir)\n",
    "\n",
    "from ch04.two_layer_net import TwoLayerNet"
   ]
  },
  {
   "cell_type": "code",
   "execution_count": null,
   "metadata": {},
   "outputs": [
    {
     "name": "stdout",
     "output_type": "stream",
     "text": [
      "Downloading train-labels-idx1-ubyte.gz ... \n",
      "Done\n",
      "Downloading t10k-images-idx3-ubyte.gz ... \n",
      "Done\n",
      "Downloading t10k-labels-idx1-ubyte.gz ... \n"
     ]
    }
   ],
   "source": [
    "(x_train,t_train),(x_test,y_test)=load_mnist(normalize=True,one_hot_label=True)"
   ]
  },
  {
   "cell_type": "code",
   "execution_count": null,
   "metadata": {},
   "outputs": [],
   "source": []
  }
 ],
 "metadata": {
  "kernelspec": {
   "display_name": "Python 3",
   "language": "python",
   "name": "python3"
  },
  "language_info": {
   "codemirror_mode": {
    "name": "ipython",
    "version": 3
   },
   "file_extension": ".py",
   "mimetype": "text/x-python",
   "name": "python",
   "nbconvert_exporter": "python",
   "pygments_lexer": "ipython3",
   "version": "3.7.4"
  }
 },
 "nbformat": 4,
 "nbformat_minor": 4
}
