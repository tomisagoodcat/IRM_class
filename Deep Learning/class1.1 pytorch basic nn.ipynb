{
 "cells": [
  {
   "attachments": {},
   "cell_type": "markdown",
   "metadata": {},
   "source": [
    "# pytorch 基础\n",
    "\n",
    "本课内容包括\n",
    "1. 基本的pytorch入门\n",
    "2. pytorch中向量、导数、偏导操作，参考之前线性代数以及微积分\n",
    "3. 基于pytorch构建一个线性回归网络\n",
    "4. 基于pytorch实现class1 对图片的分类以及优化\n",
    "\n",
    "---\n",
    "\n",
    "参考资料\n",
    "\n",
    "1. [ws university pytorch introudction](https://courses.cs.washington.edu/courses/cse446/19au/section9.html)\n",
    "2. [li hong yi](https://www.youtube.com/watch?v=kQeezFrNoOg)\n",
    "3. [pytorch homepage](https://pytorch.org/tutorials/beginner/basics/quickstart_tutorial.html)"
   ]
  },
  {
   "attachments": {},
   "cell_type": "markdown",
   "metadata": {},
   "source": [
    "## 1.安装pytorch\n",
    "\n",
    "与tensorflow相同，pytorch分为cpu版本与gpu版本，官网有相对于安装代码\n",
    "[安装页面](https://pytorch.org/)\n",
    "\n"
   ]
  },
  {
   "cell_type": "markdown",
   "metadata": {},
   "source": [
    "参看本地计算机是否支持GPU以及GPU型号"
   ]
  },
  {
   "cell_type": "code",
   "execution_count": 2,
   "metadata": {},
   "outputs": [
    {
     "name": "stdout",
     "output_type": "stream",
     "text": [
      "only support cpu\n",
      "None\n"
     ]
    }
   ],
   "source": [
    "import torch\n",
    "def pytrochGPU(memoryview=False):\n",
    "    support=torch.cuda.is_available()\n",
    "    if support==True:\n",
    "        print(\"GPU is available\")\n",
    "        print(\"GPU的数量\",torch.cuda.device_count())\n",
    "        print(\"GPU的名字\",torch.cuda.get_device_name(0))\n",
    "        print(\"当前GPU索引\",torch.cuda.current_device())\n",
    "    else:\n",
    "        print(\"only support cpu\")\n",
    "if __name__ == '__main__':\n",
    "    print(pytrochGPU())\n"
   ]
  },
  {
   "cell_type": "markdown",
   "metadata": {},
   "source": [
    "由于可能本地计算机没有gpu，为了避免出错，首先判断是GPU还是CPU，并将数据在对应设备上进行运算"
   ]
  },
  {
   "cell_type": "code",
   "execution_count": 3,
   "metadata": {},
   "outputs": [
    {
     "name": "stdout",
     "output_type": "stream",
     "text": [
      "cpu\n"
     ]
    }
   ],
   "source": [
    "import numpy as np\n",
    "device=\"cuda\" if torch.cuda.is_available() else \"cpu\"\n",
    "x=torch.randn(2,3)\n",
    "x=x.to(device)\n",
    "print(x.device)\n"
   ]
  },
  {
   "attachments": {},
   "cell_type": "markdown",
   "metadata": {},
   "source": [
    "\n",
    "pytorch 中torch的作用类似numpy，包括创建数组，进行线性代数运算等，但torch还可以直接进行求导运算\n",
    "\n",
    "numpy 与 torch之间也可以相互转化\n",
    "\n",
    "例如numpy中创建数组与torch中创建tensor张量对比\n",
    "\n",
    "```python \n",
    "np.array([12,3])\n",
    "torch.tensor([12,3])\n",
    "```\n",
    "\n",
    "1. array与tensor相互转换\n"
   ]
  },
  {
   "cell_type": "code",
   "execution_count": 5,
   "metadata": {},
   "outputs": [
    {
     "name": "stdout",
     "output_type": "stream",
     "text": [
      "<class 'torch.Tensor'>\n",
      "tensor([2, 3, 2])\n",
      "<class 'numpy.ndarray'>\n",
      "[2 3 2]\n",
      "<class 'numpy.ndarray'>\n",
      "(2, 3)\n",
      "<class 'torch.Tensor'>\n",
      "torch.Size([2, 3])\n"
     ]
    }
   ],
   "source": [
    "import numpy as np \n",
    "if __name__ == '__main__':\n",
    "    x_tensor=torch.tensor([2,3,2])\n",
    "    print(type(x_tensor))\n",
    "    print(x_tensor)\n",
    "    y_array=x_tensor.numpy()#转换tensor到array\n",
    "    print(type(y_array))\n",
    "    print(y_array)\n",
    "\n",
    "    x_arrray=np.array([[2,2,3],[2,2,2]])\n",
    "    print(type(x_arrray))\n",
    "    print(x_arrray.shape)\n",
    "    y_tensor=torch.from_numpy(x_arrray)\n",
    "    print(type(y_tensor))\n",
    "    print(y_tensor.shape)"
   ]
  },
  {
   "attachments": {},
   "cell_type": "markdown",
   "metadata": {},
   "source": [
    "2. tensor 中的线性代数计算\n",
    "tensor中的计算与numpy中基本一致，包括加减，内积,求norm等。\n",
    "\n",
    "例如以下代码模拟了一个神经网络affine层中的输入值与权参相乘与偏参相加的计算"
   ]
  },
  {
   "cell_type": "code",
   "execution_count": 18,
   "metadata": {},
   "outputs": [
    {
     "name": "stdout",
     "output_type": "stream",
     "text": [
      "tensor([17., 18.], dtype=torch.float64)\n",
      "tensor(24.7588, dtype=torch.float64)\n"
     ]
    }
   ],
   "source": [
    "# 注意，torch在求norm时，要求数据必须为float数据，故在开始就必须制定向量的数据类型\n",
    "x=torch.tensor([2,3,3],dtype=float)\n",
    "w=torch.tensor([[2,2],[1,2],[3,2]],dtype=float)\n",
    "b=torch.tensor([1,2],dtype=float)\n",
    "z=x@w+b\n",
    "print(z)\n",
    "print(torch.norm(z))"
   ]
  },
  {
   "attachments": {},
   "cell_type": "markdown",
   "metadata": {},
   "source": [
    "tensor中正态分布、随机值等的生成与numpy也一致\n",
    "\n",
    "```python\n",
    "torch.rand(维度1数，维度2数，维度3数)\n",
    "```\n"
   ]
  },
  {
   "cell_type": "code",
   "execution_count": null,
   "metadata": {},
   "outputs": [],
   "source": [
    "x=torch.rand(2,2,2,2)\n",
    "print(x)\n",
    "x_a=np.random.rand(2,2,2,2,2)\n",
    "print(x_a)"
   ]
  },
  {
   "attachments": {},
   "cell_type": "markdown",
   "metadata": {},
   "source": [
    "tensor 形状改变\n",
    "* Tensor.view-改变形状\n",
    "* Tensor.flatten-降维为1维\n",
    "\n",
    "We can use the Tensor.view() function to reshape tensors similarly to numpy.reshape()\n",
    "\n",
    "It can also automatically calculate the correct dimension if a -1 is passed in. This is useful if we are working with batches, but the batch size is unknown.\n",
    " \n",
    " "
   ]
  },
  {
   "cell_type": "code",
   "execution_count": 28,
   "metadata": {},
   "outputs": [
    {
     "name": "stdout",
     "output_type": "stream",
     "text": [
      "torch.Size([1000, 28, 28])\n",
      "torch.Size([1000, 784])\n",
      "torch.Size([1000, 784])\n",
      "torch.Size([1000, 784])\n",
      "torch.Size([784000])\n"
     ]
    }
   ],
   "source": [
    "batch=1000\n",
    "img_x=28\n",
    "img_y=28\n",
    "#生成一个（1000，28，29）形状的张量，模拟1000张28*28图像\n",
    "x=torch.rand(batch,img_x,img_y)\n",
    "print(x.shape)\n",
    "#将x变更为(1000,784)形状的张量\n",
    "x2=x.view(batch,img_x*img_y)\n",
    "print(x2.shape)\n",
    "#当不确定某维度的大小（batch大小），可以设为-1，torch将自动赋值\n",
    "x3=x.view(batch,-1)\n",
    "print(x3.shape)\n",
    "x3=x.view(-1,784)\n",
    "print(x3.shape)\n",
    "#将张量降维为1维\n",
    "x_fallten=torch.flatten(x)\n",
    "print(x_fallten.shape)\n"
   ]
  },
  {
   "attachments": {},
   "cell_type": "markdown",
   "metadata": {},
   "source": [
    "## Computation graphs 计算图\n",
    "\n",
    "参考\n",
    "* [computation graph](https://colah.github.io/posts/2015-08-Backprop/)\n",
    "\n",
    "\n",
    "What's special about PyTorch's tensor object is that it implicitly creates a computation graph in the background. A computation graph is a a way of writing a mathematical expression as a graph. There is an algorithm to compute the gradients of all the variables of a computation graph in time on the same order it is to compute the function itself.\n",
    "\n",
    "---\n",
    "\n",
    "pytorch可以自动实现计算图，Backpropagation反向传播\n",
    "\n",
    "<img src=\"figs\\tree-def.png\" height=\"50%\" width=\"50%\">\n",
    "\n",
    "例如上图对应计算 $e=(a+b) \\times (1+b)$，求$a=1,b=2$时的反向传播\n",
    "\n",
    "为此，在对tensor复制时候，必须设置**requires_grad=True**从而pytroch将会保留计算图\n",
    ">we set requires_grad=True to let PyTorch know to keep the graph\n"
   ]
  },
  {
   "cell_type": "code",
   "execution_count": 31,
   "metadata": {},
   "outputs": [
    {
     "name": "stdout",
     "output_type": "stream",
     "text": [
      "tensor(3., grad_fn=<AddBackward0>)\n",
      "tensor(3., grad_fn=<AddBackward0>)\n",
      "tensor(9., grad_fn=<MulBackward0>)\n"
     ]
    }
   ],
   "source": [
    "a=torch.tensor(1.0,requires_grad=True)\n",
    "b=torch.tensor(2.0,requires_grad=True)\n",
    "c=a+b\n",
    "d=1+b\n",
    "e=c*d\n",
    "print(c)\n",
    "print(d)\n",
    "print(e)\n"
   ]
  },
  {
   "attachments": {},
   "cell_type": "markdown",
   "metadata": {},
   "source": [
    "## PyTorch as an auto grad framework\n",
    "Now that we have seen that PyTorch keeps the graph around for us, let's use it to compute some gradients for us.\n",
    "\n",
    "Consider the function  $f(x)=(x−2)^2$\n",
    " .\n",
    "\n",
    "Q: Compute  $\\frac{df(x)}{dx}$\n",
    "  and then compute  $f′(1)$\n",
    " .\n",
    "\n",
    "We make a backward() call on the leaf variable (y) in the computation, computing all the gradients of y at once.\n",
    "\n",
    "---\n",
    "1. pytorch 中，张量具有require_grad属性，该属性为True则将跟踪对此张量的所有计算。\n",
    "2. 完成正向传播计算后，可以对计算结果调用backward（）方法，将自动计算所有梯度，并保存至grad属性中\n",
    "3. 张量的grad_fn属性将指向运算生成该张量的方法。\n",
    "通过pytorch中backward可以求得导函数结果\n"
   ]
  },
  {
   "cell_type": "code",
   "execution_count": 38,
   "metadata": {},
   "outputs": [
    {
     "name": "stdout",
     "output_type": "stream",
     "text": [
      "正向传播forward: tensor(1., grad_fn=<PowBackward0>)\n",
      "方向传播结果 tensor(-2.)\n",
      "<PowBackward0 object at 0x000002008549E130>\n"
     ]
    }
   ],
   "source": [
    "def f(x):\n",
    "    return (x-2)**2\n",
    "x=torch.tensor(1.0,requires_grad=True)\n",
    "y=f(x)\n",
    "print(\"正向传播forward:\",y)\n",
    "y.backward()\n",
    "print(\"方向传播结果\",x.grad)\n",
    "print(y.grad_fn)\n"
   ]
  },
  {
   "attachments": {},
   "cell_type": "markdown",
   "metadata": {},
   "source": [
    "可以设置一个嵌套函数，并求得不同层变量的导数\n",
    "设\n",
    "$$y=x^2 \\rightarrow z=y+w \\rightarrow e=z\\times 3+5$$\n",
    "其中$x=2,w=3$求位于链式求导叶子节点的$\\frac{de}{dx},\\frac{de}{dw}$"
   ]
  },
  {
   "cell_type": "code",
   "execution_count": 47,
   "metadata": {},
   "outputs": [
    {
     "name": "stdout",
     "output_type": "stream",
     "text": [
      "forward result: tensor(21., grad_fn=<MulBackward0>)\n",
      "e函数求梯度方法： <MulBackward0 object at 0x000002008750C340>\n",
      "y函数求梯度方法： <PowBackward0 object at 0x000002008750C340>\n",
      "x的梯度 tensor(12.)\n",
      "w的梯度 tensor(3.)\n"
     ]
    }
   ],
   "source": [
    "def y(x):\n",
    "    return x**2\n",
    "def z(y,w):\n",
    "    return y+w\n",
    "def e(z):\n",
    "    return z*3\n",
    "\n",
    "if __name__ == '__main__':\n",
    "    x=torch.tensor(2.0,requires_grad=True)\n",
    "    w=torch.tensor(3.0,requires_grad=True)\n",
    "    ##forwad\n",
    "    y=y(x)\n",
    "    z=z(y,w)\n",
    "    e=e(z)\n",
    "    print(\"forward result:\",e)\n",
    "    #backward \n",
    "    e.backward()\n",
    "    print(\"e函数求梯度方法：\",e.grad_fn)\n",
    "    print(\"y函数求梯度方法：\",y.grad_fn)\n",
    "    print(\"x的梯度\",x.grad)\n",
    "    print(\"w的梯度\",w.grad)\n",
    "    "
   ]
  },
  {
   "attachments": {},
   "cell_type": "markdown",
   "metadata": {},
   "source": [
    "It can also find gradients of functions.\n",
    "\n",
    "Let  $w=[w_1,w_2]^T$\n",
    " \n",
    "Consider  $(w)=2w_1w_2+w_2\\cos(w_1)$\n",
    " \n",
    "Q: Compute  $∇wg(w)$\n",
    "  and verify $ ∇wg([π,1])=[2,π−1]^T$\n",
    "\n",
    "---\n",
    "\n",
    "进一步求得偏导数，并构成梯度向量\n",
    "\n",
    " "
   ]
  },
  {
   "cell_type": "code",
   "execution_count": 51,
   "metadata": {},
   "outputs": [
    {
     "name": "stdout",
     "output_type": "stream",
     "text": [
      "forwad\n",
      "tensor(5.2832, dtype=torch.float64, grad_fn=<AddBackward0>)\n",
      "backward\n",
      "tensor([2.0000, 5.2832], dtype=torch.float64)\n"
     ]
    }
   ],
   "source": [
    "def g(w):\n",
    "    return 2*w[0]*w[1]+w[1]*torch.cos(w[0])\n",
    "if __name__ == '__main__':\n",
    "    w=torch.tensor([torch.pi,1],dtype=float,requires_grad=True)\n",
    "    print(\"forwad\")\n",
    "    g=g(w)\n",
    "    print(g)\n",
    "    print(\"backward\")\n",
    "    g.backward()\n",
    "    print(w.grad)"
   ]
  },
  {
   "attachments": {},
   "cell_type": "markdown",
   "metadata": {},
   "source": [
    "基于以上torch对backward，梯度计算方式，可以结合实现梯度下降法；\n",
    "\n",
    "---\n",
    "Using the gradients\n",
    "Now that we have gradients, we can use our favorite optimization algorithm: gradient descent!\n",
    "\n",
    "Let  $f$\n",
    "  the same function we defined above.\n",
    "\n",
    "Q: What is the value of $ x$\n",
    "  that minimizes $ f$?\n",
    "\n",
    "  ---\n",
    "\n",
    "  注意在此"
   ]
  },
  {
   "cell_type": "code",
   "execution_count": null,
   "metadata": {},
   "outputs": [],
   "source": [
    "def f(x):\n",
    "    return (x-2)**2\n",
    "\n",
    "if __name__=='__main__':\n",
    "    iter=100\n",
    "    learning_rate=0.8\n",
    "    x=torch.tensor([100.0],requires_grad=True)\n",
    "    \n",
    "    for i in range(iter):\n",
    "        y=f(x)\n",
    "        y.backward()\n",
    "        #计算时，必须使用x.data\n",
    "        x.data=x.data-(x.grad)*learning_rate\n",
    "        print(x.data)\n",
    "        \n",
    "        x.grad.zero_() \n"
   ]
  },
  {
   "attachments": {},
   "cell_type": "markdown",
   "metadata": {},
   "source": [
    "基于Pytorch建立线性方程\n",
    "\n",
    "1. 构建基本的线性方程\n",
    "2. 描述方程各个部分\n",
    "\n",
    "---\n",
    "Linear Module \n",
    " \n",
    "The bread and butter of modules is the Linear module which does a linear transformation with a bias. It takes the input and output dimensions as parameters, and creates the weights in the object.\n",
    "\n",
    "Unlike how we initialized our  w manually, the Linear module automatically initializes the weights randomly. For minimizing non convex loss functions (e.g. training neural networks), initialization is important and can affect results. If training isn't working as well as expected, one thing to try is manually initializing the weights to something different from the default. PyTorch implements some common initializations in torch.nn.init.\n",
    "\n",
    "---\n",
    "\n",
    "pytorch 在linear层将会自动初始化权参、偏参的初始值，通过torch.nn.init 实现。"
   ]
  },
  {
   "cell_type": "markdown",
   "metadata": {},
   "source": [
    "### torch.optim 优化函数\n",
    "PyTorch implements a number of gradient-based optimization methods in torch.optim, including Gradient Descent.\n",
    "\n",
    " At the minimum, it takes in the model parameters and a learning rate.\n",
    "\n",
    "Optimizers do not compute the gradients for you, so you must call backward() yourself.\n",
    "\n",
    "You also must call the optim.zero_grad() function before calling backward() since by default\n",
    "\n",
    " PyTorch does and inplace add to the .grad member variable rather than overwriting it.\n",
    "\n",
    "This does both the detach_() and zero_() calls on all tensor's grad variables."
   ]
  },
  {
   "cell_type": "code",
   "execution_count": null,
   "metadata": {},
   "outputs": [],
   "source": [
    "import torch as t \n",
    "import numpy as np\n",
    "import pandas as pd\n",
    "import matplotlib.pyplot as plt\n",
    "from torch import nn\n",
    "class LinerModel(nn.Module):\n",
    "    def __init__(self):\n",
    "        super(LinerModel, self).__init__()\n",
    "        self.linear=nn.Linear(in_features=1,out_features=1)\n",
    "        self.weight=self.linear.weight\n",
    "        self.bias=self.linear.bias\n",
    "    \n",
    "    def forward(self,x):\n",
    "        return self.linear(x)\n",
    "    \n",
    "    def getParamters(self):\n",
    "        return self.weight,self.bias\n",
    "if  __name__ == '__main__':\n",
    "    \n",
    " \n",
    "\n",
    "    #plt.scatter(x,y)\n",
    "    x_t=t.tensor([[0.50,0.75,1.00,1.25,1.50,1.75,1.75,2.00,2.25,2.50,2.75,3.00,3.25,3.50,4.00,4.25,4.50,4.75,5.00,5.50]]).T\n",
    "    y_t=t.tensor([[10,  22,  13,  43,  20,  22,  33,  50,  62, 48,  55,  75,  62,  73,  81,  76,  64,  82,  90,  93]]).T\n",
    "    x_n=x_t.numpy().T\n",
    "    y_n=y_t.numpy().T\n",
    "    plt.scatter(x_n,y_n)\n",
    "    print(x_t.shape)\n",
    "    linear_module=LinerModel()\n",
    "    y_pred=linear_module.forward(x_t)\n",
    "    print(\"通过一次forwad后得到y predict\")\n",
    "    weight,bias=linear_module.getParamters()\n",
    "    print(\"模型中参数：\",linear_module.parameters())\n",
    "    print(\"初始权参值:\",weight)\n",
    "    print(\"初始偏参值:\",bias)\n",
    "    ########################实例化损失函数，优化函数########################################\n",
    "    loss_fn=nn.MSELoss()#定义均方误差函数作为损失函数\n",
    "    optimizer=t.optim.SGD(linear_module.parameters(),lr=0.001)#使用SGD优化函数，对inear_module.parameters()中权参、偏参进行梯度下降法优化，学习率为0.001\n",
    "    \n",
    "    iter=1000\n",
    "    i=0\n",
    "    for epoch in range(iter):#循环10000次epoch\n",
    "        print(\"第\",epoch,\"次epoch\")\n",
    "        for x,y in zip(x_t,y_t):#对训练集中每一个值都投入模型运算并求得对应梯度，并运行一次梯度下降，完成一个epoch\n",
    "            i+=1\n",
    "            y_predict=linear_module(x_t)\n",
    "            y_predict=y_predict.to(t.float32)\n",
    "            y_t=y_t.to(t.float32)\n",
    "            loss=loss_fn(y_predict, y_t)\n",
    "            optimizer.zero_grad()#清空上次的梯度积累\n",
    "            loss.backward()#损失函数进行backward反向传播\n",
    "            if iter>900:\n",
    "                \n",
    "                print(\"第\",i,\"次梯度下降后\")\n",
    "                print(\"模型中权参梯度：\",linear_module.weight.grad)\n",
    "                print(\"模型中偏参梯度\",linear_module.bias.grad)\n",
    "            optimizer.step()#根据计算得到的梯度开始梯度下降更新即W=W-∇w*learningrate\n",
    "    \n",
    "    ################################输出最终优化的权参和偏参##############################################\n",
    "    print(\"优化后得到权参、偏参分别为：\",list(linear_module.named_parameters()))\n",
    "    y_predict=linear_module(x_t).detach().numpy()#通过模型进行预测.detach()实现返回一个新的tensor，从当前计算图中分离下来的，但是仍指向原变量的存放位置,不同之处只是requires_grad为false，得到的这个tensor永远不需要计算其梯度，不具有grad。\n",
    "    plt.scatter(x_n,y_n)\n",
    "    plt.plot(x_t,y_predict)\n",
    "    \n",
    "    "
   ]
  },
  {
   "cell_type": "code",
   "execution_count": 110,
   "metadata": {},
   "outputs": [
    {
     "name": "stdout",
     "output_type": "stream",
     "text": [
      "example_tensor torch.Size([3, 1])\n",
      "transormed torch.Size([3, 4])\n",
      "\n",
      "We can see that the weights exist in the background\n",
      "\n",
      "W: Parameter containing:\n",
      "tensor([[ 0.7270],\n",
      "        [ 0.7984],\n",
      "        [-0.8338],\n",
      "        [ 0.7386]], requires_grad=True)\n",
      "b: Parameter containing:\n",
      "tensor([ 0.5252, -0.5931,  0.0407,  0.5955], requires_grad=True)\n"
     ]
    }
   ],
   "source": [
    "d_in = 3\n",
    "d_out = 4\n",
    "linear_module = nn.Linear(1, d_out)\n",
    "\n",
    "example_tensor = torch.tensor([[1.,2,3]]).T\n",
    "# applys a linear transformation to the data\n",
    "transformed = linear_module(example_tensor)\n",
    "print('example_tensor', example_tensor.shape)\n",
    "print('transormed', transformed.shape)\n",
    "print()\n",
    "print('We can see that the weights exist in the background\\n')\n",
    "print('W:', linear_module.weight)\n",
    "print('b:', linear_module.bias)"
   ]
  },
  {
   "attachments": {},
   "cell_type": "markdown",
   "metadata": {},
   "source": [
    "模型的改进\n",
    "\n",
    "以上模型没有加入激活函数，只是一个简单的一层线性全连接网络。\n",
    "\n",
    "以下改进模型，加入激活层，使用relu激活函数：\n",
    "\n",
    "---\n",
    "\n",
    "Activation functions\n",
    "PyTorch implements a number of activation functions including but not limited to ReLU, Tanh, and Sigmoid. Since they are modules, they need to be instantiated.\n",
    "\n",
    "---\n",
    "\n",
    "pytorch中，激活层的使用与之前numpy构建相似，首先实例化一个激活函数，正向传播全连接层input的数据后，得到激活值，传递给下一个全连接层。"
   ]
  },
  {
   "cell_type": "code",
   "execution_count": 49,
   "metadata": {},
   "outputs": [
    {
     "name": "stdout",
     "output_type": "stream",
     "text": [
      "tensor([1.4335, 0.6307], dtype=torch.float64)\n",
      "relu 季候函数\n",
      "tensor([1.4335, 0.6307], dtype=torch.float64)\n"
     ]
    }
   ],
   "source": [
    "relu_fn=nn.ReLU()#实例化Relu函数\n",
    "x=t.randn(2,dtype=float)\n",
    "print(x)\n",
    "print(\"relu 激活函数很简单，即如果x>0则输出x反之输出0\")\n",
    "y=relu_fn.forward(x)\n",
    "print(y)\n",
    "\n"
   ]
  },
  {
   "attachments": {},
   "cell_type": "markdown",
   "metadata": {},
   "source": [
    "实现将激活函数加入之前线性层之后，注意输出层也必须为一个线性层，而后在外部使用平均误差函数\n",
    "\n",
    "---\n",
    "出现问题\n",
    "1. 单独将数据放入GPU无法训练，还必须将model放入gpu\n",
    "```python\n",
    "    x_t=x_t.to(device)#将数据移动到gpu\n",
    "    y_t=y_t.to(device)#将数据运动到gpu\n",
    "    linear_module=LinerModel()\n",
    "    linear_module.to(device)#模型也必须移动到GPU\n",
    "```\n",
    "2. 如果想把CUDA tensor格式的数据改成numpy时，需要先将其转换成cpu float-tensor随后再转到numpy格式。 numpy不能读取CUDA tensor 需要将它转化为 CPU tensor\n",
    "```python\n",
    "    x_n=x_t.cpu().numpy().T\n",
    "    y_n=y_t.cpu().numpy().T\n",
    "```"
   ]
  },
  {
   "cell_type": "code",
   "execution_count": 15,
   "metadata": {},
   "outputs": [
    {
     "name": "stdout",
     "output_type": "stream",
     "text": [
      "cuda:0\n",
      "torch.Size([20, 1])\n",
      "通过一次forwad后得到y predict\n",
      "模型中参数： <generator object Module.parameters at 0x7f13dc35bc80>\n",
      "初始权参值: Parameter containing:\n",
      "tensor([[-0.1672]], device='cuda:0', requires_grad=True)\n",
      "初始偏参值: Parameter containing:\n",
      "tensor([0.2451], device='cuda:0', requires_grad=True)\n",
      "优化后得到权参、偏参分别为： [('weight', Parameter containing:\n",
      "tensor([[-2.3126]], device='cuda:0', requires_grad=True)), ('bias', Parameter containing:\n",
      "tensor([8.8496], device='cuda:0', requires_grad=True)), ('linear2.weight', Parameter containing:\n",
      "tensor([[-9.1446]], device='cuda:0', requires_grad=True)), ('linear2.bias', Parameter containing:\n",
      "tensor([80.9977], device='cuda:0', requires_grad=True))]\n"
     ]
    },
    {
     "data": {
      "image/png": "[encoded data removed]",
      "text/plain": [
       "<Figure size 432x288 with 1 Axes>"
      ]
     },
     "metadata": {},
     "output_type": "display_data"
    }
   ],
   "source": [
    "import torch as t \n",
    "import numpy as np\n",
    "import pandas as pd\n",
    "import matplotlib.pyplot as plt\n",
    "from torch import nn\n",
    "class LinerModel(nn.Module):\n",
    "    def __init__(self):\n",
    "        super(LinerModel, self).__init__()\n",
    "        self.linear1=nn.Linear(in_features=1,out_features=1)\n",
    "        self.relu1=nn.ReLU()\n",
    "        self.linear2=nn.Linear(in_features=1,out_features=1)\n",
    "        self.weight=self.linear1.weight\n",
    "        self.bias=self.linear1.bias\n",
    "    \n",
    "    def forward(self,x):\n",
    "        x=self.linear1(x)\n",
    "        x=self.relu1(x)\n",
    "        x=self.linear2(x)\n",
    "        return x\n",
    "    \n",
    "    def getParamters(self):\n",
    "        return self.weight,self.bias\n",
    "if  __name__ == '__main__':\n",
    "    \n",
    " \n",
    "\n",
    "    #plt.scatter(x,y)\n",
    "    x_t=t.tensor([[0.50,0.75,1.00,1.25,1.50,1.75,1.75,2.00,2.25,2.50,2.75,3.00,3.25,3.50,4.00,4.25,4.50,4.75,5.00,5.50]]).T\n",
    "    y_t=t.tensor([[10,  22,  13,  43,  20,  22,  33,  50,  62, 48,  55,  75,  62,  73,  81,  76,  64,  82,  90,  93]]).T\n",
    "    \n",
    "    device=\"cuda\" if t.cuda.is_available() else \"cpu\"\n",
    "    x_t=x_t.to(device)#将数据移动到gpu\n",
    "    y_t=y_t.to(device)#将数据运动到gpu\n",
    "    \n",
    "    print(x_t.device)\n",
    "    x_n=x_t.cpu().numpy().T\n",
    "    y_n=y_t.cpu().numpy().T\n",
    "    print(x_t.shape)\n",
    "    linear_module=LinerModel()\n",
    "    linear_module.to(device)#模型也必须移动到GPU\n",
    "    y_pred=linear_module.forward(x_t)\n",
    "    print(\"通过一次forwad后得到y predict\")\n",
    "    weight,bias=linear_module.getParamters()\n",
    "    print(\"模型中参数：\",linear_module.parameters())\n",
    "    print(\"初始权参值:\",weight)\n",
    "    print(\"初始偏参值:\",bias)\n",
    "    ########################实例化损失函数，优化函数########################################\n",
    "    loss_fn=nn.MSELoss()#定义均方误差函数作为损失函数\n",
    "    optimizer=t.optim.SGD(linear_module.parameters(),lr=0.001)#使用SGD优化函数，对inear_module.parameters()中权参、偏参进行梯度下降法优化，学习率为0.001\n",
    "    \n",
    "    iter=1000\n",
    "    i=0\n",
    "    for epoch in range(iter):#循环10000次epoch\n",
    "        #print(\"第\",epoch,\"次epoch\")\n",
    "        for x,y in zip(x_t,y_t):#对训练集中每一个值都投入模型运算并求得对应梯度，并运行一次梯度下降，完成一个epoch\n",
    "            i+=1\n",
    "            y_predict=linear_module(x_t)\n",
    "            y_predict=y_predict.to(t.float32)\n",
    "            y_t=y_t.to(t.float32)\n",
    "            loss=loss_fn(y_predict, y_t)\n",
    "            optimizer.zero_grad()#清空上次的梯度积累\n",
    "            loss.backward()#损失函数进行backward反向传播\n",
    "            if iter>9000:\n",
    "                \n",
    "                print(\"第\",i,\"次梯度下降后\")\n",
    "                print(\"模型中权参梯度：\",linear_module.weight.grad)\n",
    "                print(\"模型中偏参梯度\",linear_module.bias.grad)\n",
    "            optimizer.step()#根据计算得到的梯度开始梯度下降更新即W=W-∇w*learningrate\n",
    "    \n",
    "    ################################输出最终优化的权参和偏参##############################################\n",
    "    print(\"优化后得到权参、偏参分别为：\",list(linear_module.named_parameters()))\n",
    "    y_predict=linear_module(x_t).detach().cpu().numpy()#通过模型进行预测.detach()实现返回一个新的tensor，从当前计算图中分离下来的，但是仍指向原变量的存放位置,不同之处只是requires_grad为false，得到的这个tensor永远不需要计算其梯度，不具有grad。\n",
    "    plt.scatter(x_n,y_n)\n",
    "    plt.plot(x_n,y_predict.T)"
   ]
  },
  {
   "attachments": {},
   "cell_type": "markdown",
   "metadata": {},
   "source": [
    "基于以上代码，重现华盛顿大学 pytroch课程\n",
    "\n",
    "首先定义相关的待拟合函数\n",
    "$$y=4 \\times sin(\\pi \\times x)\\times cos(6 \\times x^2)$$\n",
    "\n",
    "并展现相关的图像"
   ]
  },
  {
   "cell_type": "code",
   "execution_count": 16,
   "metadata": {},
   "outputs": [
    {
     "name": "stdout",
     "output_type": "stream",
     "text": [
      "torch.Size([200, 1]) torch.Size([200, 1])\n"
     ]
    },
    {
     "data": {
      "image/png": "[encoded data removed]",
      "text/plain": [
       "<Figure size 640x480 with 1 Axes>"
      ]
     },
     "metadata": {},
     "output_type": "display_data"
    }
   ],
   "source": [
    "%matplotlib inline\n",
    "import torch \n",
    "import matplotlib.pyplot as plt\n",
    "import numpy as np\n",
    "from torch import nn\n",
    "\n",
    "class simpleNet(nn.Module):\n",
    "    def __init__(self,input,output):\n",
    "        super(simpleNet, self).__init__()\n",
    "        self.linear1=nn.Linear(in_features=input, out_features=200)\n",
    "        self.relu1=nn.ReLU()\n",
    "        self.linear2=nn.Linear(in_features=200, out_features=300)\n",
    "        self.relu2=nn.ReLU()\n",
    "        self.linear3=nn.Linear(in_features=300, out_features=output)\n",
    "    \n",
    "    def forward(self, x):\n",
    "        x=self.linear1(x)\n",
    "        x=self.relu1(x)\n",
    "        x=self.linear2(x)\n",
    "        x=self.relu2(x)\n",
    "        x=self.linear3(x)\n",
    "        return x\n",
    "if __name__=='__main__':\n",
    "    \n",
    "\n",
    "    d = 1\n",
    "    n = 200\n",
    "    X = torch.rand(n,d)\n",
    "    iterm=50000\n",
    "    y = 4 * torch.sin(np.pi * X) * torch.cos(6*np.pi*X**2)\n",
    "    print(X.shape, y.shape)\n",
    " \n",
    "################################################################\n",
    "    net=simpleNet(input=d,output=d)\n",
    "    loss_fn=nn.MSELoss()\n",
    "    opt=torch.optim.Adam(params=net.parameters(),lr=0.01)\n",
    "    for epoch in range(iterm):\n",
    "         \n",
    "            y_pred=net.forward(X)\n",
    "            loss=loss_fn(y_pred,y)\n",
    "            opt.zero_grad()\n",
    "            loss.backward()\n",
    "            opt.step()#更新权参、偏参\n",
    "    \n",
    "    X_grid = torch.from_numpy(np.linspace(0,1,50)).float().view(-1, d)\n",
    "    y_hat = net(X_grid)\n",
    "    plt.scatter(X.numpy(), y.numpy())\n",
    "    plt.plot(X_grid.detach().numpy(), y_hat.detach().numpy(), 'r')\n",
    "    plt.title('plot of $f(x)$ and $\\hat{f}(x)$')\n",
    "    plt.xlabel('$x$')\n",
    "    plt.ylabel('$y$')\n",
    "    plt.show()"
   ]
  },
  {
   "attachments": {},
   "cell_type": "markdown",
   "metadata": {},
   "source": [
    "Sequential\n",
    "---\n",
    "除了使用创建modle类，再进行模型训练方法，也可以通过Sequenltal将模型串联，开始运算，但这种方式正规性不强，与tensorflow类似。\n",
    "但是可以将Sequential集成到modle类中，实现序列包装，并在forwrd中直接调用，可以避免出错。\n",
    "\n",
    "```python\n",
    "class Net(nn.Module):\n",
    "    def __init__(self, input_num, hidden_num, output_num):\n",
    "        super(Net, self).__init__()\n",
    "        self.net = nn.Sequential(\n",
    "            nn.Linear(input_num, hidden_num),\n",
    "            nn.ReLU(),\n",
    "            nn.Linear(hidden_num, output_num),\n",
    "            nn.ReLU()\n",
    "        )\n",
    "\n",
    "    def forward(self, input):\n",
    "        return self.net(input)\n",
    " \n",
    "```\n",
    "__init__ 方法中不为每一层显式地创建一个实例类层，同时在forward中直接调用Squential对象进行运算即可。\n",
    "\n",
    "Many times, we want to compose Modules together. torch.nn.Sequential provides a good interface for composing simple modules."
   ]
  },
  {
   "attachments": {},
   "cell_type": "markdown",
   "metadata": {},
   "source": [
    "### \n",
    "在以上案例基础上，进一步实现多元回归的神经网络，包括\n",
    "1. 数据获取\n",
    "2. 数据观察\n",
    "3. 对数据的标准化\n",
    "4. 实现mini-batch载入\n",
    "5. 通过train、test数据划分验证数据\n",
    "6. 结合之前知识，实验模型优化\n",
    "总之，实现一个完整的面向数值多元数据的神经网络构建流程\n",
    "\n",
    "参考\n",
    "* [神经网络多元回归](https://blog.csdn.net/qq_39567427/article/details/111935833)"
   ]
  },
  {
   "cell_type": "code",
   "execution_count": 19,
   "metadata": {},
   "outputs": [
    {
     "name": "stderr",
     "output_type": "stream",
     "text": [
      "  WARNING: Retrying (Retry(total=4, connect=None, read=None, redirect=None, status=None)) after connection broken by 'ReadTimeoutError(\"HTTPSConnectionPool(host='files.pythonhosted.org', port=443): Read timed out. (read timeout=15)\")': /packages/7d/18/1474d06f721b86e6a9b9d7392ad68bed711a02f3b61ac43f13c719db50a6/torchsummary-1.5.1-py3-none-any.whl\n"
     ]
    },
    {
     "name": "stdout",
     "output_type": "stream",
     "text": [
      "Collecting torchsummary\n",
      "  Downloading torchsummary-1.5.1-py3-none-any.whl (2.8 kB)\n",
      "Installing collected packages: torchsummary\n",
      "Successfully installed torchsummary-1.5.1\n"
     ]
    }
   ],
   "source": [
    "!pip install torchsummary"
   ]
  },
  {
   "attachments": {},
   "cell_type": "markdown",
   "metadata": {},
   "source": [
    "载入数据，进行基本数据观察，数据来源于sklearn\n",
    "\n",
    "----\n",
    "注意层数与神经元确定个数：\n",
    "\n",
    "[参考](https://zhuanlan.zhihu.com/p/100419971)"
   ]
  },
  {
   "cell_type": "code",
   "execution_count": 48,
   "metadata": {},
   "outputs": [
    {
     "name": "stdout",
     "output_type": "stream",
     "text": [
      "载入数据tpye <class 'sklearn.utils.Bunch'>\n",
      "dict_keys(['data', 'target', 'feature_names', 'DESCR', 'filename', 'data_module'])\n",
      "自变量多元数据：\n",
      "['CRIM' 'ZN' 'INDUS' 'CHAS' 'NOX' 'RM' 'AGE' 'DIS' 'RAD' 'TAX' 'PTRATIO'\n",
      " 'B' 'LSTAT']\n",
      "[[6.320e-03 1.800e+01 2.310e+00 0.000e+00 5.380e-01 6.575e+00 6.520e+01\n",
      "  4.090e+00 1.000e+00 2.960e+02 1.530e+01 3.969e+02 4.980e+00]]\n",
      "自变量数据类型： <class 'numpy.ndarray'> 数据形状： (506, 13)\n",
      "因变量数据类型： <class 'numpy.ndarray'> 数据形状： (506, 1)\n",
      "训练集形状 (303, 13) (303, 1)\n",
      "测试集形状 (203, 13) (203, 1)\n",
      "----------------------------------------------------------------\n",
      "        Layer (type)               Output Shape         Param #\n",
      "================================================================\n",
      "            Linear-1                   [-1, 15]             210\n",
      "              ReLU-2                   [-1, 15]               0\n",
      "            Linear-3                   [-1, 15]             240\n",
      "              ReLU-4                   [-1, 15]               0\n",
      "            Linear-5                    [-1, 1]              16\n",
      "              ReLU-6                    [-1, 1]               0\n",
      "================================================================\n",
      "Total params: 466\n",
      "Trainable params: 466\n",
      "Non-trainable params: 0\n",
      "----------------------------------------------------------------\n",
      "Input size (MB): 0.00\n",
      "Forward/backward pass size (MB): 0.00\n",
      "Params size (MB): 0.00\n",
      "Estimated Total Size (MB): 0.00\n",
      "----------------------------------------------------------------\n",
      "完成一个epoch，需要读取 15 个batchs\n",
      "epoch： 0\n",
      "#####################\n",
      "第 0 个epoch\n",
      "train loss: 388.41354\n",
      "test loss: tensor(85.2660, grad_fn=<MseLossBackward0>)\n",
      "epoch： 1\n",
      "#####################\n",
      "第 1 个epoch\n",
      "train loss: 213.62555\n",
      "test loss: tensor(33.4102, grad_fn=<MseLossBackward0>)\n",
      "epoch： 2\n",
      "#####################\n",
      "第 2 个epoch\n",
      "train loss: 152.02838\n",
      "test loss: tensor(16.8728, grad_fn=<MseLossBackward0>)\n",
      "epoch： 3\n",
      "#####################\n",
      "第 3 个epoch\n",
      "train loss: 115.52554\n",
      "test loss: tensor(16.2946, grad_fn=<MseLossBackward0>)\n",
      "epoch： 4\n",
      "#####################\n",
      "第 4 个epoch\n",
      "train loss: 93.81191\n",
      "test loss: tensor(18.0412, grad_fn=<MseLossBackward0>)\n",
      "epoch： 5\n",
      "#####################\n",
      "第 5 个epoch\n",
      "train loss: 81.59075\n",
      "test loss: tensor(22.1259, grad_fn=<MseLossBackward0>)\n",
      "epoch： 6\n",
      "#####################\n",
      "第 6 个epoch\n",
      "train loss: 70.805534\n",
      "test loss: tensor(18.7670, grad_fn=<MseLossBackward0>)\n",
      "epoch： 7\n",
      "#####################\n",
      "第 7 个epoch\n",
      "train loss: 67.17115\n",
      "test loss: tensor(23.3269, grad_fn=<MseLossBackward0>)\n",
      "epoch： 8\n",
      "#####################\n",
      "第 8 个epoch\n",
      "train loss: 65.145294\n",
      "test loss: tensor(32.0861, grad_fn=<MseLossBackward0>)\n",
      "epoch： 9\n",
      "#####################\n",
      "第 9 个epoch\n",
      "train loss: 59.96207\n",
      "test loss: tensor(28.4636, grad_fn=<MseLossBackward0>)\n",
      "epoch： 10\n",
      "#####################\n",
      "第 10 个epoch\n",
      "train loss: 55.623318\n",
      "test loss: tensor(29.4716, grad_fn=<MseLossBackward0>)\n",
      "epoch： 11\n",
      "#####################\n",
      "第 11 个epoch\n",
      "train loss: 52.49579\n",
      "test loss: tensor(30.7497, grad_fn=<MseLossBackward0>)\n",
      "epoch： 12\n",
      "#####################\n",
      "第 12 个epoch\n",
      "train loss: 49.313686\n",
      "test loss: tensor(31.6828, grad_fn=<MseLossBackward0>)\n",
      "epoch： 13\n",
      "#####################\n",
      "第 13 个epoch\n",
      "train loss: 47.245144\n",
      "test loss: tensor(28.6713, grad_fn=<MseLossBackward0>)\n",
      "epoch： 14\n",
      "#####################\n",
      "第 14 个epoch\n",
      "train loss: 44.626152\n",
      "test loss: tensor(16.5995, grad_fn=<MseLossBackward0>)\n",
      "epoch： 15\n",
      "#####################\n",
      "第 15 个epoch\n",
      "train loss: 41.937035\n",
      "test loss: tensor(14.3932, grad_fn=<MseLossBackward0>)\n",
      "epoch： 16\n",
      "#####################\n",
      "第 16 个epoch\n",
      "train loss: nan\n",
      "test loss: tensor(14.4876, grad_fn=<MseLossBackward0>)\n",
      "epoch： 17\n",
      "#####################\n",
      "第 17 个epoch\n",
      "train loss: nan\n",
      "test loss: tensor(14.7042, grad_fn=<MseLossBackward0>)\n",
      "epoch： 18\n",
      "#####################\n",
      "第 18 个epoch\n",
      "train loss: nan\n",
      "test loss: tensor(14.7591, grad_fn=<MseLossBackward0>)\n",
      "epoch： 19\n",
      "#####################\n",
      "第 19 个epoch\n",
      "train loss: nan\n",
      "test loss: tensor(14.7712, grad_fn=<MseLossBackward0>)\n"
     ]
    },
    {
     "data": {
      "image/png": "[encoded data removed]",
      "text/plain": [
       "<Figure size 1000x500 with 1 Axes>"
      ]
     },
     "metadata": {},
     "output_type": "display_data"
    },
    {
     "name": "stdout",
     "output_type": "stream",
     "text": [
      "(203, 1)\n",
      "(203, 1)\n",
      "[  0   1   2   3   4   5   6   7   8   9  10  11  12  13  14  15  16  17\n",
      "  18  19  20  21  22  23  24  25  26  27  28  29  30  31  32  33  34  35\n",
      "  36  37  38  39  40  41  42  43  44  45  46  47  48  49  50  51  52  53\n",
      "  54  55  56  57  58  59  60  61  62  63  64  65  66  67  68  69  70  71\n",
      "  72  73  74  75  76  77  78  79  80  81  82  83  84  85  86  87  88  89\n",
      "  90  91  92  93  94  95  96  97  98  99 100 101 102 103 104 105 106 107\n",
      " 108 109 110 111 112 113 114 115 116 117 118 119 120 121 122 123 124 125\n",
      " 126 127 128 129 130 131 132 133 134 135 136 137 138 139 140 141 142 143\n",
      " 144 145 146 147 148 149 150 151 152 153 154 155 156 157 158 159 160 161\n",
      " 162 163 164 165 166 167 168 169 170 171 172 173 174 175 176 177 178 179\n",
      " 180 181 182 183 184 185 186 187 188 189 190 191 192 193 194 195 196 197\n",
      " 198 199 200 201 202]\n"
     ]
    },
    {
     "data": {
      "image/png": "[encoded data removed]",
      "text/plain": [
       "<Figure size 1000x500 with 1 Axes>"
      ]
     },
     "metadata": {},
     "output_type": "display_data"
    }
   ],
   "source": [
    "from sklearn.datasets import load_boston\n",
    "from sklearn.preprocessing import StandardScaler\n",
    "from sklearn.utils import shuffle\n",
    "from torch import nn\n",
    "import torch\n",
    " \n",
    "import matplotlib.pyplot as plt\n",
    "import numpy as np\n",
    "import pandas as pd\n",
    " \n",
    "from sklearn.preprocessing import scale\n",
    "from torchsummary import summary\n",
    "from matplotlib.font_manager import FontProperties\n",
    "\n",
    "class MyNet(nn.Module):\n",
    "    def __init__(self,input,output) -> None:\n",
    "        super(MyNet, self).__init__()\n",
    "        self.nn=nn.Sequential(\n",
    "            nn.Linear(in_features=13,out_features=15),\n",
    "            nn.ReLU(),\n",
    "            nn.Linear(in_features=15,out_features=15),\n",
    "            nn.ReLU(),\n",
    "            nn.Linear(in_features=15,out_features=1),\n",
    "            nn.ReLU()\n",
    "        )\n",
    "        #self.linear1=nn.Linear(in_features=13,out_features=20)\n",
    "        #self.relu1=nn.ReLU()\n",
    "        #self.linear2=nn.Linear(in_features=20,out_features=1)\n",
    "        #self.relu2=nn.ReLU()\n",
    "        \n",
    "    def forward(self,x):\n",
    "        return self.nn(x)\n",
    "        #x=self.linear1(x)\n",
    "        #x=self.relu1(x)\n",
    "        #x=self.linear2(x)\n",
    "        #x=self.relu2(x)\n",
    "        \n",
    "        return x\n",
    "\n",
    "if __name__ == '__main__':\n",
    "    if boston is None:\n",
    "       boston = load_boston()\n",
    "    print(\"载入数据tpye\",type(boston))\n",
    "    #获取数据键\n",
    "    print(boston.keys())\n",
    "    #print(\"数据集描述：\",boston['DESCR'])\n",
    "    print(\"自变量多元数据：\")\n",
    "    print(boston['feature_names'])\n",
    "    print(boston['data'][0:1])\n",
    "    #print(\"因变量：\")\n",
    "    #print(boston['target'])\n",
    "    ################################################################\n",
    "    #数据划分#\n",
    "    x=boston['data']\n",
    "    print(\"自变量数据类型：\",type(x),\"数据形状：\",x.shape)\n",
    "    y=boston['target'].reshape(-1,1)\n",
    "    print(\"因变量数据类型：\",type(y),\"数据形状：\",y.shape)\n",
    "    ################################################################\n",
    "    #数据预处理#\n",
    "    ## 1. 标准化因变量#，在此标准化非常重要，没有标准化得到模型基本不能使用\n",
    "    scaler=StandardScaler()\n",
    "    x=scaler.fit_transform(x)\n",
    "    ## 2. 数据打乱顺序\n",
    "    x,y=shuffle(x,y)\n",
    "    ## 3. 划分train，test\n",
    "    x_size=x.shape[0]\n",
    "    trian_size=int(x_size*0.6)\n",
    "    x_train,x_test,y_train,y_test=x[0:trian_size,:],x[trian_size:,:],y[0:trian_size,:],y[trian_size:,:]\n",
    "    print(\"训练集形状\",x_train.shape,y_train.shape)\n",
    "    print(\"测试集形状\",x_test.shape,y_test.shape)\n",
    "    #数据载入tensor\n",
    "    ## 1.转换numpy到tensor张量\n",
    "    x_train =torch.from_numpy(x_train)\n",
    "    y_train =torch.from_numpy(y_train)\n",
    "    x_test =torch.from_numpy(x_test)\n",
    "    y_test =torch.from_numpy(y_test)\n",
    "    ## 判断cuda是否可用，选择gpu或cpu载入数据处理\n",
    "    device=\"cuda\" if torch.cuda.is_available() else \"cpu\"\n",
    "    x_train.to(device)\n",
    "    y_train.to(device) \n",
    "    x_test.to(device) \n",
    "    y_test.to(device)\n",
    "    x_train=x_train.to(torch.float32)\n",
    "    y_train=y_train.to(torch.float32)\n",
    "    x_test=x_test.to(torch.float32)\n",
    "    y_test=y_test.to(torch.float32)\n",
    "    ################################################################\n",
    "    ## 1. 构建模型实例,注意要载入gpu或cpu中与数据对应,summary输出网络的结构信息\n",
    "    net=MyNet(input=13,output=1).to(device)\n",
    "    summary(net, input_size=(13,))\n",
    "    \n",
    "    ## 2.超参设置\n",
    "    learning_rate=0.02\n",
    "    epochs=20\n",
    "    batch_size=20\n",
    "    total_steps=int(x_train.shape[0]/batch_size)\n",
    "    print(\"完成一个epoch，需要读取\",total_steps,\"个batchs\")\n",
    "    ## 3.创建损失函数，优化函数实例\n",
    "    loss_fn=nn.MSELoss()\n",
    "    opt=torch.optim.Adam(params=net.parameters(),lr=learning_rate)\n",
    "    ## 4.创建list记录训练loss，以及最后的test loss，作为对比\n",
    "    train_loss_list=[]\n",
    "    test_loss_list=[]\n",
    "    train_acc_list=[]\n",
    "    test_acc_list=[]\n",
    "    step_loss=[]\n",
    "    ## 4.训练模型\n",
    "    for step in range(epochs):#循环1000个epochs\n",
    "        print(\"epoch：\",step)\n",
    "        for i in range(total_steps):#内部完成基于batch的一个epochs数据读取\n",
    "            x_train_batch=x_train[step * batch_size:(step + 1) * batch_size, :]\n",
    "            y_train_batch=y_train[step * batch_size:(step + 1) * batch_size, :]\n",
    "            #y_train=y_train.to(torch.float32)\n",
    "            #x_train=x_train.to(torch.float32)\n",
    "            y_pred=net(x_train_batch)\n",
    "            loss=loss_fn(y_pred,y_train_batch)\n",
    "            #print(loss.cpu().detach().numpy())\n",
    "            step_loss.append(loss.cpu().detach().numpy())#记录每一个batch的loss值\n",
    "            opt.zero_grad()\n",
    "            loss.backward()\n",
    "            opt.step()\n",
    "       \n",
    "        train_loss=np.mean(step_loss)#计算每一个epoch的平均loss\n",
    "        train_loss_list.append(train_loss)\n",
    "        y_predict=net(x_test)\n",
    "        test_loss=loss_fn(y_predict, y_test)\n",
    "        test_loss_list.append(test_loss.cpu().detach().numpy())\n",
    "        print('#####################')\n",
    "        print(\"第\",step,\"个epoch\")\n",
    "        print(\"train loss:\",train_loss)\n",
    "        print(\"test loss:\",test_loss)\n",
    "        \n",
    "    fig = plt.gcf()\n",
    "    fig.set_size_inches(10, 5)\n",
    "\n",
    "    plt.xlabel('Epochs', fontsize=15)\n",
    "    plt.ylabel('Loss', fontsize=15)\n",
    "    plt.plot(train_loss_list, 'blue', label='Train loss')\n",
    "    plt.plot(test_loss_list, 'red', label='Test loss')\n",
    "    plt.legend(loc='best')\n",
    "    plt.title('Training and Test loss', fontsize=15)\n",
    "    plt.show()\n",
    "    ################################################################\n",
    "    # 通过x_test预测数据并与实际值对比\n",
    "    y_predict=net.forward(x_test)\n",
    "    y_pred=y_predict.cpu().detach().numpy()\n",
    "    y_t=y_test.cpu().detach().numpy()\n",
    "    print(y_pred.shape)\n",
    "    print(y_t.shape)\n",
    "    predciton=np.arange(len(y_pred))\n",
    "    print(predciton)\n",
    "    fig = plt.gcf()\n",
    "    fig.set_size_inches(10, 5)\n",
    "    plt.scatter(predciton,y_pred,color='red')\n",
    "    plt.scatter(predciton,y_t,color='blue')\n",
    "    "
   ]
  }
 ],
 "metadata": {
  "kernelspec": {
   "display_name": "Python 3 (ipykernel)",
   "language": "python",
   "name": "python3"
  },
  "language_info": {
   "codemirror_mode": {
    "name": "ipython",
    "version": 3
   },
   "file_extension": ".py",
   "mimetype": "text/x-python",
   "name": "python",
   "nbconvert_exporter": "python",
   "pygments_lexer": "ipython3",
   "version": "3.9.13"
  },
  "orig_nbformat": 4,
  "vscode": {
   "interpreter": {
    "hash": "4500649f3376875055274a6ea5762786a730155ceb79c8798b9983f2d85af345"
   }
  }
 },
 "nbformat": 4,
 "nbformat_minor": 2
}
