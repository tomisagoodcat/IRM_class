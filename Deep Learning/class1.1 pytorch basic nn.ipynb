{
 "cells": [
  {
   "attachments": {},
   "cell_type": "markdown",
   "metadata": {},
   "source": [
    "# pytorch 基础\n",
    "\n",
    "本课内容包括\n",
    "1. 基本的pytorch入门\n",
    "2. pytorch中向量、导数、偏导操作，参考之前线性代数以及微积分\n",
    "3. 基于pytorch构建一个线性回归网络\n",
    "4. 基于pytorch实现class1 对图片的分类以及优化\n",
    "\n",
    "---\n",
    "\n",
    "参考资料\n",
    "\n",
    "1. [ws university pytorch introudction](https://courses.cs.washington.edu/courses/cse446/19au/section9.html)\n",
    "2. [li hong yi](https://www.youtube.com/watch?v=kQeezFrNoOg)\n",
    "3. [pytorch homepage](https://pytorch.org/tutorials/beginner/basics/quickstart_tutorial.html)"
   ]
  },
  {
   "attachments": {},
   "cell_type": "markdown",
   "metadata": {},
   "source": [
    "## 1.安装pytorch\n",
    "\n",
    "与tensorflow相同，pytorch分为cpu版本与gpu版本，官网有相对于安装代码\n",
    "[安装页面](https://pytorch.org/)\n",
    "\n"
   ]
  },
  {
   "cell_type": "markdown",
   "metadata": {},
   "source": [
    "参看本地计算机是否支持GPU以及GPU型号"
   ]
  },
  {
   "cell_type": "code",
   "execution_count": 10,
   "metadata": {},
   "outputs": [
    {
     "name": "stdout",
     "output_type": "stream",
     "text": [
      "GPU is available\n",
      "GPU的数量 1\n",
      "GPU的名字 NVIDIA GeForce RTX 3090\n",
      "当前GPU索引 0\n",
      "None\n"
     ]
    }
   ],
   "source": [
    "import torch\n",
    "def pytrochGPU(memoryview=False):\n",
    "    support=torch.cuda.is_available()\n",
    "    if support==True:\n",
    "        print(\"GPU is available\")\n",
    "        print(\"GPU的数量\",torch.cuda.device_count())\n",
    "        print(\"GPU的名字\",torch.cuda.get_device_name(0))\n",
    "        print(\"当前GPU索引\",torch.cuda.current_device())\n",
    "if __name__ == '__main__':\n",
    "    print(pytrochGPU())\n"
   ]
  },
  {
   "cell_type": "markdown",
   "metadata": {},
   "source": [
    "由于可能本地计算机没有gpu，为了避免出错，首先判断是GPU还是CPU，并将数据在对应设备上进行运算"
   ]
  },
  {
   "cell_type": "code",
   "execution_count": null,
   "metadata": {},
   "outputs": [],
   "source": [
    "import numpy as np\n",
    "device=\"gpu\" if torch.cuda.is_available() else \"cpu\"\n"
   ]
  }
 ],
 "metadata": {
  "kernelspec": {
   "display_name": "Python 3 (ipykernel)",
   "language": "python",
   "name": "python3"
  },
  "language_info": {
   "codemirror_mode": {
    "name": "ipython",
    "version": 3
   },
   "file_extension": ".py",
   "mimetype": "text/x-python",
   "name": "python",
   "nbconvert_exporter": "python",
   "pygments_lexer": "ipython3",
   "version": "3.8.11"
  },
  "orig_nbformat": 4,
  "vscode": {
   "interpreter": {
    "hash": "4500649f3376875055274a6ea5762786a730155ceb79c8798b9983f2d85af345"
   }
  }
 },
 "nbformat": 4,
 "nbformat_minor": 2
}
