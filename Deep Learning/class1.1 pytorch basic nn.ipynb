{
 "cells": [
  {
   "attachments": {},
   "cell_type": "markdown",
   "metadata": {},
   "source": [
    "# pytorch 基础\n",
    "\n",
    "本课内容包括\n",
    "1. 基本的pytorch入门\n",
    "2. pytorch中向量、导数、偏导操作，参考之前线性代数以及微积分\n",
    "3. 基于pytorch构建一个线性回归网络\n",
    "4. 基于pytorch实现class1 对图片的分类以及优化\n",
    "\n",
    "---\n",
    "\n",
    "参考资料\n",
    "\n",
    "1. [ws university pytorch introudction](https://courses.cs.washington.edu/courses/cse446/19au/section9.html)\n",
    "2. [li hong yi](https://www.youtube.com/watch?v=kQeezFrNoOg)\n",
    "3. [pytorch homepage](https://pytorch.org/tutorials/beginner/basics/quickstart_tutorial.html)"
   ]
  },
  {
   "attachments": {},
   "cell_type": "markdown",
   "metadata": {},
   "source": [
    "## 1.安装pytorch\n",
    "\n",
    "与tensorflow相同，pytorch分为cpu版本与gpu版本，官网有相对于安装代码\n",
    "[安装页面](https://pytorch.org/)\n",
    "\n"
   ]
  },
  {
   "cell_type": "code",
   "execution_count": 3,
   "metadata": {},
   "outputs": [
    {
     "ename": "ModuleNotFoundError",
     "evalue": "No module named 'torch'",
     "output_type": "error",
     "traceback": [
      "\u001b[1;31m---------------------------------------------------------------------------\u001b[0m",
      "\u001b[1;31mModuleNotFoundError\u001b[0m                       Traceback (most recent call last)",
      "\u001b[1;32m~\\AppData\\Local\\Temp\\ipykernel_5408\\4265195184.py\u001b[0m in \u001b[0;36m<module>\u001b[1;34m\u001b[0m\n\u001b[1;32m----> 1\u001b[1;33m \u001b[1;32mimport\u001b[0m \u001b[0mtorch\u001b[0m\u001b[1;33m\u001b[0m\u001b[1;33m\u001b[0m\u001b[0m\n\u001b[0m",
      "\u001b[1;31mModuleNotFoundError\u001b[0m: No module named 'torch'"
     ]
    }
   ],
   "source": [
    "import torch"
   ]
  },
  {
   "cell_type": "code",
   "execution_count": 1,
   "metadata": {},
   "outputs": [
    {
     "name": "stdout",
     "output_type": "stream",
     "text": [
      "^C\n"
     ]
    }
   ],
   "source": [
    "!conda install pytorch torchvision torchaudio cpuonly -c pytorch\n"
   ]
  },
  {
   "attachments": {},
   "cell_type": "markdown",
   "metadata": {},
   "source": [
    "## 张量\n",
    "\n",
    "之前的深度学习模型中，基于numpy构建模型，但在pytorch与tensorflow等深度学习框架中，使用的是tensor（张量）概念。\n",
    "\n",
    "张量是一种数据结构，可以认为是一种高维数组。结合线性代数，所对照的张量\n",
    "\n",
    "* 标量——0阶张量\n",
    "* 向量——1阶张量\n",
    "* 矩阵——2阶张量\n",
    "* 多维向量组——多阶张量\n",
    "\n",
    "---\n",
    "不同于tensorflow，pytorch中张量表达与计算与numpy基本相同\n"
   ]
  }
 ],
 "metadata": {
  "kernelspec": {
   "display_name": "base",
   "language": "python",
   "name": "python3"
  },
  "language_info": {
   "codemirror_mode": {
    "name": "ipython",
    "version": 3
   },
   "file_extension": ".py",
   "mimetype": "text/x-python",
   "name": "python",
   "nbconvert_exporter": "python",
   "pygments_lexer": "ipython3",
   "version": "3.9.13 (main, Aug 25 2022, 23:51:50) [MSC v.1916 64 bit (AMD64)]"
  },
  "orig_nbformat": 4,
  "vscode": {
   "interpreter": {
    "hash": "4500649f3376875055274a6ea5762786a730155ceb79c8798b9983f2d85af345"
   }
  }
 },
 "nbformat": 4,
 "nbformat_minor": 2
}
