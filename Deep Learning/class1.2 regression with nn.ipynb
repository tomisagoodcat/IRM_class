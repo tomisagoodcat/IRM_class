{
 "cells": [
  {
   "cell_type": "code",
   "execution_count": null,
   "metadata": {},
   "outputs": [],
   "source": []
  },
  {
   "attachments": {},
   "cell_type": "markdown",
   "metadata": {},
   "source": [
    "# regression with neriol networks \n",
    "\n",
    "---\n",
    "### backgroud & goal\n",
    "\n",
    "通过对比简单神经网络与回归方程，加深对两者的理解与印象\n",
    "\n",
    "平台基于pytorch与sklearn构建，前期数据处理流程尽量保存一致。\n",
    "\n",
    "---\n",
    "\n",
    "### 建立的回归方程 The type Of regression：\n",
    "\n",
    "1. 多元回归\n",
    "2. 逻辑回归\n",
    "3. 多分类\n",
    "\n",
    "----\n",
    "\n",
    "### 数据来源包括 data source：\n",
    "\n",
    "1. 信用卡数据\n",
    "2. 汽车数据\n",
    "\n",
    "---\n",
    "\n",
    "### 模型过程\n",
    "\n",
    "数据读取->EDA->数据整理（edit data）->模型建立->模型验证->模型部署\n",
    "\n",
    "不论是回归抑或神经网络都依照这一流程\n",
    "\n",
    "> pytorch 部署时数据处理使用 dataset，dataloader包装。\n",
    "> 分类判断 "
   ]
  },
  {
   "attachments": {},
   "cell_type": "markdown",
   "metadata": {},
   "source": [
    "## 实验1：汽车价格数据\n",
    "### overview:\n",
    "\n",
    "In this lab you will apply regression to some realistic data. In this lab you will work with the automotive price dataset. Your goal is to construct a linear regression model to predict the price of automobiles from their characteristics. \n",
    "\n",
    "In this lab will learn to:\n",
    "\n",
    "1. Use categorical data with scikit-learn. \n",
    "2. Apply transformations to features and labels to improve model performance. \n",
    "3. Compare regression models to improve model performance. \n",
    "4. Apply neorl network to the same data.\n",
    "\n",
    "----\n",
    "\n",
    "critial\n",
    "\n",
    "\n",
    "\n",
    "[](https://towardsdatascience.com/deep-learning-for-tabular-data-using-pytorch-1807f2858320)"
   ]
  }
 ],
 "metadata": {
  "language_info": {
   "name": "python"
  },
  "orig_nbformat": 4
 },
 "nbformat": 4,
 "nbformat_minor": 2
}
