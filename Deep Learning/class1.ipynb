{
 "cells": [
  {
   "cell_type": "code",
   "execution_count": null,
   "metadata": {},
   "outputs": [],
   "source": []
  },
  {
   "attachments": {},
   "cell_type": "markdown",
   "metadata": {},
   "source": [
    "深度学习基础1\n",
    "\n",
    "本节内容主要为深度学习的基础知识\n",
    "\n",
    "编码过程主要使用numpy作为基础，并对应tensorflow以及pytorch\n",
    "\n",
    "\n",
    "参考书目：\n",
    "\n",
    "深度学习入门：基于python的理论与实现\n",
    "\n",
    "深度学习的数学\n"
   ]
  },
  {
   "attachments": {},
   "cell_type": "markdown",
   "metadata": {},
   "source": [
    "1.感知机\n",
    "\n",
    "\n",
    "感知机是神经网络的的起源算法。学习感知机是深度学习中重要的思想。\n",
    "\n"
   ]
  },
  {
   "attachments": {},
   "cell_type": "markdown",
   "metadata": {},
   "source": [
    "### 激活函数"
   ]
  },
  {
   "cell_type": "code",
   "execution_count": 1,
   "metadata": {},
   "outputs": [
    {
     "name": "stdout",
     "output_type": "stream",
     "text": [
      "[-5 -4 -3 -2 -1  0  1  2  3  4]\n",
      "[0.00669285 0.01798621 0.04742587 0.11920292 0.26894142 0.5\n",
      " 0.73105858 0.88079708 0.95257413 0.98201379]\n"
     ]
    },
    {
     "data": {
      "text/plain": [
       "[<matplotlib.lines.Line2D at 0x18087feefd0>]"
      ]
     },
     "execution_count": 1,
     "metadata": {},
     "output_type": "execute_result"
    },
    {
     "data": {
      "image/png": "[encoded data removed]",
      "text/plain": [
       "<Figure size 640x480 with 1 Axes>"
      ]
     },
     "metadata": {},
     "output_type": "display_data"
    }
   ],
   "source": [
    "import numpy as np \n",
    "import matplotlib.pylab as plt \n",
    "def sigmoid(x:np.array)->np.array:\n",
    "    return 1/(1+np.exp(-x))\n",
    "\n",
    "\n",
    "x=np.arange(-5,5,1)\n",
    "print(x)\n",
    "y=sigmoid(x)\n",
    "print(y)\n",
    "plt.ylim(-0.1,1)\n",
    "plt.plot(x,y)"
   ]
  },
  {
   "attachments": {},
   "cell_type": "markdown",
   "metadata": {},
   "source": [
    "通过numpy构建一个基础的神经网络\n",
    "\n",
    "\n",
    "$$A^1=XW^1+B^1$$\n",
    "其中$W^1$为第0层权重系数矩阵，$B^1$为第0层的偏置参数矩阵，$A^1$为第0层计算得到的网络节点结果,$x$为最初的神经网络结点\n",
    "\n",
    "在此设初始节点有两个，第一层网络有三个节点，对应的变量矩阵与系数矩阵形状为\n",
    "$X_{(1 \\times 2)}$初始节点为两个\n",
    "$W_{(2 \\times 3)}$系数矩阵行与初始节点相同，列与第一层节点书目（3个）相同\n",
    "$A_{3 \\times 1}$\n",
    "\n",
    "$$\\begin{equation}\\begin{bmatrix}1 & 2 & 3 \\\\4 & 5 & 6\\\\7 & 8 & 9\\end{bmatrix} \\cdot \\begin{bmatrix}1 & 0 & 0\\\\0 & 1 & 0\\\\0 & 0 & 1\\end{bmatrix} = \\begin{bmatrix}1 & 2 & 3 \\\\4 & 5 & 6\\\\7 & 8 & 9\\end{bmatrix} \\end{equation}\n",
    "$$\n"
   ]
  },
  {
   "cell_type": "code",
   "execution_count": 28,
   "metadata": {},
   "outputs": [
    {
     "data": {
      "text/plain": [
       "array([0.3, 0.7, 1.1])"
      ]
     },
     "execution_count": 28,
     "metadata": {},
     "output_type": "execute_result"
    }
   ],
   "source": [
    "import numpy as np  \n",
    "x=np.array([1,0.5])#初始网络有两个节点，并赋值\n",
    "W1=np.array([[0.1,0.3,0.5],[0.2,0.4,0.6]])#对应第二层网络\n",
    "B1=np.array([0.1,0.2,0.3])#\n",
    "A1=x@W1+B1\n",
    "A1"
   ]
  },
  {
   "attachments": {},
   "cell_type": "markdown",
   "metadata": {},
   "source": [
    "在以上网络基本结构基础上，加入激活函数$h()$通过激活函数，第1层第n个节点结果$a_n$代入运算，得到该节点计算后的新的数值，该数值又作为下一层节点计算的输入节点。"
   ]
  },
  {
   "cell_type": "code",
   "execution_count": 29,
   "metadata": {},
   "outputs": [
    {
     "data": {
      "text/plain": [
       "array([0.57444252, 0.66818777, 0.75026011])"
      ]
     },
     "execution_count": 29,
     "metadata": {},
     "output_type": "execute_result"
    }
   ],
   "source": [
    "Z1=sigmoid(A1)\n",
    "Z1"
   ]
  },
  {
   "attachments": {},
   "cell_type": "markdown",
   "metadata": {},
   "source": [
    "第2层节点设为2个节点，计算方式与第一层相同，即：\n",
    "$$A^2=Z^1W^2+B^2$$\n",
    "$$$$\n",
    "其中$W^2$形状为（3，2）对应第一层Z1三个节点，第二层两个节点\n",
    "$B^2$对应第二层两个节点"
   ]
  },
  {
   "cell_type": "code",
   "execution_count": 30,
   "metadata": {},
   "outputs": [
    {
     "data": {
      "text/plain": [
       "array([0.51615984, 1.21402696])"
      ]
     },
     "execution_count": 30,
     "metadata": {},
     "output_type": "execute_result"
    }
   ],
   "source": [
    "W2=np.array([0.1,0.4,0.2,0.5,0.3,0.6])\n",
    "W2=W2.reshape(3,2)\n",
    "B2=np.array([0.1,0.2])\n",
    "A2=Z1@W2+B2\n",
    "A2"
   ]
  },
  {
   "attachments": {},
   "cell_type": "markdown",
   "metadata": {},
   "source": [
    "同样，第二层输入A2，通过激活函数$h()$，得到对应的两个节点输出Z2\n",
    "$$Z^2=h(A^2)$$"
   ]
  },
  {
   "cell_type": "code",
   "execution_count": 31,
   "metadata": {},
   "outputs": [
    {
     "data": {
      "text/plain": [
       "array([0.62624937, 0.7710107 ])"
      ]
     },
     "execution_count": 31,
     "metadata": {},
     "output_type": "execute_result"
    }
   ],
   "source": [
    "Z2=sigmoid(A2)\n",
    "Z2"
   ]
  },
  {
   "attachments": {},
   "cell_type": "markdown",
   "metadata": {},
   "source": [
    "最终的输出层为两个节点，但其激活函数有所差别，不使用sigmaod，而是使用恒等函数$i()$\n",
    "即最终输出的节点Y只与B3偏置矩阵相加，而不经过激活函数计算\n",
    "$$A^3=Z^2W^3+B^3$$\n",
    "$$Y=i(A^3)$$\n",
    "\n",
    "---\n",
    "输出层的激活函数需根据最终求解的问题来确定：\n",
    "* 回归问题 —— 一般使用恒等函数\n",
    "* 二分类问题 —— 可以使用sigmoid函数\n",
    "* 多分类问题 ——  可以使用softmax函数"
   ]
  },
  {
   "cell_type": "code",
   "execution_count": 32,
   "metadata": {},
   "outputs": [
    {
     "data": {
      "text/plain": [
       "array([0.31682708, 0.69627909])"
      ]
     },
     "execution_count": 32,
     "metadata": {},
     "output_type": "execute_result"
    }
   ],
   "source": [
    "def identify(a):\n",
    "    return a\n",
    "W3=np.array([[0.1,0.3],[0.2,0.4]])\n",
    "B3=np.array([0.1,0.2])\n",
    "A3=Z2@W3+B3\n",
    "Y=identify(A3)\n",
    "Y"
   ]
  },
  {
   "attachments": {},
   "cell_type": "markdown",
   "metadata": {},
   "source": [
    "综合以上步骤，定义简单3层神经网络类，实现神经网络的计算\n",
    "\n",
    "类包括基本的"
   ]
  },
  {
   "cell_type": "code",
   "execution_count": 23,
   "metadata": {},
   "outputs": [
    {
     "name": "stdout",
     "output_type": "stream",
     "text": [
      "第一层计算\n",
      "[0.50781228 0.76345024]\n"
     ]
    }
   ],
   "source": [
    "class SimpleNero():\n",
    "    \"\"\"_summary_\n",
    "    \n",
    "    \"\"\"\n",
    "    def __init__(self,x:np.array) -> None:\n",
    "        self.x=x\n",
    "        self.network={}\n",
    "        # 定义3层网络中各个网络参数\n",
    "        W1=np.array([[0.1,0.2,0.8],[0.2,0.1,0.8]])#对应第一层网络\n",
    "        B1=np.array([0.2,0.2,0.3])#\n",
    "        W2=np.array([0.2,0.1,0.5,0.2,0.7,0.8])\n",
    "        W2=W2.reshape(3,2)\n",
    "        B2=np.array([0.3,0.5])\n",
    "        W3=np.array([[0.3,0.2],[0.1,0.4]])\n",
    "        B3=np.array([0.2,0.3])\n",
    "        self.network['w1']=W1\n",
    "        self.network['b1']=B1\n",
    "        self.network['w2']=W2\n",
    "        self.network['b2']=B2\n",
    "        self.network['w3']=W3\n",
    "        self.network['b3']=B3\n",
    "    def forword(self):\n",
    "        print(\"第一层计算\")\n",
    "        A1=self.x@self.network['w1']+self.network['b1']\n",
    "  \n",
    "        Z1=sigmoid(A1)\n",
    "        A2=Z1@self.network['w2']+self.network['b2']\n",
    "        Z2=sigmoid(A2)\n",
    "        A3=Z2@self.network['w3']+self.network['b3']\n",
    "        y=identify(A3)\n",
    "        return Y\n",
    "if __name__=='__main__':\n",
    "    x=np.array([0.5,0.2])#初始网络有两个节点，并赋值\n",
    "    simpleNet=SimpleNero(x=x)\n",
    "    y=simpleNet.forword()\n",
    "    print(y)\n",
    "        \n",
    "        "
   ]
  },
  {
   "attachments": {},
   "cell_type": "markdown",
   "metadata": {},
   "source": [
    "## 输出层激活函数: 恒等函数、 softmax 与 sigmoid函数对比\n",
    "注意在此讨论的激活函数作用区间都是在层的内部，而不是两个层之间，两个层之间的关系依然是\n",
    "$$\\delta():A_k=Z_{k-1}\\times W_k +B_k$$\n",
    "$$y_k=a_k$$\n",
    "$$y_k=1/(1+e^{-a_k})$$\n",
    "$$y_k = exp(a_k) \\over \\sum_{i=1}^n exp(a_i)$$\n",
    "----\n",
    "softmax函数特征\n",
    "\n",
    "* 在网络最后一层，输出层使用softmax得到多分类的结果，其综合概率为1\n",
    "* softmax函数会出现计算数值过大，为此解决方法是分子分母中对应e参数（节点值）都减去对应常数，一般会使用输入信号最大值。\n",
    "---\n",
    "The **softmax** function or **normalized exponential function** is used for the output activation function of a multi-class classifiers. The softmax function is the multinomial generalization of the sigmoid or logistic function. The probability of each class $j$ is written as: \n",
    "\n",
    "$$\\sigma(z_j) = \\frac{e^{z_j}}{\\sum_{k=1}^K e^{z_k}}$$\n",
    "\n",
    "The normalization $\\sum_{k=1}^K e^{z_k}$ ensures the sum of probabilities for all classes add to $1.0$. The class selected by the classifier is the class with the largest value of $\\sigma(z_j)$."
   ]
  },
  {
   "cell_type": "code",
   "execution_count": 17,
   "metadata": {},
   "outputs": [
    {
     "name": "stdout",
     "output_type": "stream",
     "text": [
      "[0.01821127 0.24519181 0.73659691]\n",
      "1.0\n"
     ]
    }
   ],
   "source": [
    "def softmax(a:np.array)->np.array:\n",
    "    c=np.max(a)\n",
    "    return np.exp(a-c)/np.sum(np.exp(a-c))\n",
    "a=np.array([0.3,2.9,4])\n",
    "y=softmax(a)\n",
    "print(y)\n",
    "print(sum(y))"
   ]
  },
  {
   "attachments": {},
   "cell_type": "markdown",
   "metadata": {},
   "source": [
    "### 手写数字识别\n",
    "\n",
    "本案例时间神经网络的“推理处理”，也称为神经网络的向前传播（forward propagation），即先不考虑学习模型问题，而是使用已经学习好的模型（参数）进行模型的推理，得到结论例如分类。\n",
    "\n",
    "数据集Mnist"
   ]
  },
  {
   "attachments": {},
   "cell_type": "markdown",
   "metadata": {},
   "source": [
    "以下代码为获取mnist数据集合，并下载到当前文件夹下"
   ]
  },
  {
   "cell_type": "code",
   "execution_count": 4,
   "metadata": {},
   "outputs": [
    {
     "name": "stdout",
     "output_type": "stream",
     "text": [
      "c:\\Users\\tom\\OneDrive\\文档\\GitHub\\IRM_class\\Deep Learning\n"
     ]
    }
   ],
   "source": [
    "import os \n"
   ]
  },
  {
   "cell_type": "code",
   "execution_count": null,
   "metadata": {},
   "outputs": [],
   "source": [
    "# coding: utf-8\n",
    "try:\n",
    "    import urllib.request\n",
    "except ImportError:\n",
    "    raise ImportError('You should use Python 3.x')\n",
    "import os.path\n",
    "import gzip\n",
    "import pickle\n",
    "import os\n",
    "import numpy as np\n",
    "\n",
    "\n",
    "url_base = 'http://yann.lecun.com/exdb/mnist/'\n",
    "key_file = {\n",
    "    'train_img':'train-images-idx3-ubyte.gz',\n",
    "    'train_label':'train-labels-idx1-ubyte.gz',\n",
    "    'test_img':'t10k-images-idx3-ubyte.gz',\n",
    "    'test_label':'t10k-labels-idx1-ubyte.gz'\n",
    "}\n",
    "\n",
    " \n",
    "#dataset_dir = os.path.dirname(os.path.abspath(__file__))\n",
    "dataset_dir='C:\\\\Users\\\\tomis\\\\OneDrive\\\\LUCK\\\\luckLab\\\\irm_-class-master\\\\IRM_class\\\\Deep Learning'\n",
    "dataset_dir=os.path.abspath(\".\")\n",
    "save_file = dataset_dir+ \"/mnist.pkl\"\n",
    "\n",
    "train_num = 60000\n",
    "test_num = 10000\n",
    "img_dim = (1, 28, 28)\n",
    "img_size = 784\n",
    "\n",
    "\n",
    "def _download(file_name):\n",
    "    file_path = dataset_dir + \"/\" + file_name\n",
    "    \n",
    "    if os.path.exists(file_path):\n",
    "        return\n",
    "\n",
    "    print(\"Downloading \" + file_name + \" ... \")\n",
    "    urllib.request.urlretrieve(url_base + file_name, file_path)\n",
    "    print(\"Done\")\n",
    "    \n",
    "def download_mnist():\n",
    "    for v in key_file.values():\n",
    "       _download(v)\n",
    "        \n",
    "def _load_label(file_name):\n",
    "    file_path = dataset_dir + \"/\" + file_name\n",
    "    \n",
    "    print(\"Converting \" + file_name + \" to NumPy Array ...\")\n",
    "    with gzip.open(file_path, 'rb') as f:\n",
    "            labels = np.frombuffer(f.read(), np.uint8, offset=8)\n",
    "    print(\"Done\")\n",
    "    \n",
    "    return labels\n",
    "\n",
    "def _load_img(file_name):\n",
    "    file_path = dataset_dir + \"/\" + file_name\n",
    "    \n",
    "    print(\"Converting \" + file_name + \" to NumPy Array ...\")    \n",
    "    with gzip.open(file_path, 'rb') as f:\n",
    "            data = np.frombuffer(f.read(), np.uint8, offset=16)\n",
    "    data = data.reshape(-1, img_size)\n",
    "    print(\"Done\")\n",
    "    \n",
    "    return data\n",
    "    \n",
    "def _convert_numpy():\n",
    "    dataset = {}\n",
    "    dataset['train_img'] =  _load_img(key_file['train_img'])\n",
    "    dataset['train_label'] = _load_label(key_file['train_label'])    \n",
    "    dataset['test_img'] = _load_img(key_file['test_img'])\n",
    "    dataset['test_label'] = _load_label(key_file['test_label'])\n",
    "    \n",
    "    return dataset\n",
    "\n",
    "def init_mnist():\n",
    "    download_mnist()\n",
    "    dataset = _convert_numpy()\n",
    "    print(\"Creating pickle file ...\")\n",
    "    with open(save_file, 'wb') as f:\n",
    "        pickle.dump(dataset, f, -1)\n",
    "    print(\"Done!\")\n",
    "\n",
    "def _change_one_hot_label(X):\n",
    "    T = np.zeros((X.size, 10))\n",
    "    for idx, row in enumerate(T):\n",
    "        row[X[idx]] = 1\n",
    "        \n",
    "    return T\n",
    "    \n",
    "\n",
    "def load_mnist(normalize=True, flatten=True, one_hot_label=False):\n",
    "    \"\"\" 以“（训练图像、训练标签），（测试图像、测试标签）的形式返回读入的MNIST数据”\n",
    "    Parameters\n",
    "    ----------\n",
    "    normalize : 是否将输入图像正规化为0.0~1.0 的值，如果该参数设置为False，则输入的图像像素会保留原来的0-255。\n",
    "    flatten :设置是否展开输入图像（变成一维数组），如果为Flase则输入图像为1*28*28的三维数组；若设置为Ture，则输入图像会保存为784个元素构成的一维数组\n",
    "    one_hot_label : \n",
    "        one_hot_label设置是否将标签保存为ont-hote\n",
    "        one-hot 表示是仅正确的标签为1，其余都为0的数组 \n",
    "    Returns\n",
    "    -------\n",
    "    （训练图像、训练标签），（测试图像、测试标签）\n",
    "    \"\"\"\n",
    "    if not os.path.exists(save_file):\n",
    "        init_mnist()\n",
    "        \n",
    "    with open(save_file, 'rb') as f:\n",
    "        dataset = pickle.load(f)\n",
    "    \n",
    "    if normalize:\n",
    "        for key in ('train_img', 'test_img'):\n",
    "            dataset[key] = dataset[key].astype(np.float32)\n",
    "            dataset[key] /= 255.0\n",
    "            \n",
    "    if one_hot_label:\n",
    "        dataset['train_label'] = _change_one_hot_label(dataset['train_label'])\n",
    "        dataset['test_label'] = _change_one_hot_label(dataset['test_label'])\n",
    "    \n",
    "    if not flatten:\n",
    "         for key in ('train_img', 'test_img'):\n",
    "            dataset[key] = dataset[key].reshape(-1, 1, 28, 28)\n",
    "\n",
    "    return (dataset['train_img'], dataset['train_label']), (dataset['test_img'], dataset['test_label']) \n",
    "\n",
    "\n",
    "if __name__ == '__main__':\n",
    "    init_mnist()\n"
   ]
  },
  {
   "attachments": {},
   "cell_type": "markdown",
   "metadata": {},
   "source": [
    "基于以上代码，读取MNIST数据，并拆分为训练集、测试集"
   ]
  },
  {
   "cell_type": "code",
   "execution_count": 6,
   "metadata": {},
   "outputs": [
    {
     "name": "stdout",
     "output_type": "stream",
     "text": [
      "训练集图像格式： <class 'numpy.ndarray'>\n",
      "得到的训练集第一张图谱形状： (784,)\n",
      "(60000, 784)\n",
      "[5 0 4 ... 5 6 8]\n",
      "(10000, 784)\n"
     ]
    }
   ],
   "source": [
    "import sys, os \n",
    "from PIL import Image\n",
    "sys.path.append(os.pardir)\n",
    "import pickle\n",
    "\n",
    "def img_show(img):\n",
    "    \"\"\"显示图像函数\n",
    "\n",
    "    Args:\n",
    "        img (np.array): 载入的图像,数组格式\n",
    "    \"\"\"\n",
    "    pil_img=Image.fromarray(np.uint(img))\n",
    "    pil_img.show()\n",
    "if __name__==\"__main__\":\n",
    "    (x_train,t_train),(x_test,t_test)=load_mnist(flatten=True,normalize=False)\n",
    "    img=x_train[0]\n",
    "    label=t_train[0]\n",
    "    print(\"训练集图像格式：\",type(img))\n",
    "    print(\"得到的训练集第一张图谱形状：\",img.shape)\n",
    "    img_show(img.reshape(28,28))#将得到的\n",
    "    print(x_train.shape)\n",
    "    print(t_train)\n",
    "    print(x_test.shape)\n"
   ]
  },
  {
   "attachments": {},
   "cell_type": "markdown",
   "metadata": {},
   "source": [
    "在以上载入图像，训练集测试集划分基础上实现向前foward\n",
    "不训练数据，而是调用已训练好的参数（使用python pickle方法调用），并进行模型的准确度检验。\n",
    "\n",
    "包括数据载入load_data()，网络初始化__init__()，预测predict()"
   ]
  },
  {
   "cell_type": "code",
   "execution_count": null,
   "metadata": {},
   "outputs": [],
   "source": [
    "import Function as f\n",
    "import pickle\n",
    "class MinitNet():\n",
    "    \"\"\"自定义读取Minitst数据训练模型\n",
    "    \"\"\"\n",
    "    def load_data(self):\n",
    "        (x_train,t_train),(x_test,t_test)=load_mnist(flatten=True,normalize=True)\n",
    "        return x_test,t_test\n",
    "\n",
    "    def __init__(self):\n",
    "        with open(\"sample_weight.pkl\",\"rb\") as f:\n",
    "            self.network=pickle.load(f)\n",
    "        print(\"读取已训练模型参数,保存在sample_weight.pkl中\")\n",
    "        print(type(self.network))\n",
    "       \n",
    "    \n",
    "    def forwod(self,x:np.array)->int:\n",
    "         \n",
    "        print(\"调用预训练参数，三层网络结构\")\n",
    "        W1=self.network['W1']\n",
    "        W2=self.network['W2']\n",
    "        W3=self.network['W3']\n",
    "        b1=self.network['b1']\n",
    "        b2=self.network['b2']\n",
    "        b3=self.network['b3']\n",
    "        print(\"输入层的结构\",x.shape)\n",
    "        print(\"第一层网络系数矩阵形状：\",W1.shape)\n",
    "        print(\"第一层网络偏置矩阵形状：\",b1.shape)\n",
    "        print(\"第二层网络系数矩阵形状：\",W2.shape)\n",
    "        print(\"第二层网络偏置矩阵形状：\",b2.shape)\n",
    "        print(\"第三层网络系数矩阵形状：\",W3.shape)\n",
    "        print(\"第三层网络偏置矩阵形状：\",b3.shape)\n",
    "        print(\"开始网络计算\")\n",
    "        print(\"输入层网络节点书目\",x.shape)\n",
    "        A1=x@W1+b1\n",
    "        print(\"第一层网络输入节点\",A1.shape)\n",
    "        Z1=f.sigmoid(A1)\n",
    "        print(\"通过sigmoid函数计算节点内部输出结果，并作为第二层输入\")\n",
    "        A2=Z1@W2+b2\n",
    "        print(\"通过sigmoid函数计算节点内部输出结果，并作为第三层输入\")\n",
    "        Z2=f.sigmoid(A2)\n",
    "        A3=Z2@W3+b3 \n",
    "        print(\"通过softmax函数计算节点计算输出层结果，并通过np.argmax函数返回最大概率对应项\")\n",
    "        Y=f.softmax(A3)\n",
    "        print(\"预测结果矩阵形状\",Y.shape)\n",
    "        print(\"预测结果矩阵维度\",Y.ndim)\n",
    "        if Y.ndim==1:\n",
    "            return np.argmax(Y)\n",
    "        elif Y.ndim==2:\n",
    "            return np.argmax(Y,axis=1)\n",
    "        #print(np.argmax(Y,axis=1))\n",
    "        #rs=np.argmax(Y)\n",
    "        #print(\"预测结果矩阵形状\",Y.shape,'通过max得到概率最大的图片对应数字分类结果')\n",
    "        return Y               \n",
    "if __name__==\"__main__\":\n",
    "    miniNet=MinitNet()\n",
    "    x_test,t_test=miniNet.load_data()\n",
    "    x23=x_test[22]\n",
    "    t23=t_test[22]\n",
    "    rs=miniNet.forwod(x23)\n",
    "    print(\"预测结果：\",rs)\n",
    "    print(\"真实值：\",t23)\n",
    "    print(\"预测结果是否正确\",rs==t23)"
   ]
  },
  {
   "attachments": {},
   "cell_type": "markdown",
   "metadata": {},
   "source": [
    "批量处理\n",
    "\n",
    "以上代码每次只处理（forward）一个图像即一个一维数组，但可以一次性处理多个数组\n",
    "\n",
    "这种打包方式的输入数据称为批（batch）。就如一捆数据打包输入函数处理。\n",
    "\n",
    "在神经网络运算中，当数据传输称为瓶颈，批处理可以减轻数据总线负荷。批处理一次计算大型数组要比分开逐步计算各个小型数组速度更快。"
   ]
  },
  {
   "cell_type": "code",
   "execution_count": null,
   "metadata": {},
   "outputs": [],
   "source": [
    "x,t=miniNet.load_data()\n",
    "\n",
    "print(\"数据格式为：\",x.shape,\"其中图片数目：\",x.shape[0],\"每个图片为1维度数组，数组大小：\",x.shape[1])\n",
    "print(\"标签数组格式为:\",t.shape)\n",
    "batch_size=100\n",
    "j=1\n",
    "acc=0\n",
    "for i in range(0,len(x),batch_size):\n",
    "    print(\"第\",j,\"次载入\")\n",
    "    print(\"每批次载入：\",batch_size,\"张图片\")\n",
    "    print(\"本次载入\",i,\"到\",i+batch_size,\"张图片\")\n",
    "    j=j+1\n",
    "    \n",
    "    y=miniNet.forwod(x[i:i+batch_size,:])\n",
    "    y_pred=y#np.argmax(y,axis=1)\n",
    "    print(y_pred)\n",
    "    acc+=np.sum(y_pred==t[i:i+batch_size])\n",
    "print(\"准确率为：\",acc/len(x))\n",
    " "
   ]
  },
  {
   "attachments": {},
   "cell_type": "markdown",
   "metadata": {},
   "source": [
    "# 神经网络的学习\n",
    "\n",
    "为了优化神经网络，使得模型能够更好第预测，需要对网络进行学习\n",
    "\n",
    "1. 不同于人工学习、机器学习，神经网络学习是一种端到端的学习方式。\n",
    "> 机器学习，神经网络学习首先需要将输入信息（例如图像、文本）进行预处理，变为向量等机器可以理解方式，而后通过算法（聚类、分类算法）等进行学习。整个步骤中，如果将原始信息变为向量表达，需要人工干预。\n",
    "> 深度学习与机器学习不同之处在于，原始信息变为向量这个过程也是机器进行学习确定，从而使得模型更不需要人工干预，且可以复用不同场景。\n",
    "\n",
    "2. 训练集与测试集\n",
    "与回归等学习相同，深度学习为了验证准确度，避免模型过拟合，也分为train与test两个集合\n",
    "\n",
    "3. 损失函数\n",
    "\n",
    "与回归相同，深度学习需要通过损失函数来调优参数，包括通过求偏导，对参数（系数参数W，偏参B调优）最终实现损失函数值（误差）最小，从而模型最优化。\n",
    "\n",
    "损失函数有多个，常用包括均方误差（mean squared error）；交叉熵误差函数(cross entropy error)\n",
    " \n",
    "$$e_{mean}=\\frac{1}{2} \\times {\\sum_{n=1}^N (y_n-y_n^{'})^2}$$\n",
    "$$e_{cross}=-\\sum_{n=1}^N (y_n \\times log(y_n^{'}))$$\n",
    "---\n",
    "在此注意的是，在进行分类运算时，如果用one-hot表示方法，那么均方误差法求得是\n",
    "\n",
    "y=[1,0,0,0]-y_p=[0.7,0.2,0.1]的对应差的平方/2值\n",
    "但使用交叉熵方法时候，由于非真值标签为0，得到的误差实际就是为真值时候对应概率（0.7）的log值取负值：\n",
    "\n",
    "$$e_{cross}=-\\sum_{n=1}^N (1 \\times log(0.7))$$\n",
    "\n",
    "----\n",
    "误差函数确定后，带入求$y^{'}$公式，例如在进行多分类运算时，最后输出层计算公式为softmax，则将相应公式带回误差计算中。\n",
    " \n",
    "$$e_{cross}=-\\sum_{n=1}^N (y_i \\times log(y_i^{'}))...(1)$$\n",
    "$$y_i^{'} = {exp(x_i) \\over \\sum_{j=1}^n exp(x_j)}...(2)$$\n",
    "\n",
    "此处为了统一，相关符号进行了改变，以上首先通过公式(2），通过第i个x节点输入数据，以及其他n-1个节点输入数据，求得该节点通过softmax函数计算结果。将结果带入公式（1）与实际值对比，得到误差。注意输入的是数组，输出也是数组（概率值）\n"
   ]
  },
  {
   "cell_type": "code",
   "execution_count": 6,
   "metadata": {},
   "outputs": [
    {
     "data": {
      "text/plain": [
       "0.09750000000000003"
      ]
     },
     "execution_count": 6,
     "metadata": {},
     "output_type": "execute_result"
    }
   ],
   "source": [
    "import numpy as np \n",
    "def mean_sqared_e(y,y_p):\n",
    "    \"\"\"均方误差函数\n",
    "\n",
    "    Args:\n",
    "        y (_type_): 真值\n",
    "        y_p (_type_):预测值\n",
    "    Returns:\n",
    "        _type_: _description_\n",
    "    \"\"\"\n",
    "    e=(np.sum((y-y_p)**2))/2\n",
    "    return e\n",
    "def cross_entropy_e(y,y_p):\n",
    "    \"\"\"交叉熵误差\n",
    "\n",
    "    Args:\n",
    "        y (_type_): 真值\n",
    "        y_p (_type_):预测值\n",
    "    \"\"\"\n",
    "    delta=1e-7# 为了防止计算结果溢出\n",
    "    e=-np.sum(y*np.log(y_p+delta))\n",
    "    return e\n",
    "#验证自编辑函数是否正确\n",
    "t=np.array([0,0,1,0,0,0,0,0,0,0])\n",
    "y=np.array([0.1,0.05,0.6,0,0.05,0.1,0,0.1,0,0])\n",
    "e1=cross_entropy_e(t,y)\n",
    "e1\n",
    "e2=mean_sqared_e(t,y)\n",
    "e2"
   ]
  },
  {
   "attachments": {},
   "cell_type": "markdown",
   "metadata": {},
   "source": [
    "### mini-batch问题\n",
    "\n",
    "首先，不论是回归问题，深度学习问题,都是通过训练集中，整体预测值与真实值的误差最小化（微分实现参数调优），上面的代码载入的是一个数据集（一张图片(784,)一维向量），实际中应该载入所有训练集数据，例如6000张图，那么向量应该是(6000,784)。\n",
    "\n",
    "----\n",
    "首先将之前的误差函数（交叉熵误差）进行扩展，得到是所有训练集的误差值和的均值\n",
    "$$e_{sum_cross}=-\\sum_{n=1}^N (y_n \\times log(y_n^{'}))$$\n",
    " \n",
    "例如假设现有（n=6000）张训练图片，每个图片最终有（k=10）个可能结果。那么当只是一个图载入时候，得到的交叉熵结果为\n",
    "$$e_{cross}=-\\sum_{k=1}^{k=10} (y_k \\times log(y_k^{'}))$$\n",
    "得到10个真正label与计算值$y_{'}$计算结果。只不过这里由于使用了one-hot,导致除了真值其他对应值都是0\n",
    "\n",
    "\n",
    "$$e_{cross}=-(\\sum_{n=1}^{n=6000}\\sum_{k=1}^{k=10} (y_{nk} \\times log(y_{nk}^{'})))/n$$\n",
    "\n",
    "在单个数据载入求误差基础上，将所有数据（图片）误差加重并平均就得到训练集总体误差\n",
    "\n",
    "但为了由于此时数据量较大，增加了计算压力，此时可以基于统计中的抽样方式，通过每次抽样一定的数据得到训练结果。也就是设定mini-batch=抽样100\n"
   ]
  },
  {
   "cell_type": "code",
   "execution_count": null,
   "metadata": {},
   "outputs": [],
   "source": [
    "import numpy as np \n",
    "import data\n",
    "#    （训练图像、训练标签），（测试图像、测试标签） \n",
    "(train_data,train_label),(test_data,test_label)=data.load_mnist()\n",
    "train_size=train_data.shape[0]\n",
    "print(\"测试集数量：\",train_size)\n",
    "##### 随机抽取其中100个作为误差项计算\n",
    "batch_size=100# 抽取数目\n",
    "random_index=np.random.choice(train_size,batch_size)\n",
    "print(\"随机index：\",random_index)\n",
    "train_data_batch=train_data[random_index]\n",
    "train_label_batch=train_label[random_index]\n"
   ]
  },
  {
   "attachments": {},
   "cell_type": "markdown",
   "metadata": {},
   "source": [
    "通过得到随机index获取抽样数据框。mini——bach=100"
   ]
  },
  {
   "cell_type": "code",
   "execution_count": null,
   "metadata": {},
   "outputs": [],
   "source": [
    "print(type(train_data))\n",
    "print(train_data.shape)\n",
    "print(train_data.shape[0]*train_data.shape[1])\n",
    "print(train_data.size)# size是数组中所有数据项数目\n",
    "print(train_data[0].ndim)\n",
    "print(train_data[0].shape)\n",
    "data=train_data[0].reshape(1,train_data[0].size)\n",
    "print(data.shape)\n",
    "print(data)"
   ]
  },
  {
   "cell_type": "code",
   "execution_count": 9,
   "metadata": {},
   "outputs": [
    {
     "name": "stdout",
     "output_type": "stream",
     "text": [
      "def cross_entropy_e(y,y_p):\n",
      "    \"\"\"更新之前交叉熵方法，扩展为多个测试集相加后平均情况，但也可以接受单个测试数据\n",
      "\n",
      "    Args:\n",
      "        y (_type_): 真值，可以是一维、二维数组，但最终计算时都必须转换为矩阵\n",
      "        y_p (_type_): 预测值，可以是一维、二维数组，但最终计算时都必须转换为矩阵\n",
      "    \"\"\"\n",
      "    delta=1e-7# 为了防止计算结果溢出\n",
      "    n=y.shape[0]\n",
      "    e=-np.sum(np.sum(y*np.log(y_p+delta),axis=1),axis=0)/n\n",
      "def cross_entropy_e(y,y_p):\n",
      "    \"\"\"更新之前交叉熵方法，扩展为多个测试集相加后平均情况，但也可以接受单个测试数据\n",
      "\n",
      "    Args:\n",
      "        y (_type_): 真值，可以是一维、二维数组，但最终计算时都必须转换为矩阵\n",
      "        y_p (_type_): 预测值，可以是一维、二维数组，但最终计算时都必须转换为矩阵\n",
      "    \"\"\"\n",
      "    delta=1e-7# 为了防止计算结果溢出\n",
      "    n=y.shape[0]\n",
      "    e=-np.sum(np.sum(y*np.log(y_p+delta),axis=1),axis=0)/n\n",
      "y=np.array([0,1,0,0])\n",
      "y_p=np.array([[0.2,0.4,0.3,0.1]])\n",
      "e=cross_entropy_e(y,y_p)\n",
      "import numpy as  np \n",
      "def cross_entropy_e(y,y_p):\n",
      "    \"\"\"更新之前交叉熵方法，扩展为多个测试集相加后平均情况，但也可以接受单个测试数据\n",
      "\n",
      "    Args:\n",
      "        y (_type_): 真值，可以是一维、二维数组，但最终计算时都必须转换为矩阵\n",
      "        y_p (_type_): 预测值，可以是一维、二维数组，但最终计算时都必须转换为矩阵\n",
      "    \"\"\"\n",
      "    delta=1e-7# 为了防止计算结果溢出\n",
      "    n=y.shape[0]\n",
      "    e=-np.sum(np.sum(y*np.log(y_p+delta),axis=1),axis=0)/n\n",
      "    return e\n",
      "y=np.array([0,1,0,0])\n",
      "y_p=np.array([[0.2,0.4,0.3,0.1]])\n",
      "e=cross_entropy_e(y,y_p)\n",
      "import numpy as  np \n",
      "def cross_entropy_e(y,y_p):\n",
      "    \"\"\"更新之前交叉熵方法，扩展为多个测试集相加后平均情况，但也可以接受单个测试数据\n",
      "\n",
      "    Args:\n",
      "        y (_type_): 真值，可以是一维、二维数组，但最终计算时都必须转换为矩阵\n",
      "        y_p (_type_): 预测值，可以是一维、二维数组，但最终计算时都必须转换为矩阵\n",
      "    \"\"\"\n",
      "    delta=1e-7# 为了防止计算结果溢出\n",
      "    n=y.shape[0]\n",
      "    e=-np.sum(np.sum(y*np.log(y_p+delta),axis=1),axis=0)/n\n",
      "    return e\n",
      "y=np.array([0,1,0,0])\n",
      "y_p=np.array([[0.2,0.4,0.3,0.1]])\n",
      "e=cross_entropy_e(y,y_p)\n",
      "print(e)\n",
      "import numpy as  np \n",
      "def cross_entropy_e(y,y_p):\n",
      "    \"\"\"更新之前交叉熵方法，扩展为多个测试集相加后平均情况，但也可以接受单个测试数据\n",
      "\n",
      "    Args:\n",
      "        y (_type_): 真值，可以是一维、二维数组，但最终计算时都必须转换为矩阵\n",
      "        y_p (_type_): 预测值，可以是一维、二维数组，但最终计算时都必须转换为矩阵\n",
      "    \"\"\"\n",
      "    delta=1e-7# 为了防止计算结果溢出\n",
      "    n=y.shape[0]\n",
      "    e=-np.sum(np.sum(y*np.log(y_p+delta),axis=1),axis=0)/n\n",
      "    return e\n",
      "def cross_entropy_e(y,y_p):\n",
      "    \"\"\"更新之前交叉熵方法，扩展为多个测试集相加后平均情况，但也可以接受单个测试数据\n",
      "\n",
      "    Args:\n",
      "        y (_type_): 真值，可以是一维、二维数组，但最终计算时都必须转换为矩阵\n",
      "        y_p (_type_): 预测值，可以是一维、二维数组，但最终计算时都必须转换为矩阵\n",
      "    \"\"\"\n",
      "    delta=1e-7# 为了防止计算结果溢出\n",
      "    n=y.shape[0]\n",
      "    e=-np.sum(y*np.log(y_p+delta))/n\n",
      "    return e\n",
      "y=np.array([0,1,0,0])\n",
      "y_p=np.array([[0.2,0.4,0.3,0.1]])\n",
      "e=cross_entropy_e(y,y_p)\n",
      "print(e)\n",
      "import numpy as  np \n",
      "def cross_entropy_e(y,y_p):\n",
      "    \"\"\"更新之前交叉熵方法，扩展为多个测试集相加后平均情况，但也可以接受单个测试数据\n",
      "\n",
      "    Args:\n",
      "        y (_type_): 真值，可以是一维、二维数组，但最终计算时都必须转换为矩阵\n",
      "        y_p (_type_): 预测值，可以是一维、二维数组，但最终计算时都必须转换为矩阵\n",
      "    \"\"\"\n",
      "    delta=1e-7# 为了防止计算结果溢出\n",
      "    n=y.shape[0]\n",
      "    e=-np.sum(np.sum(y*np.log(y_p+delta),axis=1),axis=0)/n\n",
      "    return e\n",
      "def cross_entropy_e2(y,y_p):\n",
      "    \"\"\"更新之前交叉熵方法，扩展为多个测试集相加后平均情况，但也可以接受单个测试数据\n",
      "\n",
      "    Args:\n",
      "        y (_type_): 真值，可以是一维、二维数组，但最终计算时都必须转换为矩阵\n",
      "        y_p (_type_): 预测值，可以是一维、二维数组，但最终计算时都必须转换为矩阵\n",
      "    \"\"\"\n",
      "    delta=1e-7# 为了防止计算结果溢出\n",
      "    n=y.shape[0]\n",
      "    e=-np.sum(y*np.log(y_p+delta))/n\n",
      "    return e\n",
      "y=np.array([0,1,0,0])\n",
      "y_p=np.array([[0.2,0.4,0.3,0.1]])\n",
      "e=cross_entropy_e(y,y_p)\n",
      "e2=cross_entropy_e2(y,y_p)\n",
      "print(e)\n",
      "print(e2)\n",
      "import numpy as  np \n",
      "def cross_entropy_e(y,y_p):\n",
      "    \"\"\"更新之前交叉熵方法，扩展为多个测试集相加后平均情况，但也可以接受单个测试数据\n",
      "\n",
      "    Args:\n",
      "        y (_type_): 真值，可以是一维、二维数组，但最终计算时都必须转换为矩阵\n",
      "        y_p (_type_): 预测值，可以是一维、二维数组，但最终计算时都必须转换为矩阵\n",
      "    \"\"\"\n",
      "    delta=1e-7# 为了防止计算结果溢出\n",
      "    n=y.shape[0]\n",
      "    e=-np.sum(np.sum(y*np.log(y_p+delta),axis=1),axis=0)/n\n",
      "    return e\n",
      "def cross_entropy_e2(y,y_p):\n",
      "    \"\"\"更新之前交叉熵方法，扩展为多个测试集相加后平均情况，但也可以接受单个测试数据,在此直接基于numpy.sum实现多个维度全运算\n",
      "\n",
      "    Args:\n",
      "        y (_type_): 真值，可以是一维、二维数组，但最终计算时都必须转换为矩阵\n",
      "        y_p (_type_): 预测值，可以是一维、二维数组，但最终计算时都必须转换为矩阵\n",
      "    \"\"\"\n",
      "    if y.ndim==1:#当输入为一维数组（单个数据、图片）需将其转换为二维度矩阵，以统一运算\n",
      "        y=y.reshape(1,y.size)#1行，k列的矩阵\n",
      "        y_p=y_p.reshape(1,y_p.size)\n",
      "        \n",
      "        \n",
      "    delta=1e-7# 为了防止计算结果溢出\n",
      "    n=y.shape[0]\n",
      "    e=-np.sum(y*np.log(y_p+delta))/n\n",
      "    return e\n",
      "y=np.array([0,1,0,0])\n",
      "y_p=np.array([[0.2,0.4,0.3,0.1]])\n",
      "e=cross_entropy_e(y,y_p)\n",
      "e2=cross_entropy_e2(y,y_p)\n",
      "print(e)\n",
      "print(e2)\n",
      "import numpy as  np \n",
      "def cross_entropy_e(y,y_p):\n",
      "    \"\"\"更新之前交叉熵方法，扩展为多个测试集相加后平均情况，但也可以接受单个测试数据\n",
      "\n",
      "    Args:\n",
      "        y (_type_): 真值，可以是一维、二维数组，但最终计算时都必须转换为矩阵\n",
      "        y_p (_type_): 预测值，可以是一维、二维数组，但最终计算时都必须转换为矩阵\n",
      "    \"\"\"\n",
      "    delta=1e-7# 为了防止计算结果溢出\n",
      "    n=y.shape[0]\n",
      "    e=-np.sum(np.sum(y*np.log(y_p+delta),axis=1),axis=0)/n\n",
      "    return e\n",
      "def cross_entropy_e2(y,y_p):\n",
      "    \"\"\"更新之前交叉熵方法，扩展为多个测试集相加后平均情况，但也可以接受单个测试数据,在此直接基于numpy.sum实现多个维度全运算\n",
      "\n",
      "    Args:\n",
      "        y (_type_): 真值，可以是一维、二维数组，但最终计算时都必须转换为矩阵\n",
      "        y_p (_type_): 预测值，可以是一维、二维数组，但最终计算时都必须转换为矩阵\n",
      "    \"\"\"\n",
      "    if y.ndim==2:#当输入为一维数组（单个数据、图片）需将其转换为二维度矩阵，以统一运算\n",
      "        y=y.reshape(1,y.size)#1行，k列的矩阵\n",
      "        y_p=y_p.reshape(1,y_p.size)\n",
      "        \n",
      "        \n",
      "    delta=1e-7# 为了防止计算结果溢出\n",
      "    n=y.shape[0]\n",
      "    e=-np.sum(y*np.log(y_p+delta))/n\n",
      "    return e\n",
      "y=np.array([0,1,0,0])\n",
      "y_p=np.array([[0.2,0.4,0.3,0.1]])\n",
      "e=cross_entropy_e(y,y_p)\n",
      "e2=cross_entropy_e2(y,y_p)\n",
      "print(e)\n",
      "print(e2)\n",
      "history\n"
     ]
    }
   ],
   "source": [
    "history"
   ]
  },
  {
   "cell_type": "code",
   "execution_count": 12,
   "metadata": {},
   "outputs": [
    {
     "name": "stdout",
     "output_type": "stream",
     "text": [
      "0.9162904818741863\n",
      "0.9162904818741863\n"
     ]
    }
   ],
   "source": [
    "import numpy as  np \n",
    "def cross_entropy_e(y,y_p):\n",
    "    \"\"\"更新之前交叉熵方法，扩展为多个测试集相加后平均情况，但也可以接受单个测试数据\n",
    "\n",
    "    Args:\n",
    "        y (_type_): 真值，可以是一维、二维数组，但最终计算时都必须转换为矩阵\n",
    "        y_p (_type_): 预测值，可以是一维、二维数组，但最终计算时都必须转换为矩阵\n",
    "    \"\"\"\n",
    "    delta=1e-7# 为了防止计算结果溢出\n",
    "    n=y.shape[0]\n",
    "    e=-np.sum(np.sum(y*np.log(y_p+delta),axis=1),axis=0)/n\n",
    "    return e\n",
    "def cross_entropy_e2(y,y_p):\n",
    "    \"\"\"更新之前交叉熵方法，扩展为多个测试集相加后平均情况，但也可以接受单个测试数据,在此直接基于numpy.sum实现多个维度全运算\n",
    "\n",
    "    Args:\n",
    "        y (_type_): 真值，可以是一维、二维数组，但最终计算时都必须转换为矩阵\n",
    "        y_p (_type_): 预测值，可以是一维、二维数组，但最终计算时都必须转换为矩阵\n",
    "    \"\"\"\n",
    "    if y.ndim==1:#当输入为一维数组（单个数据、图片）需将其转换为二维度矩阵，以统一运算\n",
    "        y=y.reshape(1,y.size)#1行，k列的矩阵\n",
    "        y_p=y_p.reshape(1,y_p.size)\n",
    "        \n",
    "        \n",
    "    delta=1e-7# 为了防止计算结果溢出\n",
    "    n=y.shape[0]\n",
    "    e=-np.sum(y*np.log(y_p+delta))/n\n",
    "    return e\n",
    "y=np.array([[0,1,0,0]])\n",
    "y_p=np.array([[0.2,0.4,0.3,0.1]])\n",
    "e=cross_entropy_e(y,y_p)\n",
    "e2=cross_entropy_e2(y,y_p)\n",
    "print(e)\n",
    "print(e2)"
   ]
  }
 ],
 "metadata": {
  "kernelspec": {
   "display_name": "base",
   "language": "python",
   "name": "python3"
  },
  "language_info": {
   "codemirror_mode": {
    "name": "ipython",
    "version": 3
   },
   "file_extension": ".py",
   "mimetype": "text/x-python",
   "name": "python",
   "nbconvert_exporter": "python",
   "pygments_lexer": "ipython3",
   "version": "3.9.13"
  },
  "orig_nbformat": 4,
  "vscode": {
   "interpreter": {
    "hash": "4500649f3376875055274a6ea5762786a730155ceb79c8798b9983f2d85af345"
   }
  }
 },
 "nbformat": 4,
 "nbformat_minor": 2
}
