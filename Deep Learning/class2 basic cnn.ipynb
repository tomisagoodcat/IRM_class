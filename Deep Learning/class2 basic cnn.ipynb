{
 "cells": [
  {
   "cell_type": "code",
   "execution_count": null,
   "metadata": {},
   "outputs": [],
   "source": [
    "# CNN Convolutional Neural Network 卷积神经网络\n"
   ]
  },
  {
   "attachments": {},
   "cell_type": "markdown",
   "metadata": {},
   "source": [
    "## 图像操作基础\n",
    "\n",
    "通道\n",
    "\n",
    "一个图片是由颜色、像素点、像素点深浅度构成\n",
    "，每一个像素都有深浅度，可以用数值表达例如[2]\n",
    "像素点在二维空间上的位置就注册了矩阵。但此时图像还是一个黑白图像（灰度图）。\n",
    "而色彩是由三色（红黄蓝）构成，每一个色彩作为一个颜色层，每一个颜色层具有像素点与像素深浅度（数值）\n",
    "三色图叠加在一起就组成了彩色图片。\n",
    "\n",
    "---\n",
    "\n",
    "参考\n",
    "\n",
    "* [深度学习NCHW和NHWC数据格式（由三维数据转换成一维数据的遍历方式）](https://dontla.blog.csdn.net/article/details/123141775?spm=1001.2101.3001.6650.1&utm_medium=distribute.pc_relevant.none-task-blog-2%7Edefault%7ECTRLIST%7ERate-1-123141775-blog-108960632.pc_relevant_recovery_v2&depth_1-utm_source=distribute.pc_relevant.none-task-blog-2%7Edefault%7ECTRLIST%7ERate-1-123141775-blog-108960632.pc_relevant_recovery_v2&utm_relevant_index=2)\n",
    "* [https://blog.csdn.net/m0_37673307/article/details/81271155](https://blog.csdn.net/m0_37673307/article/details/81271155)\n"
   ]
  },
  {
   "attachments": {},
   "cell_type": "markdown",
   "metadata": {},
   "source": [
    "[图解卷积神经网络（CNN）](https://zhuanlan.zhihu.com/p/117573015)"
   ]
  }
 ],
 "metadata": {
  "kernelspec": {
   "display_name": "base",
   "language": "python",
   "name": "python3"
  },
  "language_info": {
   "name": "python",
   "version": "3.9.13 (main, Aug 25 2022, 23:51:50) [MSC v.1916 64 bit (AMD64)]"
  },
  "orig_nbformat": 4,
  "vscode": {
   "interpreter": {
    "hash": "4500649f3376875055274a6ea5762786a730155ceb79c8798b9983f2d85af345"
   }
  }
 },
 "nbformat": 4,
 "nbformat_minor": 2
}
