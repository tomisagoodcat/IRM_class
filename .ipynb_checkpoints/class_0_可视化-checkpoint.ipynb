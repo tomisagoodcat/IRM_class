{
 "cells": [
  {
   "cell_type": "markdown",
   "id": "133aae03-654e-44cf-9cf6-f8698f7814a9",
   "metadata": {},
   "source": [
    "# 前言\n",
    "区别于其他信息分析与预测课程，本课首先介绍信息可视化的基础知识，而后开展其他教学，\n",
    "\n",
    "这是因为，数据分析可以说是从可视化开始，到可视化结束。初始阶段，我们需要对数据进行可视化探查，了解其基本的情况，再结合需求，指定数据清洗，信息分析方案。\n",
    "\n",
    "在完成数据分析后，向用户提交报告阶段，可视化附加文字能够为用户提供丰富、直观的解释。\n",
    "\n"
   ]
  },
  {
   "cell_type": "markdown",
   "id": "96260875-b236-4a52-a109-3cf2240555eb",
   "metadata": {},
   "source": [
    "# 课程结构"
   ]
  },
  {
   "cell_type": "markdown",
   "id": "c0bba821-67f8-4215-bfb1-77bfe750e106",
   "metadata": {},
   "source": [
    "# 可视化理论"
   ]
  },
  {
   "cell_type": "markdown",
   "id": "494e7518-2b4b-405d-9e6d-df79a1e11e90",
   "metadata": {},
   "source": [
    "# 实践操作"
   ]
  },
  {
   "cell_type": "markdown",
   "id": "7463d6f4-2609-4c71-99bf-0883f2ef959d",
   "metadata": {},
   "source": [
    "## Matplotlib应用\n",
    "### Matplolib简介\n",
    "\n",
    "理解Matplotlib，或者理解python中可视化操作，可以视其为一个个套娃，或者画一幅油画，不同的可视化对象层层叠叠，构成了最终的可视化图像。\n",
    "\n",
    "在Matplotlib中，一幅可视化图由以下几个对象构成：\n"
   ]
  },
  {
   "cell_type": "markdown",
   "id": "5d1e881e-4d4c-4aa5-a3ba-422014bf7999",
   "metadata": {},
   "source": [
    "##  \n",
    "[基础构成Pyplot](https://www.runoob.com/matplotlib/matplotlib-pyplot.html)\n",
    "是 Matplotlib 的子库，提供了和 MATLAB 类似的绘图 API。\n",
    "\n",
    "Pyplot 是常用的绘图模块，能很方便让用户绘制 2D 图表。\n",
    "\n",
    "Pyplot 包含一系列绘图函数的相关函数，每个函数会对当前的图像进行一些修改，例如：给图像加上标记，生新的图像，在图像中产生新的绘图区域等等。\n",
    "\n",
    "使用的时候，我们可以使用 import 导入 pyplot 库，并设置一个别名 plt：\n",
    "\n",
    "使用pyplot我们可以直接绘制简单的点、线、柱状图、面积图、散点图等\n",
    "plt.bar()\n"
   ]
  },
  {
   "cell_type": "code",
   "execution_count": 2,
   "id": "45fa54f9-1ff3-4b3d-aefb-aff489aff505",
   "metadata": {
    "execution": {
     "iopub.execute_input": "2022-03-10T07:05:22.800796Z",
     "iopub.status.busy": "2022-03-10T07:05:22.799867Z",
     "iopub.status.idle": "2022-03-10T07:05:23.250952Z",
     "shell.execute_reply": "2022-03-10T07:05:23.250254Z",
     "shell.execute_reply.started": "2022-03-10T07:05:22.800760Z"
    },
    "scrolled": true
   },
   "outputs": [
    {
     "data": {
      "image/png": "[encoded data removed]",
      "text/plain": [
       "<Figure size 432x288 with 1 Axes>"
      ]
     },
     "metadata": {
      "needs_background": "light"
     },
     "output_type": "display_data"
    },
    {
     "data": {
      "image/png": "[encoded data removed]",
      "text/plain": [
       "<Figure size 432x288 with 1 Axes>"
      ]
     },
     "metadata": {
      "needs_background": "light"
     },
     "output_type": "display_data"
    }
   ],
   "source": [
    "### 点和线####\n",
    "import matplotlib.pyplot as plt\n",
    "x=6\n",
    "y=3\n",
    "plt.plot(x,y,'o')\n",
    "plt.show()\n",
    "\n",
    "x=[6,10]\n",
    "y=[3,7]\n",
    "plt.plot(x,y)\n",
    "plt.show()"
   ]
  },
  {
   "cell_type": "code",
   "execution_count": null,
   "id": "77f19bc3-cc8a-48a9-b9b4-f62aebff87d0",
   "metadata": {
    "scrolled": true
   },
   "outputs": [],
   "source": []
  },
  {
   "cell_type": "markdown",
   "id": "99a78817-24fd-464e-966d-2471d1f82bf4",
   "metadata": {},
   "source": [
    "## Matplotlib中对象以及绘图步骤\n",
    "虽然直接使用pyplot中plot方法可以快速绘制图像，但是当遇到更为复杂的图形，或者希望进行细致的操作的时候，就需要按照步骤，一步步设置不同的对象。在此过程中，结合matplotlib的结构，就可以展现精美的可视化结果。\n",
    "![](https://ai-studio-static-online.cdn.bcebos.com/663b9e07d4c840b49b1499357c3f3f78a0511962c68c45598ec99bc8ff2faae7)\n",
    "\n",
    "Matpltlib中主要包含以下重要的对象：\n",
    "\n",
    "1. **figure**\n",
    "\n",
    "整个图形即是一个figure对象。figure对象至少包含一个子图，也就是axes对象。figure对象包含一些特殊的artist对象，如图名（title）、图例（legend）。\n",
    "\n",
    "2. **axes**\n",
    "\n",
    "axes又称为子图对象，其中每一个子图都包含一个x轴和一个y轴。\n",
    "\n",
    "常用方法：set_xlim（）及set_ylim（）——设置子图X轴和Y轴对应的数据范围；set_title（）——设置子图的图名；set_xlabel（）以及set_ylable（）——设置子图X轴和Y轴名。在绘制多个子图时，需要使用axes对象。\n",
    "\n",
    "3. **axis轴**\n",
    "\n",
    "有刻度的spines边线称为轴。水平的是x轴，垂直的是y轴。每个轴每一个都是由一个spines轴线，主刻度、次刻度、主刻度标签、次刻度标签和一个轴标签组成。\n",
    "\n",
    "4. **spines轴线**\n",
    "\n",
    "Spines是连接轴刻度线和数据区域边界的轴线。它们可以被放置在任意位置，可以选择展示或隐藏它们。每个axes轴通常由四条边(左、上、右、下)包围，称为spines。每一根spines上都可以装饰有主刻度和次刻度(可以指向内部或外部)、刻度标签和标签。默认情况下，matplotlib只装饰左边和下面的spines边框。\n",
    "\n",
    "5. **tick刻度** \n",
    "\n",
    "6. **legend grid title**\n",
    "\n",
    "7. **style风格**\n"
   ]
  },
  {
   "cell_type": "markdown",
   "id": "f9ad4f49-0567-4696-9c1b-a3a644b8269f",
   "metadata": {},
   "source": [
    "### step1 创建figure,axes对象\n",
    "\n",
    "在matplotlib中，相关创建figure方法有很多，这里我们主要介绍subplots方法\n",
    "> 背景介绍\n",
    "\n",
    "\n",
    "注意在创建多个对象时，我门在subplots函数中指定其子图的个数，与位置。\n",
    "\n",
    "创建figure及axes->设置figure大小size-->设置axes的xy轴范围\n"
   ]
  },
  {
   "cell_type": "code",
   "execution_count": 35,
   "id": "abe74c2c-6b2d-4e43-89b2-6b15757e0afe",
   "metadata": {
    "execution": {
     "iopub.execute_input": "2022-03-10T09:20:07.702783Z",
     "iopub.status.busy": "2022-03-10T09:20:07.702298Z",
     "iopub.status.idle": "2022-03-10T09:20:07.740454Z",
     "shell.execute_reply": "2022-03-10T09:20:07.739872Z",
     "shell.execute_reply.started": "2022-03-10T09:20:07.702750Z"
    },
    "scrolled": true
   },
   "outputs": [
    {
     "data": {
      "text/html": [
       "<div>\n",
       "<style scoped>\n",
       "    .dataframe tbody tr th:only-of-type {\n",
       "        vertical-align: middle;\n",
       "    }\n",
       "\n",
       "    .dataframe tbody tr th {\n",
       "        vertical-align: top;\n",
       "    }\n",
       "\n",
       "    .dataframe thead th {\n",
       "        text-align: right;\n",
       "    }\n",
       "</style>\n",
       "<table border=\"1\" class=\"dataframe\">\n",
       "  <thead>\n",
       "    <tr style=\"text-align: right;\">\n",
       "      <th></th>\n",
       "      <th>time</th>\n",
       "      <th>china</th>\n",
       "      <th>usa</th>\n",
       "      <th>king</th>\n",
       "      <th>japan</th>\n",
       "      <th>russia</th>\n",
       "    </tr>\n",
       "  </thead>\n",
       "  <tbody>\n",
       "    <tr>\n",
       "      <th>count</th>\n",
       "      <td>241.000000</td>\n",
       "      <td>241.000000</td>\n",
       "      <td>241.000000</td>\n",
       "      <td>241.000000</td>\n",
       "      <td>241.000000</td>\n",
       "      <td>241.000000</td>\n",
       "    </tr>\n",
       "    <tr>\n",
       "      <th>mean</th>\n",
       "      <td>1920.000000</td>\n",
       "      <td>3906.327801</td>\n",
       "      <td>19019.580913</td>\n",
       "      <td>14975.016598</td>\n",
       "      <td>11803.473029</td>\n",
       "      <td>9165.580913</td>\n",
       "    </tr>\n",
       "    <tr>\n",
       "      <th>std</th>\n",
       "      <td>69.714896</td>\n",
       "      <td>7897.060024</td>\n",
       "      <td>20966.605026</td>\n",
       "      <td>14186.285966</td>\n",
       "      <td>15780.652526</td>\n",
       "      <td>10130.108008</td>\n",
       "    </tr>\n",
       "    <tr>\n",
       "      <th>min</th>\n",
       "      <td>1800.000000</td>\n",
       "      <td>560.000000</td>\n",
       "      <td>1965.000000</td>\n",
       "      <td>3043.000000</td>\n",
       "      <td>1009.000000</td>\n",
       "      <td>1365.000000</td>\n",
       "    </tr>\n",
       "    <tr>\n",
       "      <th>25%</th>\n",
       "      <td>1860.000000</td>\n",
       "      <td>735.000000</td>\n",
       "      <td>3354.000000</td>\n",
       "      <td>4926.000000</td>\n",
       "      <td>1116.000000</td>\n",
       "      <td>1831.000000</td>\n",
       "    </tr>\n",
       "    <tr>\n",
       "      <th>50%</th>\n",
       "      <td>1920.000000</td>\n",
       "      <td>785.000000</td>\n",
       "      <td>8134.000000</td>\n",
       "      <td>7973.000000</td>\n",
       "      <td>2620.000000</td>\n",
       "      <td>3415.000000</td>\n",
       "    </tr>\n",
       "    <tr>\n",
       "      <th>75%</th>\n",
       "      <td>1980.000000</td>\n",
       "      <td>1078.000000</td>\n",
       "      <td>29523.000000</td>\n",
       "      <td>20733.000000</td>\n",
       "      <td>21614.000000</td>\n",
       "      <td>15604.000000</td>\n",
       "    </tr>\n",
       "    <tr>\n",
       "      <th>max</th>\n",
       "      <td>2040.000000</td>\n",
       "      <td>34823.000000</td>\n",
       "      <td>79957.000000</td>\n",
       "      <td>56528.000000</td>\n",
       "      <td>55158.000000</td>\n",
       "      <td>39276.000000</td>\n",
       "    </tr>\n",
       "  </tbody>\n",
       "</table>\n",
       "</div>"
      ],
      "text/plain": [
       "              time         china  ...         japan        russia\n",
       "count   241.000000    241.000000  ...    241.000000    241.000000\n",
       "mean   1920.000000   3906.327801  ...  11803.473029   9165.580913\n",
       "std      69.714896   7897.060024  ...  15780.652526  10130.108008\n",
       "min    1800.000000    560.000000  ...   1009.000000   1365.000000\n",
       "25%    1860.000000    735.000000  ...   1116.000000   1831.000000\n",
       "50%    1920.000000    785.000000  ...   2620.000000   3415.000000\n",
       "75%    1980.000000   1078.000000  ...  21614.000000  15604.000000\n",
       "max    2040.000000  34823.000000  ...  55158.000000  39276.000000\n",
       "\n",
       "[8 rows x 6 columns]"
      ]
     },
     "execution_count": 35,
     "metadata": {},
     "output_type": "execute_result"
    }
   ],
   "source": [
    "import matplotlib.pyplot as plt\n",
    "import pandas as pd\n",
    "###获取中国gdp数据\n",
    "data=pd.read_csv(\"/home/aistudio/data/data103309/line_animation.csv\")\n",
    " \n",
    "year=data['time']\n",
    "china=data['china']\n",
    "usa=data['usa']\n",
    "data.describe()\n",
    "\n",
    "\n"
   ]
  },
  {
   "cell_type": "code",
   "execution_count": 33,
   "id": "a5cd9d85-afc4-4e7a-b1cf-30dc81a6ceb4",
   "metadata": {
    "execution": {
     "iopub.execute_input": "2022-03-10T09:18:20.052625Z",
     "iopub.status.busy": "2022-03-10T09:18:20.051877Z",
     "iopub.status.idle": "2022-03-10T09:18:20.337763Z",
     "shell.execute_reply": "2022-03-10T09:18:20.337074Z",
     "shell.execute_reply.started": "2022-03-10T09:18:20.052593Z"
    },
    "scrolled": true
   },
   "outputs": [
    {
     "data": {
      "text/plain": [
       "[<matplotlib.lines.Line2D at 0x7fe4a5fe8c10>]"
      ]
     },
     "execution_count": 33,
     "metadata": {},
     "output_type": "execute_result"
    },
    {
     "data": {
      "image/png": "[encoded data removed]",
      "text/plain": [
       "<Figure size 720x720 with 1 Axes>"
      ]
     },
     "metadata": {
      "needs_background": "light"
     },
     "output_type": "display_data"
    }
   ],
   "source": [
    "#创建figure与axes对象\n",
    "fig,axes=plt.subplots()\n",
    "#设定figure图的大小\n",
    "fig.set_size_inches(10,10)\n",
    "#设置图像的title\n",
    "axes.set_title(\"The GPD of China\")\n",
    "#设定axesx轴y轴的数值范围\n",
    "axes.set_xlim(1800,2040)\n",
    "axes.set_ylim(0,40000)\n",
    "###基于plot方法绘图\n",
    "axes.plot(year,china)\n"
   ]
  },
  {
   "cell_type": "code",
   "execution_count": 37,
   "id": "f201d328-f03c-41b7-8630-83042af70ac6",
   "metadata": {
    "execution": {
     "iopub.execute_input": "2022-03-10T09:21:57.935331Z",
     "iopub.status.busy": "2022-03-10T09:21:57.934526Z",
     "iopub.status.idle": "2022-03-10T09:21:58.450683Z",
     "shell.execute_reply": "2022-03-10T09:21:58.449850Z",
     "shell.execute_reply.started": "2022-03-10T09:21:57.935281Z"
    },
    "scrolled": true
   },
   "outputs": [
    {
     "data": {
      "text/plain": [
       "[<matplotlib.lines.Line2D at 0x7fe4a49e1690>]"
      ]
     },
     "execution_count": 37,
     "metadata": {},
     "output_type": "execute_result"
    },
    {
     "data": {
      "image/png": "[encoded data removed]",
      "text/plain": [
       "<Figure size 360x360 with 4 Axes>"
      ]
     },
     "metadata": {
      "needs_background": "light"
     },
     "output_type": "display_data"
    }
   ],
   "source": [
    "#创建figure对象以及对象包含的多个子图\n",
    "fig2,axes2=plt.subplots(2,2)\n",
    "fig2.set_size_inches(5,5)\n",
    "ax1=axes2[0,0]\n",
    "ax1.set_title(\"china\")# 给第一个图副值titile\n",
    "#我们单独给第一个图的x轴y轴设置了不同的数值范围\n",
    "ax1.set_xlim([1800,2040])\n",
    "ax1.set_ylim([0,80000])\n",
    "ax1.plot(year,china,color='red')\n",
    "#定义第三个字图\n",
    "ax2=axes2[1,0]\n",
    "ax2.set_title(\"usa\")\n",
    "ax2.set_xlim([1800,2040])\n",
    "ax2.set_ylim([0,80000])\n",
    "ax2.plot(year,usa,color='blue')"
   ]
  },
  {
   "cell_type": "markdown",
   "id": "dbca9375-119e-4f15-b62b-a6f4542b9671",
   "metadata": {},
   "source": [
    "课堂作业：\n",
    "在第二个，第四个子图中绘制日本，俄国的gdp曲线图"
   ]
  },
  {
   "cell_type": "markdown",
   "id": "b9276914-d7df-4118-9065-3c12207a5162",
   "metadata": {},
   "source": [
    "### step2 设置axis轴，以及spines轴线\n",
    "1. 轴axis的设置\n",
    "\n",
    "之前我们已经使用set_xlim(),set_ylim()函数进行x、y轴的数值范围设置，在世纪操作中，还能对其进行进一步的修改以满足需求，包括：\n",
    "* plt.axis([xmin,xmax,ymin,ymax])：与set_xlim(),set_ylim（）同样效果，指定xy轴的值范围\n",
    "* set_ylabel(\"y轴文字\"),set_xlabel(\"x轴文字\")\n",
    "* plt.axis('equal) 设置x与y轴使用相同的长度单位\n",
    "* plt.axis('tight') 将坐标轴压缩到刚好足够绘制折线图像的大小\n",
    "\n",
    "----\n",
    "2. spines 轴线设置\n",
    "\n",
    "图形的轴线可以通过坐标轴属性ax.spines设置，最常见的设置方法是选择隐藏，通过属性['top', 'bottom', 'left', 'right']分别设置上下左右的轴线。轴线的设置在画坐标系图时尤其有用。\n",
    "* axes.spines.right.set_visible(False)：设置右边的轴线不可见\n",
    "* axes.spines.right.set_position(参数,num)：参赛：data:移动轴的位置到交叉轴的指定坐标   axes:0.0 - 1.0之间的值，整个轴上的比例   \n",
    " \n",
    "\n",
    "> matplotlib 对中文支持有问题，需要倒入本地字库"
   ]
  },
  {
   "cell_type": "code",
   "execution_count": 45,
   "id": "60128dc0-c9d4-4e09-9589-247946ba09f5",
   "metadata": {
    "execution": {
     "iopub.execute_input": "2022-03-10T11:15:55.653013Z",
     "iopub.status.busy": "2022-03-10T11:15:55.652294Z",
     "iopub.status.idle": "2022-03-10T11:15:55.965932Z",
     "shell.execute_reply": "2022-03-10T11:15:55.965248Z",
     "shell.execute_reply.started": "2022-03-10T11:15:55.652979Z"
    },
    "scrolled": true
   },
   "outputs": [
    {
     "name": "stderr",
     "output_type": "stream",
     "text": [
      "/opt/conda/envs/python35-paddle120-env/lib/python3.7/site-packages/matplotlib/cbook/__init__.py:2064: FutureWarning: Support for multi-dimensional indexing (e.g. `obj[:, None]`) is deprecated and will be removed in a future version.  Convert to a numpy array before indexing instead.\n",
      "  x[:, None]\n",
      "/opt/conda/envs/python35-paddle120-env/lib/python3.7/site-packages/matplotlib/axes/_base.py:248: FutureWarning: Support for multi-dimensional indexing (e.g. `obj[:, None]`) is deprecated and will be removed in a future version.  Convert to a numpy array before indexing instead.\n",
      "  x = x[:, np.newaxis]\n",
      "/opt/conda/envs/python35-paddle120-env/lib/python3.7/site-packages/matplotlib/axes/_base.py:250: FutureWarning: Support for multi-dimensional indexing (e.g. `obj[:, None]`) is deprecated and will be removed in a future version.  Convert to a numpy array before indexing instead.\n",
      "  y = y[:, np.newaxis]\n"
     ]
    },
    {
     "data": {
      "text/plain": [
       "Text(0.5,0,'year')"
      ]
     },
     "execution_count": 45,
     "metadata": {},
     "output_type": "execute_result"
    },
    {
     "data": {
      "image/png": "[encoded data removed]",
      "text/plain": [
       "<Figure size 720x720 with 1 Axes>"
      ]
     },
     "metadata": {
      "needs_background": "light"
     },
     "output_type": "display_data"
    }
   ],
   "source": [
    "#创建figure与axes对象\n",
    "fig,axes=plt.subplots()\n",
    "#设定figure图的大小\n",
    "fig.set_size_inches(10,10)\n",
    "axes.set_title(\"The GPD of China\")\n",
    "#设定axesx轴y轴的数值范围\n",
    "#axes.set_xlim(1800,2040)\n",
    "#axes.set_ylim(0,40000)\n",
    "axes.axis([1800,2040,0,40000])\n",
    "###基于plot方法绘图\n",
    "axes.plot(year,china)\n",
    "axes.axis('tight')\n",
    "#axes.axis('equal')\n",
    "axes.set_ylabel(\"GDP us doller\")\n",
    "axes.set_xlabel(\"year\")"
   ]
  },
  {
   "cell_type": "code",
   "execution_count": 51,
   "id": "ad3d45c7-3dc2-413b-9db7-63d13c861b4a",
   "metadata": {
    "execution": {
     "iopub.execute_input": "2022-03-10T11:31:26.687940Z",
     "iopub.status.busy": "2022-03-10T11:31:26.687427Z",
     "iopub.status.idle": "2022-03-10T11:31:26.839201Z",
     "shell.execute_reply": "2022-03-10T11:31:26.838565Z",
     "shell.execute_reply.started": "2022-03-10T11:31:26.687905Z"
    },
    "scrolled": true
   },
   "outputs": [
    {
     "data": {
      "image/png": "[encoded data removed]",
      "text/plain": [
       "<Figure size 432x288 with 1 Axes>"
      ]
     },
     "metadata": {
      "needs_background": "light"
     },
     "output_type": "display_data"
    }
   ],
   "source": [
    "import numpy as np \n",
    "x=np.linspace(-2*np.pi,2*np.pi,200)\n",
    "y=np.sin(x)\n",
    "fig3,axes3=plt.subplots()\n",
    "axes3.plot(x,y)\n",
    "plt.show()\n"
   ]
  },
  {
   "cell_type": "code",
   "execution_count": null,
   "id": "c949bb44-738d-4df8-961c-8f2b0c26d2be",
   "metadata": {
    "scrolled": true
   },
   "outputs": [],
   "source": [
    "### 通过设置spines，将上面的sin图进行修饰\n",
    "axes.spines.right.set_visible(False)\n",
    "axes.spines.top.set_visible(False)\n",
    "axes.spines"
   ]
  },
  {
   "cell_type": "markdown",
   "id": "b9f7056b-f876-425d-85ae-1331677295df",
   "metadata": {},
   "source": []
  }
 ],
 "metadata": {
  "kernelspec": {
   "display_name": "Python 3",
   "language": "python",
   "name": "py35-paddle1.2.0"
  },
  "language_info": {
   "codemirror_mode": {
    "name": "ipython",
    "version": 3
   },
   "file_extension": ".py",
   "mimetype": "text/x-python",
   "name": "python",
   "nbconvert_exporter": "python",
   "pygments_lexer": "ipython3",
   "version": "3.7.4"
  }
 },
 "nbformat": 4,
 "nbformat_minor": 5
}
