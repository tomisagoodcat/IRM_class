{
 "cells": [
  {
   "cell_type": "markdown",
   "metadata": {},
   "source": [
    "JOSN API在pyhton中的使用\n",
    "---\n",
    "课程目标：\n",
    "\n",
    "通过本课程的学习，实现\n",
    "\n",
    "1. 掌握python如何处理json\n",
    "2. 掌握python如果构建api"
   ]
  },
  {
   "cell_type": "markdown",
   "metadata": {},
   "source": [
    "在Python中，你可以使用内置的json模块来处理JSON数据\n",
    "\n",
    "该模块中常用的方法有以下四个：\n",
    "\n",
    "* ​json.dump​  将Python对象序列化为Json格式的数据流并写入文件类型的对象中\n",
    "* ​json.dumps​  将Python对象序列化为Json格式的字符串\n",
    "* ​json.load​  从文件类型的对象中读取Json格式的数据并反序列化成Python对象\n",
    "* ​json.loads ​ 将包含Json格式数据的字符串反序列化成Python对象"
   ]
  },
  {
   "cell_type": "code",
   "execution_count": 18,
   "metadata": {},
   "outputs": [
    {
     "name": "stdout",
     "output_type": "stream",
     "text": [
      "输出对象类别：\n",
      "<class 'str'>\n",
      "{\"books\": [{\"title\": \"静静的顿河\", \"author\": \"肖洛霍夫\"}, {\"title\": \"小时代\", \"author\": \"郭敬明\"}]}\n",
      "{\n",
      "    \"books\": [\n",
      "        {\n",
      "            \"title\": \"静静的顿河\",\n",
      "            \"author\": \"肖洛霍夫\"\n",
      "        },\n",
      "        {\n",
      "            \"title\": \"小时代\",\n",
      "            \"author\": \"郭敬明\"\n",
      "        }\n",
      "    ]\n",
      "}\n",
      "{\n",
      "    \"books\": [\n",
      "        {\n",
      "            \"author\": \"肖洛霍夫\",\n",
      "            \"title\": \"静静的顿河\"\n",
      "        },\n",
      "        {\n",
      "            \"author\": \"郭敬明\",\n",
      "            \"title\": \"小时代\"\n",
      "        }\n",
      "    ]\n",
      "}\n",
      "输出对象类别：\n",
      "<class 'dict'>\n",
      "{'books': [{'title': '静静的顿河', 'author': '肖洛霍夫'}, {'title': '小时代', 'author': '郭敬明'}]}\n",
      "静静的顿河\n"
     ]
    }
   ],
   "source": [
    "import json \n",
    "# 通过dumps读取json书籍，注意当使用 json.dumps() 方法将包含中文的 Python 对象转换为 JSON 字符串时，默认情况下中文字符会被转换为 Unicode 转义序列。为了让输出的 JSON 字符串显示为正常的中文，你可以使用 ensure_ascii 参数并将其设置为 False\n",
    "data={\"books\":[{\"title\":\"静静的顿河\",\"author\":\"肖洛霍夫\"},{\"title\":\"小时代\",\"author\":\"郭敬明\"}]}\n",
    "\n",
    "book_data=json.dumps(data, ensure_ascii=False)\n",
    "print(\"输出对象类别：\")\n",
    "print(type(book_data))\n",
    "print(book_data)\n",
    "#使得json输出更为规范，可以使用indent=4\n",
    "json_string = json.dumps(data, ensure_ascii=False, indent=4)\n",
    "print(json_string)\n",
    "#可以将json输出进行排序\n",
    "\n",
    "json_string = json.dumps(data,ensure_ascii=False,  indent=4, sort_keys=True)\n",
    "print(json_string)\n",
    "\n",
    " \n",
    "\n",
    "\n",
    "\n",
    "# json.loads():\n",
    "\n",
    "#功能: 将 JSON 格式的字符串转换（反序列化）为 Python 对象。\n",
    "#参数: 主要接受一个 JSON 格式的字符串。\n",
    "#返回值: 返回一个 Python 对象（如字典、列表等）。\n",
    "\n",
    "book_load=json.loads(book_data)\n",
    "print(\"输出对象类别：\")\n",
    "print(type(book_load))\n",
    "print(book_load)\n",
    "title=book_load['books'][0]['title']\n",
    "print(title)"
   ]
  },
  {
   "cell_type": "markdown",
   "metadata": {},
   "source": [
    "读取json本地文件\n",
    "---\n",
    "\n",
    "在Python中，使用json模块，你可以轻松地从本地文件读取JSON数据或将数据写入本地文件。主要的方法是dump和load。"
   ]
  },
  {
   "cell_type": "code",
   "execution_count": 10,
   "metadata": {},
   "outputs": [],
   "source": [
    "import json \n",
    "\n",
    "\n",
    "# 打开文件以写模式，这将清空文件内容\n",
    "with open(\"your_json_file.json\", \"w\") as file:\n",
    "    pass\n",
    "# 读取定义的json数据，并将现有的数据保存为本地json文件，注意需要将模式定义为“w”，写模式\n",
    "with open(\"json2.json\",\"w\") as file:\n",
    "    json.dump(data,file, ensure_ascii=False)"
   ]
  },
  {
   "cell_type": "code",
   "execution_count": 11,
   "metadata": {},
   "outputs": [
    {
     "name": "stdout",
     "output_type": "stream",
     "text": [
      "{'books': [{'title': '信息组织', 'author': '周宁', 'price': 20}, {'title': '信息资源管理', 'author': '马费成', 'price': 20}]}\n"
     ]
    }
   ],
   "source": [
    "import json\n",
    "with open(\"json1.json\",\"r\") as file:\n",
    "    data_l=json.load(file)\n",
    "\n",
    "print(data_l)"
   ]
  },
  {
   "cell_type": "markdown",
   "metadata": {},
   "source": [
    "API全称是：Application Programming Interface，即：应用程序接口，是一些预先定义的函数，或指软件系统不同组成部分衔接的约定。开发人员可以使用这些API接口进行编程开发，而又无需访问源码，或理解内部工作机制的细节。\n",
    "\n",
    "比较常见的现实场景是，在开发安卓应用时需要使用到安卓系统提供的API，在进行Windows桌面应用开发时需要用到微软系统提供的API，在进行微信小程序开发时可使用微信开放接口API。\n",
    "\n",
    "更为常见的是，API接口很可能是远程的服务端API，其背后采用Java、PHP、C#、Pyhon、C/C++、Ruby、Scala等一种或多种后端语言开发搭建，提供了数据存储、通讯、各类服务等功能。一般是使用HTTP协议进行通讯，使用JSON格式序列化返回接口结果和数据。\n",
    "\n",
    "<img src=\"https://pic3.zhimg.com/v2-1e188396614299ba8cb358d9e565e85e_r.jpg\"></img>\n",
    "---\n",
    "\n",
    "## API 是什么？\n",
    "\n",
    "API 是 \"Application Programming Interface\"（应用程序编程接口）的缩写。它是一组预定义的规则和规范，允许应用程序之间进行交互。API 可以被视为一种“桥梁”或“中介”，使两个不同的软件应用或系统能够相互通信和交换数据。\n",
    "\n",
    "### 关于 API 的一些关键点：\n",
    "\n",
    "1. **数据交换**  \n",
    "   API 通常允许数据在不同的系统或应用程序之间流动，例如从服务器到客户端应用程序。\n",
    "\n",
    "2. **格式**  \n",
    "   API 可以使用多种数据格式，但最常见的是 JSON 和 XML。\n",
    "\n",
    "3. **类型**  \n",
    "   - **Web API**：通常是基于 HTTP/HTTPS 的，允许应用程序通过网络访问服务或数据。例如，许多公司（如 Twitter、Google、Facebook 等）都提供 Web API，允许开发者访问其平台的某些功能。\n",
    "   - **库或框架的 API**：为开发者提供一组函数、类和方法，以便在其应用程序中实现特定的功能或操作。\n",
    "   - **操作系统API**：允许应用程序访问操作系统的功能，如文件操作、网络通信等。\n",
    "\n",
    "4. **RESTful API**  \n",
    "   是 Web API 的一种，它遵循 REST（Representational State Transfer）原则。RESTful API 使用标准的 HTTP 方法（如 GET、POST、PUT、DELETE）来执行操作，并且通常返回 JSON 或 XML 格式的数据。\n",
    "\n",
    "5. **安全性**  \n",
    "   为了保护数据和功能，API 通常需要使用密钥、令牌或其他身份验证方法来限制访问。\n",
    "\n",
    "6. **文档**  \n",
    "   为了帮助开发者理解和使用 API，提供者通常会提供详细的文档，说明如何调用 API、需要哪些参数以及可以期望的响应。\n",
    "\n",
    "简而言之，API 提供了一种方式，使得开发者可以利用其他软件、服务或平台的功能，而无需了解其内部工作原理。"
   ]
  },
  {
   "cell_type": "markdown",
   "metadata": {},
   "source": [
    "结合Python使用API通常涉及以下几个步骤：\n",
    "\n",
    "1. **选择合适的库**：Python有几个库可以帮助你与API交互。其中最受欢迎的是`requests`库，它提供了一个简单的方式来发送HTTP请求。\n",
    "\n",
    "2. **发送请求**：使用所选的库发送请求到API的端点（URL）。\n",
    "\n",
    "3. **处理响应**：API将返回数据，通常是JSON格式。你可以解析这些数据并在Python程序中使用它。\n",
    "\n",
    "4. **处理错误**：确保正确处理可能的错误或异常，例如API限制、无效的响应等。\n",
    "\n",
    "以下是一个使用`requests`库与API交互的简单示例：\n",
    "\n",
    "```python\n",
    "import requests\n",
    "\n",
    "# API端点\n",
    "url = \"https://api.example.com/data\"\n",
    "\n",
    "# 发送GET请求\n",
    "response = requests.get(url)\n",
    "\n",
    "# 检查响应是否成功\n",
    "if response.status_code == 200:\n",
    "    # 解析JSON数据\n",
    "    data = response.json()\n",
    "    print(data)\n",
    "else:\n",
    "    print(f\"Failed to retrieve data. Status code: {response.status_code}\")\n",
    "```\n",
    "\n",
    "如果API需要身份验证（例如API密钥或OAuth），你还需要在请求中包含适当的头或参数。\n",
    "\n",
    "例如，如果API需要一个API密钥作为查询参数：\n",
    "\n",
    "```python\n",
    "params = {\n",
    "    \"api_key\": \"YOUR_API_KEY\"\n",
    "}\n",
    "response = requests.get(url, params=params)\n",
    "```\n",
    "\n",
    "或者，如果API密钥需要作为请求头发送：\n",
    "\n",
    "```python\n",
    "headers = {\n",
    "    \"Authorization\": \"Bearer YOUR_API_KEY\"\n",
    "}\n",
    "response = requests.get(url, headers=headers)\n",
    "```\n",
    "\n",
    "总之，结合Python使用API是一个相对简单的过程，但具体的实现细节可能会因API的不同而异。为了成功地与API交互，建议仔细阅读API的文档，了解其要求和限制。"
   ]
  },
  {
   "cell_type": "code",
   "execution_count": 3,
   "metadata": {},
   "outputs": [
    {
     "name": "stdout",
     "output_type": "stream",
     "text": [
      "接口访问失败，失败代码 200\n"
     ]
    }
   ],
   "source": [
    "import requests\n",
    "# API端点\n",
    "url =  \"https://jsonplaceholder.typicode.com/posts/1\"\n",
    "response=requests.get(url)\n",
    "if response.status_code != 200:\n",
    "    print(\"接口访问失败，失败代码\",response.status_code)\n",
    "else:\n",
    "    \n",
    "    print(\"接口访问成功\")"
   ]
  },
  {
   "cell_type": "code",
   "execution_count": 2,
   "metadata": {},
   "outputs": [
    {
     "name": "stdout",
     "output_type": "stream",
     "text": [
      "{'userId': 1, 'id': 1, 'title': 'sunt aut facere repellat provident occaecati excepturi optio reprehenderit', 'body': 'quia et suscipit\\nsuscipit recusandae consequuntur expedita et cum\\nreprehenderit molestiae ut ut quas totam\\nnostrum rerum est autem sunt rem eveniet architecto'}\n"
     ]
    }
   ],
   "source": [
    "import requests\n",
    "\n",
    "url = \"https://jsonplaceholder.typicode.com/posts/1\"\n",
    "response = requests.get(url)\n",
    "\n",
    "if response.status_code == 200:\n",
    "    data = response.json()\n",
    "    print(data)\n",
    "else:\n",
    "    print(f\"Error: {response.status_code}\")"
   ]
  }
 ],
 "metadata": {
  "kernelspec": {
   "display_name": "luck",
   "language": "python",
   "name": "python3"
  },
  "language_info": {
   "codemirror_mode": {
    "name": "ipython",
    "version": 3
   },
   "file_extension": ".py",
   "mimetype": "text/x-python",
   "name": "python",
   "nbconvert_exporter": "python",
   "pygments_lexer": "ipython3",
   "version": "3.10.10"
  }
 },
 "nbformat": 4,
 "nbformat_minor": 2
}
