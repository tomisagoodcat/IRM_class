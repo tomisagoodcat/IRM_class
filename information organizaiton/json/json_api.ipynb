{
 "cells": [
  {
   "cell_type": "markdown",
   "metadata": {},
   "source": [
    "JOSN API在pyhton中的使用\n",
    "---\n",
    "课程目标：\n",
    "\n",
    "通过本课程的学习，实现\n",
    "\n",
    "1. 掌握python如何处理json\n",
    "2. 掌握python如果构建api"
   ]
  },
  {
   "cell_type": "markdown",
   "metadata": {},
   "source": [
    "在Python中，你可以使用内置的json模块来处理JSON数据\n",
    "\n",
    "该模块中常用的方法有以下四个：\n",
    "\n",
    "* ​json.dump​  将Python对象序列化为Json格式的数据流并写入文件类型的对象中\n",
    "* ​json.dumps​  将Python对象序列化为Json格式的字符串\n",
    "* ​json.load​  从文件类型的对象中读取Json格式的数据并反序列化成Python对象\n",
    "* ​json.loads ​ 将包含Json格式数据的字符串反序列化成Python对象"
   ]
  },
  {
   "cell_type": "code",
   "execution_count": 18,
   "metadata": {},
   "outputs": [
    {
     "name": "stdout",
     "output_type": "stream",
     "text": [
      "输出对象类别：\n",
      "<class 'str'>\n",
      "{\"books\": [{\"title\": \"静静的顿河\", \"author\": \"肖洛霍夫\"}, {\"title\": \"小时代\", \"author\": \"郭敬明\"}]}\n",
      "{\n",
      "    \"books\": [\n",
      "        {\n",
      "            \"title\": \"静静的顿河\",\n",
      "            \"author\": \"肖洛霍夫\"\n",
      "        },\n",
      "        {\n",
      "            \"title\": \"小时代\",\n",
      "            \"author\": \"郭敬明\"\n",
      "        }\n",
      "    ]\n",
      "}\n",
      "{\n",
      "    \"books\": [\n",
      "        {\n",
      "            \"author\": \"肖洛霍夫\",\n",
      "            \"title\": \"静静的顿河\"\n",
      "        },\n",
      "        {\n",
      "            \"author\": \"郭敬明\",\n",
      "            \"title\": \"小时代\"\n",
      "        }\n",
      "    ]\n",
      "}\n",
      "输出对象类别：\n",
      "<class 'dict'>\n",
      "{'books': [{'title': '静静的顿河', 'author': '肖洛霍夫'}, {'title': '小时代', 'author': '郭敬明'}]}\n",
      "静静的顿河\n"
     ]
    }
   ],
   "source": [
    "import json \n",
    "# 通过dumps读取json书籍，注意当使用 json.dumps() 方法将包含中文的 Python 对象转换为 JSON 字符串时，默认情况下中文字符会被转换为 Unicode 转义序列。为了让输出的 JSON 字符串显示为正常的中文，你可以使用 ensure_ascii 参数并将其设置为 False\n",
    "data={\"books\":[{\"title\":\"静静的顿河\",\"author\":\"肖洛霍夫\"},{\"title\":\"小时代\",\"author\":\"郭敬明\"}]}\n",
    "\n",
    "book_data=json.dumps(data, ensure_ascii=False)\n",
    "print(\"输出对象类别：\")\n",
    "print(type(book_data))\n",
    "print(book_data)\n",
    "#使得json输出更为规范，可以使用indent=4\n",
    "json_string = json.dumps(data, ensure_ascii=False, indent=4)\n",
    "print(json_string)\n",
    "#可以将json输出进行排序\n",
    "\n",
    "json_string = json.dumps(data,ensure_ascii=False,  indent=4, sort_keys=True)\n",
    "print(json_string)\n",
    "\n",
    " \n",
    "\n",
    "\n",
    "\n",
    "# json.loads():\n",
    "\n",
    "#功能: 将 JSON 格式的字符串转换（反序列化）为 Python 对象。\n",
    "#参数: 主要接受一个 JSON 格式的字符串。\n",
    "#返回值: 返回一个 Python 对象（如字典、列表等）。\n",
    "\n",
    "book_load=json.loads(book_data)\n",
    "print(\"输出对象类别：\")\n",
    "print(type(book_load))\n",
    "print(book_load)\n",
    "title=book_load['books'][0]['title']\n",
    "print(title)"
   ]
  },
  {
   "cell_type": "markdown",
   "metadata": {},
   "source": [
    "读取json本地文件\n",
    "---\n",
    "\n",
    "在Python中，使用json模块，你可以轻松地从本地文件读取JSON数据或将数据写入本地文件。主要的方法是dump和load。"
   ]
  },
  {
   "cell_type": "code",
   "execution_count": 10,
   "metadata": {},
   "outputs": [],
   "source": [
    "import json \n",
    "\n",
    "\n",
    "# 打开文件以写模式，这将清空文件内容\n",
    "with open(\"your_json_file.json\", \"w\") as file:\n",
    "    pass\n",
    "# 读取定义的json数据，并将现有的数据保存为本地json文件，注意需要将模式定义为“w”，写模式\n",
    "with open(\"json2.json\",\"w\") as file:\n",
    "    json.dump(data,file, ensure_ascii=False)"
   ]
  },
  {
   "cell_type": "code",
   "execution_count": 11,
   "metadata": {},
   "outputs": [
    {
     "name": "stdout",
     "output_type": "stream",
     "text": [
      "{'books': [{'title': '信息组织', 'author': '周宁', 'price': 20}, {'title': '信息资源管理', 'author': '马费成', 'price': 20}]}\n"
     ]
    }
   ],
   "source": [
    "import json\n",
    "with open(\"json1.json\",\"r\") as file:\n",
    "    data_l=json.load(file)\n",
    "\n",
    "print(data_l)"
   ]
  }
 ],
 "metadata": {
  "kernelspec": {
   "display_name": "luck",
   "language": "python",
   "name": "python3"
  },
  "language_info": {
   "codemirror_mode": {
    "name": "ipython",
    "version": 3
   },
   "file_extension": ".py",
   "mimetype": "text/x-python",
   "name": "python",
   "nbconvert_exporter": "python",
   "pygments_lexer": "ipython3",
   "version": "3.10.10"
  }
 },
 "nbformat": 4,
 "nbformat_minor": 2
}
