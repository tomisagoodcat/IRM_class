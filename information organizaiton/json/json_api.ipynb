{
 "cells": [
  {
   "cell_type": "markdown",
   "metadata": {},
   "source": [
    "JOSN API在pyhton中的使用\n",
    "---\n",
    "课程目标：\n",
    "\n",
    "通过本课程的学习，实现\n",
    "\n",
    "1. 掌握python如何处理json\n",
    "2. 掌握python如果构建api\n",
    "\n",
    "> [参考1](https://zhuanlan.zhihu.com/p/427042422)\n",
    "\n",
    "> [json官网](https://www.json.org/json-en.html)\n"
   ]
  },
  {
   "cell_type": "markdown",
   "metadata": {},
   "source": [
    "在Python中，你可以使用内置的json模块来处理JSON数据\n",
    "\n",
    "该模块中常用的方法有以下四个：\n",
    "\n",
    "* ​json.dump​  将Python对象序列化为Json格式的数据流并写入文件类型的对象中\n",
    "* ​json.dumps​  将Python对象序列化为Json格式的字符串\n",
    "* ​json.load​  从文件类型的对象中读取Json格式的数据并反序列化成Python对象\n",
    "* ​json.loads ​ 将包含Json格式数据的字符串反序列化成Python对象\n",
    "\n",
    "---\n",
    "Python原生支持JSON数据。Python json模块是标准库的一部分。该json模块可以将JSON数据从JSON格式转换到等效的Python对象，例如dictionary和list。JSON模块还可以将Python对象转换为JSON格式。\n",
    "\n",
    "Python的json模块提供编写自定义编码器和解码器功能，无需单独安装。您可以在此链接里找到Pythonjson模块的官方文档。"
   ]
  },
  {
   "cell_type": "markdown",
   "metadata": {},
   "source": [
    "1.将JSON字符串转换为Python对象\n",
    "\n",
    "JSON数据经常存储在字符串中。这是使用API时的常见场景。JSON数据在解析之前一般存储在字符串变量中。因此，与JSON相关的最常见任务是将JSON字符串解析为Python字典。JSON模块可以轻松处理此任务。\n",
    "\n",
    "第一步是导入Python的json模块。该模块包含两个重要的功能- ***loads和load***。\n",
    "\n",
    "请注意，第一种方法看起来像复数形式，但事实并非如此。***字母“S”代表“字符串”***。\n",
    "\n",
    "loads是将字符串解析为JSON数据。请注意，它读作“load-s”。这里的“s”代表“字符串”。Load的使用场景是当数据以字节为单位时。这部分后面会详细介绍。\n",
    "\n",
    "让我们从一个简单的例子开始。JSON数据实例如下："
   ]
  },
  {
   "cell_type": "code",
   "execution_count": 5,
   "metadata": {},
   "outputs": [
    {
     "name": "stdout",
     "output_type": "stream",
     "text": [
      "{\"name\": \"芙蓉姐姐\", \"gender\": \"女\"}\n",
      "原始的数据类型为： <class 'str'>\n",
      "{'name': '芙蓉姐姐', 'gender': '女'}\n",
      "转换后的数据类型为： <class 'dict'>\n",
      "访问转换后数据中元素 name: 芙蓉姐姐\n"
     ]
    }
   ],
   "source": [
    "import json \n",
    "# 读取字符串\n",
    "if __name__ == '__main__':\n",
    "    string_data=\"\"\"{\"name\": \"芙蓉姐姐\", \"gender\": \"女\"}\"\"\"\n",
    "    print(string_data)\n",
    "    print(\"原始的数据类型为：\",type(string_data))\n",
    "    json_data=json.loads(string_data)\n",
    "    print(json_data)\n",
    "    print(\"转换后的数据类型为：\",type(json_data))\n",
    "    data_name=json_data['name']\n",
    "    print(\"访问转换后数据中元素 name:\",data_name)"
   ]
  },
  {
   "cell_type": "markdown",
   "metadata": {},
   "source": [
    "需要注意的是，json.loads()方法并不总是返回字典。返回的数据类型将取决于输入的字符串,当缺失key值时候并输入是一个数组缺失\"{}\"，返回就是list。例如，下面这个JSON字符串将返回一个列表，而不是一个字典。"
   ]
  },
  {
   "cell_type": "code",
   "execution_count": 5,
   "metadata": {},
   "outputs": [
    {
     "name": "stdout",
     "output_type": "stream",
     "text": [
      "转换后的数据格式为<class 'list'>,转换后的数据为:['诸葛亮', '曹操']\n",
      "选取第二个数值： 曹操\n"
     ]
    }
   ],
   "source": [
    "import json \n",
    "if __name__ == \"__main__\":\n",
    "    string_data= '[\"诸葛亮\",\"曹操\"]'   \n",
    "    json_data=json.loads(string_data)\n",
    "    print(\"转换后的数据格式为{},转换后的数据为:{}\".format(type(json_data),json_data))\n",
    "    print(\"选取第二个数值：\",json_data[1])"
   ]
  },
  {
   "cell_type": "markdown",
   "metadata": {},
   "source": [
    "读取json本地文件\n",
    "---\n",
    "\n",
    "在Python中，使用json模块，你可以轻松地从本地文件读取JSON数据或将数据写入本地文件。主要的方法是dump和load。\n",
    "\n",
    " \n",
    "读取JSON文件，并将JSON数据解析为Python数据，与我们解析存储在字符串中JSON数据的方式非常相似。除了JSON，我们还需要Python的原生函数open()。\n",
    "\n",
    "一般loads用于读取JSON字符串，***而load()用于读取文件中的JSON数据。***\n",
    "\n",
    "load()方法接收一个文件对象并返回解析为Python对象的JSON数据。\n",
    "\n",
    "要从文件路径中获取文件对象，可以使用Python的函数open()。\n",
    "---\n",
    "阶段实验：\n",
    "\n",
    "1. 读取简单的json文档\n",
    "2. 读取上海公共平台提供的“有效高企2019_2021”数据文件\n"
   ]
  },
  {
   "cell_type": "markdown",
   "metadata": {},
   "source": [
    "实验1.\n",
    "* 复习json，手工编写json文件并保存到本地\n",
    "* 结合 with open ， load等函数实现读取本地json文件\n"
   ]
  },
  {
   "cell_type": "code",
   "execution_count": null,
   "metadata": {},
   "outputs": [
    {
     "name": "stdout",
     "output_type": "stream",
     "text": [
      "通过load转换后的json文件数据类型<class 'dict'>,数据内容:{'books': [{'title': '信息组织', 'author': '周宁', 'price': 20}, {'title': '信息资源管理', 'author': '马费成', 'price': 20}]}\n",
      "json数据转换后返回dict中第二本书的作者:马费成,书名：信息资源管理\n"
     ]
    }
   ],
   "source": [
    "import json\n",
    "if __name__ == \"__main__\":\n",
    "    with open(\"json1.json\",\"r\") as file:\n",
    "        data_l=json.load(file)\n",
    "\n",
    "    print(\"通过load转换后的json文件数据类型{},数据内容:{}\".format(type(data_l),data_l))\n",
    "    book_name=data_l['books'][1]['title'] \n",
    "    book_author=data_l['books'][1]['author']\n",
    "    print(\"json数据转换后返回dict中第二本书的作者:{},书名：{}\".format(book_author,book_name))"
   ]
  },
  {
   "cell_type": "markdown",
   "metadata": {},
   "source": [
    "实验2.\n",
    " \n",
    "* 结合 with open ， load等函数实现读取上海公共平台的本地json文件\n",
    "* 返回读取后的数据类型\n",
    "* 将json文件读取到dataframe中\n",
    "* 通过dataframe实习基本的统计\n",
    "\n"
   ]
  },
  {
   "cell_type": "code",
   "execution_count": 3,
   "metadata": {},
   "outputs": [
    {
     "name": "stdout",
     "output_type": "stream",
     "text": [
      "读取后的数据类型：<class 'list'>\n",
      "列表中所有企业数量20031\n"
     ]
    }
   ],
   "source": [
    "import json \n",
    "if __name__ == \"__main__\":\n",
    "    with open(\"有效高企2019_2021.json\") as file:\n",
    "        data_l=json.load(file)\n",
    "    \n",
    "        print(\"读取后的数据类型：{}\".format(type(data_l)))\n",
    "        # 实现基本的统计\n",
    "        #sum_l=sum(r['企业名称'] for r in data_l)\n",
    "        total_com = len(data_l)\n",
    "        print(f\"列表中所有企业数量{total_com}\")\n",
    "       "
   ]
  },
  {
   "cell_type": "markdown",
   "metadata": {},
   "source": [
    "通过pandas也可以直接将json文件读取到dataframe中更加方便处理\n",
    "\n",
    "使用read_json"
   ]
  },
  {
   "cell_type": "code",
   "execution_count": 9,
   "metadata": {},
   "outputs": [
    {
     "name": "stdout",
     "output_type": "stream",
     "text": [
      "企业名称    object\n",
      "发证名称    object\n",
      "有效期     object\n",
      "证书编号    object\n",
      "dtype: object\n",
      "              企业名称            发证名称 有效期            证书编号\n",
      "0  上海启首计算机系统工程有限公司  2019/10/8 0:00  三年  GR201931000001\n",
      "1       上海派链塑业有限公司  2019/10/8 0:00  三年  GR201931000002\n",
      "2  码赫镭（上海）数字科技有限公司  2019/10/8 0:00  三年  GR201931000003\n",
      "3     上海织语网络科技有限公司  2019/10/8 0:00  三年  GR201931000004\n",
      "4     上海昕沐化学科技有限公司  2019/10/8 0:00  三年  GR201931000005\n",
      "                   企业名称             发证名称    有效期            证书编号\n",
      "count             20031            20031  20031           20031\n",
      "unique            20031               11      1           20031\n",
      "top     上海启首计算机系统工程有限公司  2021/11/18 0:00     三年  GR201931000001\n",
      "freq                  1             2981  20031               1\n"
     ]
    }
   ],
   "source": [
    "import pandas as pd\n",
    "if __name__ == \"__main__\":\n",
    "    with open(\"有效高企2019_2021.json\") as file:\n",
    "      data=pd.read_json(file)\n",
    "      print(data.dtypes)\n",
    "      print(data.head())\n",
    "      print(data.describe())\n"
   ]
  },
  {
   "cell_type": "markdown",
   "metadata": {},
   "source": [
    "### 将Python对象转换为JSON字符串\n",
    "将Python对象转换为JSON对象也称为***序列化或JSON编码***。可以使用函数dumps()来实现。它被读作dump-s，字母S代表字符串。\n",
    "1. 将dic转换为json\n",
    "2. 将list转换为json\n",
    "3. 将dataframe转换为json\n",
    "\n"
   ]
  },
  {
   "cell_type": "code",
   "execution_count": 11,
   "metadata": {},
   "outputs": [
    {
     "name": "stdout",
     "output_type": "stream",
     "text": [
      "输出对象类别：\n",
      "<class 'str'>\n",
      "{\"books\": [{\"title\": \"静静的顿河\", \"author\": \"肖洛霍夫\"}, {\"title\": \"小时代\", \"author\": \"郭敬明\"}]}\n",
      "{\n",
      "    \"books\": [\n",
      "        {\n",
      "            \"title\": \"静静的顿河\",\n",
      "            \"author\": \"肖洛霍夫\"\n",
      "        },\n",
      "        {\n",
      "            \"title\": \"小时代\",\n",
      "            \"author\": \"郭敬明\"\n",
      "        }\n",
      "    ]\n",
      "}\n",
      "{\n",
      "    \"books\": [\n",
      "        {\n",
      "            \"author\": \"肖洛霍夫\",\n",
      "            \"title\": \"静静的顿河\"\n",
      "        },\n",
      "        {\n",
      "            \"author\": \"郭敬明\",\n",
      "            \"title\": \"小时代\"\n",
      "        }\n",
      "    ]\n",
      "}\n"
     ]
    }
   ],
   "source": [
    "import json \n",
    "# 通过dumps读取json书籍，注意当使用 json.dumps() 方法将包含中文的 Python 对象转换为 JSON 字符串时，默认情况下中文字符会被转换为 Unicode 转义序列。\n",
    "# 为了让输出的 JSON 字符串显示为正常的中文，你可以使用 ensure_ascii 参数并将其设置为 False\n",
    "if __name__ == \"__main__\":\n",
    "    data={\"books\":[{\"title\":\"静静的顿河\",\"author\":\"肖洛霍夫\"},{\"title\":\"小时代\",\"author\":\"郭敬明\"}]}\n",
    "\n",
    "    book_data=json.dumps(data, ensure_ascii=False)\n",
    "    print(\"输出对象类别：\")\n",
    "    print(type(book_data))\n",
    "    print(book_data)\n",
    "    #使得json输出更为规范，可以使用indent=4\n",
    "    json_string = json.dumps(data, ensure_ascii=False, indent=4)\n",
    "    print(json_string)\n",
    "    #可以将json输出进行排序\n",
    "\n",
    "    json_string = json.dumps(data,ensure_ascii=False,  indent=4, sort_keys=True)\n",
    "    print(json_string)\n",
    "\n",
    " \n",
    "\n",
    "\n",
    "\n",
    "# json.loads():\n",
    "\n",
    "#功能: 将 JSON 格式的字符串转换（反序列化）为 Python 对象。\n",
    "#参数: 主要接受一个 JSON 格式的字符串。\n",
    "#返回值: 返回一个 Python 对象（如字典、列表等）。\n",
    "\n",
    "#book_load=json.loads(book_data)\n",
    "#print(\"输出对象类别：\")\n",
    "#print(type(book_load))\n",
    "#print(book_load)\n",
    "#title=book_load['books'][0]['title']\n",
    "#print(title)"
   ]
  },
  {
   "cell_type": "markdown",
   "metadata": {},
   "source": [
    "也可以将一个列表转换为json"
   ]
  },
  {
   "cell_type": "code",
   "execution_count": 14,
   "metadata": {},
   "outputs": [
    {
     "name": "stdout",
     "output_type": "stream",
     "text": [
      "原始数据类型<class 'list'>\n",
      "[\n",
      "    \"老舍\",\n",
      "    \"徐志摩\",\n",
      "    \"巴金\",\n",
      "    \"鲁迅\"\n",
      "]\n"
     ]
    }
   ],
   "source": [
    "import json \n",
    "if __name__ == \"__main__\":\n",
    "    list_d=['老舍','徐志摩','巴金','鲁迅']\n",
    "    print(f\"原始数据类型{type(list_d)}\")\n",
    "    list_json=json.dumps(list_d,ensure_ascii=False,  indent=4, sort_keys=True)\n",
    "    print(list_json)"
   ]
  },
  {
   "cell_type": "markdown",
   "metadata": {},
   "source": [
    "将Python对象写入JSON文件\n",
    "用于编写JSON文件的方法是dump().这种方法与dumps()方法非常相似。唯一的区别是dumps()返回一个字符串，dump()写入一个文件。\n",
    "\n",
    "\n",
    "\n",
    "下面是一个简单的演示，将以编辑模式打开文件并将数据写成JSON格式。保存此Python脚本并运行它。"
   ]
  },
  {
   "cell_type": "code",
   "execution_count": 16,
   "metadata": {},
   "outputs": [],
   "source": [
    "import json \n",
    "\n",
    "if __name__ == \"__main__\":\n",
    "    data={\"books\":[{\"title\":\"静静的顿河\",\"author\":\"肖洛霍夫\"},{\"title\":\"小时代\",\"author\":\"郭敬明\"},{\"title\":\"骆驼祥子\",\"author\":\"老舍\"}]}\n",
    "\n",
    "    # 1. 打开文件以写模式，这将清空文件内容\n",
    "    with open(\"your_json_file.json\", \"w\") as file:\n",
    "        pass\n",
    "    # 2. 读取定义的json数据，并将现有的数据保存为本地json文件，注意需要将模式定义为“w”，写模式\n",
    "    with open(\"json2.json\",\"w\") as file:\n",
    "        json.dump(data,file, ensure_ascii=False,indent=4)"
   ]
  },
  {
   "cell_type": "markdown",
   "metadata": {},
   "source": [
    "pandas 中，dataframe对json的本地化保存操作更为简单\n",
    "\n",
    "阶段实验\n",
    "1. 读取本地csv文件到dataframe\n",
    "2. 将dataframe直接保存到本地json文件中\n"
   ]
  },
  {
   "cell_type": "code",
   "execution_count": 26,
   "metadata": {},
   "outputs": [
    {
     "name": "stdout",
     "output_type": "stream",
     "text": [
      "         国内生产总值（亿美元）\n",
      "count      98.000000\n",
      "mean    29861.570918\n",
      "std     34229.805929\n",
      "min      3065.830000\n",
      "25%     12225.565000\n",
      "50%     18639.410000\n",
      "75%     28519.265000\n",
      "max    146578.000000\n",
      "      年份 主要国家  国内生产总值（亿美元）\n",
      "0  2010年   美国    146578.00\n",
      "1  2009年   美国    141190.50\n",
      "2  2008年   美国    143690.75\n",
      "3  2007年   美国    140618.00\n",
      "4  2006年   美国    133989.25\n"
     ]
    }
   ],
   "source": [
    "import pandas as pd \n",
    "if __name__ == \"__main__\":\n",
    "    csv_data=pd.read_csv(\"各主要国家贸易经济数据.csv\",encoding=\"GBK\")\n",
    "    print(csv_data.describe())\n",
    "    print(csv_data.head())\n",
    "    # 将数据保存到本地json文件\n",
    "    csv_data.to_json('eco.json',lines=True,orient='records',force_ascii= False)"
   ]
  },
  {
   "cell_type": "markdown",
   "metadata": {},
   "source": [
    "#### dataframe 到json的格式转换问题：\n",
    "\n",
    "> [参考]（https://blog.csdn.net/qq_41780234/article/details/84990551）\n",
    "\n",
    "`orient` 参数在 `to_json()` 方法中定义了JSON格式的输出结构。以下是为 `orient` 参数提供的选项及其描述：\n",
    "\n",
    "1. **`'split'`**: 会返回包含条目如索引、列和数据的字典。\n",
    "\n",
    "   结果的样式如：\n",
    "   ```json\n",
    "   {\n",
    "       \"index\": [\"row1\", \"row2\", ...],\n",
    "       \"columns\": [\"col1\", \"col2\", ...],\n",
    "       \"data\": [[value1, value2, ...], ...]\n",
    "   }\n",
    "\n",
    "2. **'records'**: 返回一个字典列表（每一行为一个字典）。\n",
    "\n",
    "   结果的样式如：\n",
    "  ```json\n",
    "\n",
    "  [\n",
    "    {\"col1\": value1, \"col2\": value2, ...},\n",
    "    ...\n",
    "  ]\n",
    "3. 'index': 返回一个包含行索引的字典列表。\n",
    "\n",
    "结果的样式如：\n",
    " ```json  \n",
    "   {\n",
    "    \"row1\": {\"col1\": value1, \"col2\": value2, ...},\n",
    "    \"row2\": {...},\n",
    "    ...\n",
    "    }\n",
    "4. 'columns': 这是默认选项，返回一个列字典，其值为该列的所有值的列表。\n",
    "\n",
    "结果的样式如：\n",
    " ```json  \n",
    "{\n",
    "    \"col1\": [value1, value2, ...],\n",
    "    \"col2\": [...],\n",
    "    ...\n",
    "}\n",
    "5. 'values': 返回一个2D值数组。\n",
    "\n",
    "结果的样式如：\n",
    " ```json  \n",
    "[\n",
    "    [value1, value2, ...],\n",
    "    ...\n",
    "]\n",
    "\n",
    "6.'table': 返回包含数据和架构的字典，这在保存数据和其类型时很有用，尤其是当您希望以后将数据恢复为DataFrame时。\n",
    "\n",
    "结果的样式如：\n",
    " ```json  \n",
    "{\n",
    "    \"schema\": {\"fields\": [{\"name\": \"col1\", \"type\": \"type1\"}, ...], \"primaryKey\": [...], \"pandas_version\": \"0.20.0\"},\n",
    "    \"data\": [{\"col1\": value1, ...}, ...]\n",
    "}\n"
   ]
  },
  {
   "cell_type": "code",
   "execution_count": 11,
   "metadata": {},
   "outputs": [
    {
     "name": "stdout",
     "output_type": "stream",
     "text": [
      "{'books': [{'title': '信息组织', 'author': '周宁', 'price': 20}, {'title': '信息资源管理', 'author': '马费成', 'price': 20}]}\n"
     ]
    }
   ],
   "source": []
  },
  {
   "cell_type": "markdown",
   "metadata": {},
   "source": [
    "# API "
   ]
  },
  {
   "cell_type": "markdown",
   "metadata": {},
   "source": [
    "API全称是：Application Programming Interface，即：应用程序接口，是一些预先定义的函数，或指软件系统不同组成部分衔接的约定。开发人员可以使用这些API接口进行编程开发，而又无需访问源码，或理解内部工作机制的细节。\n",
    "\n",
    "比较常见的现实场景是，在开发安卓应用时需要使用到安卓系统提供的API，在进行Windows桌面应用开发时需要用到微软系统提供的API，在进行微信小程序开发时可使用微信开放接口API。\n",
    "\n",
    "更为常见的是，API接口很可能是远程的服务端API，其背后采用Java、PHP、C#、Pyhon、C/C++、Ruby、Scala等一种或多种后端语言开发搭建，提供了数据存储、通讯、各类服务等功能。一般是使用HTTP协议进行通讯，使用JSON格式序列化返回接口结果和数据。\n",
    "\n",
    "<img src=\"https://pic3.zhimg.com/v2-1e188396614299ba8cb358d9e565e85e_r.jpg\"></img>\n",
    "---\n",
    "\n",
    "## API 是什么？\n",
    "\n",
    "API 是 \"Application Programming Interface\"（应用程序编程接口）的缩写。它是一组预定义的规则和规范，允许应用程序之间进行交互。API 可以被视为一种“桥梁”或“中介”，使两个不同的软件应用或系统能够相互通信和交换数据。\n",
    "\n",
    "### 关于 API 的一些关键点：\n",
    "\n",
    "1. **数据交换**  \n",
    "   API 通常允许数据在不同的系统或应用程序之间流动，例如从服务器到客户端应用程序。\n",
    "\n",
    "2. **格式**  \n",
    "   API 可以使用多种数据格式，但最常见的是 JSON 和 XML。\n",
    "\n",
    "3. **类型**  \n",
    "   - **Web API**：通常是基于 HTTP/HTTPS 的，允许应用程序通过网络访问服务或数据。例如，许多公司（如 Twitter、Google、Facebook 等）都提供 Web API，允许开发者访问其平台的某些功能。\n",
    "   - **库或框架的 API**：为开发者提供一组函数、类和方法，以便在其应用程序中实现特定的功能或操作。\n",
    "   - **操作系统API**：允许应用程序访问操作系统的功能，如文件操作、网络通信等。\n",
    "\n",
    "4. **RESTful API**  \n",
    "   是 Web API 的一种，它遵循 REST（Representational State Transfer）原则。RESTful API 使用标准的 HTTP 方法（如 GET、POST、PUT、DELETE）来执行操作，并且通常返回 JSON 或 XML 格式的数据。\n",
    "\n",
    "5. **安全性**  \n",
    "   为了保护数据和功能，API 通常需要使用密钥、令牌或其他身份验证方法来限制访问。\n",
    "\n",
    "6. **文档**  \n",
    "   为了帮助开发者理解和使用 API，提供者通常会提供详细的文档，说明如何调用 API、需要哪些参数以及可以期望的响应。\n",
    "\n",
    "简而言之，API 提供了一种方式，使得开发者可以利用其他软件、服务或平台的功能，而无需了解其内部工作原理。"
   ]
  },
  {
   "cell_type": "markdown",
   "metadata": {},
   "source": [
    "结合Python使用API通常涉及以下几个步骤：\n",
    "\n",
    "1. **选择合适的库**：Python有几个库可以帮助你与API交互。其中最受欢迎的是`requests`库，它提供了一个简单的方式来发送HTTP请求。\n",
    "\n",
    "2. **发送请求**：使用所选的库发送请求到API的端点（URL）。\n",
    "\n",
    "3. **处理响应**：API将返回数据，通常是JSON格式。你可以解析这些数据并在Python程序中使用它。\n",
    "\n",
    "4. **处理错误**：确保正确处理可能的错误或异常，例如API限制、无效的响应等。\n",
    "\n",
    "以下是一个使用`requests`库与API交互的简单示例：\n",
    "\n",
    "```python\n",
    "import requests\n",
    "\n",
    "# API端点\n",
    "url = \"https://api.example.com/data\"\n",
    "\n",
    "# 发送GET请求\n",
    "response = requests.get(url)\n",
    "\n",
    "# 检查响应是否成功\n",
    "if response.status_code == 200:\n",
    "    # 解析JSON数据\n",
    "    data = response.json()\n",
    "    print(data)\n",
    "else:\n",
    "    print(f\"Failed to retrieve data. Status code: {response.status_code}\")\n",
    "```\n",
    "\n",
    "如果API需要身份验证（例如API密钥或OAuth），你还需要在请求中包含适当的头或参数。\n",
    "\n",
    "例如，如果API需要一个API密钥作为查询参数：\n",
    "\n",
    "```python\n",
    "params = {\n",
    "    \"api_key\": \"YOUR_API_KEY\"\n",
    "}\n",
    "response = requests.get(url, params=params)\n",
    "```\n",
    "\n",
    "或者，如果API密钥需要作为请求头发送：\n",
    "\n",
    "```python\n",
    "headers = {\n",
    "    \"Authorization\": \"Bearer YOUR_API_KEY\"\n",
    "}\n",
    "response = requests.get(url, headers=headers)\n",
    "```\n",
    "\n",
    "总之，结合Python使用API是一个相对简单的过程，但具体的实现细节可能会因API的不同而异。为了成功地与API交互，建议仔细阅读API的文档，了解其要求和限制。"
   ]
  },
  {
   "cell_type": "code",
   "execution_count": 3,
   "metadata": {},
   "outputs": [
    {
     "name": "stdout",
     "output_type": "stream",
     "text": [
      "接口访问失败，失败代码 200\n"
     ]
    }
   ],
   "source": [
    "import requests\n",
    "# API端点\n",
    "url =  \"https://jsonplaceholder.typicode.com/posts/1\"\n",
    "response=requests.get(url)\n",
    "if response.status_code != 200:\n",
    "    print(\"接口访问失败，失败代码\",response.status_code)\n",
    "else:\n",
    "    \n",
    "    print(\"接口访问成功\")"
   ]
  },
  {
   "cell_type": "code",
   "execution_count": 2,
   "metadata": {},
   "outputs": [
    {
     "name": "stdout",
     "output_type": "stream",
     "text": [
      "{'userId': 1, 'id': 1, 'title': 'sunt aut facere repellat provident occaecati excepturi optio reprehenderit', 'body': 'quia et suscipit\\nsuscipit recusandae consequuntur expedita et cum\\nreprehenderit molestiae ut ut quas totam\\nnostrum rerum est autem sunt rem eveniet architecto'}\n"
     ]
    }
   ],
   "source": [
    "import requests\n",
    "\n",
    "url = \"https://jsonplaceholder.typicode.com/posts/1\"\n",
    "response = requests.get(url)\n",
    "\n",
    "if response.status_code == 200:\n",
    "    data = response.json()\n",
    "    print(data)\n",
    "else:\n",
    "    print(f\"Error: {response.status_code}\")"
   ]
  }
 ],
 "metadata": {
  "kernelspec": {
   "display_name": "Python 3 (ipykernel)",
   "language": "python",
   "name": "python3"
  },
  "language_info": {
   "codemirror_mode": {
    "name": "ipython",
    "version": 3
   },
   "file_extension": ".py",
   "mimetype": "text/x-python",
   "name": "python",
   "nbconvert_exporter": "python",
   "pygments_lexer": "ipython3",
   "version": "3.10.10"
  }
 },
 "nbformat": 4,
 "nbformat_minor": 2
}
