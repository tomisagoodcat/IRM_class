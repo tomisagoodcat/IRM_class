{
 "cells": [
  {
   "cell_type": "code",
   "execution_count": null,
   "metadata": {},
   "outputs": [],
   "source": []
  },
  {
   "cell_type": "markdown",
   "metadata": {},
   "source": [
    "# 分词池袋模型"
   ]
  },
  {
   "cell_type": "code",
   "execution_count": null,
   "metadata": {},
   "outputs": [],
   "source": [
    "!pip install sklearn\n"
   ]
  },
  {
   "cell_type": "code",
   "execution_count": 18,
   "metadata": {},
   "outputs": [
    {
     "name": "stdout",
     "output_type": "stream",
     "text": [
      "['Life', 'is', 'like', 'music.', 'It', 'must', 'be', 'composed', 'by', 'ear,', 'feeling', 'and', 'instinct,', 'not', 'by', 'rule.']\n",
      "['It', 'Life', 'and', 'be', 'by', 'composed', 'ear,', 'feeling', 'instinct,', 'is', 'like', 'music.', 'must', 'not', 'rule.']\n",
      "[[0 0 0 0 0 0 0 0 0 0 0 0 0 0 0]\n",
      " [0 0 0 0 0 0 0 0 0 0 0 0 0 0 0]\n",
      " [0 0 0 0 0 0 0 0 0 0 0 0 0 0 0]\n",
      " [0 0 0 0 0 0 0 0 0 0 0 0 0 0 0]\n",
      " [0 0 0 0 0 0 0 0 0 0 0 0 0 0 0]\n",
      " [0 0 0 0 0 0 0 0 0 0 0 0 0 0 0]\n",
      " [0 0 0 0 0 0 0 0 0 0 0 0 0 0 0]\n",
      " [0 0 0 0 0 0 0 0 0 0 0 0 0 0 0]\n",
      " [0 0 0 0 0 0 0 0 0 0 0 0 0 0 0]\n",
      " [0 0 0 0 0 0 0 0 0 0 0 0 0 0 0]\n",
      " [0 0 0 0 0 0 0 0 0 0 0 0 0 0 0]\n",
      " [0 0 0 0 0 0 0 0 0 0 0 0 0 0 0]\n",
      " [0 0 0 0 0 0 0 0 0 0 0 0 0 0 0]\n",
      " [0 0 0 0 0 0 0 0 0 0 0 0 0 0 0]\n",
      " [0 0 0 0 0 0 0 0 0 0 0 0 0 0 0]\n",
      " [0 0 0 0 0 0 0 0 0 0 0 0 0 0 0]]\n",
      "[[0 1 0 0 0 0 0 0 0 0 0 0 0 0 0]\n",
      " [0 0 0 0 0 0 0 0 0 1 0 0 0 0 0]\n",
      " [0 0 0 0 0 0 0 0 0 0 1 0 0 0 0]\n",
      " [0 0 0 0 0 0 0 0 0 0 0 1 0 0 0]\n",
      " [1 0 0 0 0 0 0 0 0 0 0 0 0 0 0]\n",
      " [0 0 0 0 0 0 0 0 0 0 0 0 1 0 0]\n",
      " [0 0 0 1 0 0 0 0 0 0 0 0 0 0 0]\n",
      " [0 0 0 0 0 1 0 0 0 0 0 0 0 0 0]\n",
      " [0 0 0 0 1 0 0 0 0 0 0 0 0 0 0]\n",
      " [0 0 0 0 0 0 1 0 0 0 0 0 0 0 0]\n",
      " [0 0 0 0 0 0 0 1 0 0 0 0 0 0 0]\n",
      " [0 0 1 0 0 0 0 0 0 0 0 0 0 0 0]\n",
      " [0 0 0 0 0 0 0 0 1 0 0 0 0 0 0]\n",
      " [0 0 0 0 0 0 0 0 0 0 0 0 0 1 0]\n",
      " [0 0 0 0 1 0 0 0 0 0 0 0 0 0 0]\n",
      " [0 0 0 0 0 0 0 0 0 0 0 0 0 0 1]]\n",
      "    It  Life  and  be  by  composed  ear,  feeling  instinct,  is  like  \\\n",
      "0    0     1    0   0   0         0     0        0          0   0     0   \n",
      "1    0     0    0   0   0         0     0        0          0   1     0   \n",
      "2    0     0    0   0   0         0     0        0          0   0     1   \n",
      "3    0     0    0   0   0         0     0        0          0   0     0   \n",
      "4    1     0    0   0   0         0     0        0          0   0     0   \n",
      "5    0     0    0   0   0         0     0        0          0   0     0   \n",
      "6    0     0    0   1   0         0     0        0          0   0     0   \n",
      "7    0     0    0   0   0         1     0        0          0   0     0   \n",
      "8    0     0    0   0   1         0     0        0          0   0     0   \n",
      "9    0     0    0   0   0         0     1        0          0   0     0   \n",
      "10   0     0    0   0   0         0     0        1          0   0     0   \n",
      "11   0     0    1   0   0         0     0        0          0   0     0   \n",
      "12   0     0    0   0   0         0     0        0          1   0     0   \n",
      "13   0     0    0   0   0         0     0        0          0   0     0   \n",
      "14   0     0    0   0   1         0     0        0          0   0     0   \n",
      "15   0     0    0   0   0         0     0        0          0   0     0   \n",
      "\n",
      "    music.  must  not  rule.  \n",
      "0        0     0    0      0  \n",
      "1        0     0    0      0  \n",
      "2        0     0    0      0  \n",
      "3        1     0    0      0  \n",
      "4        0     0    0      0  \n",
      "5        0     1    0      0  \n",
      "6        0     0    0      0  \n",
      "7        0     0    0      0  \n",
      "8        0     0    0      0  \n",
      "9        0     0    0      0  \n",
      "10       0     0    0      0  \n",
      "11       0     0    0      0  \n",
      "12       0     0    0      0  \n",
      "13       0     0    1      0  \n",
      "14       0     0    0      0  \n",
      "15       0     0    0      1  \n"
     ]
    }
   ],
   "source": [
    "import numpy as np \n",
    "sentence=\"Life is like music. It must be composed by ear, feeling and instinct, not by rule.\"\n",
    "token=sentence.split()\n",
    "vocad=sorted(set(token))# 对英文文本进行排序，数字最先，大写在前，小写在后\n",
    " \n",
    "','.join(vocad)\n",
    "print(token)\n",
    "print(vocad)\n",
    "num_tokens=len(token)\n",
    "vocad_size=len(vocad)\n",
    "#print(num_tokens)\n",
    "#print(vocad_size)\n",
    "onehot_vec=np.zeros((num_tokens,vocad_size),int)\n",
    "print(onehot_vec)\n",
    "for i, word in enumerate(token):\n",
    "        onehot_vec[i,vocad.index(word)]=1\n",
    "        \n",
    "print(onehot_vec)\n",
    "from sklearn.feature_extraction.text import CountVectorizer\n",
    "vectorizer = CountVectorizer(binary=True)\n"
   ]
  },
  {
   "cell_type": "code",
   "execution_count": 19,
   "metadata": {},
   "outputs": [
    {
     "name": "stdout",
     "output_type": "stream",
     "text": [
      "    It  Life  and  be  by  composed  ear,  feeling  instinct,  is  like  \\\n",
      "0    0     1    0   0   0         0     0        0          0   0     0   \n",
      "1    0     0    0   0   0         0     0        0          0   1     0   \n",
      "2    0     0    0   0   0         0     0        0          0   0     1   \n",
      "3    0     0    0   0   0         0     0        0          0   0     0   \n",
      "4    1     0    0   0   0         0     0        0          0   0     0   \n",
      "5    0     0    0   0   0         0     0        0          0   0     0   \n",
      "6    0     0    0   1   0         0     0        0          0   0     0   \n",
      "7    0     0    0   0   0         1     0        0          0   0     0   \n",
      "8    0     0    0   0   1         0     0        0          0   0     0   \n",
      "9    0     0    0   0   0         0     1        0          0   0     0   \n",
      "10   0     0    0   0   0         0     0        1          0   0     0   \n",
      "11   0     0    1   0   0         0     0        0          0   0     0   \n",
      "12   0     0    0   0   0         0     0        0          1   0     0   \n",
      "13   0     0    0   0   0         0     0        0          0   0     0   \n",
      "14   0     0    0   0   1         0     0        0          0   0     0   \n",
      "15   0     0    0   0   0         0     0        0          0   0     0   \n",
      "\n",
      "    music.  must  not  rule.  \n",
      "0        0     0    0      0  \n",
      "1        0     0    0      0  \n",
      "2        0     0    0      0  \n",
      "3        1     0    0      0  \n",
      "4        0     0    0      0  \n",
      "5        0     1    0      0  \n",
      "6        0     0    0      0  \n",
      "7        0     0    0      0  \n",
      "8        0     0    0      0  \n",
      "9        0     0    0      0  \n",
      "10       0     0    0      0  \n",
      "11       0     0    0      0  \n",
      "12       0     0    0      0  \n",
      "13       0     0    1      0  \n",
      "14       0     0    0      0  \n",
      "15       0     0    0      1  \n"
     ]
    }
   ],
   "source": [
    "import pandas as pd \n",
    "df=pd.DataFrame(onehot_vec,columns=vocad)\n",
    "print(df)"
   ]
  },
  {
   "cell_type": "code",
   "execution_count": 21,
   "metadata": {},
   "outputs": [
    {
     "name": "stdout",
     "output_type": "stream",
     "text": [
      "<class 'dict'>\n"
     ]
    },
    {
     "data": {
      "text/plain": [
       "[('It', 1),\n",
       " ('Life', 1),\n",
       " ('and', 1),\n",
       " ('be', 1),\n",
       " ('by', 1),\n",
       " ('composed', 1),\n",
       " ('ear,', 1),\n",
       " ('feeling', 1),\n",
       " ('instinct,', 1),\n",
       " ('is', 1),\n",
       " ('like', 1),\n",
       " ('music.', 1),\n",
       " ('must', 1),\n",
       " ('not', 1),\n",
       " ('rule.', 1)]"
      ]
     },
     "execution_count": 21,
     "metadata": {},
     "output_type": "execute_result"
    }
   ],
   "source": [
    "sentence_bow={}\n",
    "for token in sentence.split():\n",
    "    sentence_bow[token]=1\n",
    "print(type(sentence_bow))\n",
    "sorted(sentence_bow.items())"
   ]
  },
  {
   "cell_type": "code",
   "execution_count": 26,
   "metadata": {},
   "outputs": [
    {
     "name": "stdout",
     "output_type": "stream",
     "text": [
      "      Life  is  like  music.  It  must  be  composed  by  ear,  feeling  and  \\\n",
      "sent     1   1     1       1   1     1   1         1   1     1        1    1   \n",
      "\n",
      "      instinct,  not  rule.  \n",
      "sent          1    1      1  \n"
     ]
    }
   ],
   "source": [
    "s=pd.Series(sentence_bow)\n",
    "df2=pd.DataFrame(s,columns=[\"sent\"])\n",
    "df2=df2.T\n",
    "print(df2)"
   ]
  },
  {
   "cell_type": "code",
   "execution_count": null,
   "metadata": {},
   "outputs": [],
   "source": [
    "sents=\"To be both a speaker of words and a doer of deeds.\\n\"\n",
    "sents+=\"Only they who fulfill their duties in everyday matters will fulfill them on great occasions.\\n\"\n",
    "sents+=\"The shortest way to do many things is to only one thing at a time. \\n\"\n",
    "sents+=\"Life is like music. It must be composed by ear, feeling and instinct, not by rule.\\n\"\n",
    "sents+=\"Life is a great big canvas, and you should throw all the paint on it you can.\"\n"
   ]
  },
  {
   "cell_type": "markdown",
   "metadata": {},
   "source": []
  }
 ],
 "metadata": {
  "kernelspec": {
   "display_name": "Python 3.10.4 ('luck')",
   "language": "python",
   "name": "python3"
  },
  "language_info": {
   "codemirror_mode": {
    "name": "ipython",
    "version": 3
   },
   "file_extension": ".py",
   "mimetype": "text/x-python",
   "name": "python",
   "nbconvert_exporter": "python",
   "pygments_lexer": "ipython3",
   "version": "3.10.4"
  },
  "orig_nbformat": 4,
  "vscode": {
   "interpreter": {
    "hash": "7f860de8d2f90ad8cbd5e9027150b9f1852816e89724c40b1a127c39f06d8e1c"
   }
  }
 },
 "nbformat": 4,
 "nbformat_minor": 2
}
