{
 "cells": [
  {
   "cell_type": "markdown",
   "id": "5c3330da",
   "metadata": {},
   "source": [
    "#### 教学内容：\n",
    "1. 线性组合，张成空间与基\n",
    "2. 基底\n",
    "3. 矩阵\n",
    "4. 空间映射"
   ]
  },
  {
   "cell_type": "markdown",
   "id": "29152707",
   "metadata": {},
   "source": [
    "# 线性组合，张成空间与基\n",
    "\n",
    " \n",
    " \n",
    " \n",
    " \n",
    " \n",
    "\n",
    "\n",
    " \n",
    "\n",
    "\n",
    "\n",
    "\n",
    "### 标准正交基\n",
    "\n",
    "\n",
    "\n",
    "### 空间相交 \n",
    "\n",
    "### 子空间\n",
    "1. 子空间必须包含母空间0向量\n",
    "2. 子空间满足加法率，即$v,u$为子空间中向量，那么$w=v+u$得到的$w$向量也一定在子空间中。\n",
    "3. 子空间满足乘法率，即$v$为子空间中向量，那么$kv$与标量$k$的乘法得到向量也一定在子空间中。\n",
    "\n",
    "### 0空间\n",
    "\n"
   ]
  },
  {
   "cell_type": "markdown",
   "id": "70caf819-7608-447c-83c8-92574a9c0557",
   "metadata": {},
   "source": [
    "### 基、线性组合、线性相关\n",
    "#### 基\n",
    ">the basis of a vector space is a set of linearly independent vectors that span the full space 向量空间的一组基是张成该空间的一个线性无关向量集\n",
    "\n",
    "\n",
    " 定义：全称是基底向量。不共线的向量$e_1,e_2,...,e_n$可做这对应$n$维空间所有向量的一组基底。一般情况下，基向量都是选取沿着坐标轴正方向并且长度为1（范数为1）的向量，方便计算。\n",
    " 例如 二维空间中$ \\hat{i} = \\begin{bmatrix} 1 \\\\0\\end{bmatrix},\\hat{j}= \\begin{bmatrix} 0 \\\\ 1\\end {bmatrix} $构成了二维空间的基向量，空间中其他所有向量都是这两个向量的线性组合，从几何意义上看，向量在不同轴上的取值，就是在该轴上的投影。\n",
    " 例如向量 $\\vec{z}= \\begin{bmatrix} 9 \\\\ 8 \\end{bmatrix}$就可以表达为$\\vec{z}=9 \\times \\hat{i} + 8 \\times \\hat{j}$，向量$z$在$x$轴,$y$轴上的投影分别是9,8。\n",
    "\n",
    " > 总体而言，关于向量$z$的完整说法是：在基底$( \\hat{i} \\quad \\hat{i} )$下，其坐标是 $\\begin{bmatrix} 9 \\\\ 8 \\end{bmatrix}$ ,也就是说，坐标必须依托于指定的基底才有意义。因此，要准确底描述向量，首先就要确定一组基底，然后通过求出向量在各个基底上的投影值，最后才能确定在这个基底上的坐标值。\n",
    " \n",
    " ---\n",
    "\n",
    "在向量空间中，各个向量可以用基底的线性组合进行表达，从而构成对应的空间。\n",
    "\n",
    "例如$e_1= \\begin{bmatrix} 1 \\\\ 0 \\end{bmatrix} \\quad , e_2= \\begin{bmatrix} 0 \\\\1 \\end{bmatrix}$构成了二维空间的一个基底，该空间中任何向量（包括0向量）都可以是该基底的线性表达，例如 $u=\\begin{bmatrix} 2 \\\\6 \\end{bmatrix} =2 \\times e_1 +6 \\times e_2$。\n",
    "\n",
    "我们可以根据需要选择新的基底，例如$e_z=[1,1],e_w=[-1,-1]$，则之前的向量$u$可以用新的基底进行表达，即得到新的基底上的新坐标。\n",
    "\n",
    "但是并不是所有的向量都能够构成$R^m$空间的基底，其必须满足以下条件：\n",
    "1. 向量的数量必须满足，例如构成$R^m$基底的向量本身的维度必须为$m$维，基向量的个数也必须为$m$个，否则无法表达$m$维空间，也就是对应的基向量矩阵应为$m \\times m$方阵。\n",
    "2. 基向量必须线性无关，若$m$维的基向量线性相关，那么其中一个基向量可为其他向量的线性组合，则无法表达$m$维空间，将会退化成$R^{m-n}$维度的空间，其中$n$为可被其他向量表达的向量个数。\n",
    "\n",
    "---\n",
    " \n",
    " >基：当一组线性无关向量张成了一个空间时，也可以说这一组向量构成了该空间的某一个**基** ,例如\n",
    " $$ e_1= \\begin{bmatrix} 1\\\\0\\\\0 \\end{bmatrix}, e_2=\\begin{bmatrix} 0\\\\1\\\\0 \\end{bmatrix},e_3=\\begin{bmatrix} 0\\\\0\\\\1 \\end{bmatrix}$$\n",
    " 就构成了三维空间$ R^3$ 的一个单位基向量。实际上，n-空间可以由全部线性无关的n个单位相连全体构成。\n",
    " \n",
    " * 如果二维空间两个向量 $v,u$ 线性相关，那么两个向量就在一条直线上。\n",
    " * 如果三维空间三个向量线性相关，$ v,u,w $ 也意味这有个向量可以被其他向量线性表达，例如 $ w=av+bu $ 那么3个向量构成了一个平面，或直接退化成一条直线。\n",
    "\n",
    " \n"
   ]
  },
  {
   "cell_type": "code",
   "execution_count": 2,
   "id": "0931080b-e606-456e-8934-d78aa8d5f191",
   "metadata": {
    "execution": {
     "iopub.execute_input": "2022-04-22T00:04:42.537123Z",
     "iopub.status.busy": "2022-04-22T00:04:42.536346Z",
     "iopub.status.idle": "2022-04-22T00:04:43.282236Z",
     "shell.execute_reply": "2022-04-22T00:04:43.281295Z",
     "shell.execute_reply.started": "2022-04-22T00:04:42.537055Z"
    },
    "scrolled": true,
    "tags": []
   },
   "outputs": [
    {
     "name": "stdout",
     "output_type": "stream",
     "text": [
      "u 向量是否是e_x,e_y两个基底的线性组合： [ True  True]\n",
      "新的坐标上u的投影（cos） 9\n",
      "1\n",
      "新的基地构成的二维坐标矩阵： [[ 1  1]\n",
      " [-1  1]]\n",
      "向量u通过与新的二维坐标矩阵内积得到新的坐标下的投影： [9 1]\n"
     ]
    },
    {
     "data": {
      "image/png": "[encoded data removed]",
      "text/plain": [
       "<Figure size 1152x576 with 2 Axes>"
      ]
     },
     "metadata": {
      "needs_background": "light"
     },
     "output_type": "display_data"
    }
   ],
   "source": [
    "#基底表达\n",
    "# 默认情况下，e1=[1,0],e2=\n",
    "import numpy as np \n",
    "import matplotlib.pyplot as plt \n",
    "fig,axes=plt.subplots(1,2)\n",
    "fig.set_size_inches(16,8)\n",
    "u=np.array([4,5])\n",
    "ax1=axes[0]\n",
    "ax2=axes[1]\n",
    "e_x=np.array([1,0])\n",
    "e_y=np.array([0,1])\n",
    "ax1.set_xlim(-7,7)\n",
    "ax1.set_ylim(-7,7)\n",
    "ax1.grid()\n",
    "ax1.arrow(0,0,e_x[0],e_x[1],head_width=0.1,color='green')\n",
    "ax1.arrow(0,0,e_y[0],e_y[1],head_width=0.1,color='green')\n",
    "ax1.arrow(0,0,u[0],u[1],head_length=0.1,head_width=0.1,color='red')\n",
    "#新的基底\n",
    "ax2.set_xlim(-5,5)\n",
    "ax2.set_ylim(-5,5)\n",
    "ax2.grid()\n",
    "e_z=np.array([1 ,1])\n",
    "e_w=np.array([-1  ,1])\n",
    "ax2.arrow(0,0,e_z[0],e_z[1],head_length=0.1,head_width=0.1,color='blue')\n",
    "ax2.arrow(0,0,e_w[0],e_w[1],head_length=0.1,head_width=0.1,color='blue')\n",
    "# 向量u是基底的线性组合\n",
    "u=np.array([4,5])\n",
    "u2=4*e_x+5*e_y\n",
    "print(\"u 向量是否是e_x,e_y两个基底的线性组合：\",u2==u)\n",
    "print(\"新的坐标上u的投影（cos）\",u@e_z)\n",
    "print(u@e_w)\n",
    "# 定义相关的坐标系\n",
    "new=np.array([e_z,e_w])\n",
    "print(\"新的基地构成的二维坐标矩阵：\",new)\n",
    "new_point=new@u\n",
    "print(\"向量u通过与新的二维坐标矩阵内积得到新的坐标下的投影：\",new_point)\n",
    "\n",
    " "
   ]
  },
  {
   "cell_type": "markdown",
   "id": "56b186d9",
   "metadata": {},
   "source": [
    "#### 线性组合\n",
    "> 线性组合就是两个向量$\\vec{v}$,${\\vec{u}}$通过与标量$c$,$d$相乘（实现向量大小缩减），再相加（实现方向变化），得到新向量$\\vec{z}$ 则称$\\vec{z}$为$\\vec{v}$与$\\vec{u}$得线性组合。\n",
    "\n",
    "$$\\vec{z}=c \\times \\vec{v} + d \\times \\vec{u}$$\n",
    "\n",
    "以下考虑几种情况：\n",
    "\n",
    "1. $\\vec{v},\\vec{u}$  不共线，且都不为0向量，那么他们得线性组合可以构成所在空间（当前是二维空间）。\n",
    "2. $\\vec{v},\\vec{u}$ 在一条直线上，那么他们的组合始终是一条直线。\n",
    "3. $\\vec{v},\\vec{u}$ 全部为0向量，那么他们的组合只能是0向量。\n",
    "4. $\\vec{v},\\vec{u}$ 其中有一个是0向量，那么他们的线性组合只能是非0向量的长度倍数。\n",
    "> 也可以推导出，如果想表达出$n$维空间，那么最起码（另外一个条件是向量间线性无关）需要由$n$个向量进行线性组合，否则最多只能得到$n-1$维度空间.\n",
    "\n",
    "#### 线性相关\n",
    "当且仅当一组向量$ v_1,v_2,v_3...,v_n$ 中任一个向量可以表示为其他向量的线性组合时，称这组向量为线性相关的，否则是线性无关。\n",
    "\n",
    "应用零向量的概念，线性相关可以定义为：一组m-向量$v_1,v_2,..v_n$ 是线性相关的，当且仅当存在一组标量，$k_1,k_2...k_n$ （不全为0）使得：\n",
    "   $$ \\sum^{n}_{i=1}{k_iv_i}=0 $$\n",
    "  \n",
    "  另一方面，如果对所有的$i$，仅当$k_i=0$ 时，上述方程才成立，则这些向量是线性无关的。\n",
    " \n",
    " > 例如，几何意义上，二维空间线性相关可以表示为两个线性无关向量$ v,u$ 的线性组合"
   ]
  },
  {
   "cell_type": "code",
   "execution_count": 1,
   "id": "cf1cbd73",
   "metadata": {},
   "outputs": [
    {
     "data": {
      "image/png": "[encoded data removed]",
      "text/plain": [
       "<Figure size 576x576 with 1 Axes>"
      ]
     },
     "metadata": {
      "needs_background": "light"
     },
     "output_type": "display_data"
    }
   ],
   "source": [
    "# 线性相关 线性无关的几何表达。\n",
    "###  \n",
    "import numpy as np \n",
    "import matplotlib.pyplot as plt\n",
    "#二维空间，线性相关的向量 \n",
    "u=np.array([2,5])\n",
    "u2=np.array([3,6])\n",
    "v=-1.5*u # v为u的线性表达\n",
    "w=0.75*v+u2\n",
    "fig3,axes3=plt.subplots()\n",
    "fig3.set_size_inches(8,8)\n",
    "axes3.set_xlim(-10,10)\n",
    "axes3.set_ylim(-10,10)\n",
    " \n",
    "axes3.spines['top'].set_visible(False)\n",
    "axes3.spines['right'].set_visible(False)\n",
    "axes3.spines['left'].set_position(('data',0))\n",
    "axes3.spines['bottom'].set_position(('data',0))\n",
    "# 为图像添加网格\n",
    "axes3.grid(color='gray',linestyle='--',alpha=0.2)\n",
    " \n",
    "\n",
    "axes3.arrow(0,0,v[0],v[1],head_length=0.3,head_width=0.5,color='blue',shape='full')\n",
    "axes3.arrow(0,0,u[0],u[1],head_length=0.3,head_width=0.5,color='red',shape='full')\n",
    "axes3.arrow(0,0,w[0],w[1],head_length=0.3,head_width=0.5,color='green',shape='full')\n",
    "axes3.arrow(0,0,u2[0],u2[1],head_length=0.3,head_width=0.5,color='black',shape='full')\n",
    "plt.show()\n"
   ]
  },
  {
   "cell_type": "markdown",
   "id": "c4c8e030",
   "metadata": {},
   "source": [
    "#### 张成空间（Span）\n",
    "\n",
    ">定义：对于一组向量，由它的所有线性组合所构成的空间就成为组向量的张成空间。the span of given vectors\n",
    ">进一步扩展，对于一组线性无关向量，由他们所有线性组合所构成的空间就称为这组向量所**张成** 的空间。\n",
    "注意：张成空间并没有对所讨论的向量的线性相关性提出要求，这些向量可以是线性相关的，例如4维空间中的4个向量$\\vec{u} \\quad \\vec{v} \\quad \\vec{i} \\quad \\vec{j}$ 其中若$\\vec{u} \\vec{i}$ 线性相关，那么以上向量在所处的4维度空间中，张成了一个3维空间。"
   ]
  },
  {
   "cell_type": "markdown",
   "id": "e4aae7d0-cf57-4b7c-8824-23e3334306d5",
   "metadata": {},
   "source": [
    "# 矩阵\n",
    "\n",
    "矩阵在向量空间、线性方程组、计算机数据结构中意义不同\n",
    "1. 在向量空间中，矩阵可以认为是一组向量的组合，这一组向量也构成所在空间的一个坐标系，例如3个3维向量$\\vec{j} \\quad \\vec{i} \\quad \\vec{k}$ 可以构成矩阵$A_{3 \\times 3}= \\begin{bmatrix} i & j &k \\end{bmatrix}$ 如果他们线性无关，那么3维空间中所有向量都可以由该矩阵表达，3个向量构成了一个3维空间的基底。\n",
    "\n",
    "在此基础上一$n$维向量$\\vec{x}$，与$A_{m \\times n}$矩阵相乘（内积）$A_{m \\times n} .\\vec{x}_{n \\times 1}= \\vec{b}_{m \\times 1}$就得到在A构成空间的投影，如果向量维度n>m，那么该向量就被压缩；如果n<m那么该向量就被抬维；m=n 则维度不变，只同一空间基向量变化。\n",
    "\n",
    "2. 线性方程组中，A矩阵代表系数项组合，$\\vec{x}$代表变量向量，$\\vec{b}$代表常数项向量（注意都是列向量）\n",
    "  \n",
    " \n",
    "\n",
    " \n",
    "$$\n",
    "\\begin{equation}\n",
    "\\left\\{\n",
    "             \\begin{array}{lr}\n",
    "             a_1 \\times x_1= b_1 &  \\\\\n",
    "             a_2 \\times x_2= b_2 \\\\\n",
    "          \n",
    "             a_n \\times x_n= b_n&  \n",
    "             \\end{array}\n",
    "\\right.\n",
    "\\end{equation}\n",
    "$$\n",
    "$A= \\begin{bmatrix} a_1 \\\\ a_2 \\\\..\\\\ a_n \\end{bmatrix}$,\n",
    " $\\vec{x}^T= \\begin{bmatrix} x_1 & x_2 &..& x_n \\end{bmatrix}$(x向量的转置)，\n",
    " $\\vec{b}= \\begin{bmatrix} b_1 \\\\ b_2 \\\\ ..\\\\ b_n \\end{bmatrix}$，方程即可转换为\n",
    " $ A . \\vec{x}^T=\\vec{b}$两边同乘$A^{-1}$得到$A^{-1}.A.\\vec{x}=A^{-1}.\\vec{b}$最终因变量$\\vec{x}^T=A^{-1} . \\vec{b}$\n",
    "\n",
    "3. 计算机中，矩阵用于保存数据，其列作为属性，行作为一个实例\n",
    "\n",
    "## Introduction to Matrices\n",
    "In general terms, a matrix is an array of numbers that are arranged into rows and columns.\n",
    "\n",
    "## Matrices and Matrix Notation\n",
    "A matrix arranges numbers into rows and columns, like this:\n",
    "$$\n",
    "\\begin{equation}A = \\begin{bmatrix}\n",
    "  1 & 2 & 3 \\\\\n",
    "  4 & 5 & 6\n",
    " \\end{bmatrix}\n",
    "\\end{equation}\n",
    "$$\n",
    "Note that matrices are generally named as a capital letter. We refer to the *elements* of the matrix using the lower case equivalent with a subscript row and column indicator, like this:\n",
    "$$\n",
    "\\begin{equation}A = \\begin{bmatrix}\n",
    "  a_{1,1} & a_{1,2} & a_{1,3} \\\\\n",
    "  a_{2,1} & a_{2,2} & a_{2,3}\n",
    " \\end{bmatrix}\n",
    "\\end{equation}\n",
    "$$\n",
    "In Python, you can define a matrix as a 2-dimensional *numpy.**array***, like this:\n",
    "python 中可以用两种方式表示矩阵， \n",
    "\n",
    "```pyhton \n",
    "m=np.matrix([[]])\n",
    "m=np.array([[]])\n",
    "```\n",
    " \n",
    "但一般用 np.array([[]])代替矩阵进行运算，因为这不但可以表示二维数组，还能表示多维度数组。\n",
    "\n",
    "\n",
    "可以将矩阵视为m个堆放在一起的n维向量，也可以将向量视为一个特殊矩阵。\n",
    "> 张量、阶的概念\n",
    "在某些情况下，将会讨论超过两维的数组。一般的，一个数组中的元素分布在若干维坐标的规则网格中，我们称之为张量\n",
    "\n",
    "在深度学习中，向量化是一个非常重要的概念，例如pytorch，tensorflow的基础数据表达都是向量，但其表达上与Numpy有一定的差别，但概念内涵一致。\n",
    "相关概念包括：\n",
    " \n",
    "\n",
    "* 秩（Rank）：张量轴数。标量的秩为 0，向量的秩为 1，矩阵的秩为 2。\n",
    "* 形状（Shape）：张量的每个轴的长度（元素数量）。\n",
    "* 轴或维度（Axis，Dimension）：张量的一个特殊维度。\n",
    "* 大小（Size）：张量的总项数，即乘积形状向量\n",
    "\n",
    "| 线性代数中概念 | 深度学习中一般表达| Numpy例子|Tensorflow例子|pytorch例子|轴（阶、秩）的数目|\n",
    "| -------- | -------- | -------- | -------- | -------- |-------- |\n",
    "| 标量(Scale)  | “0 秩”张量(\"rank-0\" tensor)   | numpy.array(5)   |tf.constant(5)|troch.tensor(5)|0|\n",
    "| 向量(Vector)  | “1 秩”张量(\"rank-1\" tensor)   | numpy.array([5,1,1])   |tf.constant([5,1,1,1])|troch.tensor([5,1,1,1])|1|\n",
    "| 矩阵(Matrix)  | “2 秩”张量(\"rank-2\" tensor)   | numpy.array([[5,1,1]])   |tf.constant([[5,1,1,1]])|troch.tensor([[5,1,1,1]])|2|\n",
    "\n",
    "> 之前我们学习了向量，实际上$n$维的行向量就可以看作是一个$1 \\times n$的特殊矩阵，同理，$n$维的列向量也可以视为一个$ n \\times 1$的特殊矩阵。\n",
    "\n",
    "-----\n",
    "pytorch 中矩阵的创建\n",
    "深度学习中，nlp对文本保存一般以二维矩阵形式。\n",
    "1. 可以通过Tensor将numpy中的矩阵转换为tensor矩阵"
   ]
  },
  {
   "cell_type": "code",
   "execution_count": 2,
   "id": "b47e9b56-02e7-4886-b48a-141e42f7e847",
   "metadata": {
    "execution": {
     "iopub.execute_input": "2022-03-22T10:22:47.480143Z",
     "iopub.status.busy": "2022-03-22T10:22:47.479554Z",
     "iopub.status.idle": "2022-03-22T10:22:47.487330Z",
     "shell.execute_reply": "2022-03-22T10:22:47.486507Z",
     "shell.execute_reply.started": "2022-03-22T10:22:47.480103Z"
    },
    "scrolled": true
   },
   "outputs": [
    {
     "name": "stdout",
     "output_type": "stream",
     "text": [
      "矩阵元素个数： 9\n",
      "矩阵的轴数： 2\n",
      "矩阵的形状： (3, 3)\n",
      "pytorch矩阵元素个数： <built-in method size of Tensor object at 0x000001F807BA8860>\n",
      "pytorch矩阵的轴数： 2\n",
      "pytorch矩阵的形状： torch.Size([3, 3])\n"
     ]
    }
   ],
   "source": [
    " # 定义一个矩阵\n",
    " import numpy as np \n",
    " import torch as t\n",
    " m=np.matrix([[1,2,3],[4,5,6],[7,8,9]])\n",
    " print(\"矩阵元素个数：\",m.size)\n",
    " print(\"矩阵的轴数：\",m.ndim)\n",
    " print(\"矩阵的形状：\",m.shape)\n",
    "\n",
    " # pytorch中通过转换numpy矩阵得到相关矩阵向量\n",
    " m_t=t.Tensor(m)\n",
    " print(\"pytorch矩阵元素个数：\",m_t.size)\n",
    " print(\"pytorch矩阵的轴数：\",m_t.ndim)\n",
    " print(\"pytorch矩阵的形状：\",m_t.shape)"
   ]
  },
  {
   "cell_type": "markdown",
   "id": "78502b29-2588-40f0-ba48-2bf758588903",
   "metadata": {},
   "source": [
    "#### 特殊矩阵\n",
    "1. Identity Matrices 单位矩阵\n",
    "\n",
    "An *identity* matrix (usually indicated by a capital **I**) is the equivalent in matrix terms of the number **1**. It always has the same number of rows as columns, and it has the value **1** in the diagonal element positions I<sub>1,1</sub>, I<sub>2,2</sub>, etc; and 0 in all other element positions. Here's an example of a 3x3 identity matrix:\n",
    "$$\n",
    "\\begin{equation}\\begin{bmatrix}1 & 0 & 0\\\\0 & 1 & 0\\\\0 & 0 & 1\\end{bmatrix} \\end{equation}\n",
    "$$\n",
    "Multiplying any matrix by an identity matrix is the same as multiplying a number by 1; the result is the same as the original value:\n",
    "$$\n",
    "\\begin{equation}\\begin{bmatrix}1 & 2 & 3 \\\\4 & 5 & 6\\\\7 & 8 & 9\\end{bmatrix} \\cdot \\begin{bmatrix}1 & 0 & 0\\\\0 & 1 & 0\\\\0 & 0 & 1\\end{bmatrix} = \\begin{bmatrix}1 & 2 & 3 \\\\4 & 5 & 6\\\\7 & 8 & 9\\end{bmatrix} \\end{equation}\n",
    "$$\n",
    "单位矩阵定义为主对角线元素为1，其他元素为0的**方阵**。单位矩阵以符号$I$或$I_n$表示，下标$n$表示其行列数。\n",
    "\n",
    "单位矩阵很重要，因为其与标量代数中的1起到类似的作用。\n",
    "\n",
    "同时单位矩阵不论自乘多少次任保持不变\n",
    "$$(I_n)^k=I_n \\quad (k=1,2,...)$$\n",
    "\n",
    "具有这种性质($AA=A$)的矩阵称为**幂等矩阵** \n",
    " \n",
    "2. 0 矩阵\n",
    "\n",
    "零矩阵是一个所有元素均为0的简单矩阵，但是其不一定是方阵，其起到作用与标量0的作用相似，例如。\n",
    "$$ 0_{(2 \\times 2)}= \\begin{bmatrix} 0&0\\\\0&0 \\end{bmatrix}$$\n",
    "$$ 0_{(2 \\times 3)}= \\begin{bmatrix} 0&0&0\\\\0&0&0 \\end{bmatrix}$$\n",
    "\n",
    "3. 对称矩阵\n",
    "\n",
    "矩阵$C_m \\times n$中若$c_ij=c_ji$，称为对称矩阵，也即元素关于主对角线对称。即矩阵$A$的转置$A^T$与原始矩阵相等$A=A^T$那么称$A$为对称矩阵，**对称矩阵也是最重要的矩阵，在相关分析，奇异值分解中扮演关键角色**。\n",
    "\n",
    "\n",
    "---\n",
    " \n",
    "Numpy 中相关特殊矩阵的创建：\n",
    " ```python \n",
    " zero=np.zeros((2,3))# 创建2r3c的0矩阵\n",
    " one=np.eye(3)#创建单位矩阵\n",
    " one=np.identity(3)#创建单位矩阵\n"
   ]
  },
  {
   "cell_type": "markdown",
   "id": "7d1b509e",
   "metadata": {},
   "source": [
    "#"
   ]
  },
  {
   "cell_type": "code",
   "execution_count": 1,
   "id": "295ae4b9",
   "metadata": {},
   "outputs": [
    {
     "name": "stdout",
     "output_type": "stream",
     "text": [
      "tensor([[2., 3.],\n",
      "        [5., 6.],\n",
      "        [9., 8.]])\n"
     ]
    }
   ],
   "source": [
    "import torch as t \n",
    "import numpy as np \n",
    "arr=np.array([[2,3],[5,6],[9,8]])\n",
    "arr_t=t.Tensor(arr)\n",
    "print(arr_t)"
   ]
  },
  {
   "cell_type": "markdown",
   "id": "9f208247-fd54-4db0-a273-9ea120753054",
   "metadata": {},
   "source": [
    "## Matrix Operations\n",
    "Matrices support common arithmetic operations.\n",
    "\n",
    "### Adding Matrices\n",
    "To add two matrices of the same size together, just add the corresponding elements in each matrix:\n",
    "\n",
    "\\begin{equation}\\begin{bmatrix}1 & 2 & 3 \\\\4 & 5 & 6\\end{bmatrix}+ \\begin{bmatrix}6 & 5 & 4 \\\\3 & 2 & 1\\end{bmatrix} = \\begin{bmatrix}7 & 7 & 7 \\\\7 & 7 & 7\\end{bmatrix}\\end{equation}\n",
    "\n",
    "In this example, we're adding two matrices (let's call them ***A*** and ***B***). Each matrix has two rows of three columns (so we describe them as 2x3 matrices). Adding these will create a new matrix of the same dimensions with the values a<sub>1,1</sub> + b<sub>1,1</sub>, a<sub>1,2</sub> + b<sub>1,2</sub>, a<sub>1,3</sub> + b<sub>1,3</sub>,a<sub>2,1</sub> + b<sub>2,1</sub>, a<sub>2,2</sub> + b<sub>2,2</sub>, and a<sub>2,3</sub> + b<sub>2,3</sub>. In this instance, each pair of corresponding elements(1 and 6, 2, and 5, 3 and 4, etc.) adds up to 7.\n",
    "\n",
    " ---\n",
    " ## Subtracting Matrices\n",
    "Matrix subtraction works similarly to matrix addition:\n",
    "\n",
    "\\begin{equation}\\begin{bmatrix}1 & 2 & 3 \\\\4 & 5 & 6\\end{bmatrix}- \\begin{bmatrix}6 & 5 & 4 \\\\3 & 2 & 1\\end{bmatrix} = \\begin{bmatrix}-5 & -3 & -1 \\\\1 & 3 & 5\\end{bmatrix}\\end{equation}\n",
    "\n",
    "---\n",
    "### Negative Matrices\n",
    "The nagative of a matrix, is just a matrix with the sign of each element reversed:\n",
    "\n",
    "\\begin{equation}C = \\begin{bmatrix}-5 & -3 & -1 \\\\1 & 3 & 5\\end{bmatrix}\\end{equation}\n",
    "\n",
    "\\begin{equation}-C = \\begin{bmatrix}5 & 3 & 1 \\\\-1 & -3 & -5\\end{bmatrix}\\end{equation}\n",
    "\n",
    "---\n",
    "#### Conformability（矩阵一致性）\n",
    "In the previous examples, we were able to add and subtract the matrices, because the *operands* (the matrices we are operating on) are ***conformable*** for the specific operation (in this case, addition or subtraction). To be conformable for addition and subtraction, the operands must have the same number of rows and columns. There are different conformability requirements for other operations, such as multiplication; which we'll explore later."
   ]
  },
  {
   "cell_type": "markdown",
   "id": "e3ee88da-7c19-4836-818b-6553f6251a4e",
   "metadata": {},
   "source": [
    "### Matrix Transposition（矩阵转置）\n",
    "You can *transpose* a matrix, that is switch the orientation of its rows and columns. You indicate this with a superscript **T**, like this:\n",
    "$$\n",
    "\\begin{equation}\\begin{bmatrix}1 & 2 & 3 \\\\4 & 5 & 6\\end{bmatrix}^{T} = \\begin{bmatrix}1 & 4\\\\2 & 5\\\\3 & 6 \\end{bmatrix}\\end{equation}\n",
    "$$\n",
    "矩阵的转置有如下性质：\n",
    "* 和的转置为转置的和\n",
    "$$ (A+B)^T= A^T+B^T $$\n",
    "* 乘积的转置是转置的乘积，但转置的顺序颠倒\n",
    "$$ (AB)^T=B^TA^T$$\n",
    "\n",
    "---\n",
    "\n",
    "In Python, both *numpy.**array*** and *numpy.**matrix*** have a **T** function:"
   ]
  },
  {
   "cell_type": "code",
   "execution_count": 2,
   "id": "b7ac8dbc-dc4c-4073-a58a-9796e48756b6",
   "metadata": {
    "execution": {
     "iopub.execute_input": "2022-03-31T07:39:28.784543Z",
     "iopub.status.busy": "2022-03-31T07:39:28.784067Z",
     "iopub.status.idle": "2022-03-31T07:39:28.790664Z",
     "shell.execute_reply": "2022-03-31T07:39:28.789824Z",
     "shell.execute_reply.started": "2022-03-31T07:39:28.784510Z"
    },
    "scrolled": true,
    "tags": []
   },
   "outputs": [
    {
     "name": "stdout",
     "output_type": "stream",
     "text": [
      "原始矩阵： \n",
      " [[ 0  1  2  3  4]\n",
      " [ 5  6  7  8  9]\n",
      " [10 11 12 13 14]]\n",
      "转置后矩阵: \n",
      " [[ 0  5 10]\n",
      " [ 1  6 11]\n",
      " [ 2  7 12]\n",
      " [ 3  8 13]\n",
      " [ 4  9 14]]\n"
     ]
    }
   ],
   "source": [
    "import numpy as np \n",
    "m1=np.arange(0,15,1).reshape(3,5)\n",
    "m2=m1.T\n",
    "print(\"原始矩阵： \\n\",m1)\n",
    "print(\"转置后矩阵: \\n\",m2)\n"
   ]
  },
  {
   "cell_type": "markdown",
   "id": "eddaa41b-7b75-46c8-a875-c161e6cd8ea9",
   "metadata": {},
   "source": [
    "### 矩阵乘法\n",
    "> 矩阵的乘法实际包括3类乘法\n",
    "1. 矩阵内部元素相乘，相乘的两个矩阵形状不变，也称为Hadamard矩阵\n",
    "即元素对应乘积(element-wise product)或者Hadamard乘积，记为\n",
    "$ A \\odot B$\n",
    "2. 矩阵与矩阵相乘，\n",
    "\n",
    "矩阵乘法是矩阵运算中最重要的操作之一，两个矩阵$A(m \\times n),B(n \\times p)$的矩阵乘积（matrix product）是第三个矩阵$C $。为了使得乘法可以被定义，矩阵$A$ 的烈数$n$必须和矩阵$B$的行数$n$相等，得到的矩阵$C$的形状是$ m \\times p$。\n",
    "$$ C=AB $$\n",
    "对应具体$C$ 中元素 $C_{i,j}$\n",
    "$$ C_{i,j}= \\sum_k A_{i,k} B_{k,j} $$\n",
    "\n",
    " \n",
    "》结合向量内积概念，以及矩阵是多个向量的组合，可以将矩阵乘积$C=AB$的元素$c_{i,j}$简单地描述为前一个矩阵$A$的第$i$行与后一个矩阵B中的第$j$列的**内积** 。反之，可以将两个相同维数的向量$x,y$的内积，视为第一个向量与第二个向量转置后的矩阵乘积 $xy^T$。\n",
    "\n",
    "相关定律：\n",
    "* 矩阵乘法不满足交换律（标量除外）： $AB \\neq\\; BA $\n",
    "* 矩阵乘法满足结合律： $ (AB)C=A(BC)=ABC $\n",
    "* 矩阵乘法满足分配率： $A(B+C)=AB+AC; (B+C)A=BA+VA $\n",
    "\n",
    "3. 矩阵与向量相乘（或者说与阶数为1的矩阵相乘）\n",
    "\n",
    "---\n",
    "Numpy中，矩阵的乘法依据创建矩阵的方式不同：\n",
    "\n",
    "1. 若使用np.array([[]])方式创建矩阵A,B则：\n",
    "\n",
    "``` python\n",
    "C=np.dot(A,B)#矩阵乘积\n",
    "m=A*B#A,B 矩阵的shape相同，得到对应元素乘积（Hadamard乘积）\n",
    "```\n",
    "2. 使用matrix创建的矩阵\n",
    "```python\n",
    "A=np.mat()\n",
    "B=np.mat()\n",
    "C=A*B#矩阵乘积直接使用 * \n",
    "m=np.multiply(A,B)# 同型矩阵对应元素乘积使用np.multiply()\n",
    "```\n"
   ]
  },
  {
   "cell_type": "code",
   "execution_count": 3,
   "id": "822e4600-00d2-46a0-8882-0998d729cfc9",
   "metadata": {
    "execution": {
     "iopub.execute_input": "2022-03-31T07:39:44.943442Z",
     "iopub.status.busy": "2022-03-31T07:39:44.943025Z",
     "iopub.status.idle": "2022-03-31T07:39:44.957003Z",
     "shell.execute_reply": "2022-03-31T07:39:44.956029Z",
     "shell.execute_reply.started": "2022-03-31T07:39:44.943408Z"
    },
    "scrolled": true,
    "tags": []
   },
   "outputs": [
    {
     "name": "stdout",
     "output_type": "stream",
     "text": [
      "矩阵A： \n",
      " [[ 0  1  2  3  4]\n",
      " [ 5  6  7  8  9]\n",
      " [10 11 12 13 14]] \n",
      " 矩阵B： [[16 17 18]\n",
      " [19 20 21]\n",
      " [22 23 24]\n",
      " [25 26 27]\n",
      " [28 29 30]]\n",
      "矩阵1形状： (3, 5) 矩阵2形状： (5, 3)\n",
      "矩阵乘积： \n",
      " [[ 250  260  270]\n",
      " [ 800  835  870]\n",
      " [1350 1410 1470]]\n",
      "矩阵乘积形状: (3, 3)\n",
      "C中对应元素ij为A的i行向量与B的j列向量内积: 250\n",
      "如果是求对应元素的乘积，那么A，B矩阵的形状必须相同 \n",
      "\n",
      "A2，B矩阵对应元素乘积： [[  0  17  36]\n",
      " [ 57  80 105]\n",
      " [132 161 192]\n",
      " [225 260 297]\n",
      " [336 377 420]]\n",
      "两个向量的dot得到一个标量： 70\n",
      "两个向量对应矩阵的乘积，转换为第一个矩阵与第二个矩阵转置的dot，得到一个矩阵： [[70]]\n"
     ]
    },
    {
     "data": {
      "text/plain": [
       "array([[ 250,  260,  270],\n",
       "       [ 800,  835,  870],\n",
       "       [1350, 1410, 1470]])"
      ]
     },
     "execution_count": 3,
     "metadata": {},
     "output_type": "execute_result"
    }
   ],
   "source": [
    "import numpy as np \n",
    "import torch as t \n",
    "A=np.arange(0,15,1).reshape(3,5)\n",
    "B=np.arange(16,31,1).reshape(5,3)\n",
    "print('矩阵A：','\\n',A,'\\n','矩阵B：',B)\n",
    "print(\"矩阵1形状：\",A.shape,\"矩阵2形状：\",B.shape)\n",
    "C=np.dot(A,B)\n",
    "print(\"矩阵乘积：\",'\\n',C)\n",
    "print(\"矩阵乘积形状:\",C.shape)\n",
    "A_r1=A[0,:]\n",
    "B_c1=B[:,0]\n",
    "C_11=np.dot(A_r1,B_c1)\n",
    "print(\"C中对应元素ij为A的i行向量与B的j列向量内积:\",C_11)\n",
    "\n",
    "A2=A.reshape(5,3)\n",
    "print(\"如果是求对应元素的乘积，那么A，B矩阵的形状必须相同 \\n\")\n",
    "C2=A2*B\n",
    "print(\"A2，B矩阵对应元素乘积：\",C2)\n",
    "\n",
    "v1=np.array([1,2,3,4,5])\n",
    "v2=np.array([2,3,4,5,6])\n",
    "v3=np.dot(v1,v2)\n",
    "print(\"两个向量的dot得到一个标量：\",v3)\n",
    "m1=np.array([[1,2,3,4,5]])\n",
    "m2=np.array([[2,3,4,5,6]])\n",
    "m3=np.dot(m1,m2.T)\n",
    "print(\"两个向量对应矩阵的乘积，转换为第一个矩阵与第二个矩阵转置的dot，得到一个矩阵：\",m3)\n",
    "##############\n",
    "A_t=t.Tensor(A)\n",
    "B_t=t.tensor(B)\n",
    "A@B"
   ]
  },
  {
   "cell_type": "markdown",
   "id": "574bf246-ae80-47d8-9972-0537126e1701",
   "metadata": {},
   "source": [
    "课堂作业：\n",
    "\n",
    "定义两个矩阵\n",
    "$$ A= \\begin{bmatrix}2&6&7&5 & 5\\\\ 9 &8 &7 &9 &2 \\end{bmatrix} \n",
    "B=\\begin{bmatrix} 3&7&9&3&9 \\\\ 8&6&5&5&3 \\end{bmatrix}$$\n",
    "分别计算：\n",
    "1. $A-B$\n",
    "2.$A+B$\n",
    "3.$A\\dot B,B \\dot A$\n",
    "4.$A \\odot B$\n",
    "使用numpy首先判断以上计算能否实现，为什么？\n",
    "\n",
    "5. $AB^T$\n"
   ]
  },
  {
   "cell_type": "code",
   "execution_count": 11,
   "id": "b7f54c51-c6b0-4cec-9b5e-1a9adb9f989c",
   "metadata": {
    "execution": {
     "iopub.execute_input": "2022-04-16T02:57:38.030454Z",
     "iopub.status.busy": "2022-04-16T02:57:38.029477Z",
     "iopub.status.idle": "2022-04-16T02:57:38.037961Z",
     "shell.execute_reply": "2022-04-16T02:57:38.037397Z",
     "shell.execute_reply.started": "2022-04-16T02:57:38.030420Z"
    },
    "scrolled": true,
    "tags": []
   },
   "outputs": [
    {
     "name": "stdout",
     "output_type": "stream",
     "text": [
      "[[2 6 7 5 5]\n",
      " [9 8 7 9 2]]\n",
      "2\n",
      "(2, 5)\n",
      "[[3 7 9 3 9]\n",
      " [8 6 5 5 3]]\n",
      "2\n",
      "(2, 5)\n",
      "[[-1 -1 -2  2 -4]\n",
      " [ 1  2  2  4 -1]]\n",
      "[[ 5 13 16  8 14]\n",
      " [17 14 12 14  5]]\n",
      "[[ 6 42 63 15 45]\n",
      " [72 48 35 45  6]]\n",
      "[[171 127]\n",
      " [191 206]]\n",
      "(2, 2)\n"
     ]
    }
   ],
   "source": [
    "import numpy as np \n",
    "A=np.array([[2,6,7,5,5],[9,8,7,9,2]])\n",
    "print(A)\n",
    "print(A.ndim)\n",
    "print(A.shape)\n",
    "\n",
    "B=np.array([[3,7,9,3,9],[8,6,5,5,3]])\n",
    "print(B)\n",
    "print(B.ndim)\n",
    "print(B.shape)\n",
    "C1=A-B\n",
    "print(C1)\n",
    "C2=A+B\n",
    "print(C2)\n",
    "C3=A*B\n",
    "print(C3)\n",
    "#C4_1=A.dot(B)\n",
    "C5=A.dot(B.T)\n",
    "print(C5)\n",
    "print(C5.shape)"
   ]
  },
  {
   "cell_type": "code",
   "execution_count": 4,
   "id": "1c838fd4-72ac-42eb-b5c0-80a7b49da4a1",
   "metadata": {
    "execution": {
     "iopub.execute_input": "2022-03-31T07:39:49.190964Z",
     "iopub.status.busy": "2022-03-31T07:39:49.190526Z",
     "iopub.status.idle": "2022-03-31T07:39:49.197375Z",
     "shell.execute_reply": "2022-03-31T07:39:49.196734Z",
     "shell.execute_reply.started": "2022-03-31T07:39:49.190915Z"
    },
    "scrolled": true,
    "tags": []
   },
   "outputs": [
    {
     "name": "stdout",
     "output_type": "stream",
     "text": [
      "[[ 7 10]\n",
      " [15 22]\n",
      " [23 34]]\n",
      "[[ 1  4]\n",
      " [ 9 16]\n",
      " [35 54]]\n"
     ]
    }
   ],
   "source": [
    "import numpy as np\n",
    "d1=np.mat([[1,2],[3,4],[5,6]])\n",
    "d2=np.mat([[1,2],[3,4]])\n",
    "print(d1*d2)\n",
    "d3=np.array([[1,2],[3,4],[5,6]])\n",
    "d4=np.array([[1,2],[3,4],[7,9]])\n",
    "print(np.multiply(d3,d4))"
   ]
  },
  {
   "cell_type": "code",
   "execution_count": 2,
   "id": "dcfea309-7803-412e-b285-bb96f9343d19",
   "metadata": {
    "execution": {
     "iopub.execute_input": "2022-03-24T01:38:11.446588Z",
     "iopub.status.busy": "2022-03-24T01:38:11.445952Z",
     "iopub.status.idle": "2022-03-24T01:38:11.609315Z",
     "shell.execute_reply": "2022-03-24T01:38:11.608567Z",
     "shell.execute_reply.started": "2022-03-24T01:38:11.446556Z"
    },
    "scrolled": true
   },
   "outputs": [
    {
     "name": "stdout",
     "output_type": "stream",
     "text": [
      "(2,)\n",
      "原有向量空间表达：\n",
      "矩阵A的形状： (3, 2)\n",
      "[13 19 15]\n"
     ]
    },
    {
     "data": {
      "image/png": "[encoded data removed]",
      "text/plain": [
       "<Figure size 360x360 with 1 Axes>"
      ]
     },
     "metadata": {
      "needs_background": "light"
     },
     "output_type": "display_data"
    }
   ],
   "source": [
    "import numpy as np \n",
    "import matplotlib.pyplot as plt\n"
   ]
  },
  {
   "cell_type": "markdown",
   "id": "60b219c2-2ff3-460e-b17c-2e9319ae41a0",
   "metadata": {},
   "source": [
    "## Matrix Division 矩阵除法（矩阵的逆）\n",
    "You can't actually divide by a matrix; but when you want to divide matrices, you can take advantage of the fact that division by a given number is the same as multiplication by the reciprocal of that number. For example:\n",
    "$$\n",
    "\\begin{equation}6 \\div 3 = \\frac{1}{3}\\times 6 \\end{equation}\n",
    "$$\n",
    "In this case, <sup>1</sup>/<sub>3</sub> is the reciprocal of 3 (which as a fraction is <sup>3</sup>/<sub>1</sub> - we \"flip\" the numerator and denominator to get the reciprocal). You can also write <sup>1</sup>/<sub>3</sub> as 3<sup>-1</sup>.\n",
    "\n",
    "### Inverse of a Matrix\n",
    "For matrix division, we use a related idea; we multiply by the *inverse* of a matrix:\n",
    "\n",
    "\\begin{equation}A \\div B = A \\cdot B^{-1}\\end{equation}\n",
    "\n",
    "The inverse of B is B<sup>-1</sup> as long as the following equation is true:\n",
    "\n",
    "\\begin{equation}B \\cdot B^{-1} = B^{-1} \\cdot B = I\\end{equation}\n",
    "\n",
    "**I**, you may recall, is an *identity* matrix; the matrix equivalent of 1.\n",
    "\n",
    "So how do you calculate the inverse of a matrix? For a 2x2 matrix, you can follow this formula:\n",
    "\n",
    "\\begin{equation}\\begin{bmatrix}a & b\\\\c & d\\end{bmatrix}^{-1} = \\frac{1}{ad-bc}  \\begin{bmatrix}d & -b\\\\-c & a\\end{bmatrix}\\end{equation}\n",
    "\n",
    "What happened there?\n",
    "- We swapped the positions of *a* and *d*\n",
    "- We changed the signs of *b* and *c*\n",
    "- We multiplied the resulting matrix by 1 over the *determinant* of the matrix (*ad-bc*)\n",
    "\n",
    "Let's try with some actual numbers:\n",
    "\n",
    "\\begin{equation}\\begin{bmatrix}6 & 2\\\\1 & 2\\end{bmatrix}^{-1} = \\frac{1}{(6\\times2)-(2\\times1)}  \\begin{bmatrix}2 & -2\\\\-1 & 6\\end{bmatrix}\\end{equation}\n",
    "\n",
    "So:\n",
    "\n",
    "\\begin{equation}\\begin{bmatrix}6 & 2\\\\1 & 2\\end{bmatrix}^{-1} = \\frac{1}{10}  \\begin{bmatrix}2 & -2\\\\-1 & 6\\end{bmatrix}\\end{equation}\n",
    "\n",
    "Which gives us the result:\n",
    "\n",
    "\\begin{equation}\\begin{bmatrix}6 & 2\\\\1 & 2\\end{bmatrix}^{-1} = \\begin{bmatrix}0.2 & -0.2\\\\-0.1 & 0.6\\end{bmatrix}\\end{equation}\n",
    "\n",
    "To check this, we can multiply the original matrix by its inverse to see if we get an identity matrix. This makes sense if you think about it; in the same way that 3 x <sup>1</sup>/<sub>3</sub> = 1, a matrix multiplied by its inverse results in an identity matrix:\n",
    "\n",
    "\\begin{equation}\\begin{bmatrix}6 & 2\\\\1 & 2\\end{bmatrix} \\cdot \\begin{bmatrix}0.2 & -0.2\\\\-0.1 & 0.6\\end{bmatrix} = \\begin{bmatrix}(6\\times0.2)+(2\\times-0.1) & (6\\times-0.2)+(2\\times0.6)\\\\(1\\times0.2)+(2\\times-0.1) & (1\\times-0.2)+(2\\times0.6)\\end{bmatrix} = \\begin{bmatrix}1 & 0\\\\0 & 1\\end{bmatrix}\\end{equation}\n",
    "\n",
    "Note that not every matrix has an inverse - for example, if the determinant works out to be 0, the inverse matrix is not defined.\n",
    "\n",
    "矩阵$A$的逆矩阵$A^{-1}$，可能存在也可能不存在，其满足：\n",
    "\n",
    "\\begin{equation}A \\cdot A^{-1} = A^{-1} \\cdot A = I\\end{equation}\n",
    "矩阵的逆还有如下性质：\n",
    "*  并非每一个方阵都有逆矩阵，方阵是逆矩阵存在的必要条件，但非充分条件。若方阵$A$有逆矩阵，则$A$称为**非奇异矩阵**，否则称为**奇异矩阵**。\n",
    "* 若逆矩阵存在，则它是唯一的。\n",
    "* 逆矩阵的逆就是原矩阵：$(A^{-1})^{-1}=A$\n",
    "* 乘积的逆矩阵等于逆矩阵的乘积：$(A \\cdot B)^{-1}=B^{-1} \\cdot A^{-1}$\n",
    "* 转置的逆矩阵等于逆的转置：$(A^T)^{-1}=(A^{-1})^T$\n",
    "\n",
    "\n",
    "---\n",
    "\n",
    "In Python, you can use the *numpy.linalg.**inv*** function to get the inverse of a matrix in an *array* or *matrix* object:\n",
    "\n",
    "```python\n",
    "B=np.linalg.inv(A)# 对于通过array构建的矩阵使用inv方法\n",
    "C=B.I#对于通过matrix构建的矩阵使用.I 得到\n",
    "```"
   ]
  },
  {
   "cell_type": "code",
   "execution_count": 6,
   "id": "e3e30540-910d-4d19-8bb2-ceceae6a78cd",
   "metadata": {
    "execution": {
     "iopub.execute_input": "2022-03-24T03:10:08.617500Z",
     "iopub.status.busy": "2022-03-24T03:10:08.616979Z",
     "iopub.status.idle": "2022-03-24T03:10:08.626746Z",
     "shell.execute_reply": "2022-03-24T03:10:08.625955Z",
     "shell.execute_reply.started": "2022-03-24T03:10:08.617464Z"
    },
    "scrolled": true
   },
   "outputs": [
    {
     "name": "stdout",
     "output_type": "stream",
     "text": [
      "[[ 0.33333333 -0.16666667]\n",
      " [ 0.          0.5       ]]\n",
      "[[1. 0.]\n",
      " [0. 1.]]\n",
      "[[1. 0.]\n",
      " [0. 1.]]\n",
      "[[ 0.33333333 -0.16666667]\n",
      " [ 0.          0.5       ]]\n"
     ]
    }
   ],
   "source": [
    "import numpy as np \n",
    "A=np.array([[3,1],[0,2]])\n",
    "B=np.linalg.inv(A)\n",
    "print(B)\n",
    "print(A.dot(B))\n",
    "print(B.dot(A))\n",
    "#使用matrix构建的矩阵的逆\n",
    "D=np.mat([[3,1],[0,2]])\n",
    "E=D.I\n",
    "print(E)"
   ]
  },
  {
   "cell_type": "markdown",
   "id": "f3d1d387-b58a-4cba-8238-2beb6a9c0629",
   "metadata": {},
   "source": [
    "### Solving Systems of Equations with Matrices 通过矩阵解线性方程组\n",
    "One of the great things about matrices, is that they can help us solve systems of equations. For example, consider the following system of equations:\n",
    "\n",
    "\\begin{equation}2x + 4y = 18\\end{equation}\n",
    "\\begin{equation}6x + 2y = 34\\end{equation}\n",
    "\n",
    "We can write this in matrix form, like this:\n",
    "\n",
    "\\begin{equation}\\begin{bmatrix}2 & 4\\\\6 & 2\\end{bmatrix} \\cdot \\begin{bmatrix}x\\\\y\\end{bmatrix}=\\begin{bmatrix}18\\\\34\\end{bmatrix}\\end{equation}\n",
    "\n",
    "Note that the variables (***x*** and ***y***) are  arranged as a column in one matrix, which is multiplied by a matrix containing the coefficients to produce as matrix containing the results. If you calculate the dot product on the left side, you can see clearly that this represents the original equations:\n",
    "\n",
    "\\begin{equation}\\begin{bmatrix}2x + 4y\\\\6x + 2y\\end{bmatrix} =\\begin{bmatrix}18\\\\34\\end{bmatrix}\\end{equation}\n",
    "\n",
    "Now. let's name our matrices so we can better understand what comes next:\n",
    "\n",
    "\\begin{equation}A=\\begin{bmatrix}2 & 4\\\\6 & 2\\end{bmatrix}\\;\\;\\;\\;X=\\begin{bmatrix}x\\\\y\\end{bmatrix}\\;\\;\\;\\;B=\\begin{bmatrix}18\\\\34\\end{bmatrix}\\end{equation}\n",
    "\n",
    "We already know that ***A &bull; X = B***, which arithmetically means that ***X = B &div; A***. Since we can't actually divide by a matrix, we need to multiply by the inverse; so we can find the values for our variables (*X*) like this: ***X = A<sup>-1</sup> &bull; B***\n",
    "\n",
    "So, first we need the inverse of A:\n",
    "\n",
    "\\begin{equation}\\begin{bmatrix}2 & 4\\\\6 & 2\\end{bmatrix}^{-1} = \\frac{1}{(2\\times2)-(4\\times6)}  \\begin{bmatrix}2 & -4\\\\-6 & 2\\end{bmatrix}\\end{equation}\n",
    "\n",
    "\\begin{equation}= \\frac{1}{-20}  \\begin{bmatrix}2 & -4\\\\-6 & 2\\end{bmatrix}\\end{equation}\n",
    "\n",
    "\\begin{equation}=\\begin{bmatrix}-0.1 & 0.2\\\\0.3 & -0.1\\end{bmatrix}\\end{equation}\n",
    "\n",
    "Then we just multiply this with B:\n",
    "\n",
    "\\begin{equation}X = \\begin{bmatrix}-0.1 & 0.2\\\\0.3 & -0.1\\end{bmatrix} \\cdot \\begin{bmatrix}18\\\\34\\end{bmatrix}\\end{equation}\n",
    "\n",
    "\\begin{equation}X = \\begin{bmatrix}(-0.1 \\times 18)+(0.2 \\times 34)\\\\(0.3\\times18)+(-0.1\\times34)\\end{bmatrix}\\end{equation}\n",
    "\n",
    "\\begin{equation}X = \\begin{bmatrix}5\\\\2\\end{bmatrix}\\end{equation}\n",
    "\n",
    "The resulting matrix (*X*) contains the values for our *x* and *y* variables, and we can check these by plugging them into the original equations:\n",
    "\n",
    "\\begin{equation}(2\\times5) + (4\\times2) = 18\\end{equation}\n",
    "\\begin{equation}(6\\times5) + (2\\times2) = 34\\end{equation}\n",
    "\n",
    "These of course simplify to:\n",
    "\n",
    "\\begin{equation}10 + 8 = 18\\end{equation}\n",
    "\\begin{equation}30 + 4 = 34\\end{equation}\n",
    "\n",
    "So our variable values are correct.\n",
    "\n",
    "\n",
    "在空间上，可以将方程组中每一个方程视为一条空间中的向量$ v_n =\\{v_1,v_2,...,v_n\\}$，那么空间中的向量关系存在以下情况\n",
    "* 各个向量相交与一点，得到一个解集,即对应空间 $R^n$上的一个点\n",
    "* 若各个系数向量平行，则无解\n",
    "* 若各个系数向量重合，则有无穷多解\n",
    "\n",
    "\n",
    "---\n",
    "Numpy中也可以直接用np.linalg.slove(A,b)来求方程的解x，其中\n",
    "：A 为系数矩阵,b为常数向量矩阵，x为解向量即：\n",
    "```python\n",
    "import numpy as np\n",
    "\n",
    "Ab=x\n",
    "x=np.linalg.slove(A,b)\n",
    "```\n",
    "\n",
    "\n",
    "\n",
    "\n",
    "*** 注意 ***\n",
    ">numpy 只可以解形为方阵的非奇异矩阵，但 Sympy中的solve可以解任意系数矩阵的线性方程组。\n",
    "\n",
    "使用sympy.solve函数解方程，该函数通常传入两个参数，第1个参数是方程的表达式（把方程所有的项移到等号的同一边形成的式子），第2个参数是方程中的未知数。函数的返回值是一个列表，代表方程的所有根（可能为复数根）。与numpy不同的是，在sympy中，需要定义变量->定义等式->然后进行计算。\n",
    "\n",
    "得到的结果为字典类型。\n",
    "\n",
    " \n"
   ]
  },
  {
   "cell_type": "code",
   "execution_count": 6,
   "id": "49592c70-fe8c-4585-8805-3b1532073145",
   "metadata": {
    "execution": {
     "iopub.execute_input": "2022-04-01T02:55:12.357873Z",
     "iopub.status.busy": "2022-04-01T02:55:12.357315Z",
     "iopub.status.idle": "2022-04-01T02:55:12.459906Z",
     "shell.execute_reply": "2022-04-01T02:55:12.370038Z",
     "shell.execute_reply.started": "2022-04-01T02:55:12.357833Z"
    },
    "scrolled": true,
    "tags": []
   },
   "outputs": [
    {
     "name": "stdout",
     "output_type": "stream",
     "text": [
      "系数矩阵为： \n",
      " [[ 7 -1 -1]\n",
      " [10 -2  1]\n",
      " [ 6  3 -2]]\n",
      "A的逆矩阵为： [[-0.01639344  0.08196721  0.04918033]\n",
      " [-0.42622951  0.13114754  0.27868852]\n",
      " [-0.68852459  0.44262295  0.06557377]]\n",
      "常数向量为: \n",
      " [[0]\n",
      " [8]\n",
      " [7]]\n",
      "解为： [[1.]\n",
      " [3.]\n",
      " [4.]]\n",
      "通过slove方法求解： \n",
      " [[1.]\n",
      " [3.]\n",
      " [4.]]\n"
     ]
    }
   ],
   "source": [
    "import numpy as np \n",
    "\n",
    "A=np.array([[7,-1,-1],[10,-2,1],[6,3,-2]])\n",
    "\n",
    "print(\"系数矩阵为： \\n\",A)\n",
    "B=np.linalg.inv(A)\n",
    "print(\"A的逆矩阵为：\",B)\n",
    "b=np.array([[0,8,7]]).T#注意需要使用列向量\n",
    "x=np.dot(B,b)\n",
    "print(\"常数向量为: \\n\",b)\n",
    "#x=np.linalg.solve(A,b)\n",
    "print(\"解为：\",x)\n",
    "x2=np.linalg.solve(A,b)\n",
    "print(\"通过slove方法求解： \\n\",x2)\n",
    "\n"
   ]
  },
  {
   "cell_type": "code",
   "execution_count": 2,
   "id": "14166116-4749-48c8-b24f-a9ad578d05fc",
   "metadata": {
    "execution": {
     "iopub.execute_input": "2022-04-08T12:23:56.012626Z",
     "iopub.status.busy": "2022-04-08T12:23:56.012213Z",
     "iopub.status.idle": "2022-04-08T12:24:10.695556Z",
     "shell.execute_reply": "2022-04-08T12:24:10.694598Z",
     "shell.execute_reply.started": "2022-04-08T12:23:56.012597Z"
    },
    "scrolled": true,
    "tags": []
   },
   "outputs": [
    {
     "name": "stdout",
     "output_type": "stream",
     "text": [
      "Looking in indexes: https://pypi.tuna.tsinghua.edu.cn/simple\n",
      "Collecting sympy\n",
      "  Downloading https://pypi.tuna.tsinghua.edu.cn/packages/d0/04/66be21ceb305c66a4b326b0ae44cc4f027a43bc08cac204b48fb45bb3653/sympy-1.10.1-py3-none-any.whl (6.4 MB)\n",
      "\u001b[2K     \u001b[90m━━━━━━━━━━━━━━━━━━━━━━━━━━━━━━━━━━━━━━━━\u001b[0m \u001b[32m6.4/6.4 MB\u001b[0m \u001b[31m2.6 MB/s\u001b[0m eta \u001b[36m0:00:00\u001b[0m00:01\u001b[0m00:01\u001b[0m\n",
      "\u001b[?25hCollecting mpmath>=0.19\n",
      "  Downloading https://pypi.tuna.tsinghua.edu.cn/packages/d4/cf/3965bddbb4f1a61c49aacae0e78fd1fe36b5dc36c797b31f30cf07dcbbb7/mpmath-1.2.1-py3-none-any.whl (532 kB)\n",
      "\u001b[2K     \u001b[90m━━━━━━━━━━━━━━━━━━━━━━━━━━━━━━━━━━━━━━━\u001b[0m \u001b[32m532.6/532.6 KB\u001b[0m \u001b[31m2.8 MB/s\u001b[0m eta \u001b[36m0:00:00\u001b[0m00:01\u001b[0m00:01\u001b[0m\n",
      "\u001b[?25hInstalling collected packages: mpmath, sympy\n",
      "Successfully installed mpmath-1.2.1 sympy-1.10.1\n"
     ]
    }
   ],
   "source": [
    "!pip install sympy"
   ]
  },
  {
   "cell_type": "code",
   "execution_count": 3,
   "id": "2a0494a6-d49e-4076-a259-ad2c97225c99",
   "metadata": {
    "execution": {
     "iopub.execute_input": "2022-04-08T12:31:59.121471Z",
     "iopub.status.busy": "2022-04-08T12:31:59.120841Z",
     "iopub.status.idle": "2022-04-08T12:31:59.859774Z",
     "shell.execute_reply": "2022-04-08T12:31:59.858815Z",
     "shell.execute_reply.started": "2022-04-08T12:31:59.121440Z"
    },
    "scrolled": true,
    "tags": []
   },
   "outputs": [
    {
     "name": "stdout",
     "output_type": "stream",
     "text": [
      "{x1: 1, x2: 3, x3: 4}\n",
      "(3, 4)\n",
      "2\n",
      "目标空间维度: 2\n",
      "系数矩阵值秩 2\n"
     ]
    }
   ],
   "source": [
    "####sympy解非奇异方程组###\n",
    "from sympy import *\n",
    "x1,x2,x3=symbols(\"x1,x2,x3\")# 定义变量\n",
    "eq=[7*x1-x2-x3-0,10*x1-2*x2+x3-8,6*x1+3*x2-2*x3-7]#定义线性方程组，常数项移左\n",
    "rs=solve(eq,[x1,x2,x3])\n",
    "print(rs)\n",
    "#### 解非方阵###\n",
    "import numpy as np\n",
    "A=np.array([[2,-3,1,5],[-3,1,2,-4],[-1,-2,3,1]])\n",
    "print(A.shape)\n",
    "A_rank=np.linalg.matrix_rank(A)\n",
    "print(A_rank)\n",
    "b=np.array([6,5,11]).T \n",
    "#np.linalg.solve(A,b) \n",
    "\n",
    "A2=np.array([[1,2,3,4],[1,3,5,7]])\n",
    "print(\"目标空间维度:\",A2.shape[0])\n",
    " \n",
    "print(\"系数矩阵值秩\",np.linalg.matrix_rank(A2))\n",
    "\n",
    "\n",
    "\n"
   ]
  },
  {
   "cell_type": "markdown",
   "id": "e82c5aba-ed4a-49b7-abc3-e79fc300d8da",
   "metadata": {
    "slideshow": {
     "slide_type": "slide"
    },
    "tags": []
   },
   "source": [
    "## 矩阵的非奇异性\n",
    "由上可知，方程有解那么其对应的系数矩阵必须可逆，或者说对应向量能够通过对应的矩阵坐标得到新的空间投影，前提是对应矩阵可逆，也即该矩阵为非奇异矩阵。\n",
    "\n",
    "1. 当矩阵$A$为方阵（从线性方程角度，即方程个数与未知数$x$个数相同）时，才可能有你矩阵（即可能是非奇异的），但这并不是充分条件。\n",
    "2. 从线性方程的角度，方程组有唯一解的唯一可能是系数矩阵$A$的行或列线性无关。\n",
    "\n",
    "方正条件和线性无关条件结合在一起，构成了非奇异矩阵的充分必要条件。\n",
    "\n",
    "> 非奇异性 $\\leftrightarrow$ 方阵且线性无关\n",
    "\n",
    "进一步，一组线性方程有唯一解的唯一可能是系数矩阵$A$的行或列线性无关，在此情况下，$A$为非奇异矩阵，这意味着$A^{-1}$确实存在。且***唯一解$x=A^{-1}d$可求***\n",
    "\n",
    "### 矩阵的秩\n",
    "\n",
    "线性无关的概念也可以使用与任意的$m \\times n$矩阵，而不一定是方阵。在一个矩阵中，若线性无关的最大行数为$r$，则称该矩阵的秩为$r$（秩也告诉我们该矩阵线性无关最大的列数）。$m \\times n$矩阵的秩的最大值等于$m,n$中较小的一个。即：\n",
    "$$ r(A) \\leqslant min\\{m,n \\}$$\n",
    "> 矩阵可以看作是一个行向量组或列向量组，矩阵的秩就是矩阵的行向量组或列向组的极大线性无关组中所含向量的个数，也可以理解为**矩阵的秩就是有价值的内容数目**（全为0的向量没有价值内容）。\n",
    "\n",
    "### 行列式\n",
    "在线性代数中，行列式是基本的数学工具。其是一个算式，经过计算后就是数。行列式主要用于判读矩阵是否可逆，以及计算特征方程。\n",
    "\n",
    "* 行列式与矩阵的区别\n",
    "\n",
    "\n",
    "\n",
    "| 行列式| 矩阵 |  \n",
    "| -------- | -------- |  \n",
    "| $\\quad \\begin{vmatrix} a_{11} & a_{12} & ... &a_{1n} \\\\\n",
    "..& .. & .. ... \\\\\n",
    "a_{11} & a_{12} & ... &a_{m \\times n} \\\\\n",
    "\\end{vmatrix} \\quad = \\sum_{j_1j_2..j_n} (-1)^ta_{1j_1}...a_{nj_n}  $   |   $\\quad \\begin{bmatrix} a_{11} & a_{12} & ... &a_{1n} \\\\\n",
    "..& .. & .. ... \\\\\n",
    "a_{11} & a_{12} & ... &a_{m \\times n} \\\\\n",
    "\\end{bmatrix} \\quad   $   |  \n",
    "| 行数等于列数    | 行列数可以不等     |  \n",
    "| 共有$n^2$个元素   | 共有$ m  \\times n $个元素     |\n",
    "| 本质为一个数值    | 本质为一组向量     | \n",
    "\n",
    "\n",
    "#### 线性方程组-齐次方程、增广矩阵\n",
    "在秩等概念的基础上，我们进一步回顾线性方程组中的其他概念。\n",
    "\n",
    "* （非）齐次方程\n",
    "\n",
    "考虑方程组:$Ax=b$其中若常数项向量 $b=0$即$b_1=b_2=b_3=b_n=0$那么方程组变为：$$ Ax=0$$\n",
    "其中0为0向量，这种特殊的情况称为齐次方程组。\n",
    "\n",
    "又由设$A$为非奇异矩阵，$x=A^{-1} \\times 0 \\rightarrow x=0$故可以得到：\n",
    "> 若$A$为非奇异矩阵，齐次方程组仅等得到一个0解，也可以理解为0向量在新的坐标投影依然是0向量。\n",
    "\n",
    "---\n",
    "* python 中相关的代码为\n",
    "\n",
    "``` python\n",
    "rank=np.linalg.matrix_rank(A)#求矩阵的秩\n",
    "deter=np.linalg.det(A)#求矩阵对应的行列式的值\n",
    "\n",
    "```\n",
    "* 总结线性方程组的结果\n",
    "\n",
    "\n",
    "\n",
    "| 对应方程组$Ax=b$ $A$为 $n \\times n$方阵| $b\\neq 0$ 非齐次方程组 | $b= 0$ 齐次方程组   |\n",
    "| -------- | -------- | -------- |\n",
    "| $|A| \\neq 0$或 $r(A)=n$ $A$系数矩阵为非奇异矩阵    | 存在唯一的非0解向量 $x \\neq 0$     | 存在唯一的0解向量 $x = 0$     |\n",
    "| $|A| = 0$或 $r(A)<n$ $A$系数矩阵为奇异矩阵-方程相容    | 存在无数个解（不包括0解）     | 存在无数个解（包括0解）   |\n",
    "| $|A| = 0$或 $r(A)<n$ $A$系数矩阵为奇异矩阵-方程不相容    | 无解     | 不可能出现   |\n",
    "\n",
    "> 线性方程组解数目的空间解释\n",
    "\n",
    "空间中$Ax=b$代表$x$向量通过列空间$A$ 的转换，得到$b$解向量，当且经当向量$b$在$A$的列空间中时，方程组才有解。\n",
    "\n",
    "\n",
    "\n",
    "\n",
    "\n",
    "\n",
    "----\n",
    "例题：分别通过矩阵的秩，与矩阵行列式计算矩阵是否为奇异矩阵，并通过行列式判读下列方程是否有唯一解,并解出。\n",
    "$$\\begin{align} 7x_1-3x_2-3x_3=7 \\end{align} $$"
   ]
  },
  {
   "cell_type": "code",
   "execution_count": null,
   "id": "9d65e3c3-92a8-46b4-b3b3-fe2df741e0e4",
   "metadata": {
    "scrolled": true,
    "tags": []
   },
   "outputs": [],
   "source": [
    "import numpy as np \n",
    "ar=np.array([[8,-1,0],[0,2,5],[2,0,3]])\n",
    "b=np.array([16,5,7]).T\n",
    "print(\"系数矩阵为： \\n\",ar)\n",
    "print(\"常数向量为： \\n\",b)\n",
    "print(ar.shape)\n",
    "print(\"矩阵是否是方阵：\",ar.shape[0]==ar.shape[1])\n",
    "rank=np.linalg.matrix_rank(ar)\n",
    "print(\"矩阵的秩为：\",rank)\n",
    "print(\"矩阵的行列数为:\",ar.shape[0])\n",
    "print(\"矩阵的秩与行列数是否相等：\",rank==ar.shape[0])\n",
    "determinant=np.linalg.det(ar)\n",
    "print(\"行列式的值为\",determinant)\n",
    "print(\"行列式的值是否等于0：\",determinant==0)\n",
    "if determinant==0:\n",
    "    print(\"判断为奇异矩阵\")\n",
    "\n",
    "else:\n",
    "    print(\"判断为非奇异矩阵\")\n",
    "    A2=np.linalg.inv(ar)\n",
    "    print(\"求得系数矩阵的逆为： \\n\",A2)\n",
    "    x=A2@b\n",
    "    print(\"求得解向量为：\",np.around(x))"
   ]
  },
  {
   "cell_type": "markdown",
   "id": "89a9af20-94ce-4a0a-9972-f9ef4f36bca3",
   "metadata": {},
   "source": [
    "## 线性变换、 特征向量、 特征值Transformations, Eigenvectors, and Eigenvalues\n",
    "\n",
    "\n",
    "Matrices and vectors are used together to manipulate spatial dimensions. This has a lot of applications, including the mathematical generation of 3D computer graphics, geometric modeling, and the training and optimization of machine learning algorithms. We're not going to cover the subject exhaustively here; but we'll focus on a few key concepts that are useful to know when you plan to work with machine learning.\n",
    "\n",
    "### Linear Transformations 线性变换\n",
    "You can manipulate a vector by multiplying it with a matrix. The matrix acts a function that operates on an input vector to produce a vector output. Specifically, matrix multiplications of vectors are *linear transformations* that transform the input vector into the output vector.\n",
    "\n",
    "For example, consider this matrix ***A*** and vector ***v***:\n",
    "\n",
    "$$ A = \\begin{bmatrix}2 & 3\\\\5 & 2\\end{bmatrix} \\;\\;\\;\\; \\vec{v} = \\begin{bmatrix}1\\\\2\\end{bmatrix}$$\n",
    "\n",
    "We can define a transformation ***T*** like this:\n",
    "\n",
    "$$ T(\\vec{v}) = A\\vec{v} $$\n",
    "\n",
    "To perform this transformation, we simply calculate the dot product by applying the *RC* rule; multiplying each row of the matrix by the single column of the vector:\n",
    "\n",
    "$$\\begin{bmatrix}2 & 3\\\\5 & 2\\end{bmatrix} \\cdot  \\begin{bmatrix}1\\\\2\\end{bmatrix} = \\begin{bmatrix}8\\\\9\\end{bmatrix}$$\n",
    "\n",
    "In this case, both the input vector and the output vector have 2 components - in other words, the transformation takes a 2-dimensional vector and produces a new 2-dimensional vector; which we can indicate like this:\n",
    "\n",
    "$$ T: \\rm I\\!R^{2} \\to \\rm I\\!R^{2} $$\n",
    "\n",
    "Note that the output vector may have a different number of dimensions from the input vector; so the matrix function might transform the vector from one space to another - or in notation, ${\\rm I\\!R}$<sup>n</sup> -> ${\\rm I\\!R}$<sup>m</sup>.\n",
    "\n",
    "For example, let's redefine matrix ***A***, while retaining our original definition of vector ***v***:\n",
    "\n",
    "$$ A = \\begin{bmatrix}2 & 3\\\\5 & 2\\\\1 & 1\\end{bmatrix} \\;\\;\\;\\; \\vec{v} = \\begin{bmatrix}1\\\\2\\end{bmatrix}$$\n",
    "\n",
    "Now if we once again define ***T*** like this:\n",
    "\n",
    "$$ T(\\vec{v}) = A\\vec{v} $$\n",
    "\n",
    "We apply the transformation like this:\n",
    "\n",
    "$$\\begin{bmatrix}2 & 3\\\\5 & 2\\\\1 & 1\\end{bmatrix} \\cdot  \\begin{bmatrix}1\\\\2\\end{bmatrix} = \\begin{bmatrix}8\\\\9\\\\3\\end{bmatrix}$$\n",
    "\n",
    "So now, our transformation transforms the vector from 2-dimensional space to 3-dimensional space:\n",
    "\n",
    "$$ T: \\rm I\\!R^{2} \\to \\rm I\\!R^{3} $$\n",
    "\n",
    "---\n",
    "\n",
    "## Transformations of Magnitude and Amplitude\n",
    "\n",
    "When you multiply a vector by a matrix, you transform it in at least one of the following two ways:\n",
    "* Scale the length (*magnitude*) of the matrix to make it longer or shorter\n",
    "* Change the direction (*amplitude*) of the matrix\n",
    "\n",
    "For example consider the following matrix and vector:\n",
    "\n",
    "$$ A = \\begin{bmatrix}2 & 0\\\\0 & 2\\end{bmatrix} \\;\\;\\;\\; \\vec{v} = \\begin{bmatrix}1\\\\0\\end{bmatrix}$$\n",
    "\n",
    "As before, we transform the vector ***v*** by multiplying it with the matrix ***A***:\n",
    "\n",
    "\\begin{equation}\\begin{bmatrix}2 & 0\\\\0 & 2\\end{bmatrix} \\cdot  \\begin{bmatrix}1\\\\0\\end{bmatrix} = \\begin{bmatrix}2\\\\0\\end{bmatrix}\\end{equation}\n",
    "\n",
    "In this case, the resulting vector has changed in length (*magnitude*), but has not changed its direction (*amplitude*).\n",
    "\n",
    "---\n",
    "\n",
    "### 矩阵、矩阵与向量相乘的空间解释\n",
    "\n",
    "矩阵与相连相乘，可以理解为向量$x$和向量$b$的一种映射关系，矩阵$A$是描述这种关系的参数，可看作线性变换。\n",
    "\n",
    "从空间上看，向量$x$在指定矩阵$A$的作用下，原始空间的向量$x$被转换到了目标空间的新坐标，向量空间的位置由此发生了改变，甚至在映射之后，目标空间的维数相较于原始空间都可能发送改变。\n",
    "\n",
    "***空间上，矩阵的本质就是映射，矩阵与向量的乘法，本质上可以看作对向量基底的一种改变。***\n",
    "\n",
    "这种改变不但包括向量大小的改变，更重要的是，其还改变了向量的维度。\n",
    "\n",
    "由于$A_{m \\times n} * v_{n \\times 1}=u_{m \\times 1}$\n",
    "根据与向量相乘矩阵$A_{m \\times n}$中$m,n$大小关系不同，可以分为以下情况：\n",
    "$$ \\begin{cases}m>n \\quad 最终得到向量u维度m大于原有维度n（提维）\\\\ m<n \\quad 最终得到向量u维度m小于原有维度n（降维压缩）\\\\m=n \\quad 最终得到向量u维度m等于原有维度n\\end {cases}$$\n",
    "\n",
    "\n",
    "\n",
    "\n",
    " \n",
    " \n",
    " \n",
    " \n",
    " \n",
    " \n",
    " \n",
    " \n",
    "\n",
    " \n",
    "\n",
    "\n",
    "\n",
    "\n",
    "\n",
    "\n"
   ]
  },
  {
   "cell_type": "code",
   "execution_count": 4,
   "id": "fa3deeb4-73b8-454e-ba3e-5cff191400b2",
   "metadata": {
    "execution": {
     "iopub.execute_input": "2022-03-30T09:50:17.825913Z",
     "iopub.status.busy": "2022-03-30T09:50:17.825119Z",
     "iopub.status.idle": "2022-03-30T09:50:17.981468Z",
     "shell.execute_reply": "2022-03-30T09:50:17.980795Z",
     "shell.execute_reply.started": "2022-03-30T09:50:17.825880Z"
    },
    "scrolled": true,
    "tags": []
   },
   "outputs": [
    {
     "name": "stdout",
     "output_type": "stream",
     "text": [
      "(2,)\n",
      "原有向量空间表达：\n",
      "矩阵A的形状： (3, 2)\n",
      "经过与矩阵A乘积后的新向量： [13 19 15]\n"
     ]
    },
    {
     "data": {
      "image/png": "[encoded data removed]",
      "text/plain": [
       "<Figure size 360x360 with 1 Axes>"
      ]
     },
     "metadata": {
      "needs_background": "light"
     },
     "output_type": "display_data"
    }
   ],
   "source": [
    "### 矩阵与向量相乘###\n",
    "import numpy as np \n",
    "import matplotlib.pyplot as plt \n",
    "#原始x为二维空间向量\n",
    "x=np.array([2,3]).T\n",
    "print(x.shape)\n",
    "### 通过设置spines，将上面的sin图进行修饰\n",
    "fig3,axes3=plt.subplots()\n",
    "fig3.set_size_inches(5,5)\n",
    "axes3.set_xlim(-5,5)\n",
    "axes3.set_ylim(-5,5)\n",
    " \n",
    "axes3.spines['top'].set_visible(False)\n",
    "axes3.spines['right'].set_visible(False)\n",
    "axes3.spines['left'].set_position(('data',0))\n",
    "axes3.spines['bottom'].set_position(('data',0))\n",
    "# 为图像添加网格\n",
    "axes3.grid(color='gray',linestyle='--',alpha=0.2)\n",
    " \n",
    "\n",
    "axes3.arrow(0,0,x[0],x[1],width=0,shape='full',head_width=0.25,head_length=0.3,color='blue')\n",
    "print(\"原有向量空间表达：\")\n",
    "\n",
    "A=np.array([[2,3],[2,5],[6,1]])\n",
    "print(\"矩阵A的形状：\",A.shape)\n",
    "b=np.dot(A,x)\n",
    "print(\"经过与矩阵A乘积后的新向量：\",b)\n",
    "plt.show()"
   ]
  },
  {
   "cell_type": "markdown",
   "id": "cc59f59a-6729-4738-ad7b-28cf5e512420",
   "metadata": {},
   "source": [
    "\n",
    "\n",
    "\n",
    " \n",
    "\n",
    " "
   ]
  },
  {
   "cell_type": "code",
   "execution_count": 3,
   "id": "b171db3e-75ca-4f67-a6f6-20a5240778dd",
   "metadata": {
    "execution": {
     "iopub.execute_input": "2022-03-31T10:13:23.192467Z",
     "iopub.status.busy": "2022-03-31T10:13:23.191518Z",
     "iopub.status.idle": "2022-03-31T10:13:23.658633Z",
     "shell.execute_reply": "2022-03-31T10:13:23.658037Z",
     "shell.execute_reply.started": "2022-03-31T10:13:23.192432Z"
    },
    "scrolled": true,
    "tags": []
   },
   "outputs": [
    {
     "name": "stdout",
     "output_type": "stream",
     "text": [
      "u 向量是否是e_x,e_y两个基底的线性组合： [ True  True]\n",
      "新的坐标上u的投影（cos） 9\n",
      "1\n",
      "新的基地构成的二维坐标矩阵： [[ 1  1]\n",
      " [-1  1]]\n",
      "向量u通过与新的二维坐标矩阵内积得到新的坐标下的投影： [9 1]\n"
     ]
    },
    {
     "data": {
      "image/png": "[encoded data removed]",
      "text/plain": [
       "<Figure size 1152x576 with 2 Axes>"
      ]
     },
     "metadata": {
      "needs_background": "light"
     },
     "output_type": "display_data"
    }
   ],
   "source": [
    "####基底，以及新的基底变换####\n",
    "import numpy as np \n",
    "import matplotlib.pyplot as plt \n",
    "fig,axes=plt.subplots(1,2)\n",
    "fig.set_size_inches(16,8)\n",
    "u=np.array([4,5])\n",
    "ax1=axes[0]\n",
    "ax2=axes[1]\n",
    "e_x=np.array([1,0])\n",
    "e_y=np.array([0,1])\n",
    "ax1.set_xlim(-7,7)\n",
    "ax1.set_ylim(-7,7)\n",
    "ax1.grid()\n",
    "ax1.arrow(0,0,e_x[0],e_x[1],head_width=0.1,color='green')\n",
    "ax1.arrow(0,0,e_y[0],e_y[1],head_width=0.1,color='green')\n",
    "ax1.arrow(0,0,u[0],u[1],head_length=0.1,head_width=0.1,color='red')\n",
    "#新的基底\n",
    "ax2.set_xlim(-5,5)\n",
    "ax2.set_ylim(-5,5)\n",
    "ax2.grid()\n",
    "e_z=np.array([1 ,1])\n",
    "e_w=np.array([-1  ,1])\n",
    "ax2.arrow(0,0,e_z[0],e_z[1],head_length=0.1,head_width=0.1,color='blue')\n",
    "ax2.arrow(0,0,e_w[0],e_w[1],head_length=0.1,head_width=0.1,color='blue')\n",
    "# 向量u是基底的线性组合\n",
    "u=np.array([4,5])\n",
    "u2=4*e_x+5*e_y\n",
    "print(\"u 向量是否是e_x,e_y两个基底的线性组合：\",u2==u)\n",
    "print(\"新的坐标上u的投影（cos）\",u@e_z)\n",
    "print(u@e_w)\n",
    "# 定义相关的坐标系\n",
    "new=np.array([e_z,e_w])\n",
    "print(\"新的基地构成的二维坐标矩阵：\",new)\n",
    "new_point=new@u\n",
    "print(\"向量u通过与新的二维坐标矩阵内积得到新的坐标下的投影：\",new_point)"
   ]
  },
  {
   "cell_type": "markdown",
   "id": "fa0b9fa0-3abb-4cb8-8074-8a24462636b8",
   "metadata": {},
   "source": []
  },
  {
   "cell_type": "code",
   "execution_count": 9,
   "id": "ad03e00c-42ab-466b-bdd9-ea1e67849f4d",
   "metadata": {
    "execution": {
     "iopub.execute_input": "2022-03-31T10:57:33.624090Z",
     "iopub.status.busy": "2022-03-31T10:57:33.623417Z",
     "iopub.status.idle": "2022-03-31T10:57:33.630965Z",
     "shell.execute_reply": "2022-03-31T10:57:33.630189Z",
     "shell.execute_reply.started": "2022-03-31T10:57:33.624055Z"
    },
    "scrolled": true,
    "tags": []
   },
   "outputs": [
    {
     "name": "stdout",
     "output_type": "stream",
     "text": [
      "[[0.5 0.4 0.2]\n",
      " [0.2 0.3 0.1]\n",
      " [0.1 0.1 0.3]]\n",
      "[226. 119.  78.]\n"
     ]
    }
   ],
   "source": []
  },
  {
   "cell_type": "markdown",
   "id": "dcb40720-150a-4909-9872-89ce4eb3ea54",
   "metadata": {},
   "source": []
  },
  {
   "cell_type": "markdown",
   "id": "f30bb175-1862-42b3-9125-83bb2c50e2e5",
   "metadata": {
    "tags": []
   },
   "source": [
    "# 线性代数应用"
   ]
  },
  {
   "cell_type": "raw",
   "id": "c7440722-0adb-427a-8c88-02b9e7347a2b",
   "metadata": {},
   "source": [
    " "
   ]
  },
  {
   "cell_type": "markdown",
   "id": "d58825bc-1592-44c0-93c8-250ab030ceb3",
   "metadata": {},
   "source": []
  }
 ],
 "metadata": {
  "kernelspec": {
   "display_name": "Python 3.9.12 ('base')",
   "language": "python",
   "name": "python3"
  },
  "language_info": {
   "codemirror_mode": {
    "name": "ipython",
    "version": 3
   },
   "file_extension": ".py",
   "mimetype": "text/x-python",
   "name": "python",
   "nbconvert_exporter": "python",
   "pygments_lexer": "ipython3",
   "version": "3.9.12"
  },
  "vscode": {
   "interpreter": {
    "hash": "9a31ce11574d352d00236a575df6bfccd0c874de624df1cc5e0869df469a6677"
   }
  }
 },
 "nbformat": 4,
 "nbformat_minor": 5
}
