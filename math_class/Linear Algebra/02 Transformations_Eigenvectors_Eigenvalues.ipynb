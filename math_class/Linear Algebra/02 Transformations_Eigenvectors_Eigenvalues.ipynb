{
 "cells": [
  {
   "cell_type": "code",
   "execution_count": 2,
   "metadata": {},
   "outputs": [],
   "source": [
    "import matplotlib.pyplot as plt \n",
    "\n",
    " \n",
    "def plt_arrow(vec_array,col_list):\n",
    " ### 通过设置spines，将上面的sin图进行修饰\n",
    "    fig,axes=plt.subplots()\n",
    "    fig.set_size_inches(12,12)\n",
    "    axes.set_xlim(-12,12)\n",
    "    axes.set_ylim(-12,12)\n",
    "    \n",
    "    axes.spines['top'].set_visible(False)\n",
    "    axes.spines['right'].set_visible(False)\n",
    "    axes.spines['left'].set_position(('data',0))\n",
    "    axes.spines['bottom'].set_position(('data',0))\n",
    "    # 为图像添加网格\n",
    "    axes.grid(color='gray',linestyle='--',alpha=0.2)\n",
    "    rows,cols=vec_array.shape\n",
    "    for i in range(rows):\n",
    "       x=vec_array[i,:]  \n",
    "       axes.arrow(0,0, x[0],x[1],width=0,shape='full',head_width=0.25,head_length=0.3,color=col_list[i])\n",
    "      \n",
    "    \n",
    "    plt.show()\n",
    "   \n",
    " \n",
    " \n",
    " \n",
    " \n",
    " \n",
    " \n",
    " \n"
   ]
  },
  {
   "cell_type": "markdown",
   "metadata": {},
   "source": [
    "## 相似矩阵和相似变换\n",
    "> 针对指定向量的**同一个空间**变换，用来在不同**基底**下进行描述的不同矩阵，彼此之间称为相似矩阵\n",
    "\n",
    "<img src=\"https://s1.imagehub.cc/images/2022/07/11/-7.png\" alt=\"-7.png\" border=\"0\" />\n",
    "\n",
    "公式推导：\n",
    "向量$x$\n",
    "1. 在基向量$\\{e_1,e_2\\}$构成空间内，向量 $ \\vec{x}$通过与矩阵$P$相乘，得到得到新基底$\\{ \\grave{e_1}, \\grave{e_2} \\}$ 下向量 $\\grave{\\vec{x}}$，注意，两个向量实际对应的点绝对空间位置不变。\n",
    "$$\\vec{x}*P=\\grave{\\vec{x}}$$\n",
    "2. 基向量$\\{e_1,e_2\\}$ 中向量$ \\vec{x}$通过与矩阵$A$相乘，得到新的向量$ \\vec{y}$\n",
    "$$\\vec{x}*A= \\vec{y} $$\n",
    "3. 新基底$\\{ \\grave{e_1}, \\grave{e_2} \\}$ 下向量 $\\grave{\\vec{x}}$ 乘向量$B$ 得到新基底下新向量$ \\grave \\vec{y}$\n"
   ]
  },
  {
   "cell_type": "code",
   "execution_count": 28,
   "metadata": {},
   "outputs": [
    {
     "name": "stdout",
     "output_type": "stream",
     "text": [
      "[-5  5]\n",
      "新的基底{ex=[5,5],ey=[-5,5]}\n",
      "u2=5*e_x+5*e_y [-5  5]\n",
      "u 向量是否是e_x,e_y两个基底的线性组合： True\n",
      "新的坐标e_z上x的投影（cos） 0\n",
      "新坐标e_w上x的投影 50\n",
      "新的基底构成的二维坐标矩阵： [[ 5  5]\n",
      " [-5  5]]\n",
      "向量u通过与新的二维坐标矩阵内积得到新的坐标下的投影： [ 0 50]\n",
      "新坐标e_z的范数 7.0710678118654755\n",
      "新坐标e_w的范数 7.0710678118654755\n",
      "[0.70710678 0.70710678]\n",
      "线性变换得到的新向量y: [-5 10]\n"
     ]
    },
    {
     "data": {
      "text/plain": [
       "<matplotlib.patches.FancyArrow at 0x7feee12d4d00>"
      ]
     },
     "execution_count": 28,
     "metadata": {},
     "output_type": "execute_result"
    },
    {
     "data": {
      "image/png": "[encoded data removed]",
      "text/plain": [
       "<Figure size 1152x576 with 2 Axes>"
      ]
     },
     "metadata": {
      "needs_background": "light"
     },
     "output_type": "display_data"
    }
   ],
   "source": [
    "import numpy as np \n",
    "x=np.array([-5,5])\n",
    "print(x)\n",
    "print(\"新的基底{ex=[5,5],ey=[-5,5]}\")\n",
    "\n",
    "#基底表达\n",
    "# 默认情况下，e1=[1,0],e2=\n",
    "import numpy as np \n",
    "import matplotlib.pyplot as plt \n",
    "fig,axes=plt.subplots(1,2)\n",
    "fig.set_size_inches(16,8)\n",
    " \n",
    "ax1=axes[0]\n",
    "ax2=axes[1]\n",
    "e_x=np.array([1,0])#原有基底\n",
    "e_y=np.array([0,1])# 原有基底\n",
    "e_z=np.array([5 ,5])#新基底-z\n",
    "e_w=np.array([-5,5])#新基底-y\n",
    "ax1.set_xlim(-12,12)\n",
    "ax1.set_ylim(-12,12)\n",
    "ax1.grid()\n",
    "ax1.arrow(0,0,e_x[0],e_x[1],head_width=0.1,color='green')\n",
    "ax1.arrow(0,0,e_y[0],e_y[1],head_width=0.1,color='green')\n",
    "ax1.arrow(0,0,x[0],x[1],head_length=0.1,head_width=0.1,color='red')\n",
    "#新的基底{ex=[-5,5],ey=[-5,5]}\n",
    "ax2.set_xlim(-12,12)\n",
    "ax2.set_ylim(-12,12)\n",
    "ax2.grid()\n",
    "\n",
    "ax2.arrow(0,0,e_z[0],e_z[1],head_length=0.1,head_width=0.1,color='blue')\n",
    "ax2.arrow(0,0,e_w[0],e_w[1],head_length=0.1,head_width=0.1,color='blue')\n",
    "ax2.arrow(0,0,x[0],x[1],head_length=0.1,head_width=0.1,color='red')\n",
    "# 向量x是基底的线性组合\n",
    "\n",
    "u2=-5*e_x+5*e_y\n",
    "print(\"u2=5*e_x+5*e_y\",u2)\n",
    "print(\"u 向量是否是e_x,e_y两个基底的线性组合：\",np.allclose(x,u2))\n",
    "print(\"新的坐标e_z上x的投影（cos）\",x@e_z)\n",
    "print(\"新坐标e_w上x的投影\",x@e_w)\n",
    "# 定义相关的坐标系\n",
    "new=np.array([e_z,e_w])\n",
    "print(\"新的基底构成的二维坐标矩阵：\",new)\n",
    "new_point=new@x\n",
    "print(\"向量u通过与新的二维坐标矩阵内积得到新的坐标下的投影：\",new_point)\n",
    "x2_n=np.linalg.norm(e_z)\n",
    "y2_n=np.linalg.norm(e_w)\n",
    "print(\"新坐标e_z的范数\",np.linalg.norm(e_z))\n",
    "print(\"新坐标e_w的范数\",np.linalg.norm(e_w))\n",
    "print(e_z/x2_n)\n",
    "## 向量x乘A矩阵实现线性变换\n",
    "A=np.array([[2,1],[5,7]])\n",
    "y=A@x\n",
    "print(\"线性变换得到的新向量y:\",y)\n",
    "ax1.arrow(0,0,y[0],y[1],head_length=0.1,head_width=0.1,color='black')\n",
    " \n"
   ]
  },
  {
   "cell_type": "markdown",
   "metadata": {},
   "source": [
    "## 相似变换"
   ]
  },
  {
   "cell_type": "markdown",
   "metadata": {},
   "source": [
    "## 线性变换、 特征向量、 特征值Transformations, Eigenvectors, and Eigenvalues\n",
    "\n",
    "\n",
    "Matrices and vectors are used together to manipulate spatial dimensions. This has a lot of applications, including the mathematical generation of 3D computer graphics, geometric modeling, and the training and optimization of machine learning algorithms. We're not going to cover the subject exhaustively here; but we'll focus on a few key concepts that are useful to know when you plan to work with machine learning.\n",
    "\n",
    "### Linear Transformations 线性变换\n",
    "> 简单而言，线性变换就是通过与矩阵 $A$相乘,将向量 $b$ 转换为向量 $a$，在此过程中，$b$ 的维度，长度都可以发生改变\n",
    "You can manipulate a vector by multiplying it with a matrix. The matrix acts a function that operates on an input vector to produce a vector output. Specifically, matrix multiplications of vectors are *linear transformations* that transform the input vector into the output vector.\n",
    "\n",
    "For example, consider this matrix ***A*** and vector ***v***:\n",
    "\n",
    "$$ A = \\begin{bmatrix}2 & 3\\\\5 & 2\\end{bmatrix} \\;\\;\\;\\; \\vec{v} = \\begin{bmatrix}1\\\\2\\end{bmatrix}$$\n",
    "\n",
    "We can define a transformation ***T*** like this:\n",
    "\n",
    "$$ T(\\vec{v}) = A\\vec{v} $$\n",
    "\n",
    "To perform this transformation, we simply calculate the dot product by applying the *RC* rule; multiplying each row of the matrix by the single column of the vector:\n",
    "\n",
    "$$\\begin{bmatrix}2 & 3\\\\5 & 2\\end{bmatrix} \\cdot  \\begin{bmatrix}1\\\\2\\end{bmatrix} = \\begin{bmatrix}8\\\\9\\end{bmatrix}$$\n",
    "\n",
    "In this case, both the input vector and the output vector have 2 components - in other words, the transformation takes a 2-dimensional vector and produces a new 2-dimensional vector; which we can indicate like this:\n",
    "\n",
    "$$ T: \\rm I\\!R^{2} \\to \\rm I\\!R^{2} $$\n",
    "\n",
    "Note that the output vector may have a different number of dimensions from the input vector; so the matrix function might transform the vector from one space to another - or in notation, ${\\rm I\\!R}$<sup>n</sup> -> ${\\rm I\\!R}$<sup>m</sup>.\n",
    "\n",
    "For example, let's redefine matrix ***A***, while retaining our original definition of vector ***v***:\n",
    "\n",
    "$$ A = \\begin{bmatrix}2 & 3\\\\5 & 2\\\\1 & 1\\end{bmatrix} \\;\\;\\;\\; \\vec{v} = \\begin{bmatrix}1\\\\2\\end{bmatrix}$$\n",
    "\n",
    "Now if we once again define ***T*** like this:\n",
    "\n",
    "$$ T(\\vec{v}) = A\\vec{v} $$\n",
    "\n",
    "We apply the transformation like this:\n",
    "\n",
    "$$\\begin{bmatrix}2 & 3\\\\5 & 2\\\\1 & 1\\end{bmatrix} \\cdot  \\begin{bmatrix}1\\\\2\\end{bmatrix} = \\begin{bmatrix}8\\\\9\\\\3\\end{bmatrix}$$\n",
    "\n",
    "So now, our transformation transforms the vector from 2-dimensional space to 3-dimensional space:\n",
    "\n",
    "$$ T: \\rm I\\!R^{2} \\to \\rm I\\!R^{3} $$\n",
    "\n",
    "---\n",
    "\n",
    "## Transformations of Magnitude and Amplitude\n",
    "\n",
    "When you multiply a vector by a matrix, you transform it in at least one of the following two ways:\n",
    "* Scale the length (*magnitude*) of the matrix to make it longer or shorter\n",
    "* Change the direction (*amplitude*) of the matrix\n",
    "\n",
    "For example consider the following matrix and vector:\n",
    "\n",
    "$$ A = \\begin{bmatrix}2 & 0\\\\0 & 2\\end{bmatrix} \\;\\;\\;\\; \\vec{v} = \\begin{bmatrix}1\\\\0\\end{bmatrix}$$\n",
    "\n",
    "As before, we transform the vector ***v*** by multiplying it with the matrix ***A***:\n",
    "\n",
    "$$\\begin{equation}\\begin{bmatrix}2 & 0\\\\0 & 2\\end{bmatrix} \\cdot  \\begin{bmatrix}1\\\\0\\end{bmatrix} = \\begin{bmatrix}2\\\\0\\end{bmatrix}\\end{equation}$$\n",
    "\n",
    "In this case, the resulting vector has changed in length (*magnitude*), but has not changed its direction (*amplitude*).\n",
    "\n",
    "---\n",
    "\n",
    "### 矩阵、矩阵与向量相乘的空间解释\n",
    "\n",
    "矩阵与相连相乘，可以理解为向量$x$和向量$b$的一种映射关系，矩阵$A$是描述这种关系的参数，可看作线性变换。\n",
    "\n",
    "从空间上看，向量$x$在指定矩阵$A$的作用下，原始空间的向量$x$被转换到了目标空间的新坐标，向量空间的位置由此发生了改变，甚至在映射之后，目标空间的维数相较于原始空间都可能发送改变。\n",
    "\n",
    "***空间上，矩阵的本质就是映射，矩阵与向量的乘法，本质上可以看作对向量基底的一种改变。***\n",
    "\n",
    "这种改变不但包括向量大小的改变，更重要的是，其还改变了向量的维度。\n",
    "\n",
    "由于$A_{m \\times n} * v_{n \\times 1}=u_{m \\times 1}$\n",
    "根据与向量相乘矩阵$A_{m \\times n}$中$m,n$大小关系不同，可以分为以下情况：\n",
    "\n"
   ]
  },
  {
   "cell_type": "markdown",
   "metadata": {},
   "source": [
    "$$\\begin{cases}m>n \\quad $$ \n",
    "最终得到向量u维度m大于原有维度 n（提维） $$ \\\\ m<n \\quad $$ 最终得到向量u维度m小于原有维度n（降维压缩）$$\\\\m=n \\quad $$最终得到向量u维度m等于原有维度 n\\end {cases}$$\n"
   ]
  },
  {
   "cell_type": "code",
   "execution_count": 3,
   "metadata": {},
   "outputs": [
    {
     "name": "stdout",
     "output_type": "stream",
     "text": [
      "(3, 3)\n",
      "[14 12 29]\n"
     ]
    }
   ],
   "source": [
    "import numpy as np \n",
    "import matplotlib.pyplot as plt\n",
    "\n",
    "A=np.array([[2,3,2],[2,2,2],[1,5,6]])\n",
    "print(A.shape)\n",
    "a=np.array([1,2,3])\n",
    "b=A@a\n",
    "print(b)"
   ]
  },
  {
   "cell_type": "code",
   "execution_count": 6,
   "metadata": {},
   "outputs": [
    {
     "data": {
      "image/png": "[encoded data removed]",
      "text/plain": [
       "<Figure size 360x360 with 1 Axes>"
      ]
     },
     "metadata": {
      "needs_background": "light"
     },
     "output_type": "display_data"
    }
   ],
   "source": [
    "import numpy as np\n",
    "import matplotlib.pyplot as plt\n",
    "%matplotlib inline\n",
    "\n",
    "v = np.array([1,0])\n",
    "A = np.array([[2,0],\n",
    "              [0,2]])\n",
    "\n",
    "t = A@v\n",
    "plt_arrow(v.reshape(1,2),['red'])\n",
    "\n",
    " \n"
   ]
  },
  {
   "cell_type": "markdown",
   "metadata": {},
   "source": [
    "矩阵与向量相乘是对向量进行线性变换，是对原始向量同时施加方向和长度的变化。\n",
    "\n",
    "一般情况下，绝大部分向量会被这个矩阵在方向和大小上都发生改变，但存在一些特殊向量，被矩阵改变后，仅仅有长度变化。\n",
    "\n",
    "这种矩阵就是该向量的特征矩阵，而方向改变的大小标量就是特征值。"
   ]
  },
  {
   "cell_type": "code",
   "execution_count": null,
   "metadata": {},
   "outputs": [],
   "source": []
  },
  {
   "cell_type": "markdown",
   "metadata": {},
   "source": [
    ">机器学习线性代数基础\n",
    "对应表达式:$$ A \\times p=\\lambda \\times p $$ 其中 $A$为方阵， $p$ 为向量 $\\lambda$为标量。从空间几何意义角度解释，对 $A$， 若向量 $p$ 是其特征向量，标量 $\\lambda$就是其特征值。\n",
    "**意味着 $p$ 在方阵 $A$ 的作用下，其长度沿着向量的方向进行 $\\lambda 倍的伸缩$** \n",
    "\n",
    "一般而言，一个向量在某个矩阵的所用下，其空间变换反映为长度和方向的改变，包括旋转、平移和拉伸，有些情况下向量的维度都可以发生改变。而特征向量的特殊之处在于：矩阵A作用于它的特征向量，仅仅是长度发送了改变。\n",
    "\n",
    "## Eigenvectors and Eigenvalues\n",
    "So we can see that when you transform a vector using a matrix, we change its direction, length, or both. When the transformation only affects scale (in other words, the output vector has a different magnitude but the same amplitude as the input vector), the matrix multiplication for the transformation is the equivalent operation as some scalar multiplication of the vector.\n",
    "\n",
    "For example, earlier we examined the following transformation that dot-mulitplies a vector by a matrix:\n",
    "\n",
    "$$\\begin{bmatrix}2 & 0\\\\0 & 2\\end{bmatrix} \\cdot  \\begin{bmatrix}1\\\\0\\end{bmatrix} = \\begin{bmatrix}2\\\\0\\end{bmatrix}$$\n",
    "\n",
    "You can achieve the same result by mulitplying the vector by the scalar value ***2***:\n",
    "\n",
    "$$2 \\times \\begin{bmatrix}1\\\\0\\end{bmatrix} = \\begin{bmatrix}2\\\\0\\end{bmatrix}$$\n",
    "\n",
    "The following python performs both of these calculation and shows the results, which are identical."
   ]
  },
  {
   "cell_type": "code",
   "execution_count": 7,
   "metadata": {},
   "outputs": [
    {
     "data": {
      "image/png": "[encoded data removed]",
      "text/plain": [
       "<Figure size 360x360 with 1 Axes>"
      ]
     },
     "metadata": {
      "needs_background": "light"
     },
     "output_type": "display_data"
    }
   ],
   "source": [
    "import numpy as np \n",
    "\n",
    "A=np.array([2,0,0,2]).reshape(2,2)\n",
    "a=np.array([1,0]).T\n",
    "b1=A@a \n",
    "b2=2*a\n",
    "v=np.concatenate((a,b1,b2),axis=0)\n",
    "\n",
    "#print(v.reshape(3,2))\n",
    "v=v.reshape(3,2) \n",
    "plt_arrow(v,['blue','red','green'])\n",
    "\n",
    "\n",
    "   \n",
    " "
   ]
  },
  {
   "cell_type": "markdown",
   "metadata": {},
   "source": [
    "In cases like these, where a matrix transformation is the equivelent of a scalar-vector multiplication, the scalar-vector pairs that correspond to the matrix are known respectively as eigenvalues and eigenvectors. We generally indicate eigenvalues using the Greek letter lambda (&lambda;), and the formula that defines eigenvalues and eigenvectors with respect to a transformation is:\n",
    "\n",
    "$$ T(\\vec{v}) = \\lambda\\vec{v}$$\n",
    "\n",
    "Where the vector ***v*** is an eigenvector and the value ***&lambda;*** is an eigenvalue for transformation ***T***.\n",
    "\n",
    "When the transformation ***T*** is represented as a matrix multiplication, as in this case where the transformation is represented by matrix ***A***:\n",
    "\n",
    "$$ T(\\vec{v}) = A\\vec{v} = \\lambda\\vec{v}$$\n",
    "\n",
    "Then  ***v*** is an eigenvector and ***&lambda;*** is an eigenvalue of ***A***.\n",
    "\n",
    "A matrix can have multiple eigenvector-eigenvalue pairs, and you can calculate them manually. However, it's generally easier to use a tool or programming language. For example, in Python you can use the ***linalg.eig*** function, which returns an array of eigenvalues and a matrix of the corresponding eigenvectors for the specified matrix.\n",
    "\n",
    "Here's an example that returns the eigenvalue and eigenvector pairs for the following matrix:\n",
    "\n",
    "$$A=\\begin{bmatrix}2 & 0\\\\0 & 3\\end{bmatrix}$$"
   ]
  },
  {
   "cell_type": "markdown",
   "metadata": {},
   "source": [
    "python的numpy中使用linalg.eig求的A方阵的特征向量与特在值，注意得到的特征向量和特征值可以有多个，并且是一一对对应关系，\n",
    "\n",
    "例如："
   ]
  },
  {
   "cell_type": "code",
   "execution_count": null,
   "metadata": {},
   "outputs": [],
   "source": [
    "###  python 计算特在相连"
   ]
  },
  {
   "cell_type": "code",
   "execution_count": 9,
   "metadata": {},
   "outputs": [
    {
     "name": "stdout",
     "output_type": "stream",
     "text": [
      "特征向量： [3. 6.]\n",
      "特征值： [[-0.89442719 -0.70710678]\n",
      " [ 0.4472136  -0.70710678]]\n"
     ]
    }
   ],
   "source": [
    "import numpy as np \n",
    "B=np.array([4,2,1,5]).reshape(2,2)\n",
    "eig_val,eig_vex=np.linalg.eig(B)\n",
    "print(\"特征值：\",eig_val)\n",
    "print(\"特征向量：\",eig_vex)"
   ]
  },
  {
   "cell_type": "markdown",
   "metadata": {},
   "source": [
    "得到特征值3，以及对应的特征向量[-0.89442919,0.4472136];特征值6，以及对应的特征向量[-0.70710678,0.4472136];注意此处为列向量"
   ]
  },
  {
   "cell_type": "code",
   "execution_count": 24,
   "metadata": {},
   "outputs": [
    {
     "name": "stdout",
     "output_type": "stream",
     "text": [
      "3.0\n",
      "[-0.89442719  0.4472136 ]\n",
      "[ True False]\n",
      "6.0\n",
      "[-0.70710678 -0.70710678]\n",
      "[ True  True]\n",
      "[[ True  True]\n",
      " [False  True]]\n"
     ]
    }
   ],
   "source": [
    "b1=eig_val[0]\n",
    "b_v1=eig_vex.T[0]\n",
    "b2=eig_val[1]\n",
    "b_v2=eig_vex.T[1]\n",
    "print(b1)\n",
    "print(b_v1)\n",
    "print(b1*b_v1==B@b_v1)\n",
    "print(b2)\n",
    "print(b_v2)\n",
    "print(b2*b_v2==B@b_v2)\n",
    "print(B@eig_vex==eig_val*eig_vex)\n",
    " "
   ]
  },
  {
   "cell_type": "markdown",
   "metadata": {},
   "source": [
    "## Eigendecomposition\n",
    "特征值分解\n",
    "\n",
    "So we've learned a little about eigenvalues and eigenvectors; but you may be wondering what use they are. Well, one use for them is to help decompose transformation matrices.\n",
    "\n",
    "Recall that previously we found that a matrix transformation of a vector changes its magnitude, amplitude, or both. Without getting too technical about it, we need to remember that vectors can exist in any spatial orientation, or *basis*; and the same transformation can be applied in different *bases*.\n",
    "\n",
    "We can decompose a matrix using the following formula:\n",
    "\n",
    "$$A = Q \\Lambda Q^{-1}$$\n",
    "\n",
    "Where ***A*** is a trasformation that can be applied to a vector in its current base, ***Q*** is a matrix of eigenvectors that defines a change of basis, and ***&Lambda;*** is a matrix with eigenvalues on the diagonal that defines the same linear transformation as ***A*** in the base defined by ***Q***.\n",
    "\n",
    "Let's look at these in some more detail. Consider this matrix:\n",
    "\n",
    "$$A=\\begin{bmatrix}3 & 2\\\\1 & 0\\end{bmatrix}$$\n",
    "\n",
    "***Q*** is a matrix in which each column is an eigenvector of ***A***; which as we've seen previously, we can calculate using Python:\n",
    "\n",
    "---\n",
    "特征值分解\n",
    "\n",
    "特征值分解是矩阵分解的一种方法，矩阵分解也称为矩阵因子分解，即将原始矩阵表示为新的结构简单或具有特殊性质的两个或多个矩阵乘积，其类似于代数中的因子分解。\n",
    "\n",
    "矩阵分解可以用于降维、深度学习、聚类、低维度特征学习、推荐系统、大数据分析等领域。\n",
    "\n",
    "特征值分解是将矩阵$A$ 分解为$A = Q \\Lambda Q^{-1}$ 的形似。\n",
    "\n",
    "特征值分解的前提：$A$ 是$n$阶方阵且可对角化。\n",
    "\n",
    "公式中，Q是A特征向量组成的矩阵， $ \\lambda$ 是对角矩阵，其主对角线上的元素代表A的特征值。特征向量矩阵Q的第i个列向量与 $\\lambda$的第i行对角线上的特征值对应\n",
    "$Q^{-1}$为$Q$ 的逆矩阵。\n",
    "例如 将矩阵\n",
    "$$\\begin{bmatrix}3 & 2\\\\1 & 0\\end{bmatrix}$$\n",
    "进行特征值分解\n"
   ]
  },
  {
   "cell_type": "code",
   "execution_count": 37,
   "metadata": {},
   "outputs": [
    {
     "name": "stdout",
     "output_type": "stream",
     "text": [
      "首先求A的特征值与对应特征向量\n",
      "the eigenvalues:  [ 3.56155281 -0.56155281]\n",
      "the eignvectors: [[ 0.96276969 -0.48963374]\n",
      " [ 0.27032301  0.87192821]]\n",
      "根据公式A=Q*EI*Q(-1)，分别求特征值构成对角矩阵，特征矩阵的逆矩阵\n",
      "特征值构成对角矩阵： [[ 3.56155281  0.        ]\n",
      " [ 0.         -0.56155281]]\n",
      "特征矩阵逆矩阵： [[ 0.89720673  0.50382896]\n",
      " [-0.27816009  0.99068183]]\n",
      "求的矩阵，并与原矩阵对比： [[ 3.  2.]\n",
      " [ 1. -0.]]\n",
      "[[ True  True]\n",
      " [ True  True]]\n"
     ]
    }
   ],
   "source": [
    "import numpy as np\n",
    "\n",
    "A = np.array([[3,2],\n",
    "              [1,0]])\n",
    "print(\"首先求A的特征值与对应特征向量\")\n",
    "ev ,evt=np.linalg.eig(A)\n",
    "print(\"the eigenvalues: \",ev)\n",
    "print(\"the eignvectors:\",evt)\n",
    "print(\"根据公式A=Q*EI*Q(-1)，分别求特征值构成对角矩阵，特征矩阵的逆矩阵\")\n",
    "ei=np.diag(ev)\n",
    "print(\"特征值构成对角矩阵：\",ei)\n",
    "neg_evt=np.linalg.inv(evt)\n",
    "print(\"特征矩阵逆矩阵：\",neg_evt)\n",
    "A2=evt@ei@neg_evt\n",
    "print(\"求的矩阵，并与原矩阵对比：\",np.rint(A2))\n",
    "print(np.rint(A2)==A)"
   ]
  },
  {
   "cell_type": "markdown",
   "metadata": {},
   "source": [
    "基于特征值分解，可以得到同一个向量$\\vec{v}$与矩阵$A$及其特征分解后$Q \\Lambda Q^{-1}$相乘结果相同。\n",
    "\n",
    "So what does that mean? Well, it means that we can decompose the transformation of *any* vector multiplied by matrix ***A*** into the separate operations ***Q&Lambda;Q<sup>-1</sup>***:\n",
    "\n",
    "$$A\\vec{v} = Q \\Lambda Q^{-1}\\vec{v}$$\n",
    "\n",
    "To prove this, let's take vector ***v***:\n",
    "\n",
    "$$\\vec{v} = \\begin{bmatrix}1\\\\3\\end{bmatrix} $$\n",
    "\n",
    "Our matrix transformation using ***A*** is:\n",
    "\n",
    "$$\\begin{bmatrix}3 & 2\\\\1 & 0\\end{bmatrix} \\cdot \\begin{bmatrix}1\\\\3\\end{bmatrix} $$\n",
    "\n",
    "So let's show the results of that using Python:"
   ]
  },
  {
   "cell_type": "markdown",
   "metadata": {},
   "source": []
  },
  {
   "cell_type": "code",
   "execution_count": 49,
   "metadata": {},
   "outputs": [
    {
     "name": "stdout",
     "output_type": "stream",
     "text": [
      "[9 1]\n"
     ]
    },
    {
     "data": {
      "image/png": "[encoded data removed]",
      "text/plain": [
       "<Figure size 864x864 with 1 Axes>"
      ]
     },
     "metadata": {
      "needs_background": "light"
     },
     "output_type": "display_data"
    },
    {
     "name": "stdout",
     "output_type": "stream",
     "text": [
      "[9. 1.]\n",
      "特征值分解后方程与原矩阵同乘一个向量结果是否相同？ True\n"
     ]
    }
   ],
   "source": [
    "v=np.array([1,3])\n",
    "v2=A@v\n",
    "print(v2)\n",
    "vs=np.concatenate((v,v2),axis=0)\n",
    "\n",
    "#print(v.reshape(3,2))\n",
    "vs=vs.reshape(2,2) \n",
    "plt_arrow(vs,['blue','red'])\n",
    "\n",
    "v3=evt@ei@neg_evt@v\n",
    "print(v3)\n",
    "print(\"特征值分解后方程与原矩阵同乘一个向量结果是否相同？\",np.allclose(v2,v3))\n",
    " "
   ]
  },
  {
   "cell_type": "markdown",
   "metadata": {},
   "source": [
    "So ***A*** and ***Q&Lambda;Q<sup>-1</sup>*** are equivalent.\n",
    "\n",
    "If we view the intermediary stages of the decomposed transformation, you can see the transformation using ***A*** in the original base for ***v*** (orange to blue) and the transformation using ***&Lambda;*** in the change of basis decribed by ***Q*** (red to magenta):\n",
    "So from this visualization, it should be apparent that the transformation ***Av*** can be performed by changing the basis for ***v*** using ***Q*** (from orange to red in the above plot) applying the equivalent linear transformation in that base using ***&Lambda;*** (red to magenta), and switching back to the original base using ***Q<sup>-1</sup>*** (magenta to blue)."
   ]
  },
  {
   "cell_type": "markdown",
   "metadata": {},
   "source": []
  },
  {
   "cell_type": "markdown",
   "metadata": {},
   "source": []
  },
  {
   "cell_type": "code",
   "execution_count": 54,
   "metadata": {},
   "outputs": [
    {
     "name": "stdout",
     "output_type": "stream",
     "text": [
      "[2.40869361 2.69388542]\n",
      "[ 8.57868949 -1.51275893]\n",
      "[9. 1.]\n"
     ]
    },
    {
     "data": {
      "image/png": "[encoded data removed]",
      "text/plain": [
       "<Figure size 864x864 with 1 Axes>"
      ]
     },
     "metadata": {
      "needs_background": "light"
     },
     "output_type": "display_data"
    }
   ],
   "source": [
    "import numpy as np\n",
    "import matplotlib.pyplot as plt\n",
    "%matplotlib inline\n",
    "\n",
    "t1 = neg_evt@v\n",
    "t2 = ei@t1\n",
    "t3 = evt@t2\n",
    "\n",
    "# Plot the transformations\n",
    "vecs = np.array([v,t1, t2, t3])\n",
    "\n",
    "print(t1)\n",
    "print(t2)\n",
    "print(t3)\n",
    "vs2=np.concatenate((t1,t2,t3),axis=0)\n",
    "vs2=vs2.reshape(3,2)\n",
    "plt_arrow(vs2,['blue','red','green'])"
   ]
  },
  {
   "cell_type": "markdown",
   "metadata": {},
   "source": [
    "## Rank of a Matrix\n",
    "\n",
    "The **rank** of a square matrix is the number of non-zero eigenvalues of the matrix. A **full rank** matrix has the same number of non-zero eigenvalues as the dimension of the matrix. A **rank-deficient** matrix has fewer non-zero eigenvalues as dimensions. The inverse of a rank deficient matrix is singular and so does not exist (this is why in a previous notebook we noted that some matrices have no inverse).\n",
    "\n",
    "Consider the following matrix ***A***:\n",
    "\n",
    "$$A=\\begin{bmatrix}1 & 2\\\\4 & 3\\end{bmatrix}$$\n",
    "\n",
    "Let's find its eigenvalues (***&Lambda;***):\n",
    "\n",
    "---\n",
    "## 矩阵的非奇异性\n",
    "由上可知，方程有解那么其对应的系数矩阵必须可逆，或者说对应向量能够通过对应的矩阵坐标得到新的空间投影，前提是对应矩阵可逆，也即该矩阵为非奇异矩阵。\n",
    "\n",
    "1. 当矩阵$A$为方阵（从线性方程角度，即方程个数与未知数$x$个数相同）时，才可能有你矩阵（即可能是非奇异的），但这并不是充分条件。\n",
    "2. 从线性方程的角度，方程组有唯一解的唯一可能是系数矩阵$A$的行或列线性无关。\n",
    "\n",
    "方正条件和线性无关条件结合在一起，构成了非奇异矩阵的充分必要条件。\n",
    "\n",
    "> 非奇异性 $\\leftrightarrow$ 方阵且线性无关\n",
    "\n",
    "进一步，一组线性方程有唯一解的唯一可能是系数矩阵$A$的行或列线性无关，在此情况下，$A$为非奇异矩阵，这意味着$A^{-1}$确实存在。且***唯一解$x=A^{-1}d$可求***\n",
    "\n",
    "### 矩阵的秩\n",
    "\n",
    "线性无关的概念也可以使用与任意的$m \\times n$矩阵，而不一定是方阵。在一个矩阵中，若线性无关的最大行数为$r$，则称该矩阵的秩为$r$（秩也告诉我们该矩阵线性无关最大的列数）。$m \\times n$矩阵的秩的最大值等于$m,n$中较小的一个。即：\n",
    "$$ r(A) \\leqslant min\\{m,n \\}$$\n",
    "> 矩阵可以看作是一个行向量组或列向量组，矩阵的秩就是矩阵的行向量组或列向组的极大线性无关组中所含向量的个数，也可以理解为**矩阵的秩就是有价值的内容数目**（全为0的向量没有价值内容）。\n",
    "\n",
    "\n",
    "---\n",
    "两者结合可以看到矩阵的Rank有多重含义，包括线性无关的行列数，最小子空间维度，以及特征值所构成的对角矩阵对应非0行的数目。"
   ]
  },
  {
   "cell_type": "code",
   "execution_count": 61,
   "metadata": {},
   "outputs": [
    {
     "name": "stdout",
     "output_type": "stream",
     "text": [
      "[[1 2]\n",
      " [4 3]]\n",
      "特征向量： [[-0.70710678 -0.4472136 ]\n",
      " [ 0.70710678 -0.89442719]]\n",
      "特征值： [-1.  5.]\n",
      "特征值构成的对角矩阵： [[-1.  0.]\n",
      " [ 0.  5.]]\n",
      "矩阵的秩为： 2\n"
     ]
    }
   ],
   "source": [
    "import numpy as np \n",
    "A=np.array([[1,2],[4,3]])\n",
    "print(A)\n",
    "L,Q=np.linalg.eig(A)\n",
    "print(\"特征向量：\",Q)\n",
    "print(\"特征值：\",L)\n",
    "LV=np.diag(L)\n",
    "print(\"特征值构成的对角矩阵：\",LV)\n",
    "import numpy as np \n",
    " \n",
    " \n",
    "rank=np.linalg.matrix_rank(A)\n",
    "print(\"矩阵的秩为：\",rank)\n",
    " \n"
   ]
  },
  {
   "cell_type": "markdown",
   "metadata": {},
   "source": [
    "$$\\Lambda=\\begin{bmatrix}-1 & 0\\\\0 & 5\\end{bmatrix}$$\n",
    "\n",
    "This matrix has full rank. The dimensions of the matrix is 2. There are two non-zero eigenvalues. \n",
    "\n",
    "通过matrix_rank也求得其rank=2，与矩阵行列数目相同，为满秩矩阵。\n",
    "\n",
    "Now consider this matrix:\n",
    "\n",
    "$$B=\\begin{bmatrix}3 & -3 & 6\\\\2 & -2 & 4\\\\1 & -1 & 2\\end{bmatrix}$$\n",
    "\n",
    "Note that the second and third columns are just scalar multiples of the first column.\n",
    "\n",
    "Let's examine it's eigenvalues:"
   ]
  },
  {
   "cell_type": "markdown",
   "metadata": {},
   "source": [
    "简单看来上面矩阵线性相关"
   ]
  },
  {
   "cell_type": "code",
   "execution_count": 67,
   "metadata": {},
   "outputs": [
    {
     "name": "stdout",
     "output_type": "stream",
     "text": [
      "[[ 3 -3  6]\n",
      " [ 2 -2  4]\n",
      " [ 1 -1  2]]\n",
      "特征向量： [[ 8.01783726e-01 -6.17680277e-01  3.35394696e-16]\n",
      " [ 5.34522484e-01  5.35047449e-01 -8.94427191e-01]\n",
      " [ 2.67261242e-01  5.76363863e-01 -4.47213595e-01]]\n",
      "特征值： [ 3.00000000e+00 -6.00567308e-17  3.57375398e-16]\n",
      "特征值构成的对角矩阵： [[ 3.00000000e+00  0.00000000e+00  0.00000000e+00]\n",
      " [ 0.00000000e+00 -6.00567308e-17  0.00000000e+00]\n",
      " [ 0.00000000e+00  0.00000000e+00  3.57375398e-16]]\n",
      "矩阵的秩为： 1\n"
     ]
    }
   ],
   "source": [
    "import numpy as np \n",
    "B=np.array([3,-3,6,2,-2,4,1,-1,2])\n",
    "B=B.reshape(3,3)\n",
    "print(B)\n",
    "L,Q=np.linalg.eig(B)\n",
    "print(\"特征向量：\",Q)\n",
    "print(\"特征值：\",L)\n",
    "LV=np.diag(L)\n",
    "print(\"特征值构成的对角矩阵：\",LV)\n",
    "rank_b=np.linalg.matrix_rank(B)\n",
    "print(\"矩阵的秩为：\",rank_b)"
   ]
  },
  {
   "cell_type": "markdown",
   "metadata": {},
   "source": [
    "$$\\Lambda=\\begin{bmatrix}3 & 0& 0\\\\0 & -6\\times10^{-17} & 0\\\\0 & 0 & 3.6\\times10^{-16}\\end{bmatrix}$$\n",
    "\n",
    "Note that matrix has only 1 non-zero eigenvalue. The other two eigenvalues are so extremely small as to be effectively zero. This is an example of a rank-deficient matrix; and as such, it has no inverse."
   ]
  },
  {
   "cell_type": "markdown",
   "metadata": {},
   "source": [
    "## Inverse of a Square Full Rank Matrix\n",
    "You can calculate the inverse of a square full rank matrix by using the following formula:\n",
    "\n",
    "$$A^{-1} = Q \\Lambda^{-1} Q^{-1}$$\n",
    "\n",
    "Let's apply this to matrix ***A***:\n",
    "\n",
    "$$A=\\begin{bmatrix}1 & 2\\\\4 & 3\\end{bmatrix}$$\n",
    "\n",
    "Let's find the matrices for ***Q***, ***&Lambda;<sup>-1</sup>***, and ***Q<sup>-1</sup>***:"
   ]
  },
  {
   "cell_type": "code",
   "execution_count": 70,
   "metadata": {},
   "outputs": [
    {
     "name": "stdout",
     "output_type": "stream",
     "text": [
      "A的逆矩阵： [[-0.6  0.4]\n",
      " [ 0.8 -0.2]]\n",
      "[[-0.6  0.4]\n",
      " [ 0.8 -0.2]]\n"
     ]
    }
   ],
   "source": [
    "A=np.array([[1,2],[4,3]])\n",
    "neg_A=np.linalg.inv(A)\n",
    "print(\"A的逆矩阵：\",neg_A)\n",
    "l,Q=np.linalg.eig(A)\n",
    "L=np.diag(l)\n",
    "neg_L=np.linalg.inv(L)\n",
    "neg_Q=np.linalg.inv(Q)\n",
    "neg_A2=Q@neg_L@neg_Q\n",
    "\n"
   ]
  },
  {
   "cell_type": "markdown",
   "metadata": {},
   "source": [
    "特征值分解的实质是求解给定矩阵的特征值和特征向量，提取矩阵最重要的特征。\n",
    "\n",
    "---\n",
    "特征值表示对应的特征向量的重要程度，特征值越大，代表包含的信息量越多；特征值越小，说明其信息量越小。借助该性质，可以实现矩阵压缩，即在特征值分解后，保留比较大\n",
    "\n",
    "的特征值以及对应特征向量，舍弃比较小的特侦值以及其对应的特征向量，以此达到压缩矩阵的目的。\n",
    "\n",
    "虽然数据量减小，但有用的信息量变化不大，PCA降维就是基于该思路。\n"
   ]
  },
  {
   "cell_type": "markdown",
   "metadata": {},
   "source": []
  }
 ],
 "metadata": {
  "kernelspec": {
   "display_name": "Python 3.10.4 64-bit",
   "language": "python",
   "name": "python3"
  },
  "language_info": {
   "codemirror_mode": {
    "name": "ipython",
    "version": 3
   },
   "file_extension": ".py",
   "mimetype": "text/x-python",
   "name": "python",
   "nbconvert_exporter": "python",
   "pygments_lexer": "ipython3",
   "version": "3.10.4"
  },
  "orig_nbformat": 4,
  "vscode": {
   "interpreter": {
    "hash": "4f946df053fbf2b937619d3c5458e7af74262f9a954d8797ba0b27400bcafe06"
   }
  }
 },
 "nbformat": 4,
 "nbformat_minor": 2
}
