{
 "cells": [
  {
   "cell_type": "code",
   "execution_count": null,
   "id": "e8b9a2e8-1867-45c6-8e58-45648d99faf5",
   "metadata": {
    "scrolled": true
   },
   "outputs": [],
   "source": [
    "# 基于python实现的线性代数"
   ]
  },
  {
   "cell_type": "markdown",
   "id": "b68e2815-cb40-428b-a1a1-70bd7580cd9c",
   "metadata": {},
   "source": [
    "# 基本概念\n",
    " \n",
    "## 向量 Vector\n",
    "Vectors, and vector spaces, are fundamental to *linear algebra*, and they're used in many machine learning models. Vectors describe spatial lines and planes, enabling you to perform calculations that explore relationships in multi-dimensional space.\n",
    "\n",
    "实际上，我们在高中就学过向量的概念，例如重力，浮力都可以表现为有大小有方向的向量。\n",
    "\n",
    "**在数学中我们把既有大小又有方向的量称为向量（vector)，而把只有大小没有方向的量成为数量。对应在物理中，向量称为矢量，数量称为标量。**\n",
    "\n",
    "---\n",
    "At its simplest, a vector is a numeric element that has both *magnitude* and *direction*. The magnitude represents a distance (for example, \"2 miles\") and the direction indicates which way the vector is headed (for example, \"East\"). **Vectors are defined by an n-dimensional coordinate that describe a point in space that can be connected by a line from an arbitrary origin.**\n",
    "\n",
    "That all seems a bit complicated, so let's start with a simple, two-dimensional example. In this case, we'll have a vector that is defined by a point in a two-dimensional plane: A two dimensional coordinate consists of an *x* and a *y* value, and in this case we'll use **2** for *x* and **1** for *y*.\n",
    "\n",
    "Our vector can be written as **v**=(2,1), but more formally we would use the following notation, in which the dimensional coordinate values for the vector are shown as a matrix:\n",
    "\\begin{equation}\\vec{v} = \\begin{bmatrix}2 \\\\ 1 \\end{bmatrix}\\end{equation}\n",
    "\n",
    "So what exactly does that mean? Well, the coordinate is two-dimensional, and describes the movements required to get to the end point (of *head*) of the vector - in this case, we need to move 2 units in the *x* dimension, and 1 unit in the *y* dimension. Note that we don't specify a starting point for the vector - we're simply describing a destination coordinate that encapsulate the magnitide and direction of the vector. Think about it as the directions you need to follow to get to *there* from *here*, without specifying where *here* actually is!\n",
    "\n",
    "It can help to visualize the vector, and with a two-dimensional vector, that's pretty straightforward. We just define a two-dimensional plane, choose a starting point, and plot the coordinate described by the vector relative to the starting point.\n",
    "\n",
    "Run the code in the following cell to visualize the vector **v** (which remember is described by the coordinate (2,1))."
   ]
  },
  {
   "cell_type": "code",
   "execution_count": 1,
   "id": "d60fd504-4ddf-4f9c-9600-1b3f138c48bb",
   "metadata": {
    "execution": {
     "iopub.execute_input": "2022-04-01T02:53:58.749528Z",
     "iopub.status.busy": "2022-04-01T02:53:58.749002Z",
     "iopub.status.idle": "2022-04-01T02:53:59.105031Z",
     "shell.execute_reply": "2022-04-01T02:53:59.104195Z",
     "shell.execute_reply.started": "2022-04-01T02:53:58.749492Z"
    },
    "scrolled": true,
    "tags": []
   },
   "outputs": [
    {
     "data": {
      "image/png": "[encoded data removed]",
      "text/plain": [
       "<Figure size 432x288 with 1 Axes>"
      ]
     },
     "metadata": {},
     "output_type": "display_data"
    }
   ],
   "source": [
    "## 线性代数-向量\n",
    " \n",
    "import numpy as np\n",
    "import matplotlib.pyplot as plt\n",
    "\n",
    "# 我们使用numpy中的数组来表示向量\n",
    "v = np.array([2,1])\n",
    "\n",
    "# 绘制图像，展现向量的空间表达.\n",
    " \n",
    "fig,axes=plt.subplots()\n",
    "axes.set_xlim(0,3)\n",
    "axes.set_ylim(0,3)\n",
    "axes.grid()\n",
    "axes.arrow(0,0,v[0],v[1],head_length=0.1,head_width=0.1,color='blue')\n",
    "plt.show()"
   ]
  },
  {
   "cell_type": "markdown",
   "id": "f1f626ce-5abe-4a22-bc31-020dc3580902",
   "metadata": {},
   "source": [
    "## Calculating Vector Magnitude and Direction\n",
    "We tend to work with vectors by expressing their components as *cartesian coordinates*; that is, *x* and *y* (and other dimension) values that define the number of units travelled along each dimension. So the coordinates of our (2,1) vector indicate that we must travel 2 units along the *x* axis, and *1* unit along the *y* axis.\n",
    "\n",
    "However, you can also work with verctors in terms of their *polar coordinates*; that is coordinates that describe the magnitude and direction of the vector. The magnitude is the overall distance of the vector from tail to head, and the direction is the angle at which the vector is oriented.\n",
    "\n",
    "### Calculating Magnitude\n"
   ]
  },
  {
   "cell_type": "markdown",
   "id": "aa2fb157",
   "metadata": {},
   "source": [
    "Calculating the magnitude of the vector from its cartesian coordinates requires measuring the distance between the arbitrary starting point and the vector head point. For a two-dimensional vector, we're actually just calculating the length of the hypotenuse in a right-angled triangle - so we could simply invoke Pythagorean theorum and calculate the square root of the sum of the squares of it's components, like this:\n",
    "$$\n",
    "\\begin{equation}\\|\\vec{v}\\| = \\sqrt{v_{1}\\;^{2} + v_{2}\\;^{2}}\\end{equation}\n",
    "$$\n",
    "\n",
    "The notation for a vector's magnitude is to surround the vector name with vertical bars - you can use single bars (for example, |**v**|) or double bars (||**v**||). Double-bars are often used to avoid confusion with absolute values. Note that the components of the vector are indicated by subscript indices (v<sub>1</sub>, v<sub>2</sub>,...v<sub>*n*</sub>),\n",
    "\n",
    "In this case, the vector **v** has two components with values **2** and **1**, so our magnitude calculation is:\n",
    "$$\n",
    "\\begin{equation}\\|\\vec{v}\\| = \\sqrt{2^{2} + 1^{2}}\\end{equation}\n",
    "$$\n",
    "Which is:\n",
    "$$\n",
    "\\begin{equation}\\|\\vec{v}\\| = \\sqrt{4 + 1}\\end{equation}\n",
    "$$\n",
    "So:\n",
    "$$\n",
    "\\begin{equation}\\|\\vec{v}\\| = \\sqrt{5} \\approx 2.24\\end{equation}\n",
    "$$\n",
    "You can run the following Python code to get a more precise result (note that the elements of a numpy array are zero-based)"
   ]
  },
  {
   "cell_type": "code",
   "execution_count": 2,
   "id": "3a2d61aa-f039-4cd7-b9f1-583bba3dd0d2",
   "metadata": {
    "scrolled": true
   },
   "outputs": [
    {
     "name": "stdout",
     "output_type": "stream",
     "text": [
      "向量大小为： 2.23606797749979\n"
     ]
    }
   ],
   "source": [
    "## 线性代数-向量\n",
    "# 向量大小计算\n",
    "import numpy as np\n",
    "import matplotlib.pyplot as plt\n",
    "\n",
    "# 我们使用numpy中的数组来表示向量\n",
    "v = np.array([2,1])\n",
    "\n",
    "magnitude=np.sqrt(np.square(v[0])+np.square(v[1]))\n",
    "print(\"向量大小为：\",magnitude)\n"
   ]
  },
  {
   "cell_type": "markdown",
   "id": "de3b90ab-b038-4e70-a37e-517f32586f3b",
   "metadata": {},
   "source": [
    "This calculation works for vectors of any dimensionality - you just take the square root of the sum of the squared components:\n",
    "$$\n",
    "\\begin{equation}\\|\\vec{v}\\| = \\sqrt{v_{1}\\;^{2} + v_{2}\\;^{2} ... + v_{n}\\;^{2}}\\end{equation}\n",
    "$$\n",
    "In Python, *numpy* provides a linear algebra library named **linalg** that makes it easier to work with vectors - you can use the **norm** function in the following code to calculate the magnitude of a vector:"
   ]
  },
  {
   "cell_type": "code",
   "execution_count": 3,
   "id": "68648dd4-a9e4-4726-80b1-ef0bd22832b8",
   "metadata": {
    "scrolled": true
   },
   "outputs": [
    {
     "name": "stdout",
     "output_type": "stream",
     "text": [
      "2.23606797749979\n"
     ]
    }
   ],
   "source": [
    "# 可以使用numpy内置方法求得范数\n",
    "import numpy as np\n",
    "\n",
    "vMag = np.linalg.norm(v)\n",
    "print (vMag)"
   ]
  },
  {
   "cell_type": "markdown",
   "id": "bd459a98-2e98-4f2f-8ee4-3fc7174f154f",
   "metadata": {},
   "source": [
    "### Calculating Direction 计算方向\n",
    "To calculate the direction, or *amplitude*, of a vector from its cartesian coordinates, you must employ a little trigonometry. We can get the angle of the vector by calculating the *inverse tangent*; sometimes known as the *arctan* (the *tangent*  calculates an angle as a ratio - the inverse tangent, or **tan<sup>-1</sup>**, expresses this in degrees).\n",
    "\n",
    "In any right-angled triangle, the tangent is calculated as the *opposite* over the *adjacent*. In a two dimensional vector, this is the *y* value over the *x* value, so for our **v** vector (2,1):\n",
    "$$\n",
    "\\begin{equation}tan(\\theta) = \\frac{1}{2}\\end{equation}\n",
    "$$\n",
    "This produces the result ***0.5***, from which we can use a calculator to calculate the inverse tangent to get the angle in degrees:\n",
    "$$\n",
    "\\begin{equation}\\theta = tan^{-1} (0.5) \\approx 26.57^{o}\\end{equation}\n",
    "$$\n",
    "Note that the direction angle is indicated as ***&theta;***.\n",
    "\n",
    "Run the following Python code to confirm this:"
   ]
  },
  {
   "cell_type": "code",
   "execution_count": 4,
   "id": "32c05773-8abd-4bf7-ae0c-3e4000d8c78b",
   "metadata": {
    "execution": {
     "iopub.execute_input": "2022-03-18T06:44:49.263218Z",
     "iopub.status.busy": "2022-03-18T06:44:49.262668Z",
     "iopub.status.idle": "2022-03-18T06:44:49.268833Z",
     "shell.execute_reply": "2022-03-18T06:44:49.268212Z",
     "shell.execute_reply.started": "2022-03-18T06:44:49.263171Z"
    },
    "scrolled": true
   },
   "outputs": [
    {
     "name": "stdout",
     "output_type": "stream",
     "text": [
      "向量对应tan值为： 0.5\n",
      "对应弧度为： 0.4636476090008061\n",
      "对应角度为： 26.56505117707799\n"
     ]
    }
   ],
   "source": [
    "import numpy as np \n",
    "tan=v[1]/v[0]\n",
    "print(\"向量对应tan值为：\",tan)\n",
    "arc=np.arctan(tan)\n",
    "print(\"对应弧度为：\",arc)\n",
    "print(\"对应角度为：\",np.degrees(arc))"
   ]
  },
  {
   "cell_type": "markdown",
   "id": "0f4a7a35-2f84-494a-b8b4-aa8013eeae41",
   "metadata": {},
   "source": [
    "here is an added complication however, because if the value for *x* or *y* (or both) is negative, the orientation of the vector is not standard, and a calculator can give you the wrong tan<sup>-1</sup> value. To ensure you get the correct direction for your vector, use the following rules:\n",
    "- Both *x* and *y* are positive: Use the tan<sup>-1</sup> value.\n",
    "- *x* is negative, *y* is positive: Add 180 to the tan<sup>-1</sup> value.\n",
    "- Both *x* and *y* are negative: Add 180 to the tan<sup>-1</sup> value.\n",
    "- *x* is positive, *y* is negative: Add 360 to the tan<sup>-1</sup> value.\n",
    "\n",
    "To understand why we need to do this, think of it this way. A vector can be pointing in any direction through a 360 degree arc.  Let's break that circle into four quadrants with the x and y axis through the center. Angles can be measured from the x axis in both the positive (counter-clockwise) and negative (clockwise) directions. We'll number the quadrants in the positive (counter-clockwise) direction (which is how we measure the *positive* angle) like this:\n",
    "\n",
    "    \n",
    "\n",
    "    2 | 1\n",
    "    - o -\n",
    "    3 | 4\n",
    "\n",
    "\n",
    "OK, let's look at 4 example vectors\n",
    "\n",
    " 1. Vector [2,4] has positive values for both x and y. The line for this vector travels through the point 0,0 from quadrant 3 to quadrant 1. Tan<sup>-1</sup> of 4/2 is around 63.4 degrees, which is the positive angle from the x axis to the vector line - so this is the direction of the vector.\n",
    " 2. Vector [-2,4] has a negative x and positive y. The line for this vector travels through point 0,0 from quadrant 4 to quadrant 2. Tan<sup>-1</sup> of 4/-2 is around -64.4 degrees, which is the *negative* angle from x to the vector line; but in the wrong direction (as if the vector was travelling from quadrant 2 towards quadrant 4). So we need the opposite direction, which we get by adding 180.\n",
    " 3. Vector [-2,-4] has negative x and y. The line for the vector travels through 0,0 from quadrant 1 to quadrant 3. Tan<sup>-1</sup> of -4/-2 is around 63.4 degrees, which is the angle between the x axis and the line, but again in the opposite direction, from quadrant 3 to quadrant 1; we need to go a further 180 degrees to reflect the correct direction.\n",
    " 4. Vector [2,-4] has positive x and negative y. It travels through 0,0 from quadrant 2 to quadrant 4. Tan<sup>-1</sup> of -4/2 is around -64.4 degrees, which is the *negative* angle from the x axis to the vector line. Technically it's correct, the line is travelleing down and to the right at an angle of -63.4 degrees; but we want to express the *positive* (counter-clockwise) angle, so we add 360.\n",
    "\n",
    "\n",
    "In the previous Python code, we used the *math.**atan*** function to calculate the inverse tangent from a numeric tangent. The *numpy* library includes a similar ***arctan*** function. When working with numpy arrays, you can also use the *numpy.**arctan2*** function to return the inverse tangent of an array-based vector in *radians*, and you can use the *numpy.**degrees*** function to convert this to degrees. The ***arctan2*** function automatically makes the necessary adjustment for negative *x* and *y* values."
   ]
  },
  {
   "cell_type": "markdown",
   "id": "605403da-2060-493c-b6b9-c8fce06174c6",
   "metadata": {},
   "source": [
    "## Vector Addition 向量的加法\n",
    "So far, we've worked with one vector at a time. What happens when you need to add two vectors.\n",
    "\n",
    "Let's take a look at an example, we already have a vector named **v**, as defined here:\n",
    "$$\n",
    "\\begin{equation}\\vec{v} = \\begin{bmatrix}2 \\\\ 1 \\end{bmatrix}\\end{equation}\n",
    "$$\n",
    "Now let's create a second vector, and called **s** like this:\n",
    "$$\n",
    "\\begin{equation}\\vec{s} = \\begin{bmatrix}-3 \\\\ 2 \\end{bmatrix}\\end{equation}\n",
    "$$\n",
    "Run the cell below to create **s** and plot it together with **v**:"
   ]
  },
  {
   "cell_type": "code",
   "execution_count": 23,
   "id": "9fd08270-5506-4791-b8dc-16ddde985022",
   "metadata": {
    "execution": {
     "iopub.execute_input": "2022-03-18T06:49:45.073581Z",
     "iopub.status.busy": "2022-03-18T06:49:45.073150Z",
     "iopub.status.idle": "2022-03-18T06:49:45.405843Z",
     "shell.execute_reply": "2022-03-18T06:49:45.405206Z",
     "shell.execute_reply.started": "2022-03-18T06:49:45.073548Z"
    },
    "scrolled": true
   },
   "outputs": [
    {
     "data": {
      "image/png": "[encoded data removed]",
      "text/plain": [
       "<Figure size 864x864 with 1 Axes>"
      ]
     },
     "metadata": {
      "needs_background": "light"
     },
     "output_type": "display_data"
    }
   ],
   "source": [
    "import matplotlib.pyplot as plt \n",
    "import numpy as np \n",
    "%matplotlib inline\n",
    "fig,axes=plt.subplots()\n",
    "fig.set_size_inches(12,12)\n",
    "v=np.array([2,1])\n",
    "s=np.array([-3,2])\n",
    "axes.set_xlim(-4,4)\n",
    "axes.set_ylim(-4,4)\n",
    "axes.arrow(0,0,v[0],v[1],head_length=0.1,head_width=0.1,color='blue')\n",
    "axes.arrow(0,0,s[0],s[1],head_length=0.1,head_width=0.1,color='red')\n",
    "axes.grid()\n"
   ]
  },
  {
   "cell_type": "markdown",
   "id": "c1f8551f-0d84-4c95-988e-a76ea23789c1",
   "metadata": {},
   "source": [
    "You can see in the plot that the two vectors have different directions and magnitudes. So what happens when we add them together?\n",
    "\n",
    "Here's the formula:\n",
    "\\begin{equation}\\vec{z} = \\vec{v}+\\vec{s}\\end{equation}\n",
    "\n",
    "In terms of our vector matrices, this looks like this:\n",
    "\\begin{equation}\\vec{z} = \\begin{bmatrix}2 \\\\ 1 \\end{bmatrix} + \\begin{bmatrix}-3 \\\\ 2 \\end{bmatrix}\\end{equation}\n",
    "\n",
    "Which gives the following result:\n",
    "\\begin{equation}\\vec{z} = \\begin{bmatrix}2 \\\\ 1 \\end{bmatrix} + \\begin{bmatrix}-3 \\\\ 2 \\end{bmatrix} = \\begin{bmatrix}-1 \\\\ 3 \\end{bmatrix}\\end{equation}\n",
    "\n",
    "Let's verify that Python gives the same result:"
   ]
  },
  {
   "cell_type": "code",
   "execution_count": 7,
   "id": "24e4f696-9646-4b15-9be5-b83a5ed0a2b8",
   "metadata": {
    "execution": {
     "iopub.execute_input": "2022-03-18T06:52:31.941113Z",
     "iopub.status.busy": "2022-03-18T06:52:31.940360Z",
     "iopub.status.idle": "2022-03-18T06:52:31.945042Z",
     "shell.execute_reply": "2022-03-18T06:52:31.944455Z",
     "shell.execute_reply.started": "2022-03-18T06:52:31.941078Z"
    },
    "scrolled": true
   },
   "outputs": [
    {
     "name": "stdout",
     "output_type": "stream",
     "text": [
      "向量相加结果： [-1  3]\n"
     ]
    }
   ],
   "source": [
    "z=v+s\n",
    "print(\"向量相加结果：\",z)"
   ]
  },
  {
   "cell_type": "code",
   "execution_count": 24,
   "id": "be8d34ad-f552-4df9-9e48-2b858e6b460e",
   "metadata": {
    "execution": {
     "iopub.execute_input": "2022-03-18T06:57:29.719721Z",
     "iopub.status.busy": "2022-03-18T06:57:29.718901Z",
     "iopub.status.idle": "2022-03-18T06:57:29.958078Z",
     "shell.execute_reply": "2022-03-18T06:57:29.957463Z",
     "shell.execute_reply.started": "2022-03-18T06:57:29.719682Z"
    },
    "scrolled": true
   },
   "outputs": [
    {
     "data": {
      "image/png": "[encoded data removed]",
      "text/plain": [
       "<Figure size 504x504 with 1 Axes>"
      ]
     },
     "metadata": {
      "needs_background": "light"
     },
     "output_type": "display_data"
    }
   ],
   "source": [
    "import matplotlib.pyplot as plt \n",
    "import numpy as np \n",
    "fig,axes=plt.subplots()\n",
    "fig.set_size_inches(7,7)\n",
    "v=np.array([2,1])\n",
    "s=np.array([-3,2])\n",
    "axes.set_xlim(-4,4)\n",
    "axes.set_ylim(-4,4)\n",
    "axes.arrow(0,0,v[0],v[1],head_length=0.1,head_width=0.1,color='blue')\n",
    "axes.arrow(0,0,s[0],s[1],head_length=0.1,head_width=0.1,color='red')\n",
    "axes.grid()\n",
    "axes.arrow(0,0,z[0],z[1],head_length=0.1,head_width=0.1,color='green')\n",
    "axes.plot([v[0],z[0]],[v[1],z[1]],'--')\n",
    "axes.plot([s[0],z[0]],[s[1],z[1]],'--')\n",
    "plt.show()"
   ]
  },
  {
   "cell_type": "code",
   "execution_count": 25,
   "id": "94b6d7fd-e405-4fce-ad87-f317b74923a8",
   "metadata": {
    "execution": {
     "iopub.execute_input": "2022-03-18T06:58:51.801945Z",
     "iopub.status.busy": "2022-03-18T06:58:51.801514Z",
     "iopub.status.idle": "2022-03-18T06:58:52.022522Z",
     "shell.execute_reply": "2022-03-18T06:58:52.021689Z",
     "shell.execute_reply.started": "2022-03-18T06:58:51.801911Z"
    },
    "scrolled": true
   },
   "outputs": [
    {
     "name": "stdout",
     "output_type": "stream",
     "text": [
      "向量相减结果： [ 5 -1]\n"
     ]
    },
    {
     "data": {
      "image/png": "[encoded data removed]",
      "text/plain": [
       "<Figure size 504x504 with 1 Axes>"
      ]
     },
     "metadata": {
      "needs_background": "light"
     },
     "output_type": "display_data"
    }
   ],
   "source": [
    "import matplotlib.pyplot as plt \n",
    "import numpy as np \n",
    "z=v-s\n",
    "print(\"向量相减结果：\",z)\n",
    "fig,axes=plt.subplots()\n",
    "fig.set_size_inches(7,7)\n",
    "v=np.array([2,1])\n",
    "s=np.array([-3,2])\n",
    "axes.set_xlim(-6,6)\n",
    "axes.set_ylim(-6,6)\n",
    "axes.arrow(0,0,v[0],v[1],head_length=0.1,head_width=0.1,color='blue')\n",
    "axes.arrow(0,0,s[0],s[1],head_length=0.1,head_width=0.1,color='red')\n",
    "axes.grid()\n",
    "axes.arrow(0,0,z[0],z[1],head_length=0.1,head_width=0.1,color='green')\n",
    "axes.plot([v[0],z[0]],[v[1],z[1]],'--')\n",
    "axes.plot([s[0],z[0]],[s[1],z[1]],'--')\n",
    "plt.show()"
   ]
  },
  {
   "cell_type": "markdown",
   "id": "8d42bf74-338f-4a8f-a18c-4cbd34c58d55",
   "metadata": {},
   "source": [
    "So what's going on here?\n",
    "Well, we added the dimensions of **s** to the dimensions of **v** to describe a new vector **z**. Let's break that down:\n",
    "- The dimensions of **v** are (2,1), so from our starting point we move 2 units in the *x* dimension (across to the right) and 1 unit in the *y* dimension (up). In the plot, if you start at the (0,0) position, this is shown as the red arrow.\n",
    "- Then we're adding **s**, which has dimension values (-3, 2), so we move -3 units in the *x* dimension (across to the left, because it's a negative number) and then 2 units in the *y* dimension (up). On the plot, if you start at the head of the red arrow and make these moves, you'll end up at the head of the green arrow, which represents **z**.\n",
    "\n",
    "The same is true if you perform the addition operation the other way around and add **v** to **s**, the steps to create **s** are described by the blue arrow, and if you use that as the starting point for **v**, you'll end up at the head of the green arrow, which represents **z**.\n",
    "\n",
    "Note on the plot that if you simply moved the tail of the blue arrow so that it started at the head of red arrow, its head would end up in the same place as the head of the green arrow; and the same would be true if you moved tail of the red arrow to the head of the blue arrow."
   ]
  },
  {
   "cell_type": "markdown",
   "id": "ab0c579c-5642-402b-b8e7-adb0ae6db3c8",
   "metadata": {},
   "source": [
    "## Vector Multiplication 向量乘法\n",
    "Vector multiplication can be performed in three ways:\n",
    "\n",
    "- Scalar Multiplication\n",
    "- Dot Product Multiplication\n",
    "- Cross Product Multiplication\n",
    "\n",
    "## Scalar Multiplication 标量相乘\n",
    "Let's start with *scalar* multiplication - in other words, multiplying a vector by a single numeric value.\n",
    "\n",
    "Suppose I want to multiply my vector by 2, which I could write like this:\n",
    "$$\n",
    "\\begin{equation} \\vec{w} = 2\\vec{v}\\end{equation}\n",
    "$$\n",
    "Note that the result of this calculation is a new vector named **w**. So how would we calculate this?\n",
    "Recall that **v** is defined like this:\n",
    "$$\n",
    "\\begin{equation}\\vec{v} = \\begin{bmatrix}2 \\\\ 1 \\end{bmatrix}\\end{equation}\n",
    "$$\n",
    "To calculate 2v, we simply need to apply the operation to each dimension value in the vector matrix, like this:\n",
    "$$\n",
    "\\begin{equation}\\vec{w} = \\begin{bmatrix}2 \\cdot 2 \\\\  2 \\cdot 1 \\end{bmatrix}\\end{equation}\n",
    "$$\n",
    "Which gives us the following result:\n",
    "$$\n",
    "\\begin{equation}\\vec{w} = \\begin{bmatrix}2 \\cdot 2 \\\\  2 \\cdot 1 \\end{bmatrix} = \\begin{bmatrix}4 \\\\ 2 \\end{bmatrix}\\end{equation}\n",
    "$$\n",
    "In Python, you can apply these sort of matrix operations directly to numpy arrays, so we can simply calculate **w** like this:"
   ]
  },
  {
   "cell_type": "code",
   "execution_count": 26,
   "id": "5d1d0f57-5be6-4ae1-954e-27ae0bf71e38",
   "metadata": {
    "execution": {
     "iopub.execute_input": "2022-03-18T07:29:51.564772Z",
     "iopub.status.busy": "2022-03-18T07:29:51.564013Z",
     "iopub.status.idle": "2022-03-18T07:29:51.756883Z",
     "shell.execute_reply": "2022-03-18T07:29:51.756041Z",
     "shell.execute_reply.started": "2022-03-18T07:29:51.564738Z"
    },
    "scrolled": true
   },
   "outputs": [
    {
     "data": {
      "image/png": "[encoded data removed]",
      "text/plain": [
       "<Figure size 504x504 with 1 Axes>"
      ]
     },
     "metadata": {
      "needs_background": "light"
     },
     "output_type": "display_data"
    }
   ],
   "source": [
    "import numpy as np \n",
    "import matplotlib.pyplot as plt \n",
    "w=2*v\n",
    "fig,axes=plt.subplots()\n",
    "fig.set_size_inches(7,7)\n",
    "v=np.array([2,1])\n",
    " \n",
    "axes.set_xlim(-5,5)\n",
    "axes.set_ylim(-5,5)\n",
    "axes.arrow(0,0,v[0],v[1],head_length=0.1,head_width=0.1,color='blue')\n",
    "axes.arrow(0,0,w[0],w[1],head_length=0.1,head_width=0.1,color='red')\n",
    "axes.grid()\n",
    " \n",
    "plt.show()"
   ]
  },
  {
   "cell_type": "markdown",
   "id": "2dc00234-d64a-49f4-8253-574977194e6a",
   "metadata": {},
   "source": [
    "The same approach is taken for scalar division.\n",
    "\n",
    "Try it for yourself - use the cell below to calculate a new vector named **b** based on the following definition:\n",
    "\n",
    "\\begin{equation}\\vec{b} = \\frac{\\vec{v}}{2}\\end{equation}"
   ]
  },
  {
   "cell_type": "markdown",
   "id": "940875bb-3ae1-466e-8c05-99af3b3eea04",
   "metadata": {},
   "source": [
    "## Dot Product Multiplication 点积（内积）\n",
    "向量（注意不是矩阵）的内积可以理解为一个与平面有 $ \\theta$ 夹角的力$ v $，与平面上的力$ u $ 的合力\n",
    "\n",
    "So we've seen how to multiply a vector by a scalar. How about multiplying two vectors together? There are actually two ways to do this depending** on whether you want the result to be a *scalar product* (in other words, a number) or a *vector product* (a vector).\n",
    "> 使用内积，得到的是一个标量，其几何意义为 $ u \\cdot v=|u||v|cos\\theta $ 表示向量u在向量v方向上的投影长度乘向量v的模长。 如果v是单位向量，内积就可以直接描述为向量u在向量v方向上的投影长度\n",
    "\n",
    "To get a scalar product, we calculate the *dot product*. This takes a similar approach to multiplying a vector by a scalar, except that it multiplies each component pair of the vectors and sums the results. To indicate that we are performing a dot product operation, we use the &bull; operator:\n",
    "$$\n",
    "\\begin{equation} \\vec{v} \\cdot \\vec{s} = (v_{1} \\cdot s_{1}) + (v_{2} \\cdot s_{2}) ... + \\; (v_{n} \\cdot s_{n})\\end{equation}\n",
    "$$\n",
    "So for our vectors **v** (2,1) and **s** (-3,2), our calculation looks like this:\n",
    "$$\n",
    "\\begin{equation} \\vec{v} \\cdot \\vec{s} = (2 \\cdot -3) + (1 \\cdot 2) = -6 + 2 = -4\\end{equation}\n",
    "$$\n",
    "So the dot product, or scalar product, of **v** &bull; **s** is **-4**.\n",
    "\n",
    "In Python, you can use the *numpy.**dot*** function to calculate the dot product of two vector arrays:\n",
    ">很重要的一点是：向量A与向量B的点积 并不等于 向量B与向量A的点积，我们用A·B表示两个向量的点积运算，则A·B!=B·A\n",
    "\n",
    ">假如要计算 A·B，那么，A(点击号前面的向量)中x方向元素的数量应该于B(点积号后面的向量)中y方向的数量相同"
   ]
  },
  {
   "cell_type": "code",
   "execution_count": 27,
   "id": "b38c3bc8-9656-42a0-b68d-0839fcc1fcfd",
   "metadata": {
    "execution": {
     "iopub.execute_input": "2022-03-19T08:14:33.920173Z",
     "iopub.status.busy": "2022-03-19T08:14:33.919743Z",
     "iopub.status.idle": "2022-03-19T08:14:33.927347Z",
     "shell.execute_reply": "2022-03-19T08:14:33.926711Z",
     "shell.execute_reply.started": "2022-03-19T08:14:33.920142Z"
    },
    "scrolled": true
   },
   "outputs": [
    {
     "name": "stdout",
     "output_type": "stream",
     "text": [
      "18\n",
      "18\n",
      "多维度向量内积结果 [[18 16]\n",
      " [12 20]]\n"
     ]
    }
   ],
   "source": [
    "import numpy as np \n",
    "import matplotlib.pyplot as plt  \n",
    "v=np.array([2,3,3])\n",
    "u=np.array([3,5,-1])\n",
    "s=np.dot(u,v)\n",
    "s1=np.dot(v,u)\n",
    "print(s)\n",
    "print(s1)\n",
    "# 内积也可以用@ 代替,以下为矩阵的内积\n",
    "v2=np.array([2,3,3,3,2,1]).reshape(2,3)\n",
    "u2=np.array([3,5,-1,3,5,-1]).reshape(3,2)\n",
    "print(\"多维度向量内积结果\", v2@u2)"
   ]
  },
  {
   "cell_type": "markdown",
   "id": "34088a65-1f76-464c-8e85-c368bf52baa9",
   "metadata": {},
   "source": [
    "### The Cosine Rule\n",
    "An useful property of vector dot product multiplication is that we can use it to calculate the cosine of the angle between two vectors. We could write the dot products as:\n",
    "\n",
    "$$ \\vec{v} \\cdot \\vec{s} = \\|\\vec{v} \\|\\|\\vec{s}\\| \\cos (\\theta) $$ \n",
    "\n",
    "Which we can rearrange as:\n",
    "\n",
    "$$ \\cos(\\theta) = \\frac{\\vec{v} \\cdot \\vec{s}}{\\|\\vec{v} \\|\\|\\vec{s}\\|} $$\n",
    "\n",
    "So for our vectors **v** (2,1) and **s** (-3,2), our calculation looks like this:\n",
    "\n",
    "$$ \\cos(\\theta) = \\frac{(2 \\cdot-3) + (-3 \\cdot 2)}{\\sqrt{2^{2} + 1^{2}} \\times \\sqrt{-3^{2} + 2^{2}}} $$\n",
    "\n",
    "So:\n",
    "\n",
    "$$\\cos(\\theta) = \\frac{-4}{8.0622577483}$$\n",
    "\n",
    "Which calculates to:\n",
    "\n",
    "$$\\cos(\\theta) = -0.496138938357 $$\n",
    "\n",
    "So:\n",
    "\n",
    "$$\\theta \\approx 119.74 $$\n",
    "\n",
    "---\n",
    "\n",
    "### 向量的正交\n",
    "结合内积定义，如果向量$v \\times u=0$即两向量点积为0，那么他们在空间上是正交关系,$cos(90)=0$\n",
    "\n",
    "Here's that calculation in Python:"
   ]
  },
  {
   "cell_type": "code",
   "execution_count": 28,
   "id": "33cc47e3-d9f9-454e-bdeb-f9e62ebce70f",
   "metadata": {
    "execution": {
     "iopub.execute_input": "2022-03-19T08:24:49.392262Z",
     "iopub.status.busy": "2022-03-19T08:24:49.391779Z",
     "iopub.status.idle": "2022-03-19T08:24:49.399146Z",
     "shell.execute_reply": "2022-03-19T08:24:49.398614Z",
     "shell.execute_reply.started": "2022-03-19T08:24:49.392218Z"
    },
    "scrolled": true
   },
   "outputs": [
    {
     "name": "stdout",
     "output_type": "stream",
     "text": [
      "2.23606797749979 3.605551275463989\n",
      "2.0899424410414196\n",
      "角度为 119.74488129694222\n"
     ]
    }
   ],
   "source": [
    "import numpy as np \n",
    "u=np.array([2,1])\n",
    "v=np.array([-3,2])\n",
    "# 计算u，v 向量的范数\n",
    "u_norm=np.linalg.norm(u)\n",
    "v_norm=np.linalg.norm(v)\n",
    "print(u_norm,v_norm)\n",
    "u_v_dot=np.dot(u,v)\n",
    "#u_v_dot=|v||u|cos()\n",
    "cos_t=u_v_dot/(u_norm*v_norm)\n",
    "theta=np.arccos(cos_t)\n",
    "print(theta)\n",
    "print(\"角度为\",np.degrees(theta))"
   ]
  },
  {
   "cell_type": "markdown",
   "id": "1d79fa8d-4051-4467-9abb-7d1dfdeb893f",
   "metadata": {},
   "source": [
    "## Cross Product Multiplication 向量的外积（叉积）\n",
    "向量的外积cross得到的\n",
    "To get the *vector product* of multipying two vectors together, you must calculate the *cross product*. The result of this is a new vector that is at right angles to both the other vectors in 3D Euclidean space. This means that the cross-product only really makes sense when working with vectors that contain three components.\n",
    "\n",
    "For example, let's suppose we have the following vectors:\n",
    "$$\n",
    "\\begin{equation}\\vec{p} = \\begin{bmatrix}2 \\\\ 3 \\\\ 1 \\end{bmatrix}\\;\\; \\vec{q} = \\begin{bmatrix}1 \\\\ 2 \\\\ -2 \\end{bmatrix}\\end{equation}\n",
    "$$\n",
    "To calculate the cross product of these vectors, written as **p** x **q**, we need to create a new vector (let's call it **r**) with three components (r<sub>1</sub>, r<sub>2</sub>, and r<sub>3</sub>). The values for these components are calculated like this:\n",
    "$$\n",
    "\\begin{equation}r_{1} = p_{2}q_{3} - p_{3}q_{2}\\end{equation}\n",
    "\\begin{equation}r_{2} = p_{3}q_{1} - p_{1}q_{3}\\end{equation}\n",
    "\\begin{equation}r_{3} = p_{1}q_{2} - p_{2}q_{1}\\end{equation}\n",
    "$$\n",
    "So in our case:\n",
    "$$\n",
    "\\begin{equation}\\vec{r} = \\vec{p} \\times \\vec{q} = \\begin{bmatrix}(3 \\cdot -2) - (1 \\cdot 2) \\\\ (1 \\cdot 1) - (2 \\cdot -2) \\\\ (2 \\cdot 2) - (3 \\cdot 1) \\end{bmatrix} = \\begin{bmatrix}-6 - 2 \\\\ 1 - -4 \\\\ 4 - 3 \\end{bmatrix} = \\begin{bmatrix}-8 \\\\ 5 \\\\ 1 \\end{bmatrix}\\end{equation}\n",
    "$$\n",
    "In Python, you can use the *numpy.**cross*** function to calculate the cross product of two vector arrays:\n",
    "\n",
    "---\n",
    "在二维平面中，向量$v$ 与向量 $u$ 的cross运算法则为：\n",
    "$$ u\\times v =\\begin{bmatrix} u_1 \\\\ u_2 \\end{bmatrix} \\times \\begin{bmatrix}v_1\\\\v_2 \\end{bmatrix}=u_1v_2-u_2v_1 $$\n",
    "\n",
    "在二维平面中，向量的cross表示两个相连章草的平行四边形的“面积”，当然如果如果两个向量的夹角大于180，那么相连外积运算得到的结果为负数。\n",
    "\n",
    "在三维空间中，cross的结果也是有明确的物理含义的，即表示$u$ 和$v$ 两个向量张成平面的法向量。"
   ]
  },
  {
   "cell_type": "code",
   "execution_count": 29,
   "id": "bf0c66ad-244b-4167-98ab-7a1f3038cbcd",
   "metadata": {
    "execution": {
     "iopub.execute_input": "2022-03-19T09:15:04.369767Z",
     "iopub.status.busy": "2022-03-19T09:15:04.369031Z",
     "iopub.status.idle": "2022-03-19T09:15:04.375692Z",
     "shell.execute_reply": "2022-03-19T09:15:04.374901Z",
     "shell.execute_reply.started": "2022-03-19T09:15:04.369735Z"
    },
    "scrolled": true
   },
   "outputs": [
    {
     "name": "stdout",
     "output_type": "stream",
     "text": [
      "7\n",
      "[ -1 -12   7]\n"
     ]
    }
   ],
   "source": [
    "import numpy as np \n",
    "u=np.array([2,1])\n",
    "v=np.array([-3,2])\n",
    "u_v_cross=np.cross(u,v)\n",
    "print(u_v_cross)\n",
    "# 三维向量的外积\n",
    "u2=np.array([2,1,2])\n",
    "v2=np.array([-3,2,3])\n",
    "print(np.cross(u2,v2))"
   ]
  },
  {
   "cell_type": "markdown",
   "id": "70caf819-7608-447c-83c8-92574a9c0557",
   "metadata": {},
   "source": [
    "## 线性相关\n",
    "当且仅当一组向量$ v_1,v_2,v_3...,v_n$ 中任一个向量可以表示为其他向量的线性组合时，称这组向量为线性相关的，否则是线性无关。\n",
    "\n",
    "应用零向量的概念，线性相关可以定义为：一组m-向量$v_1,v_2,..v_n$ 是线性相关的，当且仅当存在一组标量，$k_1,k_2...k_n$ （不全为0）使得：\n",
    "   $$ \\sum^{n}_{i=1}{k_iv_i}=0 $$\n",
    "  \n",
    "  另一方面，如果对所有的$i$，仅当$k_i=0$ 时，上述方程才成立，则这些向量是线性无关的。\n",
    " \n",
    " > 例如，几何意义上，二维空间线性相关可以表示为两个线性无关向量$ v,u$ 的线性组合\n",
    " \n"
   ]
  },
  {
   "cell_type": "code",
   "execution_count": 30,
   "id": "4a4b6c73-9d94-48bf-86a0-01f40c36eeba",
   "metadata": {
    "execution": {
     "iopub.execute_input": "2022-04-22T00:03:33.182839Z",
     "iopub.status.busy": "2022-04-22T00:03:33.181776Z",
     "iopub.status.idle": "2022-04-22T00:03:33.803601Z",
     "shell.execute_reply": "2022-04-22T00:03:33.802396Z",
     "shell.execute_reply.started": "2022-04-22T00:03:33.182771Z"
    },
    "scrolled": true,
    "tags": []
   },
   "outputs": [
    {
     "data": {
      "image/png": "[encoded data removed]",
      "text/plain": [
       "<Figure size 576x576 with 1 Axes>"
      ]
     },
     "metadata": {
      "needs_background": "light"
     },
     "output_type": "display_data"
    }
   ],
   "source": [
    "# 线性相关 线性无关的几何表达。\n",
    "###  \n",
    "import numpy as np \n",
    "import matplotlib.pyplot as plt\n",
    "#二维空间，线性相关的向量 \n",
    "u=np.array([2,5])\n",
    "u2=np.array([3,6])\n",
    "v=-1.5*u # v为u的线性表达\n",
    "w=0.75*v+u2\n",
    "fig3,axes3=plt.subplots()\n",
    "fig3.set_size_inches(8,8)\n",
    "axes3.set_xlim(-10,10)\n",
    "axes3.set_ylim(-10,10)\n",
    " \n",
    "axes3.spines['top'].set_visible(False)\n",
    "axes3.spines['right'].set_visible(False)\n",
    "axes3.spines['left'].set_position(('data',0))\n",
    "axes3.spines['bottom'].set_position(('data',0))\n",
    "# 为图像添加网格\n",
    "axes3.grid(color='gray',linestyle='--',alpha=0.2)\n",
    " \n",
    "\n",
    "axes3.arrow(0,0,v[0],v[1],head_length=0.3,head_width=0.5,color='blue',shape='full')\n",
    "axes3.arrow(0,0,u[0],u[1],head_length=0.3,head_width=0.5,color='red',shape='full')\n",
    "axes3.arrow(0,0,w[0],w[1],head_length=0.3,head_width=0.5,color='green',shape='full')\n",
    "axes3.arrow(0,0,u2[0],u2[1],head_length=0.3,head_width=0.5,color='black',shape='full')\n",
    "plt.show()\n"
   ]
  },
  {
   "cell_type": "code",
   "execution_count": 31,
   "id": "0931080b-e606-456e-8934-d78aa8d5f191",
   "metadata": {
    "execution": {
     "iopub.execute_input": "2022-04-22T00:04:42.537123Z",
     "iopub.status.busy": "2022-04-22T00:04:42.536346Z",
     "iopub.status.idle": "2022-04-22T00:04:43.282236Z",
     "shell.execute_reply": "2022-04-22T00:04:43.281295Z",
     "shell.execute_reply.started": "2022-04-22T00:04:42.537055Z"
    },
    "scrolled": true,
    "tags": []
   },
   "outputs": [
    {
     "name": "stdout",
     "output_type": "stream",
     "text": [
      "u 向量是否是e_x,e_y两个基底的线性组合： [ True  True]\n",
      "新的坐标上u的投影（cos） 9\n",
      "1\n",
      "新的基地构成的二维坐标矩阵： [[ 1  1]\n",
      " [-1  1]]\n",
      "向量u通过与新的二维坐标矩阵内积得到新的坐标下的投影： [9 1]\n"
     ]
    },
    {
     "data": {
      "image/png": "[encoded data removed]",
      "text/plain": [
       "<Figure size 1152x576 with 2 Axes>"
      ]
     },
     "metadata": {
      "needs_background": "light"
     },
     "output_type": "display_data"
    }
   ],
   "source": [
    "#基底表达\n",
    "# 默认情况下，e1=[1,0],e2=\n",
    "import numpy as np \n",
    "import matplotlib.pyplot as plt \n",
    "fig,axes=plt.subplots(1,2)\n",
    "fig.set_size_inches(16,8)\n",
    "u=np.array([4,5])\n",
    "ax1=axes[0]\n",
    "ax2=axes[1]\n",
    "e_x=np.array([1,0])\n",
    "e_y=np.array([0,1])\n",
    "ax1.set_xlim(-7,7)\n",
    "ax1.set_ylim(-7,7)\n",
    "ax1.grid()\n",
    "ax1.arrow(0,0,e_x[0],e_x[1],head_width=0.1,color='green')\n",
    "ax1.arrow(0,0,e_y[0],e_y[1],head_width=0.1,color='green')\n",
    "ax1.arrow(0,0,u[0],u[1],head_length=0.1,head_width=0.1,color='red')\n",
    "#新的基底\n",
    "ax2.set_xlim(-5,5)\n",
    "ax2.set_ylim(-5,5)\n",
    "ax2.grid()\n",
    "e_z=np.array([1 ,1])\n",
    "e_w=np.array([-1  ,1])\n",
    "ax2.arrow(0,0,e_z[0],e_z[1],head_length=0.1,head_width=0.1,color='blue')\n",
    "ax2.arrow(0,0,e_w[0],e_w[1],head_length=0.1,head_width=0.1,color='blue')\n",
    "# 向量u是基底的线性组合\n",
    "u=np.array([4,5])\n",
    "u2=4*e_x+5*e_y\n",
    "print(\"u 向量是否是e_x,e_y两个基底的线性组合：\",u2==u)\n",
    "print(\"新的坐标上u的投影（cos）\",u@e_z)\n",
    "print(u@e_w)\n",
    "# 定义相关的坐标系\n",
    "new=np.array([e_z,e_w])\n",
    "print(\"新的基地构成的二维坐标矩阵：\",new)\n",
    "new_point=new@u\n",
    "print(\"向量u通过与新的二维坐标矩阵内积得到新的坐标下的投影：\",new_point)\n",
    "\n",
    " "
   ]
  },
  {
   "cell_type": "markdown",
   "id": "e4aae7d0-cf57-4b7c-8824-23e3334306d5",
   "metadata": {},
   "source": [
    "# 矩阵\n",
    "\n",
    "## Introduction to Matrices\n",
    "In general terms, a matrix is an array of numbers that are arranged into rows and columns.\n",
    "\n",
    "## Matrices and Matrix Notation\n",
    "A matrix arranges numbers into rows and columns, like this:\n",
    "$$\n",
    "\\begin{equation}A = \\begin{bmatrix}\n",
    "  1 & 2 & 3 \\\\\n",
    "  4 & 5 & 6\n",
    " \\end{bmatrix}\n",
    "\\end{equation}\n",
    "$$\n",
    "Note that matrices are generally named as a capital letter. We refer to the *elements* of the matrix using the lower case equivalent with a subscript row and column indicator, like this:\n",
    "$$\n",
    "\\begin{equation}A = \\begin{bmatrix}\n",
    "  a_{1,1} & a_{1,2} & a_{1,3} \\\\\n",
    "  a_{2,1} & a_{2,2} & a_{2,3}\n",
    " \\end{bmatrix}\n",
    "\\end{equation}\n",
    "$$\n",
    "In Python, you can define a matrix as a 2-dimensional *numpy.**array***, like this:\n",
    "python 中可以用两种方式表示矩阵， \n",
    "\n",
    "```pyhton \n",
    "m=np.matrix([[]])\n",
    "m=np.array([[]])\n",
    "```\n",
    " \n",
    "但一般用 np.array([[]])代替矩阵进行运算，因为这不但可以表示二维数组，还能表示多维度数组。\n",
    "\n",
    "\n",
    "可以将矩阵视为m个堆放在一起的n维向量，也可以将向量视为一个特殊矩阵。\n",
    "> 张量、阶的概念\n",
    "在某些情况下，将会讨论超过两维的数组。一般的，一个数组中的元素分布在若干维坐标的规则网格中，我们称之为张量\n",
    "\n",
    "在深度学习中，向量化是一个非常重要的概念，例如pytorch，tensorflow的基础数据表达都是向量，但其表达上与Numpy有一定的差别，但概念内涵一致。\n",
    "相关概念包括：\n",
    " \n",
    "\n",
    "* 秩（Rank）：张量轴数。标量的秩为 0，向量的秩为 1，矩阵的秩为 2。\n",
    "* 形状（Shape）：张量的每个轴的长度（元素数量）。\n",
    "* 轴或维度（Axis，Dimension）：张量的一个特殊维度。\n",
    "* 大小（Size）：张量的总项数，即乘积形状向量\n",
    "\n",
    "| 线性代数中概念 | 深度学习中一般表达| Numpy例子|Tensorflow例子|pytorch例子|轴（阶、秩）的数目|\n",
    "| -------- | -------- | -------- | -------- | -------- |-------- |\n",
    "| 标量(Scale)  | “0 秩”张量(\"rank-0\" tensor)   | numpy.array(5)   |tf.constant(5)|troch.tensor(5)|0|\n",
    "| 向量(Vector)  | “1 秩”张量(\"rank-1\" tensor)   | numpy.array([5,1,1])   |tf.constant([5,1,1,1])|troch.tensor([5,1,1,1])|1|\n",
    "| 矩阵(Matrix)  | “2 秩”张量(\"rank-2\" tensor)   | numpy.array([[5,1,1]])   |tf.constant([[5,1,1,1]])|troch.tensor([[5,1,1,1]])|2|\n",
    "\n",
    "> 之前我们学习了向量，实际上$n$维的行向量就可以看作是一个$1 \\times n$的特殊矩阵，同理，$n$维的列向量也可以视为一个$ n \\times 1$的特殊矩阵。"
   ]
  },
  {
   "cell_type": "code",
   "execution_count": 32,
   "id": "b47e9b56-02e7-4886-b48a-141e42f7e847",
   "metadata": {
    "execution": {
     "iopub.execute_input": "2022-03-22T10:22:47.480143Z",
     "iopub.status.busy": "2022-03-22T10:22:47.479554Z",
     "iopub.status.idle": "2022-03-22T10:22:47.487330Z",
     "shell.execute_reply": "2022-03-22T10:22:47.486507Z",
     "shell.execute_reply.started": "2022-03-22T10:22:47.480103Z"
    },
    "scrolled": true
   },
   "outputs": [
    {
     "name": "stdout",
     "output_type": "stream",
     "text": [
      "矩阵元素个数： 9\n",
      "矩阵的轴数： 2\n",
      "矩阵的形状： (3, 3)\n"
     ]
    }
   ],
   "source": [
    " # 定义一个矩阵\n",
    " import numpy as np \n",
    " m=np.matrix([[1,2,3],[4,5,6],[7,8,9]])\n",
    " print(\"矩阵元素个数：\",m.size)\n",
    " print(\"矩阵的轴数：\",m.ndim)\n",
    " print(\"矩阵的形状：\",m.shape)"
   ]
  },
  {
   "cell_type": "markdown",
   "id": "78502b29-2588-40f0-ba48-2bf758588903",
   "metadata": {},
   "source": [
    "### 特殊矩阵\n",
    "1. Identity Matrices 单位矩阵\n",
    "\n",
    "An *identity* matrix (usually indicated by a capital **I**) is the equivalent in matrix terms of the number **1**. It always has the same number of rows as columns, and it has the value **1** in the diagonal element positions I<sub>1,1</sub>, I<sub>2,2</sub>, etc; and 0 in all other element positions. Here's an example of a 3x3 identity matrix:\n",
    "$$\n",
    "\\begin{equation}\\begin{bmatrix}1 & 0 & 0\\\\0 & 1 & 0\\\\0 & 0 & 1\\end{bmatrix} \\end{equation}\n",
    "$$\n",
    "Multiplying any matrix by an identity matrix is the same as multiplying a number by 1; the result is the same as the original value:\n",
    "\n",
    "$$\n",
    "\\begin{equation}\\begin{bmatrix}1 & 2 & 3 \\\\4 & 5 & 6\\\\7 & 8 & 9\\end{bmatrix} \\cdot \\begin{bmatrix}1 & 0 & 0\\\\0 & 1 & 0\\\\0 & 0 & 1\\end{bmatrix} = \\begin{bmatrix}1 & 2 & 3 \\\\4 & 5 & 6\\\\7 & 8 & 9\\end{bmatrix} \\end{equation}\n",
    "$$\n",
    "单位矩阵定义为主对角线元素为1，其他元素为0的**方阵**。单位矩阵以符号$I$或$I_n$表示，下标$n$表示其行列数。\n",
    "\n",
    "单位矩阵很重要，因为其与标量代数中的1起到类似的作用。\n",
    "\n",
    "同时单位矩阵不论自乘多少次任保持不变\n",
    "$$(I_n)^k=I_n \\quad (k=1,2,...)$$\n",
    "\n",
    "具有这种性质($AA=A$)的矩阵称为**幂等矩阵** \n",
    " \n",
    "2. 0 矩阵\n",
    "\n",
    "零矩阵是一个所有元素均为0的简单矩阵，但是其不一定是方阵，其起到作用与标量0的作用相似，例如。\n",
    "$$ 0_{(2 \\times 2)}= \\begin{bmatrix} 0&0\\\\0&0 \\end{bmatrix}$$\n",
    "$$ 0_{(2 \\times 3)}= \\begin{bmatrix} 0&0&0\\\\0&0&0 \\end{bmatrix}$$\n",
    "\n",
    "3. 对称矩阵\n",
    "\n",
    "矩阵$C_m \\times n$中若$c_ij=c_ji$，称为对称矩阵，也即元素关于主对角线对称。\n",
    "\n",
    "\n",
    "---\n",
    " \n",
    "Numpy 中相关特殊矩阵的创建：\n",
    " ```python \n",
    " zero=np.zeros((2,3))# 创建2r3c的0矩阵\n",
    " one=np.eye(3)#创建单位矩阵\n",
    " one=np.identity(3)#创建单位矩阵\n"
   ]
  },
  {
   "cell_type": "markdown",
   "id": "9f208247-fd54-4db0-a273-9ea120753054",
   "metadata": {},
   "source": [
    "## Matrix Operations\n",
    "Matrices support common arithmetic operations.\n",
    "\n",
    "### Adding Matrices\n",
    "To add two matrices of the same size together, just add the corresponding elements in each matrix:\n",
    "$$\n",
    "\\begin{equation}\\begin{bmatrix}1 & 2 & 3 \\\\4 & 5 & 6\\end{bmatrix}+ \\begin{bmatrix}6 & 5 & 4 \\\\3 & 2 & 1\\end{bmatrix} = \\begin{bmatrix}7 & 7 & 7 \\\\7 & 7 & 7\\end{bmatrix}\\end{equation}\n",
    "$$\n",
    "In this example, we're adding two matrices (let's call them ***A*** and ***B***). Each matrix has two rows of three columns (so we describe them as 2x3 matrices). Adding these will create a new matrix of the same dimensions with the values a<sub>1,1</sub> + b<sub>1,1</sub>, a<sub>1,2</sub> + b<sub>1,2</sub>, a<sub>1,3</sub> + b<sub>1,3</sub>,a<sub>2,1</sub> + b<sub>2,1</sub>, a<sub>2,2</sub> + b<sub>2,2</sub>, and a<sub>2,3</sub> + b<sub>2,3</sub>. In this instance, each pair of corresponding elements(1 and 6, 2, and 5, 3 and 4, etc.) adds up to 7.\n",
    "\n",
    " ---\n",
    " ## Subtracting Matrices\n",
    "Matrix subtraction works similarly to matrix addition:\n",
    "$$\n",
    "\\begin{equation}\\begin{bmatrix}1 & 2 & 3 \\\\4 & 5 & 6\\end{bmatrix}- \\begin{bmatrix}6 & 5 & 4 \\\\3 & 2 & 1\\end{bmatrix} = \\begin{bmatrix}-5 & -3 & -1 \\\\1 & 3 & 5\\end{bmatrix}\\end{equation}\n",
    "$$\n",
    "---\n",
    "### Negative Matrices\n",
    "The nagative of a matrix, is just a matrix with the sign of each element reversed:\n",
    "$$\n",
    "\\begin{equation}C = \\begin{bmatrix}-5 & -3 & -1 \\\\1 & 3 & 5\\end{bmatrix}\\end{equation}\n",
    "\n",
    "\\begin{equation}-C = \\begin{bmatrix}5 & 3 & 1 \\\\-1 & -3 & -5\\end{bmatrix}\\end{equation}\n",
    "$$\n",
    "---\n",
    "#### Conformability（矩阵一致性）\n",
    "In the previous examples, we were able to add and subtract the matrices, because the *operands* (the matrices we are operating on) are ***conformable*** for the specific operation (in this case, addition or subtraction). To be conformable for addition and subtraction, the operands must have the same number of rows and columns. There are different conformability requirements for other operations, such as multiplication; which we'll explore later."
   ]
  },
  {
   "cell_type": "markdown",
   "id": "e3ee88da-7c19-4836-818b-6553f6251a4e",
   "metadata": {},
   "source": [
    "### Matrix Transposition（矩阵转置）\n",
    "You can *transpose* a matrix, that is switch the orientation of its rows and columns. You indicate this with a superscript **T**, like this:\n",
    "$$\n",
    "\\begin{equation}\\begin{bmatrix}1 & 2 & 3 \\\\4 & 5 & 6\\end{bmatrix}^{T} = \\begin{bmatrix}1 & 4\\\\2 & 5\\\\3 & 6 \\end{bmatrix}\\end{equation}\n",
    "$$\n",
    "矩阵的转置有如下性质：\n",
    "* 和的转置为转置的和\n",
    "$$ (A+B)^T= A^T+B^T $$\n",
    "* 乘积的转置是转置的乘积，但转置的顺序颠倒\n",
    "$$ (AB)^T=B^TA^T$$\n",
    "\n",
    "---\n",
    "\n",
    "In Python, both *numpy.**array*** and *numpy.**matrix*** have a **T** function:"
   ]
  },
  {
   "cell_type": "code",
   "execution_count": 33,
   "id": "b7ac8dbc-dc4c-4073-a58a-9796e48756b6",
   "metadata": {
    "execution": {
     "iopub.execute_input": "2022-03-31T07:39:28.784543Z",
     "iopub.status.busy": "2022-03-31T07:39:28.784067Z",
     "iopub.status.idle": "2022-03-31T07:39:28.790664Z",
     "shell.execute_reply": "2022-03-31T07:39:28.789824Z",
     "shell.execute_reply.started": "2022-03-31T07:39:28.784510Z"
    },
    "scrolled": true,
    "tags": []
   },
   "outputs": [
    {
     "name": "stdout",
     "output_type": "stream",
     "text": [
      "原始矩阵： \n",
      " [[ 0  1  2  3  4]\n",
      " [ 5  6  7  8  9]\n",
      " [10 11 12 13 14]]\n",
      "转置后矩阵: \n",
      " [[ 0  5 10]\n",
      " [ 1  6 11]\n",
      " [ 2  7 12]\n",
      " [ 3  8 13]\n",
      " [ 4  9 14]]\n"
     ]
    }
   ],
   "source": [
    "import numpy as np \n",
    "m1=np.arange(0,15,1).reshape(3,5)\n",
    "m2=m1.T\n",
    "print(\"原始矩阵： \\n\",m1)\n",
    "print(\"转置后矩阵: \\n\",m2)\n"
   ]
  },
  {
   "cell_type": "markdown",
   "id": "eddaa41b-7b75-46c8-a875-c161e6cd8ea9",
   "metadata": {},
   "source": [
    "### 矩阵乘法\n",
    "矩阵乘法是矩阵运算中最重要的操作之一，两个矩阵$A(m \\times n),B(n \\times p)$的矩阵乘积（matrix product）是第三个矩阵$C $。为了使得乘法可以被定义，矩阵$A$ 的烈数$n$必须和矩阵$B$的行数$n$相等，得到的矩阵$C$的形状是$ m \\times p$。\n",
    "$$ C=AB $$\n",
    "对应具体$C$ 中元素 $C_{i,j}$\n",
    "$$ C_{i,j}= \\sum_k A_{i,k} B_{k,j} $$\n",
    "\n",
    ">需要注意，两个矩阵的标准乘积不是两个矩阵中对应元素的乘积，但这样的操作存在，即元素对应乘积(element-wise product)或者Hadamard乘积，记为\n",
    "$ A \\odot B$\n",
    "\n",
    "结合向量内积概念，以及矩阵是多个向量的组合，可以将矩阵乘积$C=AB$的元素$c_{i,j}$简单地描述为前一个矩阵$A$的第$i$行与后一个矩阵B中的第$j$列的**内积** 。反之，可以将两个相同维数的向量$x,y$的内积，视为第一个向量与第二个向量转置后的矩阵乘积 $xy^T$。\n",
    "\n",
    "相关定律：\n",
    "* 矩阵乘法不满足交换律（标量除外）： $AB \\neq\\; BA $\n",
    "* 矩阵乘法满足结合律： $ (AB)C=A(BC)=ABC $\n",
    "* 矩阵乘法满足分配率： $A(B+C)=AB+AC; (B+C)A=BA+VA $\n",
    "\n",
    "\n",
    "---\n",
    "Numpy中，矩阵的乘法依据创建矩阵的方式不同：\n",
    "\n",
    "1. 若使用np.array([[]])方式创建矩阵A,B则：\n",
    "\n",
    "``` python\n",
    "C=np.dot(A,B)#矩阵乘积\n",
    "m=A*B#A,B 矩阵的shape相同，得到对应元素乘积（Hadamard乘积）\n",
    "```\n",
    "2. 使用matrix创建的矩阵\n",
    "```python\n",
    "A=np.mat()\n",
    "B=np.mat()\n",
    "C=A*B#矩阵乘积直接使用 * \n",
    "m=np.multiply(A,B)# 同型矩阵对应元素乘积使用np.multiply()\n",
    "```\n"
   ]
  },
  {
   "cell_type": "code",
   "execution_count": 34,
   "id": "822e4600-00d2-46a0-8882-0998d729cfc9",
   "metadata": {
    "execution": {
     "iopub.execute_input": "2022-03-31T07:39:44.943442Z",
     "iopub.status.busy": "2022-03-31T07:39:44.943025Z",
     "iopub.status.idle": "2022-03-31T07:39:44.957003Z",
     "shell.execute_reply": "2022-03-31T07:39:44.956029Z",
     "shell.execute_reply.started": "2022-03-31T07:39:44.943408Z"
    },
    "scrolled": true,
    "tags": []
   },
   "outputs": [
    {
     "name": "stdout",
     "output_type": "stream",
     "text": [
      "矩阵A： \n",
      " [[ 0  1  2  3  4]\n",
      " [ 5  6  7  8  9]\n",
      " [10 11 12 13 14]] \n",
      " 矩阵B： [[16 17 18]\n",
      " [19 20 21]\n",
      " [22 23 24]\n",
      " [25 26 27]\n",
      " [28 29 30]]\n",
      "矩阵1形状： (3, 5) 矩阵2形状： (5, 3)\n",
      "矩阵乘积： \n",
      " [[ 250  260  270]\n",
      " [ 800  835  870]\n",
      " [1350 1410 1470]]\n",
      "矩阵乘积形状: (3, 3)\n",
      "C中对应元素ij为A的i行向量与B的j列向量内积: 250\n",
      "如果是求对应元素的乘积，那么A，B矩阵的形状必须相同 \n",
      "\n",
      "A2，B矩阵对应元素乘积： [[  0  17  36]\n",
      " [ 57  80 105]\n",
      " [132 161 192]\n",
      " [225 260 297]\n",
      " [336 377 420]]\n",
      "两个向量的dot得到一个标量： 70\n",
      "两个向量对应矩阵的乘积，转换为第一个矩阵与第二个矩阵转置的dot，得到一个矩阵： [[70]]\n"
     ]
    }
   ],
   "source": [
    "import numpy as np \n",
    "A=np.arange(0,15,1).reshape(3,5)\n",
    "B=np.arange(16,31,1).reshape(5,3)\n",
    "print('矩阵A：','\\n',A,'\\n','矩阵B：',B)\n",
    "print(\"矩阵1形状：\",A.shape,\"矩阵2形状：\",B.shape)\n",
    "C=np.dot(A,B)\n",
    "print(\"矩阵乘积：\",'\\n',C)\n",
    "print(\"矩阵乘积形状:\",C.shape)\n",
    "A_r1=A[0,:]\n",
    "B_c1=B[:,0]\n",
    "C_11=np.dot(A_r1,B_c1)\n",
    "print(\"C中对应元素ij为A的i行向量与B的j列向量内积:\",C_11)\n",
    "\n",
    "A2=A.reshape(5,3)\n",
    "print(\"如果是求对应元素的乘积，那么A，B矩阵的形状必须相同 \\n\")\n",
    "C2=A2*B\n",
    "print(\"A2，B矩阵对应元素乘积：\",C2)\n",
    "\n",
    "v1=np.array([1,2,3,4,5])\n",
    "v2=np.array([2,3,4,5,6])\n",
    "v3=np.dot(v1,v2)\n",
    "print(\"两个向量的dot得到一个标量：\",v3)\n",
    "m1=np.array([[1,2,3,4,5]])\n",
    "m2=np.array([[2,3,4,5,6]])\n",
    "m3=np.dot(m1,m2.T)\n",
    "print(\"两个向量对应矩阵的乘积，转换为第一个矩阵与第二个矩阵转置的dot，得到一个矩阵：\",m3)"
   ]
  },
  {
   "cell_type": "markdown",
   "id": "574bf246-ae80-47d8-9972-0537126e1701",
   "metadata": {},
   "source": [
    "课堂作业：\n",
    "\n",
    "定义两个矩阵\n",
    "$$ A= \\begin{bmatrix}2&6&7&5 & 5\\\\ 9 &8 &7 &9 &2 \\end{bmatrix} \n",
    "B=\\begin{bmatrix} 3&7&9&3&9 \\\\ 8&6&5&5&3 \\end{bmatrix}$$\n",
    "分别计算：\n",
    "1. $A-B$\n",
    "2.$A+B$\n",
    "3.$A\\dot B,B \\dot A$\n",
    "4.$A \\odot B$\n",
    "使用numpy首先判断以上计算能否实现，为什么？\n",
    "\n",
    "5. $AB^T$\n"
   ]
  },
  {
   "cell_type": "code",
   "execution_count": 18,
   "id": "b7f54c51-c6b0-4cec-9b5e-1a9adb9f989c",
   "metadata": {
    "execution": {
     "iopub.execute_input": "2022-04-16T02:57:38.030454Z",
     "iopub.status.busy": "2022-04-16T02:57:38.029477Z",
     "iopub.status.idle": "2022-04-16T02:57:38.037961Z",
     "shell.execute_reply": "2022-04-16T02:57:38.037397Z",
     "shell.execute_reply.started": "2022-04-16T02:57:38.030420Z"
    },
    "scrolled": true,
    "tags": []
   },
   "outputs": [
    {
     "name": "stdout",
     "output_type": "stream",
     "text": [
      "[[2 6 7 5 5]\n",
      " [9 8 7 9 2]]\n",
      "2\n",
      "(2, 5)\n",
      "[[3 7 9 3 9]\n",
      " [8 6 5 5 3]]\n",
      "2\n",
      "(2, 5)\n",
      "[[-1 -1 -2  2 -4]\n",
      " [ 1  2  2  4 -1]]\n",
      "[[ 5 13 16  8 14]\n",
      " [17 14 12 14  5]]\n",
      "[[ 6 42 63 15 45]\n",
      " [72 48 35 45  6]]\n",
      "[[171 127]\n",
      " [191 206]]\n",
      "(2, 2)\n"
     ]
    }
   ],
   "source": [
    "import numpy as np \n",
    "A=np.array([[2,6,7,5,5],[9,8,7,9,2]])\n",
    "print(A)\n",
    "print(A.ndim)\n",
    "print(A.shape)\n",
    "\n",
    "B=np.array([[3,7,9,3,9],[8,6,5,5,3]])\n",
    "print(B)\n",
    "print(B.ndim)\n",
    "print(B.shape)\n",
    "C1=A-B\n",
    "print(C1)\n",
    "C2=A+B\n",
    "print(C2)\n",
    "C3=A*B\n",
    "print(C3)\n",
    "#C4_1=A.dot(B)\n",
    "C5=A.dot(B.T)\n",
    "print(C5)\n",
    "print(C5.shape)"
   ]
  },
  {
   "cell_type": "code",
   "execution_count": 19,
   "id": "1c838fd4-72ac-42eb-b5c0-80a7b49da4a1",
   "metadata": {
    "execution": {
     "iopub.execute_input": "2022-03-31T07:39:49.190964Z",
     "iopub.status.busy": "2022-03-31T07:39:49.190526Z",
     "iopub.status.idle": "2022-03-31T07:39:49.197375Z",
     "shell.execute_reply": "2022-03-31T07:39:49.196734Z",
     "shell.execute_reply.started": "2022-03-31T07:39:49.190915Z"
    },
    "scrolled": true,
    "tags": []
   },
   "outputs": [
    {
     "name": "stdout",
     "output_type": "stream",
     "text": [
      "[[ 7 10]\n",
      " [15 22]\n",
      " [23 34]]\n",
      "[[ 1  4]\n",
      " [ 9 16]\n",
      " [35 54]]\n"
     ]
    }
   ],
   "source": [
    "import numpy as np\n",
    "d1=np.mat([[1,2],[3,4],[5,6]])\n",
    "d2=np.mat([[1,2],[3,4]])\n",
    "print(d1*d2)\n",
    "d3=np.array([[1,2],[3,4],[5,6]])\n",
    "d4=np.array([[1,2],[3,4],[7,9]])\n",
    "print(np.multiply(d3,d4))"
   ]
  },
  {
   "cell_type": "code",
   "execution_count": 2,
   "id": "dcfea309-7803-412e-b285-bb96f9343d19",
   "metadata": {
    "execution": {
     "iopub.execute_input": "2022-03-24T01:38:11.446588Z",
     "iopub.status.busy": "2022-03-24T01:38:11.445952Z",
     "iopub.status.idle": "2022-03-24T01:38:11.609315Z",
     "shell.execute_reply": "2022-03-24T01:38:11.608567Z",
     "shell.execute_reply.started": "2022-03-24T01:38:11.446556Z"
    },
    "scrolled": true
   },
   "outputs": [
    {
     "name": "stdout",
     "output_type": "stream",
     "text": [
      "(2,)\n",
      "原有向量空间表达：\n",
      "矩阵A的形状： (3, 2)\n",
      "[13 19 15]\n"
     ]
    },
    {
     "data": {
      "image/png": "[encoded data removed]",
      "text/plain": [
       "<Figure size 360x360 with 1 Axes>"
      ]
     },
     "metadata": {
      "needs_background": "light"
     },
     "output_type": "display_data"
    }
   ],
   "source": [
    "import numpy as np \n",
    "import matplotlib.pyplot as plt\n"
   ]
  },
  {
   "cell_type": "markdown",
   "id": "60b219c2-2ff3-460e-b17c-2e9319ae41a0",
   "metadata": {},
   "source": [
    "## Matrix Division 矩阵除法（矩阵的逆）\n",
    "You can't actually divide by a matrix; but when you want to divide matrices, you can take advantage of the fact that division by a given number is the same as multiplication by the reciprocal of that number. For example:\n",
    "$$\n",
    "\\begin{equation}6 \\div 3 = \\frac{1}{3}\\times 6 \\end{equation}\n",
    "$$\n",
    "In this case, <sup>1</sup>/<sub>3</sub> is the reciprocal of 3 (which as a fraction is <sup>3</sup>/<sub>1</sub> - we \"flip\" the numerator and denominator to get the reciprocal). You can also write <sup>1</sup>/<sub>3</sub> as 3<sup>-1</sup>.\n",
    "\n",
    "### Inverse of a Matrix\n",
    "For matrix division, we use a related idea; we multiply by the *inverse* of a matrix:\n",
    "$$\n",
    "\\begin{equation}A \\div B = A \\cdot B^{-1}\\end{equation}\n",
    "$$\n",
    "The inverse of B is B<sup>-1</sup> as long as the following equation is true:\n",
    "$$\n",
    "\\begin{equation}B \\cdot B^{-1} = B^{-1} \\cdot B = I\\end{equation}\n",
    "$$\n",
    "**I**, you may recall, is an *identity* matrix; the matrix equivalent of 1.\n",
    "\n",
    "So how do you calculate the inverse of a matrix? For a 2x2 matrix, you can follow this formula:\n",
    "$$\n",
    "\\begin{equation}\\begin{bmatrix}a & b\\\\c & d\\end{bmatrix}^{-1} = \\frac{1}{ad-bc}  \\begin{bmatrix}d & -b\\\\-c & a\\end{bmatrix}\\end{equation}\n",
    "$$\n",
    "What happened there?\n",
    "- We swapped the positions of *a* and *d*\n",
    "- We changed the signs of *b* and *c*\n",
    "- We multiplied the resulting matrix by 1 over the *determinant* of the matrix (*ad-bc*)\n",
    "\n",
    "Let's try with some actual numbers:\n",
    "$$\n",
    "\\begin{equation}\\begin{bmatrix}6 & 2\\\\1 & 2\\end{bmatrix}^{-1} = \\frac{1}{(6\\times2)-(2\\times1)}  \\begin{bmatrix}2 & -2\\\\-1 & 6\\end{bmatrix}\\end{equation}\n",
    "$$\n",
    "So:\n",
    "$$\n",
    "\\begin{equation}\\begin{bmatrix}6 & 2\\\\1 & 2\\end{bmatrix}^{-1} = \\frac{1}{10}  \\begin{bmatrix}2 & -2\\\\-1 & 6\\end{bmatrix}\\end{equation}\n",
    "$$\n",
    "Which gives us the result:\n",
    "$$\n",
    "\\begin{equation}\\begin{bmatrix}6 & 2\\\\1 & 2\\end{bmatrix}^{-1} = \\begin{bmatrix}0.2 & -0.2\\\\-0.1 & 0.6\\end{bmatrix}\\end{equation}\n",
    "$$\n",
    "To check this, we can multiply the original matrix by its inverse to see if we get an identity matrix. This makes sense if you think about it; in the same way that 3 x <sup>1</sup>/<sub>3</sub> = 1, a matrix multiplied by its inverse results in an identity matrix:\n",
    "$$\n",
    "\\begin{equation}\\begin{bmatrix}6 & 2\\\\1 & 2\\end{bmatrix} \\cdot \\begin{bmatrix}0.2 & -0.2\\\\-0.1 & 0.6\\end{bmatrix} = \\begin{bmatrix}(6\\times0.2)+(2\\times-0.1) & (6\\times-0.2)+(2\\times0.6)\\\\(1\\times0.2)+(2\\times-0.1) & (1\\times-0.2)+(2\\times0.6)\\end{bmatrix} = \\begin{bmatrix}1 & 0\\\\0 & 1\\end{bmatrix}\\end{equation}\n",
    "$$\n",
    "Note that not every matrix has an inverse - for example, if the determinant works out to be 0, the inverse matrix is not defined.\n",
    "\n",
    "矩阵$A$的逆矩阵$A^{-1}$，可能存在也可能不存在，其满足：\n",
    "$$\n",
    "\\begin{equation}A \\cdot A^{-1} = A^{-1} \\cdot A = I\\end{equation}\n",
    "$$\n",
    "矩阵的逆还有如下性质：\n",
    "*  并非每一个方阵都有逆矩阵，方阵是逆矩阵存在的必要条件，但非充分条件。若方阵$A$有逆矩阵，则$A$称为**非奇异矩阵**，否则称为**奇异矩阵**。\n",
    "* 若逆矩阵存在，则它是唯一的。\n",
    "* 逆矩阵的逆就是原矩阵：$(A^{-1})^{-1}=A$\n",
    "* 乘积的逆矩阵等于逆矩阵的乘积：$(A \\cdot B)^{-1}=B^{-1} \\cdot A^{-1}$\n",
    "* 转置的逆矩阵等于逆的转置：$(A^T)^{-1}=(A^{-1})^T$\n",
    "\n",
    "\n",
    "---\n",
    "\n",
    "In Python, you can use the *numpy.linalg.**inv*** function to get the inverse of a matrix in an *array* or *matrix* object:\n",
    "\n",
    "```python\n",
    "B=np.linalg.inv(A)# 对于通过array构建的矩阵使用inv方法\n",
    "C=B.I#对于通过matrix构建的矩阵使用.I 得到\n",
    "```"
   ]
  },
  {
   "cell_type": "code",
   "execution_count": 20,
   "id": "e3e30540-910d-4d19-8bb2-ceceae6a78cd",
   "metadata": {
    "execution": {
     "iopub.execute_input": "2022-03-24T03:10:08.617500Z",
     "iopub.status.busy": "2022-03-24T03:10:08.616979Z",
     "iopub.status.idle": "2022-03-24T03:10:08.626746Z",
     "shell.execute_reply": "2022-03-24T03:10:08.625955Z",
     "shell.execute_reply.started": "2022-03-24T03:10:08.617464Z"
    },
    "scrolled": true
   },
   "outputs": [
    {
     "name": "stdout",
     "output_type": "stream",
     "text": [
      "[[ 0.33333333 -0.16666667]\n",
      " [ 0.          0.5       ]]\n",
      "[[1. 0.]\n",
      " [0. 1.]]\n",
      "[[1. 0.]\n",
      " [0. 1.]]\n",
      "[[ 0.33333333 -0.16666667]\n",
      " [ 0.          0.5       ]]\n"
     ]
    }
   ],
   "source": [
    "import numpy as np \n",
    "A=np.array([[3,1],[0,2]])\n",
    "B=np.linalg.inv(A)\n",
    "print(B)\n",
    "print(A.dot(B))\n",
    "print(B.dot(A))\n",
    "#使用matrix构建的矩阵的逆\n",
    "D=np.mat([[3,1],[0,2]])\n",
    "E=D.I\n",
    "print(E)"
   ]
  },
  {
   "cell_type": "markdown",
   "id": "f3d1d387-b58a-4cba-8238-2beb6a9c0629",
   "metadata": {},
   "source": [
    "### Solving Systems of Equations with Matrices 通过矩阵解线性方程组\n",
    "One of the great things about matrices, is that they can help us solve systems of equations. For example, consider the following system of equations:\n",
    "$$\n",
    "\\begin{equation}2x + 4y = 18\\end{equation}\n",
    "$$\n",
    "$$\n",
    "\\begin{equation}6x + 2y = 34\\end{equation}\n",
    "$$\n",
    "We can write this in matrix form, like this:\n",
    "$$\n",
    "\\begin{equation}\\begin{bmatrix}2 & 4\\\\6 & 2\\end{bmatrix} \\cdot \\begin{bmatrix}x\\\\y\\end{bmatrix}=\\begin{bmatrix}18\\\\34\\end{bmatrix}\\end{equation}\n",
    "$$\n",
    "Note that the variables (***x*** and ***y***) are  arranged as a column in one matrix, which is multiplied by a matrix containing the coefficients to produce as matrix containing the results. If you calculate the dot product on the left side, you can see clearly that this represents the original equations:\n",
    "$$\n",
    "\\begin{equation}\\begin{bmatrix}2x + 4y\\\\6x + 2y\\end{bmatrix} =\\begin{bmatrix}18\\\\34\\end{bmatrix}\\end{equation}\n",
    "$$\n",
    "Now. let's name our matrices so we can better understand what comes next:\n",
    "$$\n",
    "\\begin{equation}A=\\begin{bmatrix}2 & 4\\\\6 & 2\\end{bmatrix}\\;\\;\\;\\;X=\\begin{bmatrix}x\\\\y\\end{bmatrix}\\;\\;\\;\\;B=\\begin{bmatrix}18\\\\34\\end{bmatrix}\\end{equation}\n",
    "$$\n",
    "We already know that ***A &bull; X = B***, which arithmetically means that ***X = B &div; A***. Since we can't actually divide by a matrix, we need to multiply by the inverse; so we can find the values for our variables (*X*) like this: ***X = A<sup>-1</sup> &bull; B***\n",
    "\n",
    "So, first we need the inverse of A:\n",
    "$$\n",
    "\\begin{equation}\\begin{bmatrix}2 & 4\\\\6 & 2\\end{bmatrix}^{-1} = \\frac{1}{(2\\times2)-(4\\times6)}  \\begin{bmatrix}2 & -4\\\\-6 & 2\\end{bmatrix}\\end{equation}\n",
    "\n",
    "\\begin{equation}= \\frac{1}{-20}  \\begin{bmatrix}2 & -4\\\\-6 & 2\\end{bmatrix}\\end{equation}\n",
    "\n",
    "\\begin{equation}=\\begin{bmatrix}-0.1 & 0.2\\\\0.3 & -0.1\\end{bmatrix}\\end{equation}\n",
    "$$\n",
    "Then we just multiply this with B:\n",
    "$$\n",
    "\\begin{equation}X = \\begin{bmatrix}-0.1 & 0.2\\\\0.3 & -0.1\\end{bmatrix} \\cdot \\begin{bmatrix}18\\\\34\\end{bmatrix}\\end{equation}\n",
    "\n",
    "\\begin{equation}X = \\begin{bmatrix}(-0.1 \\times 18)+(0.2 \\times 34)\\\\(0.3\\times18)+(-0.1\\times34)\\end{bmatrix}\\end{equation}\n",
    "\n",
    "\\begin{equation}X = \\begin{bmatrix}5\\\\2\\end{bmatrix}\\end{equation}\n",
    "$$\n",
    "The resulting matrix (*X*) contains the values for our *x* and *y* variables, and we can check these by plugging them into the original equations:\n",
    "$$\n",
    "\\begin{equation}(2\\times5) + (4\\times2) = 18\\end{equation}\n",
    "\\begin{equation}(6\\times5) + (2\\times2) = 34\\end{equation}\n",
    "$$\n",
    "These of course simplify to:\n",
    "$$\n",
    "\\begin{equation}10 + 8 = 18\\end{equation}\n",
    "\\begin{equation}30 + 4 = 34\\end{equation}\n",
    "$$\n",
    "So our variable values are correct.\n",
    "\n",
    "\n",
    "在空间上，可以将方程组中每一个方程视为一条空间中的向量$ v_n =\\{v_1,v_2,...,v_n\\}$，那么空间中的向量关系存在以下情况\n",
    "* 各个向量相交与一点，得到一个解集,即对应空间 $R^n$上的一个点\n",
    "* 若各个系数向量平行，则无解\n",
    "* 若各个系数向量重合，则有无穷多解\n",
    "\n",
    "\n",
    "---\n",
    "Numpy中也可以直接用np.linalg.slove(A,b)来求方程的解x，其中\n",
    "：A 为系数矩阵,b为常数向量矩阵，x为解向量即：\n",
    "```python\n",
    "import numpy as np\n",
    "\n",
    "Ab=x\n",
    "x=np.linalg.slove(A,b)\n",
    "```\n",
    "\n",
    "\n",
    "\n",
    "\n",
    "*** 注意 ***\n",
    ">numpy 只可以解形为方阵的非奇异矩阵，但 Sympy中的solve可以解任意系数矩阵的线性方程组。\n",
    "\n",
    "使用sympy.solve函数解方程，该函数通常传入两个参数，第1个参数是方程的表达式（把方程所有的项移到等号的同一边形成的式子），第2个参数是方程中的未知数。函数的返回值是一个列表，代表方程的所有根（可能为复数根）。与numpy不同的是，在sympy中，需要定义变量->定义等式->然后进行计算。\n",
    "\n",
    "得到的结果为字典类型。\n",
    "\n",
    " \n"
   ]
  },
  {
   "cell_type": "code",
   "execution_count": 21,
   "id": "49592c70-fe8c-4585-8805-3b1532073145",
   "metadata": {
    "execution": {
     "iopub.execute_input": "2022-04-01T02:55:12.357873Z",
     "iopub.status.busy": "2022-04-01T02:55:12.357315Z",
     "iopub.status.idle": "2022-04-01T02:55:12.459906Z",
     "shell.execute_reply": "2022-04-01T02:55:12.370038Z",
     "shell.execute_reply.started": "2022-04-01T02:55:12.357833Z"
    },
    "scrolled": true,
    "tags": []
   },
   "outputs": [
    {
     "name": "stdout",
     "output_type": "stream",
     "text": [
      "系数矩阵为： \n",
      " [[ 7 -1 -1]\n",
      " [10 -2  1]\n",
      " [ 6  3 -2]]\n",
      "A的逆矩阵为： [[-0.01639344  0.08196721  0.04918033]\n",
      " [-0.42622951  0.13114754  0.27868852]\n",
      " [-0.68852459  0.44262295  0.06557377]]\n",
      "常数向量为: \n",
      " [[0]\n",
      " [8]\n",
      " [7]]\n",
      "解为： [[1.]\n",
      " [3.]\n",
      " [4.]]\n",
      "通过slove方法求解： \n",
      " [[1.]\n",
      " [3.]\n",
      " [4.]]\n"
     ]
    }
   ],
   "source": [
    "import numpy as np \n",
    "\n",
    "A=np.array([[7,-1,-1],[10,-2,1],[6,3,-2]])\n",
    "\n",
    "print(\"系数矩阵为： \\n\",A)\n",
    "B=np.linalg.inv(A)\n",
    "print(\"A的逆矩阵为：\",B)\n",
    "b=np.array([[0,8,7]]).T#注意需要使用列向量\n",
    "x=np.dot(B,b)\n",
    "print(\"常数向量为: \\n\",b)\n",
    "#x=np.linalg.solve(A,b)\n",
    "print(\"解为：\",x)\n",
    "x2=np.linalg.solve(A,b)\n",
    "print(\"通过slove方法求解： \\n\",x2)\n",
    "\n"
   ]
  },
  {
   "cell_type": "code",
   "execution_count": 35,
   "id": "14166116-4749-48c8-b24f-a9ad578d05fc",
   "metadata": {
    "execution": {
     "iopub.execute_input": "2022-04-08T12:23:56.012626Z",
     "iopub.status.busy": "2022-04-08T12:23:56.012213Z",
     "iopub.status.idle": "2022-04-08T12:24:10.695556Z",
     "shell.execute_reply": "2022-04-08T12:24:10.694598Z",
     "shell.execute_reply.started": "2022-04-08T12:23:56.012597Z"
    },
    "scrolled": true,
    "tags": []
   },
   "outputs": [
    {
     "name": "stdout",
     "output_type": "stream",
     "text": [
      "Collecting sympy\n",
      "  Downloading sympy-1.10.1-py3-none-any.whl (6.4 MB)\n",
      "\u001b[K     |████████████████████████████████| 6.4 MB 17 kB/s eta 0:00:01\n",
      "\u001b[?25hCollecting mpmath>=0.19\n",
      "  Downloading mpmath-1.2.1-py3-none-any.whl (532 kB)\n",
      "\u001b[K     |████████████████████████████████| 532 kB 11 kB/s eta 0:00:01\n",
      "\u001b[?25hInstalling collected packages: mpmath, sympy\n",
      "Successfully installed mpmath-1.2.1 sympy-1.10.1\n"
     ]
    }
   ],
   "source": [
    "!pip install sympy"
   ]
  },
  {
   "cell_type": "code",
   "execution_count": 3,
   "id": "2a0494a6-d49e-4076-a259-ad2c97225c99",
   "metadata": {
    "execution": {
     "iopub.execute_input": "2022-04-08T12:31:59.121471Z",
     "iopub.status.busy": "2022-04-08T12:31:59.120841Z",
     "iopub.status.idle": "2022-04-08T12:31:59.859774Z",
     "shell.execute_reply": "2022-04-08T12:31:59.858815Z",
     "shell.execute_reply.started": "2022-04-08T12:31:59.121440Z"
    },
    "scrolled": true,
    "tags": []
   },
   "outputs": [
    {
     "name": "stdout",
     "output_type": "stream",
     "text": [
      "{x1: 1, x2: 3, x3: 4}\n",
      "(3, 4)\n",
      "2\n",
      "目标空间维度: 2\n",
      "系数矩阵值秩 2\n"
     ]
    }
   ],
   "source": [
    "####sympy解非奇异方程组###\n",
    "from sympy import *\n",
    "x1,x2,x3=symbols(\"x1,x2,x3\")# 定义变量\n",
    "eq=[7*x1-x2-x3-0,10*x1-2*x2+x3-8,6*x1+3*x2-2*x3-7]#定义线性方程组，常数项移左\n",
    "rs=solve(eq,[x1,x2,x3])\n",
    "print(rs)\n",
    "#### 解非方阵###\n",
    "import numpy as np\n",
    "A=np.array([[2,-3,1,5],[-3,1,2,-4],[-1,-2,3,1]])\n",
    "print(A.shape)\n",
    "A_rank=np.linalg.matrix_rank(A)\n",
    "print(A_rank)\n",
    "b=np.array([6,5,11]).T \n",
    "#np.linalg.solve(A,b) \n",
    "\n",
    "A2=np.array([[1,2,3,4],[1,3,5,7]])\n",
    "print(\"目标空间维度:\",A2.shape[0])\n",
    " \n",
    "print(\"系数矩阵值秩\",np.linalg.matrix_rank(A2))\n",
    "\n",
    "\n",
    "\n"
   ]
  },
  {
   "cell_type": "markdown",
   "id": "e82c5aba-ed4a-49b7-abc3-e79fc300d8da",
   "metadata": {
    "slideshow": {
     "slide_type": "slide"
    },
    "tags": []
   },
   "source": [
    "## 矩阵的非奇异性\n",
    "由上可知，方程有解那么其对应的系数矩阵必须可逆，或者说对应向量能够通过对应的矩阵坐标得到新的空间投影，前提是对应矩阵可逆，也即该矩阵为非奇异矩阵。\n",
    "\n",
    "1. 当矩阵$A$为方阵（从线性方程角度，即方程个数与未知数$x$个数相同）时，才可能有你矩阵（即可能是非奇异的），但这并不是充分条件。\n",
    "2. 从线性方程的角度，方程组有唯一解的唯一可能是系数矩阵$A$的行或列线性无关。\n",
    "\n",
    "方正条件和线性无关条件结合在一起，构成了非奇异矩阵的充分必要条件。\n",
    "\n",
    "> 非奇异性 $\\leftrightarrow$ 方阵且线性无关\n",
    "\n",
    "进一步，一组线性方程有唯一解的唯一可能是系数矩阵$A$的行或列线性无关，在此情况下，$A$为非奇异矩阵，这意味着$A^{-1}$确实存在。且***唯一解$x=A^{-1}d$可求***\n",
    "\n",
    "### 矩阵的秩\n",
    "\n",
    "线性无关的概念也可以使用与任意的$m \\times n$矩阵，而不一定是方阵。在一个矩阵中，若线性无关的最大行数为$r$，则称该矩阵的秩为$r$（秩也告诉我们该矩阵线性无关最大的列数）。$m \\times n$矩阵的秩的最大值等于$m,n$中较小的一个。即：\n",
    "$$ r(A) \\leqslant min\\{m,n \\}$$\n",
    "> 矩阵可以看作是一个行向量组或列向量组，矩阵的秩就是矩阵的行向量组或列向组的极大线性无关组中所含向量的个数，也可以理解为**矩阵的秩就是有价值的内容数目**（全为0的向量没有价值内容）。\n",
    "\n",
    "### 行列式\n",
    "在线性代数中，行列式是基本的数学工具。其是一个算式，经过计算后就是数。行列式主要用于判读矩阵是否可逆，以及计算特征方程。\n",
    "\n",
    "* 行列式与矩阵的区别\n",
    "\n",
    "\n",
    "\n",
    "| 行列式| 矩阵 |  \n",
    "| -------- | -------- |  \n",
    "| $\\quad \\begin{vmatrix} a_{11} & a_{12} & ... &a_{1n} \\\\\n",
    "..& .. & .. ... \\\\$\n",
    "a_{11} & a_{12} & ... &a_{m \\times n} \\\\\n",
    "\\end{vmatrix} \\quad = \\sum_{j_1j_2..j_n} (-1)^ta_{1j_1}...a_{nj_n}  $   |   $\\quad \\begin{bmatrix} a_{11} & a_{12} & ... &a_{1n} \\\\\n",
    "..& .. & .. ... \\\\\n",
    "a_{11} & a_{12} & ... &a_{m \\times n} \\\\\n",
    "\\end{bmatrix} \\quad   $   |  \n",
    "| 行数等于列数    | 行列数可以不等     |  \n",
    "| 共有$n^2$个元素   | 共有$ m  \\times n $个元素     |\n",
    "| 本质为一个数值    | 本质为一组向量     | \n",
    "\n",
    "\n",
    "#### 线性方程组-齐次方程、增广矩阵\n",
    "在秩等概念的基础上，我们进一步回顾线性方程组中的其他概念。\n",
    "\n",
    "* （非）齐次方程\n",
    "\n",
    "考虑方程组:$Ax=b$其中若常数项向量 $b=0$即$b_1=b_2=b_3=b_n=0$那么方程组变为：$$ Ax=0$$\n",
    "其中0为0向量，这种特殊的情况称为齐次方程组。\n",
    "\n",
    "又由设$A$为非奇异矩阵，$x=A^{-1} \\times 0 \\rightarrow x=0$故可以得到：\n",
    "> 若$A$为非奇异矩阵，齐次方程组仅等得到一个0解，也可以理解为0向量在新的坐标投影依然是0向量。\n",
    "\n",
    "---\n",
    "* python 中相关的代码为\n",
    "\n",
    "``` python\n",
    "rank=np.linalg.matrix_rank(A)#求矩阵的秩\n",
    "deter=np.linalg.det(A)#求矩阵对应的行列式的值\n",
    "\n",
    "```\n",
    "* 总结线性方程组的结果\n",
    "\n",
    "\n",
    "\n",
    "| 对应方程组$Ax=b$ $A$为 $n \\times n$方阵| $b\\neq 0$ 非齐次方程组 | $b= 0$ 齐次方程组   |\n",
    "| -------- | -------- | -------- |\n",
    "| $ |A| \\neq 0$或 $r(A)=n$$ $A$系数矩阵为非奇异矩阵    | 存在唯一的非0解向量 $x \\neq 0$     | 存在唯一的0解向量 $x = 0$     |\n",
    "| $|A| = 0$或 $r(A)<n$ $A$系数矩阵为奇异矩阵-方程相容    | 存在无数个解（不包括0解）     | 存在无数个解（包括0解）   |\n",
    "| $|A| = 0$或 $r(A)<n$ $A$系数矩阵为奇异矩阵-方程不相容    | 无解     | 不可能出现   |\n",
    "\n",
    "> 线性方程组解数目的空间解释\n",
    "\n",
    "空间中$Ax=b$代表$x$向量通过列空间$A$ 的转换，得到$b$解向量，当且经当向量$b$在$A$的列空间中时，方程组才有解。\n",
    "\n",
    "\n",
    "\n",
    "\n",
    "\n",
    "\n",
    "----\n",
    "例题：分别通过矩阵的秩，与矩阵行列式计算矩阵是否为奇异矩阵，并通过行列式判读下列方程是否有唯一解,并解出。\n",
    "$$\\begin{align} 7x_1-3x_2-3x_3=7 \\end{align} $$"
   ]
  },
  {
   "cell_type": "code",
   "execution_count": 36,
   "id": "9d65e3c3-92a8-46b4-b3b3-fe2df741e0e4",
   "metadata": {
    "scrolled": true,
    "tags": []
   },
   "outputs": [
    {
     "name": "stdout",
     "output_type": "stream",
     "text": [
      "系数矩阵为： \n",
      " [[ 8 -1  0]\n",
      " [ 0  2  5]\n",
      " [ 2  0  3]]\n",
      "常数向量为： \n",
      " [16  5  7]\n",
      "(3, 3)\n",
      "矩阵是否是方阵： True\n",
      "矩阵的秩为： 3\n",
      "矩阵的行列数为: 3\n",
      "矩阵的秩与行列数是否相等： True\n",
      "行列式的值为 37.99999999999999\n",
      "行列式的值是否等于0： False\n",
      "判断为非奇异矩阵\n",
      "求得系数矩阵的逆为： \n",
      " [[ 0.15789474  0.07894737 -0.13157895]\n",
      " [ 0.26315789  0.63157895 -1.05263158]\n",
      " [-0.10526316 -0.05263158  0.42105263]]\n",
      "求得解向量为： [2. 0. 1.]\n"
     ]
    }
   ],
   "source": [
    "import numpy as np \n",
    "ar=np.array([[8,-1,0],[0,2,5],[2,0,3]])\n",
    "b=np.array([16,5,7]).T\n",
    "print(\"系数矩阵为： \\n\",ar)\n",
    "print(\"常数向量为： \\n\",b)\n",
    "print(ar.shape)\n",
    "print(\"矩阵是否是方阵：\",ar.shape[0]==ar.shape[1])\n",
    "rank=np.linalg.matrix_rank(ar)\n",
    "print(\"矩阵的秩为：\",rank)\n",
    "print(\"矩阵的行列数为:\",ar.shape[0])\n",
    "print(\"矩阵的秩与行列数是否相等：\",rank==ar.shape[0])\n",
    "determinant=np.linalg.det(ar)\n",
    "print(\"行列式的值为\",determinant)\n",
    "print(\"行列式的值是否等于0：\",determinant==0)\n",
    "if determinant==0:\n",
    "    print(\"判断为奇异矩阵\")\n",
    "\n",
    "else:\n",
    "    print(\"判断为非奇异矩阵\")\n",
    "    A2=np.linalg.inv(ar)\n",
    "    print(\"求得系数矩阵的逆为： \\n\",A2)\n",
    "    x=A2@b\n",
    "    print(\"求得解向量为：\",np.around(x))"
   ]
  },
  {
   "cell_type": "markdown",
   "id": "89a9af20-94ce-4a0a-9972-f9ef4f36bca3",
   "metadata": {},
   "source": [
    "\n",
    " \n",
    "\n",
    "\n",
    "\n",
    "\n",
    "\n",
    "\n"
   ]
  },
  {
   "cell_type": "code",
   "execution_count": 4,
   "id": "fa3deeb4-73b8-454e-ba3e-5cff191400b2",
   "metadata": {
    "execution": {
     "iopub.execute_input": "2022-03-30T09:50:17.825913Z",
     "iopub.status.busy": "2022-03-30T09:50:17.825119Z",
     "iopub.status.idle": "2022-03-30T09:50:17.981468Z",
     "shell.execute_reply": "2022-03-30T09:50:17.980795Z",
     "shell.execute_reply.started": "2022-03-30T09:50:17.825880Z"
    },
    "scrolled": true,
    "tags": []
   },
   "outputs": [
    {
     "name": "stdout",
     "output_type": "stream",
     "text": [
      "(2,)\n",
      "原有向量空间表达：\n",
      "矩阵A的形状： (3, 2)\n",
      "经过与矩阵A乘积后的新向量： [13 19 15]\n"
     ]
    },
    {
     "data": {
      "image/png": "[encoded data removed]",
      "text/plain": [
       "<Figure size 360x360 with 1 Axes>"
      ]
     },
     "metadata": {
      "needs_background": "light"
     },
     "output_type": "display_data"
    }
   ],
   "source": [
    "### 矩阵与向量相乘###\n",
    "import numpy as np \n",
    "import matplotlib.pyplot as plt \n",
    "#原始x为二维空间向量\n",
    "x=np.array([2,3]).T\n",
    "print(x.shape)\n",
    "### 通过设置spines，将上面的sin图进行修饰\n",
    "fig3,axes3=plt.subplots()\n",
    "fig3.set_size_inches(5,5)\n",
    "axes3.set_xlim(-5,5)\n",
    "axes3.set_ylim(-5,5)\n",
    " \n",
    "axes3.spines['top'].set_visible(False)\n",
    "axes3.spines['right'].set_visible(False)\n",
    "axes3.spines['left'].set_position(('data',0))\n",
    "axes3.spines['bottom'].set_position(('data',0))\n",
    "# 为图像添加网格\n",
    "axes3.grid(color='gray',linestyle='--',alpha=0.2)\n",
    " \n",
    "\n",
    "axes3.arrow(0,0,x[0],x[1],width=0,shape='full',head_width=0.25,head_length=0.3,color='blue')\n",
    "print(\"原有向量空间表达：\")\n",
    "\n",
    "A=np.array([[2,3],[2,5],[6,1]])\n",
    "print(\"矩阵A的形状：\",A.shape)\n",
    "b=np.dot(A,x)\n",
    "print(\"经过与矩阵A乘积后的新向量：\",b)\n",
    "plt.show()"
   ]
  },
  {
   "cell_type": "markdown",
   "id": "cc59f59a-6729-4738-ad7b-28cf5e512420",
   "metadata": {},
   "source": [
    "## 向量空间\n",
    " \n",
    " 两个线性无关的向量 $ u,v$ 的各种线性组合生成的所有2维向量的全体称为2维向量空间。\n",
    " \n",
    " >张成空间:\n",
    " >进一步扩展，对于一组线性无关向量，由他们所有线性组合所构成的空间就称为这组向量所**张成** 的空间。\n",
    " \n",
    " >基：当一组线性无关向量张成了一个空间时，也可以说这一组向量构成了该空间的某一个**基** ,例如\n",
    " $$ e_1= \\begin{bmatrix} 1\\\\0\\\\0 \\end{bmatrix}, e_2=\\begin{bmatrix} 0\\\\1\\\\0 \\end{bmatrix},e_3=\\begin{bmatrix} 0\\\\0\\\\1 \\end{bmatrix}$$\n",
    " 就构成了三维空间$ R^3$ 的一个单位基向量。实际上，n-空间可以由全部线性无关的n个单位相连全体构成。\n",
    " \n",
    " * 如果二维空间两个向量 $v,u$ 线性相关，那么两个向量就在一条直线上。\n",
    " * 如果三维空间三个向量线性相关，$ v,u,w $ 也意味这有个向量可以被其他向量线性表达，例如 $ w=av+bu $ 那么3个向量构成了一个平面，或直接退化成一条直线。\n",
    " \n",
    "\n",
    "\n",
    "### 基\n",
    " 定义：全称是基底向量。不共线的向量$e_1,e_2,...,e_n$可做这对应$n$维空间所有向量的一组基底。\n",
    " \n",
    "在向量空间中，各个向量可以用基底的线性组合进行表达，从而构成对应的空间。不同的基底实际上\n",
    "例如$e_1= \\begin{bmatrix} 1 \\\\ 0 \\end{bmatrix} \\quad , e_2= \\begin{bmatrix} 0 \\\\1 \\end{bmatrix}$构成了二维空间的一个基底，该空间中任何向量（包括0向量）都可以是该基底的线性表达，例如 $u=\\begin{bmatrix} 2 \\\\6 \\end{bmatrix} =2 \\times e_1 +6 \\times e_2$。\n",
    "\n",
    "我们可以根据需要选择新的基底，例如$e_z=[1,1],e_w=[-1,-1]$，则之前的向量$u$可以用新的基底进行表达，即得到新的基底上的新坐标。\n",
    "\n",
    "但是并不是所有的向量都能够构成$R^m$空间的基底，其必须满足以下条件：\n",
    "1. 向量的数量必须满足，例如构成$R^m$基底的向量本身的维度必须为$m$维，基向量的个数也必须为$m$个，否则无法表达$m$维空间，也就是对应的基向量矩阵应为$m \\times m$方阵。\n",
    "2. 基向量必须线性无关，若$m$维的基向量线性相关，那么其中一个基向量可为其他向量的线性组合，则无法表达$m$维空间，将会退化成$R^{m-n}$维度的空间，其中$n$为可被其他向量表达的向量个数。\n",
    "\n",
    "### 标准正交基\n",
    "\n",
    "\n",
    "\n",
    "### 空间相交 \n",
    "\n",
    "### 子空间\n",
    "1. 子空间必须包含母空间0向量\n",
    "2. 子空间满足加法率，即$v,u$为子空间中向量，那么$w=v+u$得到的$w$向量也一定在子空间中。\n",
    "3. 子空间满足乘法率，即$v$为子空间中向量，那么$kv$与标量$k$的乘法得到向量也一定在子空间中。\n",
    "\n",
    "### 0空间\n",
    "\n",
    "\n",
    "\n",
    " \n",
    "\n",
    " "
   ]
  },
  {
   "cell_type": "code",
   "execution_count": 3,
   "id": "b171db3e-75ca-4f67-a6f6-20a5240778dd",
   "metadata": {
    "execution": {
     "iopub.execute_input": "2022-03-31T10:13:23.192467Z",
     "iopub.status.busy": "2022-03-31T10:13:23.191518Z",
     "iopub.status.idle": "2022-03-31T10:13:23.658633Z",
     "shell.execute_reply": "2022-03-31T10:13:23.658037Z",
     "shell.execute_reply.started": "2022-03-31T10:13:23.192432Z"
    },
    "scrolled": true,
    "tags": []
   },
   "outputs": [
    {
     "name": "stdout",
     "output_type": "stream",
     "text": [
      "u 向量是否是e_x,e_y两个基底的线性组合： [ True  True]\n",
      "新的坐标上u的投影（cos） 9\n",
      "1\n",
      "新的基地构成的二维坐标矩阵： [[ 1  1]\n",
      " [-1  1]]\n",
      "向量u通过与新的二维坐标矩阵内积得到新的坐标下的投影： [9 1]\n"
     ]
    },
    {
     "data": {
      "image/png": "[encoded data removed]",
      "text/plain": [
       "<Figure size 1152x576 with 2 Axes>"
      ]
     },
     "metadata": {
      "needs_background": "light"
     },
     "output_type": "display_data"
    }
   ],
   "source": [
    "####基底，以及新的基底变换####\n",
    "import numpy as np \n",
    "import matplotlib.pyplot as plt \n",
    "fig,axes=plt.subplots(1,2)\n",
    "fig.set_size_inches(16,8)\n",
    "u=np.array([4,5])\n",
    "ax1=axes[0]\n",
    "ax2=axes[1]\n",
    "e_x=np.array([1,0])\n",
    "e_y=np.array([0,1])\n",
    "ax1.set_xlim(-7,7)\n",
    "ax1.set_ylim(-7,7)\n",
    "ax1.grid()\n",
    "ax1.arrow(0,0,e_x[0],e_x[1],head_width=0.1,color='green')\n",
    "ax1.arrow(0,0,e_y[0],e_y[1],head_width=0.1,color='green')\n",
    "ax1.arrow(0,0,u[0],u[1],head_length=0.1,head_width=0.1,color='red')\n",
    "#新的基底\n",
    "ax2.set_xlim(-5,5)\n",
    "ax2.set_ylim(-5,5)\n",
    "ax2.grid()\n",
    "e_z=np.array([1 ,1])\n",
    "e_w=np.array([-1  ,1])\n",
    "ax2.arrow(0,0,e_z[0],e_z[1],head_length=0.1,head_width=0.1,color='blue')\n",
    "ax2.arrow(0,0,e_w[0],e_w[1],head_length=0.1,head_width=0.1,color='blue')\n",
    "# 向量u是基底的线性组合\n",
    "u=np.array([4,5])\n",
    "u2=4*e_x+5*e_y\n",
    "print(\"u 向量是否是e_x,e_y两个基底的线性组合：\",u2==u)\n",
    "print(\"新的坐标上u的投影（cos）\",u@e_z)\n",
    "print(u@e_w)\n",
    "# 定义相关的坐标系\n",
    "new=np.array([e_z,e_w])\n",
    "print(\"新的基地构成的二维坐标矩阵：\",new)\n",
    "new_point=new@u\n",
    "print(\"向量u通过与新的二维坐标矩阵内积得到新的坐标下的投影：\",new_point)"
   ]
  },
  {
   "cell_type": "raw",
   "id": "c7440722-0adb-427a-8c88-02b9e7347a2b",
   "metadata": {},
   "source": [
    " "
   ]
  }
 ],
 "metadata": {
  "kernelspec": {
   "display_name": "Python 3 (ipykernel)",
   "language": "python",
   "name": "python3"
  },
  "language_info": {
   "codemirror_mode": {
    "name": "ipython",
    "version": 3
   },
   "file_extension": ".py",
   "mimetype": "text/x-python",
   "name": "python",
   "nbconvert_exporter": "python",
   "pygments_lexer": "ipython3",
   "version": "3.8.11"
  }
 },
 "nbformat": 4,
 "nbformat_minor": 5
}
