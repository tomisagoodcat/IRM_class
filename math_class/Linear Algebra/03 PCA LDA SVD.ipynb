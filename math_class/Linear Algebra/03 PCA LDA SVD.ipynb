{
 "cells": [
  {
   "cell_type": "code",
   "execution_count": null,
   "metadata": {},
   "outputs": [],
   "source": []
  },
  {
   "cell_type": "markdown",
   "metadata": {},
   "source": [
    "## 线性代数基础\n",
    "\n",
    "### 对称矩阵\n",
    "\n",
    ">如果一个矩阵 $S$ 的所有数据项都满足$S"
   ]
  },
  {
   "cell_type": "markdown",
   "metadata": {},
   "source": [
    "## SVD (Singular Value Decomposition）奇异值分解\n",
    "https://zhuanlan.zhihu.com/p/29846048\n",
    "> 优点：简化数据，去除噪声，提高算法的结果\n",
    "> \n",
    "> 缺点：数据的转换可能难以理解\n",
    "> \n",
    "> 适用数据范围：数值型数据\n",
    "利用SVD实现，可以能够用小的多的数据来表示原始数据，如此，实际上是去除了噪声和多余信息。\n",
    "---\n",
    "结合特征分解知识\n",
    "\n",
    "特征值的分解使用于\n",
    "\n",
    "SVD是将任意复杂（注意对比特征分解只能适用于方阵）的矩阵用更小，更简单的3个矩阵的相乘表示，用这3个小矩阵来描述大矩阵的重要特征。\n",
    "\n",
    "利用SVD 可以从稀疏矩阵（矩阵中有大量元素值为0）中提取有价值的信息，减少计算量，在使用线性代数的地方，基本上都要使用SVD。\n",
    "\n",
    "SVD不但应用在PCA、图像压缩、数字水印、推荐系统和文章分类、LSA中，是很多机器学习算法基石。"
   ]
  },
  {
   "cell_type": "markdown",
   "metadata": {},
   "source": [
    "### SVD数学定义\n",
    "与特征值分解不同，SVD不要求原始矩阵为方阵。\n",
    "\n",
    "$$ A=U_{m \\times m} \\Sigma_{m \\times n} V^T_{n \\times n}$$\n",
    "-------\n",
    " A 为$m \\times n$矩阵，$A \\times A^T$ 将得到一个对称矩阵，即$A_{ij}=A_{ji}$\n",
    "*  $U$ 是一个$m \\times m$的矩阵，\n",
    "*  $ \\Sigma$ 是一个 $m \\times n$ 的矩阵，除了主对角线上的元素以外全为0，主对角线上的每个元素都称为奇异值。奇异值矩阵是一个对角矩阵，除了对角元素外其他元素都为0\n",
    "*  $V$ 是一个 $n \\times n$ 的矩阵。\n",
    "*  \n",
    "$U$和$V$ 都是酉矩阵，即满足\n",
    "$U^T T=E_{m \\times m} , V^TV=E_{n \\times n}$\n",
    "\n",
    " ---\n",
    "\n",
    " "
   ]
  },
  {
   "cell_type": "markdown",
   "metadata": {},
   "source": []
  },
  {
   "cell_type": "markdown",
   "metadata": {},
   "source": [
    ">SVD是对数据进行有效特征整理的过程。首先，对于一个m×n矩阵A，我们可以理解为其有m个数据，n个特征，（想象成一个n个特征组成的坐标系中的m个点），然而一般情况下，这n个特征并不是正交的，也就是说这n个特征并不能归纳这个数据集的特征。SVD的作用就相当于是一个坐标系变换的过程，从一个不标准的n维坐标系，转换为一个标准的k维坐标系，并且使这个数据集中的点，到这个新坐标系的欧式距离为最小值（也就是这些点在这个新坐标系中的投影方差最大化），其实就是一个最小二乘的过程。进一步，如何使数据在新坐标系中的投影最大化呢，那么我们就需要让这个新坐标系中的基尽可能的不相关，我们可以用协方差来衡量这种相关性。A^T·A中计算的便是n×n的协方差矩阵，每一个值代表着原来的n个特征之间的相关性。当对这个协方差矩阵进行特征分解之后，我们可以得到奇异值和右奇异矩阵，而这个右奇异矩阵则是一个新的坐标系，奇异值则对应这个新坐标系中每个基对于整体数据的影响大小，我们这时便可以提取奇异值最大的k个基，作为新的坐标，这便是PCA的原理。"
   ]
  },
  {
   "cell_type": "markdown",
   "metadata": {},
   "source": [
    "通过python中np.linga.svd 求奇异分解\n",
    " Python中svd后得到的sigma是一个行向量，Python中为了节省空间只保留了A的奇异值，所以我们需要将它还原为奇异值矩阵。同时需要注意的是，比如一个5*5 大小的矩阵的奇异值只有两个，但是他的奇异值矩阵应该是 5*5的，所以后面的我们需要手动补零，并不能直接使用diag将sigma对角化。\n",
    "————————————————\n",
    "https://blog.csdn.net/Cheese_pop/article/details/78346662"
   ]
  },
  {
   "cell_type": "markdown",
   "metadata": {},
   "source": [
    "t"
   ]
  },
  {
   "cell_type": "code",
   "execution_count": 18,
   "metadata": {},
   "outputs": [
    {
     "name": "stdout",
     "output_type": "stream",
     "text": [
      "A与自身转置相乘，得到一个对称矩阵： [[112 105 114]\n",
      " [105 137 110]\n",
      " [114 110 123]] 得到对称矩阵形状： (3, 3)\n",
      "原始矩阵： [[ 1  5  7  6  1]\n",
      " [ 2  1 10  4  4]\n",
      " [ 3  6  7  5  2]] 原始矩阵形状: (3, 5)\n",
      "[[112 105 114]\n",
      " [105 137 110]\n",
      " [114 110 123]]\n",
      "左奇异矩阵 [[-0.55572489  0.40548161 -0.72577856]\n",
      " [-0.59283199 -0.80531618  0.00401031]\n",
      " [-0.58285511  0.43249337  0.68791671]] 矩阵形状： (3, 3)\n",
      "右奇异矩阵 [[-0.18828164 -0.37055755 -0.74981208 -0.46504304 -0.22080294]\n",
      " [ 0.01844501  0.76254787 -0.4369731   0.27450785 -0.38971845]\n",
      " [ 0.73354812  0.27392013 -0.12258381 -0.48996859  0.36301365]\n",
      " [ 0.36052404 -0.34595041 -0.43411102  0.6833004   0.30820273]\n",
      " [-0.5441869   0.2940985  -0.20822387 -0.0375734   0.7567019 ]] 矩阵形状： (5, 5)\n",
      "奇异值矩阵： [[18.53581747  0.          0.          0.          0.        ]\n",
      " [ 0.          5.0056557   0.          0.          0.        ]\n",
      " [ 0.          0.          1.83490648  0.          0.        ]] 奇异值矩阵形状： (3, 5)\n"
     ]
    }
   ],
   "source": [
    "import numpy as np \n",
    "from numpy import linalg as la \n",
    "A=np.array([1,5,7,6,1,2,1,10,4,4, 3,6,7,5,2]).reshape(3,5)\n",
    "print(\"A与自身转置相乘，得到一个对称矩阵：\",A@A.T,\"得到对称矩阵形状：\",(A@A.T).shape)\n",
    "print(\"原始矩阵：\",A,\"原始矩阵形状:\",A.shape)\n",
    "print(A@A.T)\n",
    "U,s,Vt=la.svd(A)\n",
    "Sigma=np.zeros(A.shape)#首先得到一个m*n的空矩阵，作为奇异值矩阵\n",
    "print(\"左奇异矩阵\",U,\"矩阵形状：\",U.shape)\n",
    "print(\"右奇异矩阵\",Vt,\"矩阵形状：\",Vt.shape)\n",
    " \n",
    "for i in range(len(s)):#为奇异值矩阵对角元素赋值\n",
    "    Sigma[i,i]=s[i]\n",
    "print(\"奇异值矩阵：\",Sigma,\"奇异值矩阵形状：\",Sigma.shape)"
   ]
  },
  {
   "cell_type": "code",
   "execution_count": 22,
   "metadata": {},
   "outputs": [
    {
     "name": "stdout",
     "output_type": "stream",
     "text": [
      "同还原得到矩阵是否与原始矩阵相同： True\n"
     ]
    }
   ],
   "source": [
    "B=U@Sigma@Vt\n",
    "print(\"同还原得到矩阵是否与原始矩阵相同：\",np.allclose(A,B))"
   ]
  },
  {
   "cell_type": "markdown",
   "metadata": {},
   "source": [
    " #### 基于SVD的维度压缩\n",
    " 在进行压缩时，首先计算得到原始矩阵A（可以代表图片等），的对应$ U V_T\\Sigma$矩阵，从中抽取信息量载荷大的k行，再还原新的矩阵 $A_,$ 对比原有矩阵$ A $得到压缩。"
   ]
  },
  {
   "cell_type": "code",
   "execution_count": 33,
   "metadata": {},
   "outputs": [
    {
     "name": "stdout",
     "output_type": "stream",
     "text": [
      "k值 2\n",
      "奇异值矩阵选取k行k列: [[18.53581747  0.        ]\n",
      " [ 0.          5.0056557 ]]\n",
      "右奇异矩阵选取k行 [[-0.55572489  0.40548161]\n",
      " [-0.59283199 -0.80531618]\n",
      " [-0.58285511  0.43249337]]\n",
      "左奇异矩阵选取列 [[-0.18828164 -0.37055755 -0.74981208 -0.46504304 -0.22080294]\n",
      " [ 0.01844501  0.76254787 -0.4369731   0.27450785 -0.38971845]]\n",
      "通过计算得到压缩矩阵: \n",
      " [[ 1.97689227  5.36478923  6.83675076  5.3474913   1.48343826]\n",
      " [ 1.99460216  0.99798435 10.00090204  4.00360545  3.99732875]\n",
      " [ 2.07406947  5.6542408   7.15473299  5.61846914  1.54178136]]\n",
      "原始矩阵 \n",
      " [[ 1  5  7  6  1]\n",
      " [ 2  1 10  4  4]\n",
      " [ 3  6  7  5  2]]\n"
     ]
    }
   ],
   "source": [
    "k=2\n",
    "print(\"k值\",k)\n",
    "Sigma_k=Sigma[:k,:k]##奇异值矩阵选取k行ke列\n",
    "print(\"奇异值矩阵选取k行k列:\",Sigma_k)\n",
    "U_k=U[:,:k]\n",
    "print(\"右奇异矩阵选取k行\",U_k)\n",
    "Vt_k=Vt[:k,:]\n",
    "print(\"左奇异矩阵选取列\",Vt_k)\n",
    "\n",
    "A_k=U_k@Sigma_k@Vt_k\n",
    "print(\"通过计算得到压缩矩阵: \\n\",A_k)\n",
    "print(\"原始矩阵 \\n\",A)\n"
   ]
  },
  {
   "cell_type": "markdown",
   "metadata": {},
   "source": [
    "#### 实现图片压缩\n",
    "https://blog.csdn.net/discoverer100/article/details/89356513"
   ]
  },
  {
   "cell_type": "code",
   "execution_count": 36,
   "metadata": {},
   "outputs": [
    {
     "name": "stdout",
     "output_type": "stream",
     "text": [
      "Looking in indexes: https://pypi.tuna.tsinghua.edu.cn/simple"
     ]
    },
    {
     "name": "stderr",
     "output_type": "stream",
     "text": [
      "WARNING: You are using pip version 22.0.4; however, version 22.1.2 is available.\n",
      "You should consider upgrading via the 'C:\\Users\\tomis\\AppData\\Local\\Microsoft\\WindowsApps\\PythonSoftwareFoundation.Python.3.10_qbz5n2kfra8p0\\python.exe -m pip install --upgrade pip' command.\n"
     ]
    },
    {
     "name": "stdout",
     "output_type": "stream",
     "text": [
      "\n",
      "Collecting pillow\n",
      "  Downloading https://pypi.tuna.tsinghua.edu.cn/packages/02/55/67a3c17b9e7d972ed8c246f104da99ca4f3ea42fba566697e479011b84b6/Pillow-9.2.0-cp310-cp310-win_amd64.whl (3.3 MB)\n",
      "     ---------------------------------------- 3.3/3.3 MB 165.0 kB/s eta 0:00:00\n",
      "Installing collected packages: pillow\n",
      "Successfully installed pillow-9.2.0\n"
     ]
    }
   ],
   "source": [
    "!pip install pillow"
   ]
  },
  {
   "cell_type": "code",
   "execution_count": 5,
   "metadata": {},
   "outputs": [
    {
     "name": "stdout",
     "output_type": "stream",
     "text": [
      "Looking in indexes: https://pypi.tuna.tsinghua.edu.cn/simple\n",
      "Collecting matplotlib\n",
      "  Downloading https://pypi.tuna.tsinghua.edu.cn/packages/67/4e/5959c5822f0694e4c2beb93f9ee34b8ec49052fc79d88f8842d9ded72f02/matplotlib-3.5.2-cp310-cp310-win_amd64.whl (7.2 MB)\n",
      "     ------------------------                 4.5/7.2 MB 41.2 kB/s eta 0:01:07\n"
     ]
    },
    {
     "name": "stderr",
     "output_type": "stream",
     "text": [
      "ERROR: Exception:\n",
      "Traceback (most recent call last):\n",
      "  File \"C:\\Program Files\\WindowsApps\\PythonSoftwareFoundation.Python.3.10_3.10.1520.0_x64__qbz5n2kfra8p0\\lib\\site-packages\\pip\\_vendor\\urllib3\\response.py\", line 438, in _error_catcher\n",
      "    yield\n",
      "  File \"C:\\Program Files\\WindowsApps\\PythonSoftwareFoundation.Python.3.10_3.10.1520.0_x64__qbz5n2kfra8p0\\lib\\site-packages\\pip\\_vendor\\urllib3\\response.py\", line 519, in read\n",
      "    data = self._fp.read(amt) if not fp_closed else b\"\"\n",
      "  File \"C:\\Program Files\\WindowsApps\\PythonSoftwareFoundation.Python.3.10_3.10.1520.0_x64__qbz5n2kfra8p0\\lib\\site-packages\\pip\\_vendor\\cachecontrol\\filewrapper.py\", line 90, in read\n",
      "    data = self.__fp.read(amt)\n",
      "  File \"C:\\Program Files\\WindowsApps\\PythonSoftwareFoundation.Python.3.10_3.10.1520.0_x64__qbz5n2kfra8p0\\lib\\http\\client.py\", line 465, in read\n",
      "    s = self.fp.read(amt)\n",
      "  File \"C:\\Program Files\\WindowsApps\\PythonSoftwareFoundation.Python.3.10_3.10.1520.0_x64__qbz5n2kfra8p0\\lib\\socket.py\", line 705, in readinto\n",
      "    return self._sock.recv_into(b)\n",
      "  File \"C:\\Program Files\\WindowsApps\\PythonSoftwareFoundation.Python.3.10_3.10.1520.0_x64__qbz5n2kfra8p0\\lib\\ssl.py\", line 1274, in recv_into\n",
      "    return self.read(nbytes, buffer)\n",
      "  File \"C:\\Program Files\\WindowsApps\\PythonSoftwareFoundation.Python.3.10_3.10.1520.0_x64__qbz5n2kfra8p0\\lib\\ssl.py\", line 1130, in read\n",
      "    return self._sslobj.read(len, buffer)\n",
      "TimeoutError: The read operation timed out\n",
      "\n",
      "During handling of the above exception, another exception occurred:\n",
      "\n",
      "Traceback (most recent call last):\n",
      "  File \"C:\\Program Files\\WindowsApps\\PythonSoftwareFoundation.Python.3.10_3.10.1520.0_x64__qbz5n2kfra8p0\\lib\\site-packages\\pip\\_internal\\cli\\base_command.py\", line 167, in exc_logging_wrapper\n",
      "    status = run_func(*args)\n",
      "  File \"C:\\Program Files\\WindowsApps\\PythonSoftwareFoundation.Python.3.10_3.10.1520.0_x64__qbz5n2kfra8p0\\lib\\site-packages\\pip\\_internal\\cli\\req_command.py\", line 205, in wrapper\n",
      "    return func(self, options, args)\n",
      "  File \"C:\\Program Files\\WindowsApps\\PythonSoftwareFoundation.Python.3.10_3.10.1520.0_x64__qbz5n2kfra8p0\\lib\\site-packages\\pip\\_internal\\commands\\install.py\", line 339, in run\n",
      "    requirement_set = resolver.resolve(\n",
      "  File \"C:\\Program Files\\WindowsApps\\PythonSoftwareFoundation.Python.3.10_3.10.1520.0_x64__qbz5n2kfra8p0\\lib\\site-packages\\pip\\_internal\\resolution\\resolvelib\\resolver.py\", line 94, in resolve\n",
      "    result = self._result = resolver.resolve(\n",
      "  File \"C:\\Program Files\\WindowsApps\\PythonSoftwareFoundation.Python.3.10_3.10.1520.0_x64__qbz5n2kfra8p0\\lib\\site-packages\\pip\\_vendor\\resolvelib\\resolvers.py\", line 481, in resolve\n",
      "    state = resolution.resolve(requirements, max_rounds=max_rounds)\n",
      "  File \"C:\\Program Files\\WindowsApps\\PythonSoftwareFoundation.Python.3.10_3.10.1520.0_x64__qbz5n2kfra8p0\\lib\\site-packages\\pip\\_vendor\\resolvelib\\resolvers.py\", line 348, in resolve\n",
      "    self._add_to_criteria(self.state.criteria, r, parent=None)\n",
      "  File \"C:\\Program Files\\WindowsApps\\PythonSoftwareFoundation.Python.3.10_3.10.1520.0_x64__qbz5n2kfra8p0\\lib\\site-packages\\pip\\_vendor\\resolvelib\\resolvers.py\", line 172, in _add_to_criteria\n",
      "    if not criterion.candidates:\n",
      "  File \"C:\\Program Files\\WindowsApps\\PythonSoftwareFoundation.Python.3.10_3.10.1520.0_x64__qbz5n2kfra8p0\\lib\\site-packages\\pip\\_vendor\\resolvelib\\structs.py\", line 151, in __bool__\n",
      "    return bool(self._sequence)\n",
      "  File \"C:\\Program Files\\WindowsApps\\PythonSoftwareFoundation.Python.3.10_3.10.1520.0_x64__qbz5n2kfra8p0\\lib\\site-packages\\pip\\_internal\\resolution\\resolvelib\\found_candidates.py\", line 155, in __bool__\n",
      "    return any(self)\n",
      "  File \"C:\\Program Files\\WindowsApps\\PythonSoftwareFoundation.Python.3.10_3.10.1520.0_x64__qbz5n2kfra8p0\\lib\\site-packages\\pip\\_internal\\resolution\\resolvelib\\found_candidates.py\", line 143, in <genexpr>\n",
      "    return (c for c in iterator if id(c) not in self._incompatible_ids)\n",
      "  File \"C:\\Program Files\\WindowsApps\\PythonSoftwareFoundation.Python.3.10_3.10.1520.0_x64__qbz5n2kfra8p0\\lib\\site-packages\\pip\\_internal\\resolution\\resolvelib\\found_candidates.py\", line 47, in _iter_built\n",
      "    candidate = func()\n",
      "  File \"C:\\Program Files\\WindowsApps\\PythonSoftwareFoundation.Python.3.10_3.10.1520.0_x64__qbz5n2kfra8p0\\lib\\site-packages\\pip\\_internal\\resolution\\resolvelib\\factory.py\", line 215, in _make_candidate_from_link\n",
      "    self._link_candidate_cache[link] = LinkCandidate(\n",
      "  File \"C:\\Program Files\\WindowsApps\\PythonSoftwareFoundation.Python.3.10_3.10.1520.0_x64__qbz5n2kfra8p0\\lib\\site-packages\\pip\\_internal\\resolution\\resolvelib\\candidates.py\", line 288, in __init__\n",
      "    super().__init__(\n",
      "  File \"C:\\Program Files\\WindowsApps\\PythonSoftwareFoundation.Python.3.10_3.10.1520.0_x64__qbz5n2kfra8p0\\lib\\site-packages\\pip\\_internal\\resolution\\resolvelib\\candidates.py\", line 158, in __init__\n",
      "    self.dist = self._prepare()\n",
      "  File \"C:\\Program Files\\WindowsApps\\PythonSoftwareFoundation.Python.3.10_3.10.1520.0_x64__qbz5n2kfra8p0\\lib\\site-packages\\pip\\_internal\\resolution\\resolvelib\\candidates.py\", line 227, in _prepare\n",
      "    dist = self._prepare_distribution()\n",
      "  File \"C:\\Program Files\\WindowsApps\\PythonSoftwareFoundation.Python.3.10_3.10.1520.0_x64__qbz5n2kfra8p0\\lib\\site-packages\\pip\\_internal\\resolution\\resolvelib\\candidates.py\", line 299, in _prepare_distribution\n",
      "    return preparer.prepare_linked_requirement(self._ireq, parallel_builds=True)\n",
      "  File \"C:\\Program Files\\WindowsApps\\PythonSoftwareFoundation.Python.3.10_3.10.1520.0_x64__qbz5n2kfra8p0\\lib\\site-packages\\pip\\_internal\\operations\\prepare.py\", line 487, in prepare_linked_requirement\n",
      "    return self._prepare_linked_requirement(req, parallel_builds)\n",
      "  File \"C:\\Program Files\\WindowsApps\\PythonSoftwareFoundation.Python.3.10_3.10.1520.0_x64__qbz5n2kfra8p0\\lib\\site-packages\\pip\\_internal\\operations\\prepare.py\", line 532, in _prepare_linked_requirement\n",
      "    local_file = unpack_url(\n",
      "  File \"C:\\Program Files\\WindowsApps\\PythonSoftwareFoundation.Python.3.10_3.10.1520.0_x64__qbz5n2kfra8p0\\lib\\site-packages\\pip\\_internal\\operations\\prepare.py\", line 214, in unpack_url\n",
      "    file = get_http_url(\n",
      "  File \"C:\\Program Files\\WindowsApps\\PythonSoftwareFoundation.Python.3.10_3.10.1520.0_x64__qbz5n2kfra8p0\\lib\\site-packages\\pip\\_internal\\operations\\prepare.py\", line 94, in get_http_url\n",
      "    from_path, content_type = download(link, temp_dir.path)\n",
      "  File \"C:\\Program Files\\WindowsApps\\PythonSoftwareFoundation.Python.3.10_3.10.1520.0_x64__qbz5n2kfra8p0\\lib\\site-packages\\pip\\_internal\\network\\download.py\", line 146, in __call__\n",
      "    for chunk in chunks:\n",
      "  File \"C:\\Program Files\\WindowsApps\\PythonSoftwareFoundation.Python.3.10_3.10.1520.0_x64__qbz5n2kfra8p0\\lib\\site-packages\\pip\\_internal\\cli\\progress_bars.py\", line 304, in _rich_progress_bar\n",
      "    for chunk in iterable:\n",
      "  File \"C:\\Program Files\\WindowsApps\\PythonSoftwareFoundation.Python.3.10_3.10.1520.0_x64__qbz5n2kfra8p0\\lib\\site-packages\\pip\\_internal\\network\\utils.py\", line 63, in response_chunks\n",
      "    for chunk in response.raw.stream(\n",
      "  File \"C:\\Program Files\\WindowsApps\\PythonSoftwareFoundation.Python.3.10_3.10.1520.0_x64__qbz5n2kfra8p0\\lib\\site-packages\\pip\\_vendor\\urllib3\\response.py\", line 576, in stream\n",
      "    data = self.read(amt=amt, decode_content=decode_content)\n",
      "  File \"C:\\Program Files\\WindowsApps\\PythonSoftwareFoundation.Python.3.10_3.10.1520.0_x64__qbz5n2kfra8p0\\lib\\site-packages\\pip\\_vendor\\urllib3\\response.py\", line 512, in read\n",
      "    with self._error_catcher():\n",
      "  File \"C:\\Program Files\\WindowsApps\\PythonSoftwareFoundation.Python.3.10_3.10.1520.0_x64__qbz5n2kfra8p0\\lib\\contextlib.py\", line 153, in __exit__\n",
      "    self.gen.throw(typ, value, traceback)\n",
      "  File \"C:\\Program Files\\WindowsApps\\PythonSoftwareFoundation.Python.3.10_3.10.1520.0_x64__qbz5n2kfra8p0\\lib\\site-packages\\pip\\_vendor\\urllib3\\response.py\", line 443, in _error_catcher\n",
      "    raise ReadTimeoutError(self._pool, None, \"Read timed out.\")\n",
      "pip._vendor.urllib3.exceptions.ReadTimeoutError: HTTPSConnectionPool(host='pypi.tuna.tsinghua.edu.cn', port=443): Read timed out.\n",
      "WARNING: You are using pip version 22.0.4; however, version 22.1.2 is available.\n",
      "You should consider upgrading via the 'C:\\Users\\tomis\\AppData\\Local\\Microsoft\\WindowsApps\\PythonSoftwareFoundation.Python.3.10_qbz5n2kfra8p0\\python.exe -m pip install --upgrade pip' command.\n"
     ]
    }
   ],
   "source": [
    "!pip install -U matplotlib"
   ]
  },
  {
   "cell_type": "code",
   "execution_count": 6,
   "metadata": {},
   "outputs": [
    {
     "ename": "SyntaxError",
     "evalue": "invalid syntax (684456541.py, line 9)",
     "output_type": "error",
     "traceback": [
      "\u001b[1;36m  Input \u001b[1;32mIn [6]\u001b[1;36m\u001b[0m\n\u001b[1;33m    U_k=\u001b[0m\n\u001b[1;37m        ^\u001b[0m\n\u001b[1;31mSyntaxError\u001b[0m\u001b[1;31m:\u001b[0m invalid syntax\n"
     ]
    }
   ],
   "source": [
    "from PIL import Image\n",
    "import numpy as np\n",
    "import matplotlib.pyplot as plt\n",
    "def image_svd(A,k):\n",
    "    U,s,Vt=np.linalg.svd(A)\n",
    "    Sigma=np.zeros(A.shape)\n",
    "    for i in range(len(s)):#为奇异值矩阵对角元素赋值\n",
    "      Sigma[i,i]=s[i]\n",
    "    U_k=\n",
    "\n",
    "if __name__==\"__main__\":\n",
    "    image=Image.open(\"forest.jpg\",\"r\")\n",
    "    A=np.array(image)\n",
    "    print(\"图片向量化: \\n\",A,\"\\n 图片形状：\")\n",
    "  \n",
    "\n",
    " \n",
    "    \n",
    "    "
   ]
  },
  {
   "cell_type": "code",
   "execution_count": null,
   "metadata": {},
   "outputs": [],
   "source": [
    "p"
   ]
  },
  {
   "cell_type": "code",
   "execution_count": null,
   "metadata": {},
   "outputs": [],
   "source": []
  }
 ],
 "metadata": {
  "kernelspec": {
   "display_name": "Python 3.10.5 64-bit (windows store)",
   "language": "python",
   "name": "python3"
  },
  "language_info": {
   "codemirror_mode": {
    "name": "ipython",
    "version": 3
   },
   "file_extension": ".py",
   "mimetype": "text/x-python",
   "name": "python",
   "nbconvert_exporter": "python",
   "pygments_lexer": "ipython3",
   "version": "3.10.5"
  },
  "orig_nbformat": 4,
  "vscode": {
   "interpreter": {
    "hash": "e4b54236f4c0c00fb874f9f007f344520403f3fc507691b2728f3b89f19e3e2a"
   }
  }
 },
 "nbformat": 4,
 "nbformat_minor": 2
}
