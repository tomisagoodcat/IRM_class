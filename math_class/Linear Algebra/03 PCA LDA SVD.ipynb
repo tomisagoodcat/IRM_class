{
 "cells": [
  {
   "cell_type": "code",
   "execution_count": null,
   "metadata": {},
   "outputs": [],
   "source": []
  },
  {
   "cell_type": "markdown",
   "metadata": {},
   "source": [
    "## 线性代数基础\n",
    "\n",
    "### 对称矩阵\n",
    "\n",
    ">如果一个矩阵 $S$ 的所有数据项都满足$S"
   ]
  },
  {
   "cell_type": "markdown",
   "metadata": {},
   "source": [
    "## SVD \n",
    "\n",
    "> 优点：简化数据，去除噪声，提高算法的结果\n",
    "> \n",
    "> 缺点：数据的转换可能难以理解\n",
    "> \n",
    "> 适用数据范围：数值型数据\n",
    "利用SVD实现，可以能够用小的多的数据来表示原始数据，如此，实际上是去除了噪声和多余信息。\n",
    "---\n",
    "结合特征分解知识\n",
    "\n",
    "特征值的分解使用于\n",
    "\n",
    "SVD是将任意复杂（注意对比特征分解只能适用于方阵）的矩阵用更小，更简单的3个矩阵的相乘表示，用这3个小矩阵来描述大矩阵的重要特征。\n",
    "\n",
    "利用SVD 可以从稀疏矩阵（矩阵中有大量元素值为0）中提取有价值的信息，减少计算量，在使用线性代数的地方，基本上都要使用SVD。\n",
    "\n",
    "SVD不但应用在PCA、图像压缩、数字水印、推荐系统和文章分类、LSA中，是很多机器学习算法基石。"
   ]
  },
  {
   "cell_type": "markdown",
   "metadata": {},
   "source": [
    "### SVD数学定义\n",
    "与特征值分解不同，SVD不要求原始矩阵为方阵。"
   ]
  },
  {
   "cell_type": "code",
   "execution_count": null,
   "metadata": {},
   "outputs": [],
   "source": [
    "import numpy as np \n",
    "from numpy import linalg as la \n",
    "A=np.array([15,7,6,1,2,1,10,4,4, ])\n"
   ]
  }
 ],
 "metadata": {
  "language_info": {
   "name": "python"
  },
  "orig_nbformat": 4
 },
 "nbformat": 4,
 "nbformat_minor": 2
}
