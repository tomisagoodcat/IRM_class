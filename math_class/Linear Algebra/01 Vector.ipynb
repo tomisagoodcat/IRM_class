{
 "cells": [
  {
   "cell_type": "markdown",
   "metadata": {},
   "source": [
    "# 背景\n",
    "本节介绍线性代数基础知识，包括向量概念、向量计算\n",
    "\n",
    "计算使用numpy以及pytorch，tensorflow实现"
   ]
  },
  {
   "cell_type": "markdown",
   "metadata": {},
   "source": [
    "# 基本概念\n",
    "> 可视化课程参考：https://www.bilibili.com/video/BV1ys411472E?p=2&vd_source=f15afd5dabb76e37c3fce13da41d7a0c\n",
    "## 向量 Vector\n",
    "Vectors, and vector spaces, are fundamental to *linear algebra*, and they're used in many machine learning models. Vectors describe spatial lines and planes, enabling you to perform calculations that explore relationships in multi-dimensional space.\n",
    "\n",
    "实际上，我们在高中就学过向量的概念，例如重力，浮力都可以表现为有大小有方向的向量。\n",
    "\n",
    "**在数学中我们把既有大小又有方向的量称为向量（vector)，而把只有大小没有方向的量成为数量。对应在物理中，向量称为矢量，数量称为标量。**\n",
    "\n",
    "---\n",
    "At its simplest, a vector is a numeric element that has both *magnitude* and *direction*. The magnitude represents a distance (for example, \"2 miles\") and the direction indicates which way the vector is headed (for example, \"East\"). **Vectors are defined by an n-dimensional coordinate that describe a point in space that can be connected by a line from an arbitrary origin.**\n",
    "\n",
    "That all seems a bit complicated, so let's start with a simple, two-dimensional example. In this case, we'll have a vector that is defined by a point in a two-dimensional plane: A two dimensional coordinate consists of an *x* and a *y* value, and in this case we'll use **2** for *x* and **1** for *y*.\n",
    "\n",
    "Our vector can be written as **v**=(2,1), but more formally we would use the following notation, in which the dimensional coordinate values for the vector are shown as a matrix:\n",
    "\\begin{equation}\\vec{v} = \\begin{bmatrix}2 \\\\ 1 \\end{bmatrix}\\end{equation}\n",
    "\n",
    "So what exactly does that mean? Well, the coordinate is two-dimensional, and describes the movements required to get to the end point (of *head*) of the vector - in this case, we need to move 2 units in the *x* dimension, and 1 unit in the *y* dimension. Note that we don't specify a starting point for the vector - we're simply describing a destination coordinate that encapsulate the magnitide and direction of the vector. Think about it as the directions you need to follow to get to *there* from *here*, without specifying where *here* actually is!\n",
    "\n",
    "It can help to visualize the vector, and with a two-dimensional vector, that's pretty straightforward. We just define a two-dimensional plane, choose a starting point, and plot the coordinate described by the vector relative to the starting point.\n",
    "\n",
    "Run the code in the following cell to visualize the vector **v** (which remember is described by the coordinate (2,1)).\n",
    "----\n",
    "python中，一般使用行向量代表向量，但在数学运算中，常使用列向量代表向量"
   ]
  },
  {
   "cell_type": "code",
   "execution_count": 2,
   "metadata": {},
   "outputs": [
    {
     "name": "stdout",
     "output_type": "stream",
     "text": [
      "[[2]\n",
      " [1]]\n"
     ]
    },
    {
     "data": {
      "image/png": "[encoded data removed]",
      "text/plain": [
       "<Figure size 432x288 with 1 Axes>"
      ]
     },
     "metadata": {
      "needs_background": "light"
     },
     "output_type": "display_data"
    }
   ],
   "source": [
    "## 线性代数-向量numpy\n",
    " \n",
    "import numpy as np\n",
    "import matplotlib.pyplot as plt\n",
    "\n",
    "# 我们使用numpy中的数组来表示向量\n",
    "v = np.array([2,1])\n",
    "vt=v.reshape(2,1)\n",
    "print(vt)\n",
    "# 绘制图像，展现向量的空间表达.\n",
    " \n",
    "fig,axes=plt.subplots()\n",
    "axes.set_xlim(0,3)\n",
    "axes.set_ylim(0,3)\n",
    "axes.grid()\n",
    "axes.arrow(0,0,v[0],v[1],head_length=0.1,head_width=0.1,color='blue')\n",
    "plt.show()"
   ]
  },
  {
   "cell_type": "code",
   "execution_count": 1,
   "metadata": {},
   "outputs": [],
   "source": [
    "!pip3 install torch torchvision torchaudio\n",
    "\n"
   ]
  },
  {
   "cell_type": "code",
   "execution_count": 2,
   "metadata": {},
   "outputs": [
    {
     "ename": "ModuleNotFoundError",
     "evalue": "No module named 'torch'",
     "output_type": "error",
     "traceback": [
      "\u001b[1;31m---------------------------------------------------------------------------\u001b[0m",
      "\u001b[1;31mModuleNotFoundError\u001b[0m                       Traceback (most recent call last)",
      "\u001b[1;32mc:\\Users\\tomis\\Documents\\GitHub\\IRM_class\\math_class\\Linear Algebra\\01 Vector.ipynb Cell 5'\u001b[0m in \u001b[0;36m<cell line: 2>\u001b[1;34m()\u001b[0m\n\u001b[0;32m      <a href='vscode-notebook-cell:/c%3A/Users/tomis/Documents/GitHub/IRM_class/math_class/Linear%20Algebra/01%20Vector.ipynb#ch0000003?line=0'>1</a>\u001b[0m \u001b[39m# 线性代数-向量torch\u001b[39;00m\n\u001b[1;32m----> <a href='vscode-notebook-cell:/c%3A/Users/tomis/Documents/GitHub/IRM_class/math_class/Linear%20Algebra/01%20Vector.ipynb#ch0000003?line=1'>2</a>\u001b[0m \u001b[39mimport\u001b[39;00m \u001b[39mtorch\u001b[39;00m \u001b[39mas\u001b[39;00m \u001b[39mt\u001b[39;00m\n\u001b[0;32m      <a href='vscode-notebook-cell:/c%3A/Users/tomis/Documents/GitHub/IRM_class/math_class/Linear%20Algebra/01%20Vector.ipynb#ch0000003?line=2'>3</a>\u001b[0m \u001b[39mimport\u001b[39;00m \u001b[39mmatplotlib\u001b[39;00m\u001b[39m.\u001b[39;00m\u001b[39mpyplot\u001b[39;00m \u001b[39mas\u001b[39;00m \u001b[39mplt\u001b[39;00m\n\u001b[0;32m      <a href='vscode-notebook-cell:/c%3A/Users/tomis/Documents/GitHub/IRM_class/math_class/Linear%20Algebra/01%20Vector.ipynb#ch0000003?line=3'>4</a>\u001b[0m vt\u001b[39m=\u001b[39mt\u001b[39m.\u001b[39mTensor([\u001b[39m2\u001b[39m,\u001b[39m1\u001b[39m])\n",
      "\u001b[1;31mModuleNotFoundError\u001b[0m: No module named 'torch'"
     ]
    }
   ],
   "source": [
    "# 线性代数-向量torch\n",
    "import torch as t\n",
    "import matplotlib.pyplot as plt\n",
    "vt=t.Tensor([2,1])\n",
    "# 绘制图像，展现向量的空间表达.\n",
    " \n",
    "fig,axes=plt.subplots()\n",
    "axes.set_xlim(0,3)\n",
    "axes.set_ylim(0,3)\n",
    "axes.grid()\n",
    "axes.arrow(0,0,vt[0],vt[1],head_length=0.1,head_width=0.1,color='blue')\n",
    "plt.show()"
   ]
  },
  {
   "cell_type": "markdown",
   "metadata": {},
   "source": [
    "## Calculating Vector Magnitude and Direction 向量大小与方向计算\n",
    "We tend to work with vectors by expressing their components as *cartesian coordinates*; that is, *x* and *y* (and other dimension) values that define the number of units travelled along each dimension. So the coordinates of our (2,1) vector indicate that we must travel 2 units along the *x* axis, and *1* unit along the *y* axis.\n",
    "\n",
    "However, you can also work with verctors in terms of their *polar coordinates*; that is coordinates that describe the magnitude and direction of the vector. The magnitude is the overall distance of the vector from tail to head, and the direction is the angle at which the vector is oriented.\n",
    "\n",
    "### Calculating Magnitude\n",
    "Calculating the magnitude of the vector from its cartesian coordinates requires measuring the distance between the arbitrary starting point and the vector head point. For a two-dimensional vector, we're actually just calculating the length of the hypotenuse in a right-angled triangle - so we could simply invoke Pythagorean theorum and calculate the square root of the sum of the squares of it's components, like this:\n",
    "\n",
    "$$\\begin{equation}\\|\\vec{v}\\| = \\sqrt{v_{1}\\;^{2} + v_{2}\\;^{2}}\\end{equation}$$\n",
    "\n",
    "\n",
    "The notation for a vector's magnitude is to surround the vector name with vertical bars - you can use single bars (for example, |**v**|) or double bars (||**v**||). Double-bars are often used to avoid confusion with absolute values. Note that the components of the vector are indicated by subscript indices (v<sub>1</sub>, v<sub>2</sub>,...v<sub>*n*</sub>),\n",
    "\n",
    "In this case, the vector **v** has two components with values **2** and **1**, so our magnitude calculation is:\n",
    "\n",
    "$$\\begin{equation}\\|\\vec{v}\\| = \\sqrt{2^{2} + 1^{2}}\\end{equation}$$\n",
    "\n",
    "Which is:\n",
    "\n",
    "$$ \\begin{equation}\\|\\vec{v}\\| = \\sqrt{4 + 1}\\end{equation}$$\n",
    "\n",
    "So:\n",
    "\n",
    "$$ \\begin{equation}\\|\\vec{v}\\| = \\sqrt{5} \\approx 2.24\\end{equation}$$\n",
    "\n",
    "You can run the following Python code to get a more precise result (note that the elements of a numpy array are zero-based)"
   ]
  },
  {
   "cell_type": "code",
   "execution_count": 6,
   "metadata": {},
   "outputs": [
    {
     "name": "stdout",
     "output_type": "stream",
     "text": [
      "向量大小为： 2.23606797749979\n",
      "torch计算得到向量大小为： tensor(2.2361)\n"
     ]
    }
   ],
   "source": [
    "## 线性代数-向量\n",
    "# 向量大小计算\n",
    "import numpy as np\n",
    "import matplotlib.pyplot as plt\n",
    "import torch as t \n",
    "\n",
    "# 我们使用numpy中的数组来表示向量\n",
    "v = np.array([2,1])\n",
    "\n",
    "magnitude=np.sqrt(np.square(v[0])+np.square(v[1]))\n",
    "print(\"向量大小为：\",magnitude)\n",
    "\n",
    "vt=t.tensor([[2,1]]).T \n",
    "mangitute_t=t.sqrt(t.square(vt[0,0])+t.square(vt[1,0]))\n",
    "print(\"torch计算得到向量大小为：\",mangitute_t)"
   ]
  },
  {
   "cell_type": "markdown",
   "metadata": {},
   "source": [
    "也可以使用numpy中范数函数，以及tensor中范数函数来计算向量大小\n",
    "\n",
    "---\n",
    "This calculation works for vectors of any dimensionality - you just take the square root of the sum of the squared components:\n",
    "\n",
    "$$ \\begin{equation}\\|\\vec{v}\\| = \\sqrt{v_{1}\\;^{2} + v_{2}\\;^{2} ... + v_{n}\\;^{2}}\\end{equation}$$\n",
    "\n",
    "In Python, *numpy* provides a linear algebra library named **linalg** that makes it easier to work with vectors - you can use the **norm** function in the following code to calculate the magnitude of a vector:"
   ]
  },
  {
   "cell_type": "code",
   "execution_count": 39,
   "metadata": {},
   "outputs": [
    {
     "name": "stdout",
     "output_type": "stream",
     "text": [
      "tensor([2., 1.], dtype=torch.float64)\n",
      "numpy计算得到范数： 2.23606797749979\n",
      "pytorch计算得到范数： tensor(2.2361, dtype=torch.float64)\n"
     ]
    }
   ],
   "source": [
    "import numpy as np \n",
    "import torch as t \n",
    "vt=t.tensor([2,1],dtype=float)\n",
    "print(vt)\n",
    "norm=np.linalg.norm(v)\n",
    "norm_t=t.linalg.norm(vt)\n",
    "print(\"numpy计算得到范数：\",norm)\n",
    "print(\"pytorch计算得到范数：\",norm_t)"
   ]
  },
  {
   "cell_type": "markdown",
   "metadata": {},
   "source": [
    "### Calculating Direction 计算方向 通过反函数\n",
    "To calculate the direction, or *amplitude*, of a vector from its cartesian coordinates, you must employ a little trigonometry. We can get the angle of the vector by calculating the *inverse tangent*; sometimes known as the *arctan* (the *tangent*  calculates an angle as a ratio - the inverse tangent, or **tan<sup>-1</sup>**, expresses this in degrees).\n",
    "\n",
    "In any right-angled triangle, the tangent is calculated as the *opposite* over the *adjacent*. In a two dimensional vector, this is the *y* value over the *x* value, so for our **v** vector (2,1):\n",
    "\n",
    "$$ \\begin{equation}tan(\\theta) = \\frac{1}{2}\\end{equation} $$\n",
    "\n",
    "This produces the result ***0.5***, from which we can use a calculator to calculate the inverse tangent to get the angle in degrees:\n",
    "\n",
    "$$ \\begin{equation}\\theta = tan^{-1} (0.5) \\approx 26.57^{o}\\end{equation}$$\n",
    "\n",
    "Note that the direction angle is indicated as ***&theta;***.\n",
    "\n",
    "Run the following Python code to confirm this:"
   ]
  },
  {
   "cell_type": "code",
   "execution_count": 14,
   "metadata": {},
   "outputs": [
    {
     "name": "stdout",
     "output_type": "stream",
     "text": [
      "向量对应tan值为： 0.5\n",
      "对应弧度为： 0.4636476090008061\n",
      "对应角度为： 26.56505117707799\n"
     ]
    }
   ],
   "source": [
    "import numpy as np \n",
    "tan=v[1]/v[0]\n",
    "print(\"向量对应tan值为：\",tan)\n",
    "arc=np.arctan(tan)\n",
    "print(\"对应弧度为：\",arc)\n",
    "print(\"对应角度为：\",np.degrees(arc))"
   ]
  },
  {
   "cell_type": "markdown",
   "metadata": {},
   "source": [
    "\n",
    "here is an added complication however, because if the value for *x* or *y* (or both) is negative, the orientation of the vector is not standard, and a calculator can give you the wrong tan<sup>-1</sup> value. To ensure you get the correct direction for your vector, use the following rules:\n",
    "- Both *x* and *y* are positive: Use the tan<sup>-1</sup> value.\n",
    "- *x* is negative, *y* is positive: Add 180 to the tan<sup>-1</sup> value.\n",
    "- Both *x* and *y* are negative: Add 180 to the tan<sup>-1</sup> value.\n",
    "- *x* is positive, *y* is negative: Add 360 to the tan<sup>-1</sup> value.\n",
    "\n",
    "To understand why we need to do this, think of it this way. A vector can be pointing in any direction through a 360 degree arc.  Let's break that circle into four quadrants with the x and y axis through the center. Angles can be measured from the x axis in both the positive (counter-clockwise) and negative (clockwise) directions. We'll number the quadrants in the positive (counter-clockwise) direction (which is how we measure the *positive* angle) like this:\n",
    "\n",
    "    \n",
    "\n",
    "    2 | 1\n",
    "    - o -\n",
    "    3 | 4\n",
    "\n",
    "\n",
    "OK, let's look at 4 example vectors\n",
    "\n",
    " 1. Vector [2,4] has positive values for both x and y. The line for this vector travels through the point 0,0 from quadrant 3 to quadrant 1. Tan<sup>-1</sup> of 4/2 is around 63.4 degrees, which is the positive angle from the x axis to the vector line - so this is the direction of the vector.\n",
    " 2. Vector [-2,4] has a negative x and positive y. The line for this vector travels through point 0,0 from quadrant 4 to quadrant 2. Tan<sup>-1</sup> of 4/-2 is around -64.4 degrees, which is the *negative* angle from x to the vector line; but in the wrong direction (as if the vector was travelling from quadrant 2 towards quadrant 4). So we need the opposite direction, which we get by adding 180.\n",
    " 3. Vector [-2,-4] has negative x and y. The line for the vector travels through 0,0 from quadrant 1 to quadrant 3. Tan<sup>-1</sup> of -4/-2 is around 63.4 degrees, which is the angle between the x axis and the line, but again in the opposite direction, from quadrant 3 to quadrant 1; we need to go a further 180 degrees to reflect the correct direction.\n",
    " 4. Vector [2,-4] has positive x and negative y. It travels through 0,0 from quadrant 2 to quadrant 4. Tan<sup>-1</sup> of -4/2 is around -64.4 degrees, which is the *negative* angle from the x axis to the vector line. Technically it's correct, the line is travelleing down and to the right at an angle of -63.4 degrees; but we want to express the *positive* (counter-clockwise) angle, so we add 360.\n",
    "\n",
    "\n",
    "In the previous Python code, we used the *math.**atan*** function to calculate the inverse tangent from a numeric tangent. The *numpy* library includes a similar ***arctan*** function. When working with numpy arrays, you can also use the *numpy.**arctan2*** function to return the inverse tangent of an array-based vector in *radians*, and you can use the *numpy.**degrees*** function to convert this to degrees. The ***arctan2*** function automatically makes the necessary adjustment for negative *x* and *y* values."
   ]
  },
  {
   "cell_type": "markdown",
   "metadata": {},
   "source": [
    "This calculation works for vectors of any dimensionality - you just take the square root of the sum of the squared components:\n",
    "\n",
    "$$ \\begin{equation}\\|\\vec{v}\\| = \\sqrt{v_{1}\\;^{2} + v_{2}\\;^{2} ... + v_{n}\\;^{2}}\\end{equation}$$\n",
    "\n",
    "In Python, *numpy* provides a linear algebra library named **linalg** that makes it easier to work with vectors - you can use the **norm** function in the following code to calculate the magnitude of a vector:"
   ]
  },
  {
   "cell_type": "markdown",
   "metadata": {},
   "source": [
    "## Vector Addition 向量的加法\n",
    "So far, we've worked with one vector at a time. What happens when you need to add two vectors.\n",
    "\n",
    "Let's take a look at an example, we already have a vector named **v**, as defined here:\n",
    "$\\begin{equation}\\vec{v} = \\begin{bmatrix}2 \\\\ 1 \\end{bmatrix}\\end{equation}$\n",
    "Now let's create a second vector, and called **s** like this:\n",
    "$\\begin{equation}\\vec{s} = \\begin{bmatrix}-3 \\\\ 2 \\end{bmatrix}\\end{equation}$\n",
    "\n",
    "Run the cell below to create **s** and plot it together with **v**:"
   ]
  },
  {
   "cell_type": "code",
   "execution_count": 44,
   "metadata": {},
   "outputs": [
    {
     "name": "stdout",
     "output_type": "stream",
     "text": [
      "向量相加结果： [-1  3]\n",
      "tensor向量相加结果: tensor([-1,  3])\n"
     ]
    },
    {
     "data": {
      "image/png": "[encoded data removed]",
      "text/plain": [
       "<Figure size 432x432 with 1 Axes>"
      ]
     },
     "metadata": {
      "needs_background": "light"
     },
     "output_type": "display_data"
    },
    {
     "data": {
      "image/png": "[encoded data removed]",
      "text/plain": [
       "<Figure size 432x432 with 1 Axes>"
      ]
     },
     "metadata": {
      "needs_background": "light"
     },
     "output_type": "display_data"
    },
    {
     "name": "stdout",
     "output_type": "stream",
     "text": [
      "向量相减结果： [ 5 -1]\n"
     ]
    },
    {
     "data": {
      "image/png": "[encoded data removed]",
      "text/plain": [
       "<Figure size 504x504 with 1 Axes>"
      ]
     },
     "metadata": {
      "needs_background": "light"
     },
     "output_type": "display_data"
    }
   ],
   "source": [
    "import matplotlib.pyplot as plt \n",
    "import numpy as np \n",
    "import torch as t \n",
    "fig,axes=plt.subplots()\n",
    "fig.set_size_inches(6,6)\n",
    "v=np.array([2,1])\n",
    "s=np.array([-3,2])\n",
    "axes.set_xlim(-4,4)\n",
    "axes.set_ylim(-4,4)\n",
    "axes.arrow(0,0,v[0],v[1],head_length=0.1,head_width=0.1,color='blue')\n",
    "axes.arrow(0,0,s[0],s[1],head_length=0.1,head_width=0.1,color='red')\n",
    "axes.grid()\n",
    "###torch 实现\n",
    "vt=t.tensor([2,1])\n",
    "st=t.tensor([-3,2])\n",
    "\n",
    "z=v+s\n",
    "print(\"向量相加结果：\",z)\n",
    "zt=vt+st\n",
    "print(\"tensor向量相加结果:\",zt)\n",
    "\n",
    "import matplotlib.pyplot as plt \n",
    "import numpy as np \n",
    "fig,axes=plt.subplots()\n",
    "fig.set_size_inches(6,6)\n",
    "v=np.array([2,1])\n",
    "s=np.array([-3,2])\n",
    "axes.set_xlim(-4,4)\n",
    "axes.set_ylim(-4,4)\n",
    "axes.arrow(0,0,v[0],v[1],head_length=0.1,head_width=0.1,color='blue')\n",
    "axes.arrow(0,0,s[0],s[1],head_length=0.1,head_width=0.1,color='red')\n",
    "axes.grid()\n",
    "axes.arrow(0,0,z[0],z[1],head_length=0.1,head_width=0.1,color='green')\n",
    "axes.plot([v[0],z[0]],[v[1],z[1]],'--')\n",
    "axes.plot([s[0],z[0]],[s[1],z[1]],'--')\n",
    "plt.show()\n",
    "import matplotlib.pyplot as plt \n",
    "import numpy as np \n",
    "z=v-s\n",
    "print(\"向量相减结果：\",z)\n",
    "fig,axes=plt.subplots()\n",
    "fig.set_size_inches(7,7)\n",
    "v=np.array([2,1])\n",
    "s=np.array([-3,2])\n",
    "axes.set_xlim(-6,6)\n",
    "axes.set_ylim(-6,6)\n",
    "axes.arrow(0,0,v[0],v[1],head_length=0.1,head_width=0.1,color='blue')\n",
    "axes.arrow(0,0,s[0],s[1],head_length=0.1,head_width=0.1,color='red')\n",
    "axes.grid()\n",
    "axes.arrow(0,0,z[0],z[1],head_length=0.1,head_width=0.1,color='green')\n",
    "axes.plot([v[0],z[0]],[v[1],z[1]],'--')\n",
    "axes.plot([s[0],z[0]],[s[1],z[1]],'--')\n",
    "plt.show()"
   ]
  },
  {
   "cell_type": "markdown",
   "metadata": {},
   "source": [
    "You can see in the plot that the two vectors have different directions and magnitudes. So what happens when we add them together?\n",
    "\n",
    "Here's the formula:\n",
    "\\begin{equation}\\vec{z} = \\vec{v}+\\vec{s}\\end{equation}\n",
    "\n",
    "In terms of our vector matrices, this looks like this:\n",
    "$$\\begin{equation}\\vec{z} = \\begin{bmatrix}2 \\\\ 1 \\end{bmatrix} + \\begin{bmatrix}-3 \\\\ 2 \\end{bmatrix}\\end{equation}$$\n",
    "\n",
    "Which gives the following result:\n",
    "$$\\begin{equation}\\vec{z} = \\begin{bmatrix}2 \\\\ 1 \\end{bmatrix} + \\begin{bmatrix}-3 \\\\ 2 \\end{bmatrix} = \\begin{bmatrix}-1 \\\\ 3 \\end{bmatrix}\\end{equation}$$\n",
    "\n",
    "Let's verify that Python gives the same result:"
   ]
  },
  {
   "cell_type": "markdown",
   "metadata": {},
   "source": [
    "So what's going on here?\n",
    "Well, we added the dimensions of **s** to the dimensions of **v** to describe a new vector **z**. Let's break that down:\n",
    "- The dimensions of **v** are (2,1), so from our starting point we move 2 units in the *x* dimension (across to the right) and 1 unit in the *y* dimension (up). In the plot, if you start at the (0,0) position, this is shown as the red arrow.\n",
    "- Then we're adding **s**, which has dimension values (-3, 2), so we move -3 units in the *x* dimension (across to the left, because it's a negative number) and then 2 units in the *y* dimension (up). On the plot, if you start at the head of the red arrow and make these moves, you'll end up at the head of the green arrow, which represents **z**.\n",
    "\n",
    "The same is true if you perform the addition operation the other way around and add **v** to **s**, the steps to create **s** are described by the blue arrow, and if you use that as the starting point for **v**, you'll end up at the head of the green arrow, which represents **z**.\n",
    "\n",
    "Note on the plot that if you simply moved the tail of the blue arrow so that it started at the head of red arrow, its head would end up in the same place as the head of the green arrow; and the same would be true if you moved tail of the red arrow to the head of the blue arrow."
   ]
  },
  {
   "cell_type": "markdown",
   "metadata": {},
   "source": [
    "## Vector Multiplication 向量乘法 标量相乘 内积 外积\n",
    "Vector multiplication can be performed in three ways:\n",
    "\n",
    "- Scalar Multiplication\n",
    "- Dot Product Multiplication\n",
    "- Cross Product Multiplication\n",
    "\n",
    "## Scalar Multiplication 标量相乘\n",
    "Let's start with *scalar* multiplication - in other words, multiplying a vector by a single numeric value.\n",
    "\n",
    "Suppose I want to multiply my vector by 2, which I could write like this:\n",
    "\n",
    "$$ \\begin{equation} \\vec{w} = 2\\vec{v}\\end{equation} $$\n",
    "\n",
    "Note that the result of this calculation is a new vector named **w**. So how would we calculate this?\n",
    "Recall that **v** is defined like this:\n",
    "\n",
    " $$ \\begin{equation}\\vec{v} = \\begin{bmatrix}2 \\\\ 1 \\end{bmatrix}\\end{equation} $$\n",
    "\n",
    "To calculate 2v, we simply need to apply the operation to each dimension value in the vector matrix, like this:\n",
    "\n",
    "$$ \\begin{equation}\\vec{w} = \\begin{bmatrix}2 \\cdot 2 \\\\  2 \\cdot 1 \\end{bmatrix}\\end{equation}$$\n",
    "\n",
    "Which gives us the following result:\n",
    "\n",
    "$$ \\begin{equation}\\vec{w} = \\begin{bmatrix}2 \\cdot 2 \\\\  2 \\cdot 1 \\end{bmatrix} = \\begin{bmatrix}4 \\\\ 2 \\end{bmatrix}\\end{equation}$$\n",
    "\n",
    "In Python, you can apply these sort of matrix operations directly to numpy arrays, so we can simply calculate **w** like this:"
   ]
  },
  {
   "cell_type": "code",
   "execution_count": 45,
   "metadata": {},
   "outputs": [
    {
     "name": "stdout",
     "output_type": "stream",
     "text": [
      "[4 2]\n",
      "tensor([4, 2])\n"
     ]
    },
    {
     "data": {
      "image/png": "[encoded data removed]",
      "text/plain": [
       "<Figure size 504x504 with 1 Axes>"
      ]
     },
     "metadata": {
      "needs_background": "light"
     },
     "output_type": "display_data"
    }
   ],
   "source": [
    "import numpy as np \n",
    "import matplotlib.pyplot as plt \n",
    "w=2*v\n",
    "wt=2*vt\n",
    "print(w)\n",
    "print(wt)\n",
    "fig,axes=plt.subplots()\n",
    "fig.set_size_inches(7,7)\n",
    "v=np.array([2,1])\n",
    " \n",
    "axes.set_xlim(-5,5)\n",
    "axes.set_ylim(-5,5)\n",
    "axes.arrow(0,0,v[0],v[1],head_length=0.1,head_width=0.1,color='blue')\n",
    "axes.arrow(0,0,w[0],w[1],head_length=0.1,head_width=0.1,color='red')\n",
    "axes.grid()\n",
    " \n",
    "plt.show()"
   ]
  },
  {
   "cell_type": "markdown",
   "metadata": {},
   "source": [
    "The same approach is taken for scalar division.\n",
    "\n",
    "Try it for yourself - use the cell below to calculate a new vector named **b** based on the following definition:\n",
    "\n",
    "\\begin{equation}\\vec{b} = \\frac{\\vec{v}}{2}\\end{equation}"
   ]
  },
  {
   "cell_type": "markdown",
   "metadata": {},
   "source": [
    "## Dot Product Multiplication 点积（内积）\n",
    "向量（注意不是矩阵）的内积可以理解为一个与平面有 $ \\theta$ 夹角的力$ v $，与平面上的力$ u $ 的合力\n",
    "\n",
    "So we've seen how to multiply a vector by a scalar. How about multiplying two vectors together? There are actually two ways to do this depending** on whether you want the result to be a *scalar product* (in other words, a number) or a *vector product* (a vector).**\n",
    "> 使用内积，得到的是一个标量，其几何意义为 $ u \\cdot v=|u||v|cos\\theta $ 表示向量u在向量v方向上的投影长度乘向量v的模长。 如果v是单位向量，内积就可以直接描述为向量u在向量v方向上的投影长度\n",
    "\n",
    "To get a scalar product, we calculate the *dot product*. This takes a similar approach to multiplying a vector by a scalar, except that it multiplies each component pair of the vectors and sums the results. To indicate that we are performing a dot product operation, we use the &bull; operator:\n",
    "\n",
    "$$\\begin{equation} \\vec{v} \\cdot \\vec{s} = (v_{1} \\cdot s_{1}) + (v_{2} \\cdot s_{2}) ... + \\; (v_{n} \\cdot s_{n})\\end{equation}$$\n",
    "\n",
    "So for our vectors **v** (2,1) and **s** (-3,2), our calculation looks like this:\n",
    "\n",
    "$$\\begin{equation} \\vec{v} \\cdot \\vec{s} = (2 \\cdot -3) + (1 \\cdot 2) = -6 + 2 = -4\\end{equation}$$\n",
    "\n",
    "So the dot product, or scalar product, of **v** &bull; **s** is **-4**.\n",
    "\n",
    "In Python, you can use the *numpy.**dot*** function to calculate the dot product of two vector arrays:\n",
    ">很重要的一点是：向量A与向量B的点积 并不等于 向量B与向量A的点积，我们用A·B表示两个向量的点积运算，则A·B!=B·A\n",
    "\n",
    ">假如要计算 A·B，那么，A(点击号前面的向量)中x方向元素的数量应该于B(点积号后面的向量)中y方向的数量相同"
   ]
  },
  {
   "cell_type": "code",
   "execution_count": 2,
   "metadata": {},
   "outputs": [
    {
     "name": "stdout",
     "output_type": "stream",
     "text": [
      "18\n",
      "18\n",
      "多维度向量内积结果 [[18 16]\n",
      " [12 20]]\n"
     ]
    },
    {
     "name": "stderr",
     "output_type": "stream",
     "text": [
      "C:\\Users\\tomis\\AppData\\Local\\Packages\\PythonSoftwareFoundation.Python.3.10_qbz5n2kfra8p0\\LocalCache\\local-packages\\Python310\\site-packages\\torch\\cuda\\__init__.py:83: UserWarning: CUDA initialization: CUDA unknown error - this may be due to an incorrectly set up environment, e.g. changing env variable CUDA_VISIBLE_DEVICES after program start. Setting the available devices to be zero. (Triggered internally at  ..\\c10\\cuda\\CUDAFunctions.cpp:109.)\n",
      "  return torch._C._cuda_getDeviceCount() > 0\n"
     ]
    },
    {
     "data": {
      "text/plain": [
       "tensor(18)"
      ]
     },
     "execution_count": 2,
     "metadata": {},
     "output_type": "execute_result"
    }
   ],
   "source": [
    "import numpy as np \n",
    "import matplotlib.pyplot as plt  \n",
    "v=np.array([2,3,3])\n",
    "u=np.array([3,5,-1])\n",
    "s=np.dot(u,v)\n",
    "s1=np.dot(v,u)\n",
    "print(s)\n",
    "print(s1)\n",
    "# 内积也可以用@ 代替,以下为矩阵的内积\n",
    "v2=np.array([2,3,3,3,2,1]).reshape(2,3)\n",
    "u2=np.array([3,5,-1,3,5,-1]).reshape(3,2)\n",
    "print(\"多维度向量内积结果\", v2@u2)\n",
    "\n",
    "import torch as t\n",
    "vt=t.tensor([2,3,3])\n",
    "ut=t.tensor([3,5,-1])\n",
    "vt@ut"
   ]
  },
  {
   "cell_type": "markdown",
   "metadata": {},
   "source": [
    "向量$\\vec{v}$与矩阵$A$的内积结果，为$\\vec{v}$ 通过$A$所构成的空间，在新空间上进行转换。"
   ]
  },
  {
   "cell_type": "markdown",
   "metadata": {},
   "source": [
    "## Cross Product Multiplication 向量的外积（叉积）\n",
    "向量的外积cross得到的\n",
    "To get the *vector product* of multipying two vectors together, you must calculate the *cross product*. The result of this is a new vector that is at right angles to both the other vectors in 3D Euclidean space. This means that the cross-product only really makes sense when working with vectors that contain three components.\n",
    "\n",
    "For example, let's suppose we have the following vectors:\n",
    "$$\n",
    "\\begin{equation}\\vec{p} = \\begin{bmatrix}2 \\\\ 3 \\\\ 1 \\end{bmatrix}\\;\\; \\vec{q} = \\begin{bmatrix}1 \\\\ 2 \\\\ -2 \\end{bmatrix}\\end{equation}\n",
    "$$\n",
    "To calculate the cross product of these vectors, written as **p** x **q**, we need to create a new vector (let's call it **r**) with three components (r<sub>1</sub>, r<sub>2</sub>, and r<sub>3</sub>). The values for these components are calculated like this:\n",
    "$$\n",
    "\\begin{equation}r_{1} = p_{2}q_{3} - p_{3}q_{2}\\end{equation}\n",
    "\\begin{equation}r_{2} = p_{3}q_{1} - p_{1}q_{3}\\end{equation}\n",
    "\\begin{equation}r_{3} = p_{1}q_{2} - p_{2}q_{1}\\end{equation}\n",
    "$$\n",
    "So in our case:\n",
    "$$\n",
    "\\begin{equation}\\vec{r} = \\vec{p} \\times \\vec{q} = \\begin{bmatrix}(3 \\cdot -2) - (1 \\cdot 2) \\\\ (1 \\cdot 1) - (2 \\cdot -2) \\\\ (2 \\cdot 2) - (3 \\cdot 1) \\end{bmatrix} = \\begin{bmatrix}-6 - 2 \\\\ 1 - -4 \\\\ 4 - 3 \\end{bmatrix} = \\begin{bmatrix}-8 \\\\ 5 \\\\ 1 \\end{bmatrix}\\end{equation}\n",
    "$$\n",
    "In Python, you can use the *numpy.**cross*** function to calculate the cross product of two vector arrays:\n",
    "\n",
    "---\n",
    "在二维平面中，向量$v$ 与向量 $u$ 的cross运算法则为：\n",
    "$$ u\\times v =\\begin{bmatrix} u_1 \\\\ u_2 \\end{bmatrix} \\times \\begin{bmatrix}v_1\\\\v_2 \\end{bmatrix}=u_1v_2-u_2v_1 $$\n",
    "\n",
    "在二维平面中，向量的cross表示两个相连章草的平行四边形的“面积”，当然如果如果两个向量的夹角大于180，那么相连外积运算得到的结果为负数。\n",
    "\n",
    "在三维空间中，cross的结果也是有明确的物理含义的，即表示$u$ 和$v$ 两个向量张成平面的法向量。"
   ]
  },
  {
   "cell_type": "code",
   "execution_count": null,
   "metadata": {},
   "outputs": [],
   "source": [
    "import numpy as np \n",
    "u=np.array([2,1])\n",
    "v=np.array([-3,2])\n",
    "u_v_cross=np.cross(u,v)\n",
    "print(u_v_cross)\n",
    "# 三维向量的外积\n",
    "u2=np.array([2,1,2])\n",
    "v2=np.array([-3,2,3])\n",
    "print(np.cross(u2,v2))"
   ]
  },
  {
   "cell_type": "markdown",
   "metadata": {},
   "source": [
    "### 余弦相似度\n",
    "通过向量$cos \\Theta$得到多个向量之间的夹角，如果$cos \\theta$越小，意味向量越接近。\n",
    "### The Cosine Rule\n",
    "An useful property of vector dot product multiplication is that we can use it to calculate the cosine of the angle between two vectors. We could write the dot products as:\n",
    "\n",
    "$$ \\vec{v} \\cdot \\vec{s} = \\|\\vec{v} \\|\\|\\vec{s}\\| \\cos (\\theta) $$ \n",
    "\n",
    "Which we can rearrange as:\n",
    "\n",
    "$$ \\cos(\\theta) = \\frac{\\vec{v} \\cdot \\vec{s}}{\\|\\vec{v} \\|\\|\\vec{s}\\|} $$\n",
    "\n",
    "So for our vectors **v** (2,1) and **s** (-3,2), our calculation looks like this:\n",
    "\n",
    "$$ \\cos(\\theta) = \\frac{(2 \\cdot-3) + (-3 \\cdot 2)}{\\sqrt{2^{2} + 1^{2}} \\times \\sqrt{-3^{2} + 2^{2}}} $$\n",
    "\n",
    "So:\n",
    "\n",
    "$$\\cos(\\theta) = \\frac{-4}{8.0622577483}$$\n",
    "\n",
    "Which calculates to:\n",
    "\n",
    "$$\\cos(\\theta) = -0.496138938357 $$\n",
    "\n",
    "So:\n",
    "\n",
    "$$\\theta \\approx 119.74 $$\n",
    "\n",
    "---\n",
    "\n",
    "### 向量的正交\n",
    "结合内积定义，如果向量$v \\ times u=0$即两向量点积为0，那么他们在空间上是正交关系,$cos(90)=0$\n",
    "\n",
    "Here's that calculation in Python:\n"
   ]
  },
  {
   "cell_type": "code",
   "execution_count": 30,
   "metadata": {},
   "outputs": [
    {
     "name": "stdout",
     "output_type": "stream",
     "text": [
      "v1,v2向量间夹角 119.74488129694222\n",
      "v1,v3向量间夹角 140.9061411137705\n"
     ]
    }
   ],
   "source": [
    "import numpy as np\n",
    "\n",
    "v1=np.array([2,1])\n",
    "v2=np.array([-3,2])\n",
    "v3=np.array([-9,2])\n",
    "def cos_sim(v1,v2):\n",
    "    v12=v1@v2  #\"v1在v2向量上的投影长度与v2的范数相乘：\"\n",
    "    v1_n=np.linalg.norm(v1)#v1范数\n",
    "    v2_n=np.linalg.norm(v2)#v2范数\n",
    "    cos_v12=v12/(v1_n*v2_n)#两向量对应cos值\n",
    "    arc=np.arccos(cos_v12)#通过反函数求得对应弧度\n",
    "    degree=np.degrees(arc)#求得对应角度\n",
    "    return degree\n",
    "if __name__== \"__main__\":\n",
    "\n",
    "    degree1=cos_sim(v1,v2)\n",
    "    degree2=cos_sim(v1,v3)\n",
    "    print(\"v1,v2向量间夹角\",degree1)\n",
    "    print(\"v1,v3向量间夹角\",degree2)"
   ]
  },
  {
   "cell_type": "markdown",
   "metadata": {},
   "source": []
  }
 ],
 "metadata": {
  "kernelspec": {
   "display_name": "base",
   "language": "python",
   "name": "python3"
  },
  "language_info": {
   "codemirror_mode": {
    "name": "ipython",
    "version": 3
   },
   "file_extension": ".py",
   "mimetype": "text/x-python",
   "name": "python",
   "nbconvert_exporter": "python",
   "pygments_lexer": "ipython3",
   "version": "3.9.13 (main, Aug 25 2022, 23:51:50) [MSC v.1916 64 bit (AMD64)]"
  },
  "orig_nbformat": 4,
  "vscode": {
   "interpreter": {
    "hash": "4500649f3376875055274a6ea5762786a730155ceb79c8798b9983f2d85af345"
   }
  }
 },
 "nbformat": 4,
 "nbformat_minor": 2
}
