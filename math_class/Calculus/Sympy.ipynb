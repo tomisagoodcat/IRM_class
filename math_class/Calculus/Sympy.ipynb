{
 "cells": [
  {
   "cell_type": "code",
   "execution_count": null,
   "metadata": {},
   "outputs": [],
   "source": []
  },
  {
   "cell_type": "markdown",
   "metadata": {},
   "source": [
    "本课程介绍微积分计算中重要的包Sympy\n",
    "## Sympy\n",
    "数学的教学、学习和实践中可以用符号和符号之间的运算来表示，而不是用数字表示。使用SymPy库可以编写包含符号的代数表达式解析操作。"
   ]
  },
  {
   "cell_type": "code",
   "execution_count": 1,
   "metadata": {},
   "outputs": [
    {
     "name": "stdout",
     "output_type": "stream",
     "text": [
      "Looking in indexes: https://pypi.tuna.tsinghua.edu.cn/simple\n",
      "Collecting sympy\n",
      "  Downloading https://pypi.tuna.tsinghua.edu.cn/packages/d0/04/66be21ceb305c66a4b326b0ae44cc4f027a43bc08cac204b48fb45bb3653/sympy-1.10.1-py3-none-any.whl (6.4 MB)\n",
      "     ---------------------------------------- 6.4/6.4 MB 6.1 MB/s eta 0:00:00\n",
      "Collecting mpmath>=0.19\n",
      "  Downloading https://pypi.tuna.tsinghua.edu.cn/packages/d4/cf/3965bddbb4f1a61c49aacae0e78fd1fe36b5dc36c797b31f30cf07dcbbb7/mpmath-1.2.1-py3-none-any.whl (532 kB)\n",
      "     -------------------------------------- 532.6/532.6 KB 2.8 MB/s eta 0:00:00\n",
      "Installing collected packages: mpmath, sympy\n",
      "Successfully installed mpmath-1.2.1 sympy-1.10.1\n"
     ]
    },
    {
     "name": "stderr",
     "output_type": "stream",
     "text": [
      "  WARNING: The script isympy.exe is installed in 'C:\\Users\\tomis\\AppData\\Local\\Packages\\PythonSoftwareFoundation.Python.3.10_qbz5n2kfra8p0\\LocalCache\\local-packages\\Python310\\Scripts' which is not on PATH.\n",
      "  Consider adding this directory to PATH or, if you prefer to suppress this warning, use --no-warn-script-location.\n",
      "WARNING: You are using pip version 22.0.4; however, version 22.2 is available.\n",
      "You should consider upgrading via the 'C:\\Users\\tomis\\AppData\\Local\\Microsoft\\WindowsApps\\PythonSoftwareFoundation.Python.3.10_qbz5n2kfra8p0\\python.exe -m pip install --upgrade pip' command.\n"
     ]
    }
   ],
   "source": [
    "!pip install sympy"
   ]
  },
  {
   "cell_type": "markdown",
   "metadata": {},
   "source": [
    "### 定义符号和运算\n",
    "在sympy中，可以通过Symbol类定义运算符号例如$x,y$"
   ]
  },
  {
   "cell_type": "code",
   "execution_count": 2,
   "metadata": {},
   "outputs": [
    {
     "name": "stdout",
     "output_type": "stream",
     "text": [
      "x**2 - y\n"
     ]
    }
   ],
   "source": [
    "from sympy import Symbol\n",
    "x=Symbol(\"x\")\n",
    "y=Symbol(\"y\")\n",
    "z=Symbol(\"z\")\n",
    "z=x*x-y\n",
    "print(z)"
   ]
  },
  {
   "cell_type": "markdown",
   "metadata": {},
   "source": [
    "可以使用pprint来代替print输出公式，更为直观"
   ]
  },
  {
   "cell_type": "code",
   "execution_count": 8,
   "metadata": {},
   "outputs": [
    {
     "name": "stdout",
     "output_type": "stream",
     "text": [
      " 3    2    \n",
      "x  - y  + 2\n"
     ]
    }
   ],
   "source": [
    "from sympy import symbols\n",
    "from sympy import pprint\n",
    "x,y,z=symbols(\"x,y,z\")\n",
    "z=x*x*x+2-y*y\n",
    "pprint(z)"
   ]
  },
  {
   "cell_type": "markdown",
   "metadata": {},
   "source": [
    "### 表达式的分解和展开\n",
    "* factor()函数分解表达式\n",
    "* expand()函数展开表达式\n",
    "例如 \n",
    "$$x^2-y^2=(x+y)(x-y)$$\n",
    "左边为展开，右边为分解"
   ]
  },
  {
   "cell_type": "code",
   "execution_count": 10,
   "metadata": {},
   "outputs": [
    {
     "name": "stdout",
     "output_type": "stream",
     "text": [
      "(x - y)⋅(x + y)\n",
      " 2    2\n",
      "x  - y \n"
     ]
    }
   ],
   "source": [
    "from sympy import symbols,factor,expand\n",
    "x,y,z=symbols(\"x,y,z\")\n",
    "z=x*x-y*y  \n",
    "expr=factor(z)\n",
    "pprint(expr)\n",
    "pprint(expand(expr))"
   ]
  },
  {
   "cell_type": "markdown",
   "metadata": {},
   "source": [
    "### 输出级数\n",
    "\n",
    "\n",
    "\n",
    "\n"
   ]
  },
  {
   "cell_type": "code",
   "execution_count": 8,
   "metadata": {},
   "outputs": [
    {
     "name": "stdout",
     "output_type": "stream",
     "text": [
      "main\n",
      "     2    3    4    5    6    7    8    9    10\n",
      "    x    x    x    x    x    x    x    x    x  \n",
      "x + ── + ── + ── + ── + ── + ── + ── + ── + ───\n",
      "    2    3    4    5    6    7    8    9     10\n"
     ]
    }
   ],
   "source": [
    "from sympy import Symbol,pprint, init_printing\n",
    "\n",
    "def print_seris(n):\n",
    "    #init_printing(order='rev-lex')# 默认中显示按照x的幂次方顺序排列，从高到低，如果希望反向，则可以使用init_printing(order='rev-lex')\n",
    "    x=Symbol('x')\n",
    "    series=x\n",
    "    for i in range(2,n+1):\n",
    "      series=series+(x**i)/i \n",
    "    pprint(series)\n",
    "if __name__=='__main__':\n",
    " print(\"main\")\n",
    " n=10\n",
    " print_seris(n)"
   ]
  },
  {
   "cell_type": "markdown",
   "metadata": {},
   "source": [
    "### 对符号赋值\n",
    "\n",
    "通过对变量赋值，即可计算或展开符号公式\n",
    "\n",
    "* 赋值\n",
    "* 进行符合函数赋值 $z=x; \\quad x=y+a $\n",
    "\n",
    "通过\n",
    "``` python \n",
    "\n",
    "subs({x:a})\n",
    "\n",
    "```\n",
    "形式进行赋值运算"
   ]
  },
  {
   "cell_type": "code",
   "execution_count": 17,
   "metadata": {},
   "outputs": [
    {
     "name": "stdout",
     "output_type": "stream",
     "text": [
      " 2    3\n",
      "y  + x \n",
      "17\n",
      "       3    2\n",
      "(2 + y)  + y \n",
      "              2    3\n",
      "8 + 12⋅y + 7⋅y  + y \n"
     ]
    }
   ],
   "source": [
    "from sympy import symbols,expand,factor\n",
    "x,y,z=symbols(\"x,y,z\")\n",
    "z=x*x*x+y*y\n",
    "pprint(z)\n",
    "res=z.subs({x:2,y:3})\n",
    "pprint(res)\n",
    "\n",
    "##############\n",
    "res2=z.subs({x:y+2})\n",
    "pprint(res2)\n",
    "pprint(factor(res2))"
   ]
  },
  {
   "cell_type": "markdown",
   "metadata": {},
   "source": [
    "### 公式简化\n",
    "如果公式中有可以消元的项目，可使用\n",
    "```python\n",
    "simplify(expres)\n",
    "```\n",
    "进行简化，在没有显式指明的时候，sympy是不会对表达式解析简化"
   ]
  },
  {
   "cell_type": "code",
   "execution_count": 18,
   "metadata": {},
   "outputs": [
    {
     "name": "stdout",
     "output_type": "stream",
     "text": [
      "              2    3\n",
      "8 + 12⋅y + 7⋅y  + y \n"
     ]
    }
   ],
   "source": [
    "from sympy import simplify\n",
    "pprint(simplify(factor(res2)))"
   ]
  },
  {
   "cell_type": "code",
   "execution_count": 20,
   "metadata": {},
   "outputs": [],
   "source": [
    "x=input(\"please input x\")\n",
    "print(x)"
   ]
  },
  {
   "cell_type": "code",
   "execution_count": null,
   "metadata": {},
   "outputs": [],
   "source": []
  }
 ],
 "metadata": {
  "kernelspec": {
   "display_name": "Python 3.10.5 64-bit (windows store)",
   "language": "python",
   "name": "python3"
  },
  "language_info": {
   "codemirror_mode": {
    "name": "ipython",
    "version": 3
   },
   "file_extension": ".py",
   "mimetype": "text/x-python",
   "name": "python",
   "nbconvert_exporter": "python",
   "pygments_lexer": "ipython3",
   "version": "3.10.5"
  },
  "orig_nbformat": 4,
  "vscode": {
   "interpreter": {
    "hash": "e4b54236f4c0c00fb874f9f007f344520403f3fc507691b2728f3b89f19e3e2a"
   }
  }
 },
 "nbformat": 4,
 "nbformat_minor": 2
}
