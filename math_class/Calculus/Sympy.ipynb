{
 "cells": [
  {
   "cell_type": "code",
   "execution_count": null,
   "metadata": {},
   "outputs": [],
   "source": []
  },
  {
   "cell_type": "markdown",
   "metadata": {},
   "source": [
    "本课程介绍微积分计算中重要的包Sympy\n",
    "## Sympy\n",
    "数学的教学、学习和实践中可以用符号和符号之间的运算来表示，而不是用数字表示。使用SymPy库可以编写包含符号的代数表达式解析操作。"
   ]
  },
  {
   "cell_type": "code",
   "execution_count": 1,
   "metadata": {},
   "outputs": [
    {
     "name": "stdout",
     "output_type": "stream",
     "text": [
      "Requirement already satisfied: sympy in c:\\users\\tomis\\anaconda3\\lib\\site-packages (1.10.1)\n",
      "Requirement already satisfied: mpmath>=0.19 in c:\\users\\tomis\\anaconda3\\lib\\site-packages (from sympy) (1.2.1)\n"
     ]
    }
   ],
   "source": [
    "!pip install sympy"
   ]
  },
  {
   "cell_type": "markdown",
   "metadata": {},
   "source": [
    "### 定义符号和运算\n",
    "在sympy中，可以通过Symbol类定义运算符号例如$x,y$"
   ]
  },
  {
   "cell_type": "code",
   "execution_count": 2,
   "metadata": {},
   "outputs": [
    {
     "name": "stdout",
     "output_type": "stream",
     "text": [
      "x**2 - y\n"
     ]
    }
   ],
   "source": [
    "from sympy import Symbol\n",
    "x=Symbol(\"x\")\n",
    "y=Symbol(\"y\")\n",
    "z=Symbol(\"z\")\n",
    "z=x*x-y\n",
    "print(z)"
   ]
  },
  {
   "cell_type": "markdown",
   "metadata": {},
   "source": [
    "可以使用pprint来代替print输出公式，更为直观"
   ]
  },
  {
   "cell_type": "code",
   "execution_count": 3,
   "metadata": {},
   "outputs": [
    {
     "name": "stdout",
     "output_type": "stream",
     "text": [
      " 3    2    \n",
      "x  - y  + 2\n"
     ]
    }
   ],
   "source": [
    "from sympy import symbols\n",
    "from sympy import pprint\n",
    "x,y,z=symbols(\"x,y,z\")\n",
    "z=x*x*x+2-y*y\n",
    "pprint(z)"
   ]
  },
  {
   "cell_type": "markdown",
   "metadata": {},
   "source": [
    "### 表达式的分解和展开\n",
    "* factor()函数分解表达式\n",
    "* expand()函数展开表达式\n",
    "例如 \n",
    "$$x^2-y^2=(x+y)(x-y)$$\n",
    "左边为展开，右边为分解"
   ]
  },
  {
   "cell_type": "code",
   "execution_count": 4,
   "metadata": {},
   "outputs": [
    {
     "name": "stdout",
     "output_type": "stream",
     "text": [
      "(x - y)⋅(x + y)\n",
      " 2    2\n",
      "x  - y \n"
     ]
    }
   ],
   "source": [
    "from sympy import symbols,factor,expand\n",
    "x,y,z=symbols(\"x,y,z\")\n",
    "z=x*x-y*y  \n",
    "expr=factor(z)\n",
    "pprint(expr)\n",
    "pprint(expand(expr))"
   ]
  },
  {
   "cell_type": "markdown",
   "metadata": {},
   "source": [
    "### 输出级数\n",
    "\n",
    "\n",
    "\n",
    "\n"
   ]
  },
  {
   "cell_type": "code",
   "execution_count": 5,
   "metadata": {},
   "outputs": [
    {
     "name": "stdout",
     "output_type": "stream",
     "text": [
      "main\n",
      " 10    9    8    7    6    5    4    3    2    \n",
      "x     x    x    x    x    x    x    x    x     \n",
      "─── + ── + ── + ── + ── + ── + ── + ── + ── + x\n",
      " 10   9    8    7    6    5    4    3    2     \n"
     ]
    }
   ],
   "source": [
    "from sympy import Symbol,pprint, init_printing\n",
    "\n",
    "def print_seris(n):\n",
    "    #init_printing(order='rev-lex')# 默认中显示按照x的幂次方顺序排列，从高到低，如果希望反向，则可以使用init_printing(order='rev-lex')\n",
    "    x=Symbol('x')\n",
    "    series=x\n",
    "    for i in range(2,n+1):\n",
    "      series=series+(x**i)/i \n",
    "    pprint(series)\n",
    "if __name__=='__main__':\n",
    " print(\"main\")\n",
    " n=10\n",
    " print_seris(n)"
   ]
  },
  {
   "cell_type": "markdown",
   "metadata": {},
   "source": [
    "### 对符号赋值\n",
    "\n",
    "通过对变量赋值，即可计算或展开符号公式\n",
    "\n",
    "* 赋值\n",
    "* 进行符合函数赋值 $z=x; \\quad x=y+a $\n",
    "\n",
    "通过\n",
    "``` python \n",
    "\n",
    "subs({x:a})\n",
    "\n",
    "```\n",
    "形式进行赋值运算"
   ]
  },
  {
   "cell_type": "code",
   "execution_count": 6,
   "metadata": {},
   "outputs": [
    {
     "name": "stdout",
     "output_type": "stream",
     "text": [
      " 3    2\n",
      "x  + y \n",
      "17\n",
      " 2          3\n",
      "y  + (y + 2) \n",
      " 3      2           \n",
      "y  + 7⋅y  + 12⋅y + 8\n"
     ]
    }
   ],
   "source": [
    "from sympy import symbols,expand,factor\n",
    "x,y,z=symbols(\"x,y,z\")\n",
    "z=x*x*x+y*y\n",
    "pprint(z)\n",
    "res=z.subs({x:2,y:3})\n",
    "pprint(res)\n",
    "\n",
    "##############\n",
    "res2=z.subs({x:y+2})\n",
    "pprint(res2)\n",
    "pprint(factor(res2))"
   ]
  },
  {
   "cell_type": "markdown",
   "metadata": {},
   "source": [
    "### 公式简化\n",
    "如果公式中有可以消元的项目，可使用\n",
    "```python\n",
    "simplify(expres)\n",
    "```\n",
    "进行简化，在没有显式指明的时候，sympy是不会对表达式解析简化"
   ]
  },
  {
   "cell_type": "code",
   "execution_count": 7,
   "metadata": {},
   "outputs": [
    {
     "name": "stdout",
     "output_type": "stream",
     "text": [
      " 3      2           \n",
      "y  + 7⋅y  + 12⋅y + 8\n"
     ]
    }
   ],
   "source": [
    "from sympy import simplify\n",
    "pprint(simplify(factor(res2)))"
   ]
  },
  {
   "cell_type": "code",
   "execution_count": 20,
   "metadata": {},
   "outputs": [],
   "source": [
    "x=input(\"please input x\")\n",
    "print(x)"
   ]
  },
  {
   "cell_type": "markdown",
   "metadata": {},
   "source": [
    "sympify可以将相关字符"
   ]
  },
  {
   "cell_type": "code",
   "execution_count": 8,
   "metadata": {},
   "outputs": [
    {
     "data": {
      "text/latex": [
       "$\\displaystyle x^{5} + y^{3} + 2$"
      ],
      "text/plain": [
       "x**5 + y**3 + 2"
      ]
     },
     "execution_count": 8,
     "metadata": {},
     "output_type": "execute_result"
    }
   ],
   "source": [
    "from sympy import Symbol,pprint, init_printing, sympify\n",
    "expr=\"x**5+y**3+2\"\n",
    "sympify(expr)"
   ]
  },
  {
   "cell_type": "code",
   "execution_count": 13,
   "metadata": {},
   "outputs": [
    {
     "name": "stdout",
     "output_type": "stream",
     "text": [
      " 4    2  3    2      4\n",
      "x  + x ⋅y  - x ⋅y - y \n"
     ]
    }
   ],
   "source": [
    "from sympy import expand, sympify\n",
    "from sympy.core.sympify import SympifyError\n",
    "def product(exp1,exp2):\n",
    "    exp1=simplify(exp1)\n",
    "    exp2=simplify(exp2)\n",
    "    return expand(exp1*exp2)\n",
    " \n",
    "\n",
    "if __name__=='__main__':\n",
    "    try:\n",
    "        ex1=\"x**2+y**3\"\n",
    "        ex2=\"x**2-y\"\n",
    "        prob=product(ex1,ex2)\n",
    "        simplify(prob)\n",
    "    except SympifyError:\n",
    "        print('some thing wrong')\n",
    "    else:\n",
    "        pprint(simplify(prob))"
   ]
  },
  {
   "cell_type": "markdown",
   "metadata": {},
   "source": [
    "### 利用SymPy解方程\n",
    "通过solve()可以解方程，注意方程总是假设表达式等于0，这就需要将方程所有变元移动到方程左边。\n",
    "\n",
    "当方程得到多个解时，以字典形式返回对解集(需要dict=True)"
   ]
  },
  {
   "cell_type": "code",
   "execution_count": 16,
   "metadata": {},
   "outputs": [
    {
     "data": {
      "text/plain": [
       "[{x: -3}, {x: 3}]"
      ]
     },
     "execution_count": 16,
     "metadata": {},
     "output_type": "execute_result"
    }
   ],
   "source": [
    "#解二次方程\n",
    "from sympy import solve \n",
    "x=Symbol(\"x\")\n",
    "exp=x**2-9\n",
    "solve(exp,dict=True)\n"
   ]
  },
  {
   "cell_type": "markdown",
   "metadata": {},
   "source": [
    "### solve中通过变量求解另外一个变量\n",
    "\n",
    "通过solv中指定因变量，就可以得到因变量的自变量表达\n",
    "```python \n",
    "solve (公式,因变量,dict=True)\n",
    "```"
   ]
  },
  {
   "cell_type": "code",
   "execution_count": 27,
   "metadata": {},
   "outputs": [
    {
     "name": "stdout",
     "output_type": "stream",
     "text": [
      "⎡⎧                           ______________⎫  ⎧                           ____\n",
      "⎢⎪                          ╱            2 ⎪  ⎪                          ╱    \n",
      "⎢⎨   -u - 1.4142135623731⋅╲╱  a⋅s + 0.5⋅u  ⎬  ⎨   -u + 1.4142135623731⋅╲╱  a⋅s\n",
      "⎢⎪t: ──────────────────────────────────────⎪, ⎪t: ────────────────────────────\n",
      "⎣⎩                     a                   ⎭  ⎩                     a         \n",
      "\n",
      "__________⎫⎤\n",
      "        2 ⎪⎥\n",
      " + 0.5⋅u  ⎬⎥\n",
      "──────────⎪⎥\n",
      "          ⎭⎦\n"
     ]
    }
   ],
   "source": [
    "from sympy import solve,factor,expand,simplify,symbols\n",
    "s,u,t,a=symbols(\"s,u,t,a\")\n",
    "expres5=u*t+(1/2)*a*t**2-s\n",
    "#pprint(expand(expres5))\n",
    "#solve(expres5,dict=True)\n",
    "pprint(solve(expres5,t,dict=True))"
   ]
  },
  {
   "cell_type": "markdown",
   "metadata": {},
   "source": [
    "### 解线性方程组\n",
    "sympy中解线性方程组只需要将对应的方程带入sovle中即可\n",
    "\n",
    "```\n",
    "solve((express1,express2),dict=True)\n",
    "```\n",
    "例如\n",
    "\n",
    "$$\n",
    "\\left\\{\n",
    "\\begin{aligned}\n",
    "2x+3y=6 \\\\\n",
    "3x+2y=12\n",
    "\\end{aligned}\n",
    "\\right.\n",
    "$$\n"
   ]
  },
  {
   "cell_type": "code",
   "execution_count": 36,
   "metadata": {},
   "outputs": [
    {
     "name": "stdout",
     "output_type": "stream",
     "text": [
      "通过numpy得到线性方程解： [[ 4.8]\n",
      " [-1.2]]\n",
      "通过sympy解线性方程组： \n",
      "\n",
      "[{x: 24/5, y: -6/5}]\n"
     ]
    },
    {
     "data": {
      "text/latex": [
       "$\\displaystyle 0$"
      ],
      "text/plain": [
       "0"
      ]
     },
     "execution_count": 36,
     "metadata": {},
     "output_type": "execute_result"
    }
   ],
   "source": [
    "#numpy 中解线性方程组\n",
    "import numpy as np\n",
    "A=np.array([[2,3],[3,2]])\n",
    "b=np.array([[6,12]]).T\n",
    "A_n=np.linalg.inv(A)\n",
    "print(\"通过numpy得到线性方程解：\",A_n@b)\n",
    "# sympy中解线性方程组\n",
    "from sympy import symbols,solve\n",
    "x,y=symbols(\"x,y\")\n",
    "ex1=2*x+3*y-6\n",
    "ex2=3*x+2*y-12\n",
    "res2=solve((ex1,ex2),dict=True)\n",
    "print(\"通过sympy解线性方程组： \\n\")\n",
    "pprint(res2)\n",
    "rx=res2[0]# 得到结果元组中字典解\n",
    "rx[x]#得到对应变量解\n",
    "rx[y]\n",
    "#带入原方程解方程\n",
    "ex1.subs({x:rx[x],y:rx[y]})\n"
   ]
  },
  {
   "cell_type": "markdown",
   "metadata": {},
   "source": [
    "### sympy 中的绘图\n",
    "与matplotlib不同的是其可以直接绘制方程，也同样调用的是matplotlib\n",
    "* 图线范围设置：\n",
    "* 标题设置\n",
    "* xlable,ylable 设置\n",
    "```\n",
    "plot((x**2),(x,-5,5),title=\"\",xlable=\"x\",ylable=\"y\")"
   ]
  },
  {
   "cell_type": "code",
   "execution_count": 53,
   "metadata": {},
   "outputs": [
    {
     "name": "stdout",
     "output_type": "stream",
     "text": [
      "[5 - x**2]\n"
     ]
    },
    {
     "name": "stderr",
     "output_type": "stream",
     "text": [
      "c:\\Users\\tomis\\anaconda3\\lib\\site-packages\\sympy\\plotting\\plot.py:1538: UserWarning: Glyph 24179 (\\N{CJK UNIFIED IDEOGRAPH-5E73}) missing from current font.\n",
      "  self.fig.tight_layout()\n",
      "c:\\Users\\tomis\\anaconda3\\lib\\site-packages\\sympy\\plotting\\plot.py:1538: UserWarning: Glyph 26041 (\\N{CJK UNIFIED IDEOGRAPH-65B9}) missing from current font.\n",
      "  self.fig.tight_layout()\n",
      "c:\\Users\\tomis\\anaconda3\\lib\\site-packages\\IPython\\core\\pylabtools.py:151: UserWarning: Glyph 24179 (\\N{CJK UNIFIED IDEOGRAPH-5E73}) missing from current font.\n",
      "  fig.canvas.print_figure(bytes_io, **kw)\n",
      "c:\\Users\\tomis\\anaconda3\\lib\\site-packages\\IPython\\core\\pylabtools.py:151: UserWarning: Glyph 26041 (\\N{CJK UNIFIED IDEOGRAPH-65B9}) missing from current font.\n",
      "  fig.canvas.print_figure(bytes_io, **kw)\n"
     ]
    },
    {
     "data": {
      "image/png": "[encoded data removed]",
      "text/plain": [
       "<Figure size 432x288 with 1 Axes>"
      ]
     },
     "metadata": {
      "needs_background": "light"
     },
     "output_type": "display_data"
    },
    {
     "data": {
      "text/plain": [
       "<sympy.plotting.plot.Plot at 0x19c40e20be0>"
      ]
     },
     "execution_count": 53,
     "metadata": {},
     "output_type": "execute_result"
    }
   ],
   "source": [
    "from sympy  import symbols\n",
    "from sympy.plotting import plot\n",
    "exp=simplify(\"y+x**2-5\")\n",
    "res=solve(exp,y)\n",
    "print(res)\n",
    "\n",
    " \n",
    "plot(res[0],(x,-15,15),title=\"x平方\",xlable=\"x\",ylable=\"x平方\")"
   ]
  },
  {
   "cell_type": "code",
   "execution_count": 54,
   "metadata": {},
   "outputs": [],
   "source": [
    "from sympy import Symbol,solve,simplify\n",
    "from sympy.plotting import plot\n",
    "def plot_y(exp):\n",
    "    exp_in=simplify(exp)#将外部字符串公式转换为sympy的公式变量\n",
    "    y=Symbol(\"y\")\n",
    "    res=solve(exp_in,y)\n",
    "    exp_x=res[0]\n",
    "    pprint(exp_x)\n",
    "    #plot(exp_x)\n",
    "if __name__=='main':\n",
    "    try:\n",
    "        exp=\"y+x**2-5\"\n",
    "        plot_y(exp)\n",
    "    except Exception:\n",
    "        print(\"some thing wrong\")\n"
   ]
  }
 ],
 "metadata": {
  "kernelspec": {
   "display_name": "Python 3.9.12 ('base')",
   "language": "python",
   "name": "python3"
  },
  "language_info": {
   "codemirror_mode": {
    "name": "ipython",
    "version": 3
   },
   "file_extension": ".py",
   "mimetype": "text/x-python",
   "name": "python",
   "nbconvert_exporter": "python",
   "pygments_lexer": "ipython3",
   "version": "3.9.12"
  },
  "orig_nbformat": 4,
  "vscode": {
   "interpreter": {
    "hash": "9a31ce11574d352d00236a575df6bfccd0c874de624df1cc5e0869df469a6677"
   }
  }
 },
 "nbformat": 4,
 "nbformat_minor": 2
}
