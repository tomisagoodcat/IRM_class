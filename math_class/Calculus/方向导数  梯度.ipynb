{
 "cells": [
  {
   "cell_type": "code",
   "execution_count": null,
   "metadata": {},
   "outputs": [],
   "source": []
  },
  {
   "cell_type": "markdown",
   "metadata": {},
   "source": [
    "梯度，梯度法是深度学习中核心的方法，这是由于深度学习是一种多元函数，并有大量的计算"
   ]
  },
  {
   "cell_type": "markdown",
   "metadata": {},
   "source": [
    "## 方向导数\n",
    "偏导数反映的是多元函数沿着**坐标轴**方向的变化率，方向导数本质上研究的是函数在**某点**处沿着**特定方向**的变化率问题。\n",
    "\n",
    "例如y=y_0，f(x,y_0)得到是三维空间中，与x轴平行的一个平面\n",
    "\n",
    "可以理解为偏导数是\n",
    "1. $y=y_0$生成一个与x轴平行，垂直于y轴的$y=y_0$平面，同原函数例如$z=x^2+y^2$相交，得到一个曲线函数，求得该函数在曲线上各个点的斜率，但斜率线方向始终平行于x，垂直于y。\n",
    "3. $x=x_0$生成一个与y轴平行，垂直于x轴的$x=x_0$平面，同原函数例如$z=x^2+y^2$相交，得到一个曲线函数，求得该函数在曲线上各个点的斜率，但斜率线方向始终平行于y，垂直于x。\n",
    "\n",
    "但是若x，y同时变化，而非其中一个值固定，\n",
    "首先考虑x，y同时变化到一个固定值即点$p(x_0,y_0)$那么在三维空间中，x，y构成的底座二维空间就会有一个$l$向量，该向量以$f(x=0,y=0,z=0)$为起点以$p(x_0,y_0)$为方向，同时不断增加$\\Delta{x},\\Delta{y}$。\n",
    "\n",
    "该向量直线向z轴衍生，构成一个平面，并于原函数$z=f(x,y)$相交成为一个曲线，此时求改曲线的各个点斜率就是$l$方向导数。\n",
    "1. 三维空间中，$l$向量是在二维${x,y}$空间中生成的，是$e_x,e_y$的线性组合。\n",
    "2. \n",
    "\n",
    "$$\\frac{\\partial f}{\\partial l}=\\lim_{p \\to 0} \\frac{f(x_0+\\Delta{x},y_0+\\Delta{y})-f(x_0,y_0)}{p}$$\n",
    "沿着x，y相互垂直坐标轴，生成的平面在点(x,yo)上与f(x,y)切面的切线斜率，而方向导数l是在空间中任意位置（由x，y轴e_x,e_y合力表达)\n",
    "\n",
    "<img src=\"https://images2017.cnblogs.com/blog/878138/201709/878138-20170902160138577-2112300835.png\">"
   ]
  },
  {
   "cell_type": "markdown",
   "metadata": {},
   "source": [
    "## 手写方向导数推导\n",
    "### 1.方向导数定义\n",
    "<img src=\"https://s1.imagehub.cc/images/2022/08/07/directional-derivative1.jpg\"/>"
   ]
  },
  {
   "cell_type": "markdown",
   "metadata": {},
   "source": [
    "### 2.方向导数计算\n",
    "<img src=\"https://s1.imagehub.cc/images/2022/08/07/directional-derivative2.jpg\">"
   ]
  },
  {
   "cell_type": "markdown",
   "metadata": {},
   "source": [
    "例题：\n",
    "求$z=xe^{2y}$在点$P(1,0)$处沿$Q(2,-1)$方向的方向导数："
   ]
  },
  {
   "cell_type": "code",
   "execution_count": null,
   "metadata": {},
   "outputs": [],
   "source": [
    "from sympy import * \n",
    "from sympy.plotting import *\n",
    "x,y=symbols(\"x,y\")\n",
    "z=x*E**(2*y)\n",
    "plot3d.difference(y)\n",
    "\n",
    "dif_x=diff(z,x)\n",
    "dif_y=diff(z,y)\n"
   ]
  }
 ],
 "metadata": {
  "kernelspec": {
   "display_name": "Python 3.10.4 ('luck')",
   "language": "python",
   "name": "python3"
  },
  "language_info": {
   "name": "python",
   "version": "3.10.4"
  },
  "orig_nbformat": 4,
  "vscode": {
   "interpreter": {
    "hash": "7f860de8d2f90ad8cbd5e9027150b9f1852816e89724c40b1a127c39f06d8e1c"
   }
  }
 },
 "nbformat": 4,
 "nbformat_minor": 2
}
