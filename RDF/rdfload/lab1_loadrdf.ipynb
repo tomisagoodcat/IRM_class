{
 "cells": [
  {
   "cell_type": "code",
   "execution_count": null,
   "metadata": {},
   "outputs": [],
   "source": []
  },
  {
   "attachments": {},
   "cell_type": "markdown",
   "metadata": {},
   "source": [
    "# 实验背景\n",
    "* 目标：实现多本体融合，具体为agrovc 与 fibo 农业本体与金融本体的融合。\n",
    "* 方法：可采用多种方法进行对比，包括：\n",
    "1. 网络结构\n",
    "2. rdf 向量化后融合\n",
    "3. 文本相似度进行融合\n",
    "---\n",
    "\n",
    "具体步骤：\n",
    "\n",
    "1. 读取agrov本体\n",
    "\n"
   ]
  },
  {
   "cell_type": "code",
   "execution_count": null,
   "metadata": {},
   "outputs": [],
   "source": [
    "!pip install rdflib"
   ]
  },
  {
   "cell_type": "code",
   "execution_count": 1,
   "metadata": {},
   "outputs": [
    {
     "ename": "KeyboardInterrupt",
     "evalue": "",
     "output_type": "error",
     "traceback": [
      "\u001b[1;31m---------------------------------------------------------------------------\u001b[0m",
      "\u001b[1;31mKeyboardInterrupt\u001b[0m                         Traceback (most recent call last)",
      "Cell \u001b[1;32mIn[1], line 6\u001b[0m\n\u001b[0;32m      2\u001b[0m \u001b[38;5;28;01mif\u001b[39;00m \u001b[38;5;18m__name__\u001b[39m\u001b[38;5;241m==\u001b[39m\u001b[38;5;124m\"\u001b[39m\u001b[38;5;124m__main__\u001b[39m\u001b[38;5;124m\"\u001b[39m:\n\u001b[0;32m      3\u001b[0m     \u001b[38;5;66;03m# read locl agrovc rdf \u001b[39;00m\n\u001b[0;32m      5\u001b[0m     agrovc \u001b[38;5;241m=\u001b[39m rdflib\u001b[38;5;241m.\u001b[39mGraph()\n\u001b[1;32m----> 6\u001b[0m     \u001b[43magrovc\u001b[49m\u001b[38;5;241;43m.\u001b[39;49m\u001b[43mparse\u001b[49m\u001b[43m(\u001b[49m\u001b[38;5;124;43m\"\u001b[39;49m\u001b[38;5;124;43mC:\u001b[39;49m\u001b[38;5;130;43;01m\\\\\u001b[39;49;00m\u001b[38;5;124;43mUsers\u001b[39;49m\u001b[38;5;130;43;01m\\\\\u001b[39;49;00m\u001b[38;5;124;43mtom\u001b[39;49m\u001b[38;5;130;43;01m\\\\\u001b[39;49;00m\u001b[38;5;124;43mOneDrive\u001b[39;49m\u001b[38;5;130;43;01m\\\\\u001b[39;49;00m\u001b[38;5;124;43mLUCK\u001b[39;49m\u001b[38;5;130;43;01m\\\\\u001b[39;49;00m\u001b[38;5;124;43mluckLab\u001b[39;49m\u001b[38;5;130;43;01m\\\\\u001b[39;49;00m\u001b[38;5;124;43mIRM_Class2\u001b[39;49m\u001b[38;5;130;43;01m\\\\\u001b[39;49;00m\u001b[38;5;124;43mIRM_class\u001b[39;49m\u001b[38;5;124;43m\\\u001b[39;49m\u001b[38;5;124;43mdata\u001b[39;49m\u001b[38;5;130;43;01m\\\\\u001b[39;49;00m\u001b[38;5;124;43mrdf\u001b[39;49m\u001b[38;5;130;43;01m\\\\\u001b[39;49;00m\u001b[38;5;124;43magrovoc_2023_core.rdf\u001b[39;49m\u001b[38;5;124;43m\"\u001b[39;49m\u001b[43m)\u001b[49m\n",
      "File \u001b[1;32mc:\\Users\\tom\\.conda\\envs\\luck\\lib\\site-packages\\rdflib\\graph.py:1494\u001b[0m, in \u001b[0;36mGraph.parse\u001b[1;34m(self, source, publicID, format, location, file, data, **args)\u001b[0m\n\u001b[0;32m   1491\u001b[0m parser \u001b[38;5;241m=\u001b[39m plugin\u001b[38;5;241m.\u001b[39mget(\u001b[38;5;28mformat\u001b[39m, Parser)()\n\u001b[0;32m   1492\u001b[0m \u001b[38;5;28;01mtry\u001b[39;00m:\n\u001b[0;32m   1493\u001b[0m     \u001b[38;5;66;03m# TODO FIXME: Parser.parse should have **kwargs argument.\u001b[39;00m\n\u001b[1;32m-> 1494\u001b[0m     parser\u001b[38;5;241m.\u001b[39mparse(source, \u001b[38;5;28mself\u001b[39m, \u001b[38;5;241m*\u001b[39m\u001b[38;5;241m*\u001b[39margs)\n\u001b[0;32m   1495\u001b[0m \u001b[38;5;28;01mexcept\u001b[39;00m \u001b[38;5;167;01mSyntaxError\u001b[39;00m \u001b[38;5;28;01mas\u001b[39;00m se:\n\u001b[0;32m   1496\u001b[0m     \u001b[38;5;28;01mif\u001b[39;00m could_not_guess_format:\n",
      "File \u001b[1;32mc:\\Users\\tom\\.conda\\envs\\luck\\lib\\site-packages\\rdflib\\plugins\\parsers\\rdfxml.py:647\u001b[0m, in \u001b[0;36mRDFXMLParser.parse\u001b[1;34m(self, source, sink, **args)\u001b[0m\n\u001b[0;32m    643\u001b[0m     content_handler\u001b[38;5;241m.\u001b[39mpreserve_bnode_ids \u001b[38;5;241m=\u001b[39m preserve_bnode_ids\n\u001b[0;32m    644\u001b[0m \u001b[38;5;66;03m# # We're only using it once now\u001b[39;00m\n\u001b[0;32m    645\u001b[0m \u001b[38;5;66;03m# content_handler.reset()\u001b[39;00m\n\u001b[0;32m    646\u001b[0m \u001b[38;5;66;03m# self._parser.reset()\u001b[39;00m\n\u001b[1;32m--> 647\u001b[0m \u001b[38;5;28;43mself\u001b[39;49m\u001b[38;5;241;43m.\u001b[39;49m\u001b[43m_parser\u001b[49m\u001b[38;5;241;43m.\u001b[39;49m\u001b[43mparse\u001b[49m\u001b[43m(\u001b[49m\u001b[43msource\u001b[49m\u001b[43m)\u001b[49m\n",
      "File \u001b[1;32mc:\\Users\\tom\\.conda\\envs\\luck\\lib\\xml\\sax\\expatreader.py:111\u001b[0m, in \u001b[0;36mExpatParser.parse\u001b[1;34m(self, source)\u001b[0m\n\u001b[0;32m    109\u001b[0m     \u001b[38;5;28mself\u001b[39m\u001b[38;5;241m.\u001b[39mreset()\n\u001b[0;32m    110\u001b[0m     \u001b[38;5;28mself\u001b[39m\u001b[38;5;241m.\u001b[39m_cont_handler\u001b[38;5;241m.\u001b[39msetDocumentLocator(ExpatLocator(\u001b[38;5;28mself\u001b[39m))\n\u001b[1;32m--> 111\u001b[0m     \u001b[43mxmlreader\u001b[49m\u001b[38;5;241;43m.\u001b[39;49m\u001b[43mIncrementalParser\u001b[49m\u001b[38;5;241;43m.\u001b[39;49m\u001b[43mparse\u001b[49m\u001b[43m(\u001b[49m\u001b[38;5;28;43mself\u001b[39;49m\u001b[43m,\u001b[49m\u001b[43m \u001b[49m\u001b[43msource\u001b[49m\u001b[43m)\u001b[49m\n\u001b[0;32m    112\u001b[0m \u001b[38;5;28;01mexcept\u001b[39;00m:\n\u001b[0;32m    113\u001b[0m     \u001b[38;5;66;03m# bpo-30264: Close the source on error to not leak resources:\u001b[39;00m\n\u001b[0;32m    114\u001b[0m     \u001b[38;5;66;03m# xml.sax.parse() doesn't give access to the underlying parser\u001b[39;00m\n\u001b[0;32m    115\u001b[0m     \u001b[38;5;66;03m# to the caller\u001b[39;00m\n\u001b[0;32m    116\u001b[0m     \u001b[38;5;28mself\u001b[39m\u001b[38;5;241m.\u001b[39m_close_source()\n",
      "File \u001b[1;32mc:\\Users\\tom\\.conda\\envs\\luck\\lib\\xml\\sax\\xmlreader.py:125\u001b[0m, in \u001b[0;36mIncrementalParser.parse\u001b[1;34m(self, source)\u001b[0m\n\u001b[0;32m    123\u001b[0m buffer \u001b[38;5;241m=\u001b[39m file\u001b[38;5;241m.\u001b[39mread(\u001b[38;5;28mself\u001b[39m\u001b[38;5;241m.\u001b[39m_bufsize)\n\u001b[0;32m    124\u001b[0m \u001b[38;5;28;01mwhile\u001b[39;00m buffer:\n\u001b[1;32m--> 125\u001b[0m     \u001b[38;5;28;43mself\u001b[39;49m\u001b[38;5;241;43m.\u001b[39;49m\u001b[43mfeed\u001b[49m\u001b[43m(\u001b[49m\u001b[43mbuffer\u001b[49m\u001b[43m)\u001b[49m\n\u001b[0;32m    126\u001b[0m     buffer \u001b[38;5;241m=\u001b[39m file\u001b[38;5;241m.\u001b[39mread(\u001b[38;5;28mself\u001b[39m\u001b[38;5;241m.\u001b[39m_bufsize)\n\u001b[0;32m    127\u001b[0m \u001b[38;5;28mself\u001b[39m\u001b[38;5;241m.\u001b[39mclose()\n",
      "File \u001b[1;32mc:\\Users\\tom\\.conda\\envs\\luck\\lib\\xml\\sax\\expatreader.py:217\u001b[0m, in \u001b[0;36mExpatParser.feed\u001b[1;34m(self, data, isFinal)\u001b[0m\n\u001b[0;32m    210\u001b[0m     \u001b[38;5;28mself\u001b[39m\u001b[38;5;241m.\u001b[39m_cont_handler\u001b[38;5;241m.\u001b[39mstartDocument()\n\u001b[0;32m    212\u001b[0m \u001b[38;5;28;01mtry\u001b[39;00m:\n\u001b[0;32m    213\u001b[0m     \u001b[38;5;66;03m# The isFinal parameter is internal to the expat reader.\u001b[39;00m\n\u001b[0;32m    214\u001b[0m     \u001b[38;5;66;03m# If it is set to true, expat will check validity of the entire\u001b[39;00m\n\u001b[0;32m    215\u001b[0m     \u001b[38;5;66;03m# document. When feeding chunks, they are not normally final -\u001b[39;00m\n\u001b[0;32m    216\u001b[0m     \u001b[38;5;66;03m# except when invoked from close.\u001b[39;00m\n\u001b[1;32m--> 217\u001b[0m     \u001b[38;5;28;43mself\u001b[39;49m\u001b[38;5;241;43m.\u001b[39;49m\u001b[43m_parser\u001b[49m\u001b[38;5;241;43m.\u001b[39;49m\u001b[43mParse\u001b[49m\u001b[43m(\u001b[49m\u001b[43mdata\u001b[49m\u001b[43m,\u001b[49m\u001b[43m \u001b[49m\u001b[43misFinal\u001b[49m\u001b[43m)\u001b[49m\n\u001b[0;32m    218\u001b[0m \u001b[38;5;28;01mexcept\u001b[39;00m expat\u001b[38;5;241m.\u001b[39merror \u001b[38;5;28;01mas\u001b[39;00m e:\n\u001b[0;32m    219\u001b[0m     exc \u001b[38;5;241m=\u001b[39m SAXParseException(expat\u001b[38;5;241m.\u001b[39mErrorString(e\u001b[38;5;241m.\u001b[39mcode), e, \u001b[38;5;28mself\u001b[39m)\n",
      "File \u001b[1;32mc:\\b\\abs_5csrwf7hpg\\croot\\python-split_1679423826728\\work\\modules\\pyexpat.c:416\u001b[0m, in \u001b[0;36mStartElement\u001b[1;34m()\u001b[0m\n",
      "File \u001b[1;32mc:\\Users\\tom\\.conda\\envs\\luck\\lib\\xml\\sax\\expatreader.py:369\u001b[0m, in \u001b[0;36mExpatParser.start_element_ns\u001b[1;34m(self, name, attrs)\u001b[0m\n\u001b[0;32m    366\u001b[0m     newattrs[apair] \u001b[38;5;241m=\u001b[39m value\n\u001b[0;32m    367\u001b[0m     qnames[apair] \u001b[38;5;241m=\u001b[39m qname\n\u001b[1;32m--> 369\u001b[0m \u001b[38;5;28;43mself\u001b[39;49m\u001b[38;5;241;43m.\u001b[39;49m\u001b[43m_cont_handler\u001b[49m\u001b[38;5;241;43m.\u001b[39;49m\u001b[43mstartElementNS\u001b[49m\u001b[43m(\u001b[49m\u001b[43mpair\u001b[49m\u001b[43m,\u001b[49m\u001b[43m \u001b[49m\u001b[38;5;28;43;01mNone\u001b[39;49;00m\u001b[43m,\u001b[49m\n\u001b[0;32m    370\u001b[0m \u001b[43m                                  \u001b[49m\u001b[43mAttributesNSImpl\u001b[49m\u001b[43m(\u001b[49m\u001b[43mnewattrs\u001b[49m\u001b[43m,\u001b[49m\u001b[43m \u001b[49m\u001b[43mqnames\u001b[49m\u001b[43m)\u001b[49m\u001b[43m)\u001b[49m\n",
      "File \u001b[1;32mc:\\Users\\tom\\.conda\\envs\\luck\\lib\\site-packages\\rdflib\\plugins\\parsers\\rdfxml.py:203\u001b[0m, in \u001b[0;36mRDFXMLHandler.startElementNS\u001b[1;34m(self, name, qname, attrs)\u001b[0m\n\u001b[0;32m    201\u001b[0m         language \u001b[38;5;241m=\u001b[39m parent\u001b[38;5;241m.\u001b[39mlanguage\n\u001b[0;32m    202\u001b[0m current\u001b[38;5;241m.\u001b[39mlanguage \u001b[38;5;241m=\u001b[39m language\n\u001b[1;32m--> 203\u001b[0m \u001b[43mcurrent\u001b[49m\u001b[38;5;241;43m.\u001b[39;49m\u001b[43mstart\u001b[49m\u001b[43m(\u001b[49m\u001b[43mname\u001b[49m\u001b[43m,\u001b[49m\u001b[43m \u001b[49m\u001b[43mqname\u001b[49m\u001b[43m,\u001b[49m\u001b[43m \u001b[49m\u001b[43mattrs\u001b[49m\u001b[43m)\u001b[49m\n",
      "File \u001b[1;32mc:\\Users\\tom\\.conda\\envs\\luck\\lib\\site-packages\\rdflib\\plugins\\parsers\\rdfxml.py:347\u001b[0m, in \u001b[0;36mRDFXMLHandler.node_element_start\u001b[1;34m(self, name, qname, attrs)\u001b[0m\n\u001b[0;32m    345\u001b[0m     \u001b[38;5;28;01melse\u001b[39;00m:\n\u001b[0;32m    346\u001b[0m         subject \u001b[38;5;241m=\u001b[39m BNode(nodeID)\n\u001b[1;32m--> 347\u001b[0m \u001b[38;5;28;01melif\u001b[39;00m \u001b[43mRDFVOC\u001b[49m\u001b[38;5;241;43m.\u001b[39;49m\u001b[43mabout\u001b[49m\u001b[43m \u001b[49m\u001b[38;5;129;43;01min\u001b[39;49;00m\u001b[43m \u001b[49m\u001b[43matts\u001b[49m:\n\u001b[0;32m    348\u001b[0m     \u001b[38;5;28;01mif\u001b[39;00m RDFVOC\u001b[38;5;241m.\u001b[39mID \u001b[38;5;129;01min\u001b[39;00m atts \u001b[38;5;129;01mor\u001b[39;00m RDFVOC\u001b[38;5;241m.\u001b[39mnodeID \u001b[38;5;129;01min\u001b[39;00m atts:\n\u001b[0;32m    349\u001b[0m         \u001b[38;5;28mself\u001b[39m\u001b[38;5;241m.\u001b[39merror(\u001b[38;5;124m\"\u001b[39m\u001b[38;5;124mCan have at most one of rdf:ID, rdf:about, and rdf:nodeID\u001b[39m\u001b[38;5;124m\"\u001b[39m)\n",
      "File \u001b[1;32mc:\\Users\\tom\\.conda\\envs\\luck\\lib\\site-packages\\rdflib\\term.py:154\u001b[0m, in \u001b[0;36mIdentifier.__eq__\u001b[1;34m(self, other)\u001b[0m\n\u001b[0;32m    151\u001b[0m \u001b[38;5;28;01mdef\u001b[39;00m \u001b[38;5;21m__ne__\u001b[39m(\u001b[38;5;28mself\u001b[39m, other: Any) \u001b[38;5;241m-\u001b[39m\u001b[38;5;241m>\u001b[39m \u001b[38;5;28mbool\u001b[39m:\n\u001b[0;32m    152\u001b[0m     \u001b[38;5;28;01mreturn\u001b[39;00m \u001b[38;5;129;01mnot\u001b[39;00m \u001b[38;5;28mself\u001b[39m\u001b[38;5;241m.\u001b[39m\u001b[38;5;21m__eq__\u001b[39m(other)\n\u001b[1;32m--> 154\u001b[0m \u001b[38;5;28;01mdef\u001b[39;00m \u001b[38;5;21m__eq__\u001b[39m(\u001b[38;5;28mself\u001b[39m, other: Any) \u001b[38;5;241m-\u001b[39m\u001b[38;5;241m>\u001b[39m \u001b[38;5;28mbool\u001b[39m:\n\u001b[0;32m    155\u001b[0m     \u001b[38;5;124;03m\"\"\"\u001b[39;00m\n\u001b[0;32m    156\u001b[0m \u001b[38;5;124;03m    Equality for Nodes.\u001b[39;00m\n\u001b[0;32m    157\u001b[0m \n\u001b[1;32m   (...)\u001b[0m\n\u001b[0;32m    171\u001b[0m \u001b[38;5;124;03m    False\u001b[39;00m\n\u001b[0;32m    172\u001b[0m \u001b[38;5;124;03m    \"\"\"\u001b[39;00m\n\u001b[0;32m    174\u001b[0m     \u001b[38;5;28;01mif\u001b[39;00m \u001b[38;5;28mtype\u001b[39m(\u001b[38;5;28mself\u001b[39m) \u001b[38;5;241m==\u001b[39m \u001b[38;5;28mtype\u001b[39m(other):\n",
      "\u001b[1;31mKeyboardInterrupt\u001b[0m: "
     ]
    }
   ],
   "source": [
    "import rdflib\n",
    "if __name__==\"__main__\":\n",
    "    # read locl agrovc rdf \n",
    "    \n",
    "    agrovc = rdflib.Graph()\n",
    "    agrovc.parse(\"C:\\\\Users\\\\tom\\\\OneDrive\\\\LUCK\\\\luckLab\\\\IRM_Class2\\\\IRM_class\\data\\\\rdf\\\\agrovoc_2023_core.rdf\")\n"
   ]
  },
  {
   "cell_type": "code",
   "execution_count": 6,
   "metadata": {},
   "outputs": [
    {
     "name": "stdout",
     "output_type": "stream",
     "text": [
      "Number of triples: 5835948\n"
     ]
    }
   ],
   "source": [
    "print(\"Number of triples:\", len(agrovc))"
   ]
  },
  {
   "cell_type": "code",
   "execution_count": null,
   "metadata": {},
   "outputs": [],
   "source": [
    "for subject, predicate, object in agrovc:\n",
    "    print(subject, predicate, object)"
   ]
  },
  {
   "attachments": {},
   "cell_type": "markdown",
   "metadata": {},
   "source": [
    "it cost too much time to read rdf data, so we consider use stardog instead, which requires fellowing steps:\n",
    " \n",
    " * 1. connect to stardog\n",
    " * 2.  update the file into datadog through connection.\n",
    "\n",
    " ---\n",
    "\n",
    " it's much more efficient to use stardog than to read rdf data by rdflib. \n",
    " \n"
   ]
  },
  {
   "cell_type": "code",
   "execution_count": 1,
   "metadata": {},
   "outputs": [
    {
     "name": "stdout",
     "output_type": "stream",
     "text": [
      "^C\n",
      "Note: you may need to restart the kernel to use updated packages.\n"
     ]
    },
    {
     "name": "stderr",
     "output_type": "stream",
     "text": [
      "WARNING: Retrying (Retry(total=4, connect=None, read=None, redirect=None, status=None)) after connection broken by 'ConnectTimeoutError(<pip._vendor.urllib3.connection.HTTPSConnection object at 0x00000192E0228CA0>, 'Connection to pypi.org timed out. (connect timeout=15)')': /simple/stardog/\n",
      "WARNING: Retrying (Retry(total=3, connect=None, read=None, redirect=None, status=None)) after connection broken by 'ConnectTimeoutError(<pip._vendor.urllib3.connection.HTTPSConnection object at 0x00000192E0228FA0>, 'Connection to pypi.org timed out. (connect timeout=15)')': /simple/stardog/\n",
      "WARNING: Retrying (Retry(total=2, connect=None, read=None, redirect=None, status=None)) after connection broken by 'ConnectTimeoutError(<pip._vendor.urllib3.connection.HTTPSConnection object at 0x00000192E02292A0>, 'Connection to pypi.org timed out. (connect timeout=15)')': /simple/stardog/\n",
      "WARNING: Retrying (Retry(total=1, connect=None, read=None, redirect=None, status=None)) after connection broken by 'ConnectTimeoutError(<pip._vendor.urllib3.connection.HTTPSConnection object at 0x00000192E0229420>, 'Connection to pypi.org timed out. (connect timeout=15)')': /simple/stardog/\n",
      "ERROR: Could not find a version that satisfies the requirement stardog (from versions: none)\n",
      "ERROR: No matching distribution found for stardog\n"
     ]
    }
   ],
   "source": [
    "%pip install pystardog"
   ]
  },
  {
   "cell_type": "code",
   "execution_count": 6,
   "metadata": {},
   "outputs": [],
   "source": [
    "import stardog\n",
    "def conn_stardog():\n",
    "  \n",
    "    conn_details = {\n",
    "    'endpoint': 'http://localhost:5820',\n",
    "    'username': 'admin',\n",
    "    'password': 'admin'\n",
    "    }\n",
    "\n",
    "#with stardog.Admin(**conn_details) as admin:\n",
    "  #db = admin.new_database('db')\n",
    "if __name__ == \"__main__\":\n",
    "# use pystardog to upload agrov local file.\n",
    "    with stardog.Connection('agro_fin', **conn_details) as conn:# ** means dictionary\n",
    "        conn.begin()\n",
    "        conn.add(stardog.content.File('C:\\\\Users\\\\tom\\\\OneDrive\\\\LUCK\\\\luckLab\\\\IRM_Class2\\\\IRM_class\\\\data\\\\rdf\\\\agrovoc_2023_core.rdf'))\n",
    "        conn.commit()\n",
    "        results = conn.select('select * { ?a ?p ?o }')\n",
    "\n",
    " \n"
   ]
  },
  {
   "attachments": {},
   "cell_type": "markdown",
   "metadata": {},
   "source": [
    "Upon the advice of Stardog, it is better to store different domain RDFs in separate graphs. Therefore, we created two graphs to store RDFs for the agriculture and finance domains, respectively.\n",
    "\n",
    "---\n",
    "\n"
   ]
  },
  {
   "attachments": {},
   "cell_type": "markdown",
   "metadata": {},
   "source": [
    "consider to connect agrovoc api to select data."
   ]
  }
 ],
 "metadata": {
  "kernelspec": {
   "display_name": "luck",
   "language": "python",
   "name": "python3"
  },
  "language_info": {
   "codemirror_mode": {
    "name": "ipython",
    "version": 3
   },
   "file_extension": ".py",
   "mimetype": "text/x-python",
   "name": "python",
   "nbconvert_exporter": "python",
   "pygments_lexer": "ipython3",
   "version": "3.10.10"
  },
  "orig_nbformat": 4
 },
 "nbformat": 4,
 "nbformat_minor": 2
}
