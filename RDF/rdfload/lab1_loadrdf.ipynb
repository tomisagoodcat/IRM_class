{
 "cells": [
  {
   "cell_type": "code",
   "execution_count": null,
   "metadata": {},
   "outputs": [],
   "source": []
  },
  {
   "attachments": {},
   "cell_type": "markdown",
   "metadata": {},
   "source": [
    "# 实验背景\n",
    "* 目标：实现多本体融合，具体为agrovc 与 fibo 农业本体与金融本体的融合。\n",
    "* 方法：可采用多种方法进行对比，包括：\n",
    "1. 网络结构\n",
    "2. rdf 向量化后融合\n",
    "3. 文本相似度进行融合\n",
    "---\n",
    "\n",
    "具体步骤：\n",
    "\n",
    "1. 读取agrov本体\n",
    "\n"
   ]
  },
  {
   "cell_type": "code",
   "execution_count": null,
   "metadata": {},
   "outputs": [],
   "source": [
    "!pip install rdflib"
   ]
  },
  {
   "cell_type": "code",
   "execution_count": 5,
   "metadata": {},
   "outputs": [],
   "source": [
    "import rdflib\n",
    "if __name__==\"__main__\":\n",
    "    # read locl agrovc rdf \n",
    "    \n",
    "    agrovc = rdflib.Graph()\n",
    "    agrovc.parse(\"C:\\\\Users\\\\tom\\\\OneDrive\\\\LUCK\\\\luckLab\\\\IRM_Class2\\\\IRM_class\\data\\\\rdf\\\\agrovoc_2023_core.rdf\")\n"
   ]
  },
  {
   "cell_type": "code",
   "execution_count": 6,
   "metadata": {},
   "outputs": [
    {
     "name": "stdout",
     "output_type": "stream",
     "text": [
      "Number of triples: 5835948\n"
     ]
    }
   ],
   "source": [
    "print(\"Number of triples:\", len(agrovc))"
   ]
  },
  {
   "cell_type": "code",
   "execution_count": null,
   "metadata": {},
   "outputs": [],
   "source": [
    "for subject, predicate, object in agrovc:\n",
    "    print(subject, predicate, object)"
   ]
  },
  {
   "attachments": {},
   "cell_type": "markdown",
   "metadata": {},
   "source": [
    "it cost too much time to read rdf data, so we consider use stardog instead, which requires fellowing steps:\n",
    " \n",
    " * 1. connect to stardog\n",
    " * 2.  update the file into datadog through connection.\n",
    "\n",
    " ---\n",
    "\n",
    " it's much more efficient to use stardog than to read rdf data by rdflib. \n",
    " \n"
   ]
  },
  {
   "cell_type": "code",
   "execution_count": 1,
   "metadata": {},
   "outputs": [
    {
     "name": "stdout",
     "output_type": "stream",
     "text": [
      "^C\n",
      "Note: you may need to restart the kernel to use updated packages.\n"
     ]
    },
    {
     "name": "stderr",
     "output_type": "stream",
     "text": [
      "WARNING: Retrying (Retry(total=4, connect=None, read=None, redirect=None, status=None)) after connection broken by 'ConnectTimeoutError(<pip._vendor.urllib3.connection.HTTPSConnection object at 0x00000192E0228CA0>, 'Connection to pypi.org timed out. (connect timeout=15)')': /simple/stardog/\n",
      "WARNING: Retrying (Retry(total=3, connect=None, read=None, redirect=None, status=None)) after connection broken by 'ConnectTimeoutError(<pip._vendor.urllib3.connection.HTTPSConnection object at 0x00000192E0228FA0>, 'Connection to pypi.org timed out. (connect timeout=15)')': /simple/stardog/\n",
      "WARNING: Retrying (Retry(total=2, connect=None, read=None, redirect=None, status=None)) after connection broken by 'ConnectTimeoutError(<pip._vendor.urllib3.connection.HTTPSConnection object at 0x00000192E02292A0>, 'Connection to pypi.org timed out. (connect timeout=15)')': /simple/stardog/\n",
      "WARNING: Retrying (Retry(total=1, connect=None, read=None, redirect=None, status=None)) after connection broken by 'ConnectTimeoutError(<pip._vendor.urllib3.connection.HTTPSConnection object at 0x00000192E0229420>, 'Connection to pypi.org timed out. (connect timeout=15)')': /simple/stardog/\n",
      "ERROR: Could not find a version that satisfies the requirement stardog (from versions: none)\n",
      "ERROR: No matching distribution found for stardog\n"
     ]
    }
   ],
   "source": [
    "%pip install pystardog"
   ]
  },
  {
   "cell_type": "code",
   "execution_count": 6,
   "metadata": {},
   "outputs": [],
   "source": [
    "import stardog\n",
    "def conn_stardog():\n",
    "  \n",
    "    conn_details = {\n",
    "    'endpoint': 'http://localhost:5820',\n",
    "    'username': 'admin',\n",
    "    'password': 'admin'\n",
    "    }\n",
    "\n",
    "#with stardog.Admin(**conn_details) as admin:\n",
    "  #db = admin.new_database('db')\n",
    "if __name__ == \"__main__\":\n",
    "# use pystardog to upload agrov local file.\n",
    "    with stardog.Connection('agro_fin', **conn_details) as conn:# ** means dictionary\n",
    "        conn.begin()\n",
    "        conn.add(stardog.content.File('C:\\\\Users\\\\tom\\\\OneDrive\\\\LUCK\\\\luckLab\\\\IRM_Class2\\\\IRM_class\\\\data\\\\rdf\\\\agrovoc_2023_core.rdf'))\n",
    "        conn.commit()\n",
    "        results = conn.select('select * { ?a ?p ?o }')\n",
    "\n",
    " \n"
   ]
  },
  {
   "attachments": {},
   "cell_type": "markdown",
   "metadata": {},
   "source": [
    "Upon the advice of Stardog, it is better to store different domain RDFs in separate graphs. Therefore, we created two graphs to store RDFs for the agriculture and finance domains, respectively.\n",
    "\n",
    "---\n",
    "\n"
   ]
  },
  {
   "attachments": {},
   "cell_type": "markdown",
   "metadata": {},
   "source": [
    "consider to connect agrovoc api to select data."
   ]
  }
 ],
 "metadata": {
  "kernelspec": {
   "display_name": "luck",
   "language": "python",
   "name": "python3"
  },
  "language_info": {
   "codemirror_mode": {
    "name": "ipython",
    "version": 3
   },
   "file_extension": ".py",
   "mimetype": "text/x-python",
   "name": "python",
   "nbconvert_exporter": "python",
   "pygments_lexer": "ipython3",
   "version": "3.10.10"
  },
  "orig_nbformat": 4
 },
 "nbformat": 4,
 "nbformat_minor": 2
}
