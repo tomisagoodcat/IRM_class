{
 "cells": [
  {
   "cell_type": "code",
   "execution_count": null,
   "metadata": {},
   "outputs": [],
   "source": []
  },
  {
   "attachments": {},
   "cell_type": "markdown",
   "metadata": {},
   "source": [
    "# 实验背景\n",
    "* 目标：实现多本体融合，具体为agrovc 与 fibo 农业本体与金融本体的融合。\n",
    "* 方法：可采用多种方法进行对比，包括：\n",
    "1. 网络结构\n",
    "2. rdf 向量化后融合\n",
    "3. 文本相似度进行融合\n",
    "---\n",
    "\n",
    "具体步骤：\n",
    "\n",
    "1. 读取agrov本体\n",
    "\n"
   ]
  },
  {
   "cell_type": "code",
   "execution_count": null,
   "metadata": {},
   "outputs": [],
   "source": [
    "!pip install rdflib"
   ]
  },
  {
   "cell_type": "code",
   "execution_count": null,
   "metadata": {},
   "outputs": [],
   "source": [
    "import rdflib\n",
    "if __name__==\"__main__\":\n",
    "    # read locl agrovc rdf \n",
    "    \n",
    "    agrovc = rdflib.Graph()\n",
    "    agrovc.parse(\"agrovc.ttl\", format=\"turtle\")\n"
   ]
  },
  {
   "attachments": {},
   "cell_type": "markdown",
   "metadata": {},
   "source": []
  }
 ],
 "metadata": {
  "kernelspec": {
   "display_name": "luck",
   "language": "python",
   "name": "python3"
  },
  "language_info": {
   "codemirror_mode": {
    "name": "ipython",
    "version": 3
   },
   "file_extension": ".py",
   "mimetype": "text/x-python",
   "name": "python",
   "nbconvert_exporter": "python",
   "pygments_lexer": "ipython3",
   "version": "3.10.10"
  },
  "orig_nbformat": 4
 },
 "nbformat": 4,
 "nbformat_minor": 2
}
